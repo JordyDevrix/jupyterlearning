{
 "cells": [
  {
   "cell_type": "code",
   "execution_count": 13,
   "id": "initial_id",
   "metadata": {
    "collapsed": true,
    "jupyter": {
     "outputs_hidden": true
    },
    "ExecuteTime": {
<<<<<<< HEAD
     "end_time": "2024-10-10T15:03:32.672215300Z",
     "start_time": "2024-10-10T15:03:32.649303300Z"
=======
     "end_time": "2024-10-14T15:48:28.813341600Z",
     "start_time": "2024-10-14T15:48:27.730889800Z"
>>>>>>> 923ac9e57b1b101f8141a073d66cfc65fa060726
    }
   },
   "outputs": [],
   "source": [
    "import pandas as pd\n",
    "import numpy as np\n",
    "import plotly.express as px"
   ]
  },
  {
   "cell_type": "markdown",
   "id": "ddf584c42bff62fe",
   "metadata": {
    "collapsed": false
   },
   "source": [
    "# Load the data"
   ]
  },
  {
   "cell_type": "code",
   "execution_count": 14,
   "id": "7855b31bab049fd4",
   "metadata": {
    "collapsed": false,
    "ExecuteTime": {
<<<<<<< HEAD
     "end_time": "2024-10-10T15:03:53.796446200Z",
     "start_time": "2024-10-10T15:03:32.657699900Z"
=======
     "end_time": "2024-10-14T15:48:43.275028700Z",
     "start_time": "2024-10-14T15:48:28.813341600Z"
>>>>>>> 923ac9e57b1b101f8141a073d66cfc65fa060726
    }
   },
   "outputs": [
    {
     "name": "stderr",
     "output_type": "stream",
     "text": [
<<<<<<< HEAD
      "C:\\Users\\2109j\\AppData\\Local\\Temp\\ipykernel_21588\\4262247774.py:1: DtypeWarning: Columns (4,17,18) have mixed types. Specify dtype option on import or set low_memory=False.\n",
=======
      "C:\\Users\\2109j\\AppData\\Local\\Temp\\ipykernel_21852\\4262247774.py:1: DtypeWarning: Columns (4,17,18) have mixed types. Specify dtype option on import or set low_memory=False.\n",
>>>>>>> 923ac9e57b1b101f8141a073d66cfc65fa060726
      "  df = pd.read_csv('creations-october.csv')\n"
     ]
    }
   ],
   "source": [
    "df = pd.read_csv('creations-october.csv')"
   ]
  },
  {
   "cell_type": "code",
   "execution_count": 15,
   "id": "8754e3c573cbdc3c",
   "metadata": {
    "collapsed": false,
    "ExecuteTime": {
<<<<<<< HEAD
     "end_time": "2024-10-10T15:03:53.828511100Z",
     "start_time": "2024-10-10T15:03:53.796446200Z"
=======
     "end_time": "2024-10-14T15:48:43.291318800Z",
     "start_time": "2024-10-14T15:48:43.275028700Z"
>>>>>>> 923ac9e57b1b101f8141a073d66cfc65fa060726
    }
   },
   "outputs": [
    {
     "data": {
      "text/plain": "                   id     type                   timestamp  \\\n0  619962288048308235  Default  2019-09-08 02:28:47.813+08   \n1  619962304577929216  Default  2019-09-08 02:28:51.754+08   \n2  527565401505136656  Default   2018-12-27 03:16:33.41+08   \n3  527565446350766080  Default  2018-12-27 03:16:44.102+08   \n4  527565563497807909  Default  2018-12-27 03:17:12.032+08   \n\n                 timestampedited             callendedtimestamp ispinned  \\\n0  2024-09-14 18:00:54.370402+08  2024-09-14 18:00:54.370402+08        f   \n1  2024-09-14 18:00:54.370402+08  2024-09-14 18:00:54.370402+08        f   \n2  2024-09-14 18:00:54.322638+08  2024-09-14 18:00:54.322638+08        f   \n3  2024-09-14 18:00:54.322638+08  2024-09-14 18:00:54.322638+08        f   \n4  2024-09-14 18:00:54.322638+08  2024-09-14 18:00:54.322638+08        f   \n\n                             content           author_id   author_name  \\\n0       Submitted by @Deleted User :  456226577798135808  Deleted User   \n1       Submitted by @Deleted User :  456226577798135808  Deleted User   \n2  Submitted by @DAN : moms spagetti  243731791192522752      .bruhium   \n3      Submitted by @Gingerbread ♥ :  421975189362966538     ginredfox   \n4      Submitted by @Gingerbread ♥ :  421975189362966538     ginredfox   \n\n   author_discriminator  ... author_isbot author_roles  \\\n0                     0  ...            f         \"[]\"   \n1                     0  ...            f         \"[]\"   \n2                     0  ...            f         \"[]\"   \n3                     0  ...            f         \"[]\"   \n4                     0  ...            f         \"[]\"   \n\n                                    author_avatarurl  \\\n0     https://cdn.discordapp.com/embed/avatars/3.png   \n1     https://cdn.discordapp.com/embed/avatars/3.png   \n2  https://cdn.discordapp.com/avatars/24373179119...   \n3  https://cdn.discordapp.com/avatars/42197518936...   \n4  https://cdn.discordapp.com/avatars/42197518936...   \n\n                                         attachments    embeds  stickers  \\\n0  \"{'id': '619962287406710785', 'url': 'https:\\/...  \"\\\"[]\\\"\"  \"\\\"[]\\\"\"   \n1  \"{'id': '619962303776948244', 'url': 'https:\\/...  \"\\\"[]\\\"\"  \"\\\"[]\\\"\"   \n2  \"{'id': '527565401505136654', 'url': 'https:\\/...  \"\\\"[]\\\"\"  \"\\\"[]\\\"\"   \n3  \"{'id': '527565445822414858', 'url': 'https:\\/...  \"\\\"[]\\\"\"  \"\\\"[]\\\"\"   \n4  \"{'id': '527565562994229278', 'url': 'https:\\/...  \"\\\"[]\\\"\"  \"\\\"[]\\\"\"   \n\n  reactions                                           mentions upvotes  \\\n0       NaN  \"\\\"{'id': '456226577798135808', 'name': 'Delet...       1   \n1       NaN  \"\\\"{'id': '456226577798135808', 'name': 'Delet...       1   \n2       NaN  \"\\\"{'id': '243731791192522752', 'name': '.bruh...       3   \n3       NaN  \"\\\"{'id': '421975189362966538', 'name': 'ginre...       1   \n4       NaN  \"\\\"{'id': '421975189362966538', 'name': 'ginre...       1   \n\n  downvotes  \n0         4  \n1         5  \n2         1  \n3         1  \n4         3  \n\n[5 rows x 22 columns]",
      "text/html": "<div>\n<style scoped>\n    .dataframe tbody tr th:only-of-type {\n        vertical-align: middle;\n    }\n\n    .dataframe tbody tr th {\n        vertical-align: top;\n    }\n\n    .dataframe thead th {\n        text-align: right;\n    }\n</style>\n<table border=\"1\" class=\"dataframe\">\n  <thead>\n    <tr style=\"text-align: right;\">\n      <th></th>\n      <th>id</th>\n      <th>type</th>\n      <th>timestamp</th>\n      <th>timestampedited</th>\n      <th>callendedtimestamp</th>\n      <th>ispinned</th>\n      <th>content</th>\n      <th>author_id</th>\n      <th>author_name</th>\n      <th>author_discriminator</th>\n      <th>...</th>\n      <th>author_isbot</th>\n      <th>author_roles</th>\n      <th>author_avatarurl</th>\n      <th>attachments</th>\n      <th>embeds</th>\n      <th>stickers</th>\n      <th>reactions</th>\n      <th>mentions</th>\n      <th>upvotes</th>\n      <th>downvotes</th>\n    </tr>\n  </thead>\n  <tbody>\n    <tr>\n      <th>0</th>\n      <td>619962288048308235</td>\n      <td>Default</td>\n      <td>2019-09-08 02:28:47.813+08</td>\n      <td>2024-09-14 18:00:54.370402+08</td>\n      <td>2024-09-14 18:00:54.370402+08</td>\n      <td>f</td>\n      <td>Submitted by @Deleted User :</td>\n      <td>456226577798135808</td>\n      <td>Deleted User</td>\n      <td>0</td>\n      <td>...</td>\n      <td>f</td>\n      <td>\"[]\"</td>\n      <td>https://cdn.discordapp.com/embed/avatars/3.png</td>\n      <td>\"{'id': '619962287406710785', 'url': 'https:\\/...</td>\n      <td>\"\\\"[]\\\"\"</td>\n      <td>\"\\\"[]\\\"\"</td>\n      <td>NaN</td>\n      <td>\"\\\"{'id': '456226577798135808', 'name': 'Delet...</td>\n      <td>1</td>\n      <td>4</td>\n    </tr>\n    <tr>\n      <th>1</th>\n      <td>619962304577929216</td>\n      <td>Default</td>\n      <td>2019-09-08 02:28:51.754+08</td>\n      <td>2024-09-14 18:00:54.370402+08</td>\n      <td>2024-09-14 18:00:54.370402+08</td>\n      <td>f</td>\n      <td>Submitted by @Deleted User :</td>\n      <td>456226577798135808</td>\n      <td>Deleted User</td>\n      <td>0</td>\n      <td>...</td>\n      <td>f</td>\n      <td>\"[]\"</td>\n      <td>https://cdn.discordapp.com/embed/avatars/3.png</td>\n      <td>\"{'id': '619962303776948244', 'url': 'https:\\/...</td>\n      <td>\"\\\"[]\\\"\"</td>\n      <td>\"\\\"[]\\\"\"</td>\n      <td>NaN</td>\n      <td>\"\\\"{'id': '456226577798135808', 'name': 'Delet...</td>\n      <td>1</td>\n      <td>5</td>\n    </tr>\n    <tr>\n      <th>2</th>\n      <td>527565401505136656</td>\n      <td>Default</td>\n      <td>2018-12-27 03:16:33.41+08</td>\n      <td>2024-09-14 18:00:54.322638+08</td>\n      <td>2024-09-14 18:00:54.322638+08</td>\n      <td>f</td>\n      <td>Submitted by @DAN : moms spagetti</td>\n      <td>243731791192522752</td>\n      <td>.bruhium</td>\n      <td>0</td>\n      <td>...</td>\n      <td>f</td>\n      <td>\"[]\"</td>\n      <td>https://cdn.discordapp.com/avatars/24373179119...</td>\n      <td>\"{'id': '527565401505136654', 'url': 'https:\\/...</td>\n      <td>\"\\\"[]\\\"\"</td>\n      <td>\"\\\"[]\\\"\"</td>\n      <td>NaN</td>\n      <td>\"\\\"{'id': '243731791192522752', 'name': '.bruh...</td>\n      <td>3</td>\n      <td>1</td>\n    </tr>\n    <tr>\n      <th>3</th>\n      <td>527565446350766080</td>\n      <td>Default</td>\n      <td>2018-12-27 03:16:44.102+08</td>\n      <td>2024-09-14 18:00:54.322638+08</td>\n      <td>2024-09-14 18:00:54.322638+08</td>\n      <td>f</td>\n      <td>Submitted by @Gingerbread ♥ :</td>\n      <td>421975189362966538</td>\n      <td>ginredfox</td>\n      <td>0</td>\n      <td>...</td>\n      <td>f</td>\n      <td>\"[]\"</td>\n      <td>https://cdn.discordapp.com/avatars/42197518936...</td>\n      <td>\"{'id': '527565445822414858', 'url': 'https:\\/...</td>\n      <td>\"\\\"[]\\\"\"</td>\n      <td>\"\\\"[]\\\"\"</td>\n      <td>NaN</td>\n      <td>\"\\\"{'id': '421975189362966538', 'name': 'ginre...</td>\n      <td>1</td>\n      <td>1</td>\n    </tr>\n    <tr>\n      <th>4</th>\n      <td>527565563497807909</td>\n      <td>Default</td>\n      <td>2018-12-27 03:17:12.032+08</td>\n      <td>2024-09-14 18:00:54.322638+08</td>\n      <td>2024-09-14 18:00:54.322638+08</td>\n      <td>f</td>\n      <td>Submitted by @Gingerbread ♥ :</td>\n      <td>421975189362966538</td>\n      <td>ginredfox</td>\n      <td>0</td>\n      <td>...</td>\n      <td>f</td>\n      <td>\"[]\"</td>\n      <td>https://cdn.discordapp.com/avatars/42197518936...</td>\n      <td>\"{'id': '527565562994229278', 'url': 'https:\\/...</td>\n      <td>\"\\\"[]\\\"\"</td>\n      <td>\"\\\"[]\\\"\"</td>\n      <td>NaN</td>\n      <td>\"\\\"{'id': '421975189362966538', 'name': 'ginre...</td>\n      <td>1</td>\n      <td>3</td>\n    </tr>\n  </tbody>\n</table>\n<p>5 rows × 22 columns</p>\n</div>"
     },
     "execution_count": 15,
     "metadata": {},
     "output_type": "execute_result"
    }
   ],
   "source": [
    "df.head()"
   ]
  },
  {
   "cell_type": "markdown",
   "id": "95006faa2c04ff7d",
   "metadata": {
    "collapsed": false
   },
   "source": [
    "# Plot the data"
   ]
  },
  {
   "cell_type": "code",
   "execution_count": 16,
   "id": "60b8eb8b5e97898e",
   "metadata": {
    "collapsed": false,
    "ExecuteTime": {
<<<<<<< HEAD
     "end_time": "2024-10-10T15:03:53.969762200Z",
     "start_time": "2024-10-10T15:03:53.828511100Z"
=======
     "end_time": "2024-10-14T15:48:43.345187500Z",
     "start_time": "2024-10-14T15:48:43.291318800Z"
>>>>>>> 923ac9e57b1b101f8141a073d66cfc65fa060726
    }
   },
   "outputs": [],
   "source": [
    "upvotes = df.groupby('author_name').agg({'upvotes': 'sum', 'downvotes': 'sum', 'author_id': 'first'})\n",
    "\n",
    "vote_ratio = upvotes['upvotes'] / (upvotes['upvotes'] + upvotes['downvotes'])\n",
    "\n",
    "upvotes['vote_ratio'] = vote_ratio\n",
    "\n",
    "ranks = upvotes.sort_values('upvotes', ascending=False)\n",
    "ranks['upvotes rank'] = np.arange(1, len(ranks) + 1)\n",
    "upvotes['upvotes rank'] = ranks['upvotes rank']\n",
    "\n",
    "author_names = ['jordydevrix']\n",
    "author_ids = [\n",
    "    495328668105703426,\n",
    "    217336009455566848,\n",
    "    456226577798135808,\n",
    "    656137684213039124,\n",
    "    221487880487436288\n",
    "]\n",
    "\n",
    "# users_on_name = upvotes.sort_values('upvotes', ascending=False).loc[author_names]\n",
    "# users_on_id = upvotes[upvotes['author_id'].isin(author_ids)]\n",
    "\n",
    "users_on_id = upvotes.sort_values('vote_ratio', ascending=False)\n",
    "users_on_id['upvote ratio rank'] = np.arange(1, len(users_on_id) + 1)\n",
    "users_on_id = users_on_id[users_on_id['author_id'].isin(author_ids)]\n",
    "# users_on_id['upvotes amount rank'] = ranks.loc[users_on_id.index, 'upvotes rank']\n"
   ]
  },
  {
   "cell_type": "code",
   "execution_count": 17,
   "id": "b5a926f46449a753",
   "metadata": {
    "collapsed": false,
    "ExecuteTime": {
<<<<<<< HEAD
     "end_time": "2024-10-10T15:03:54.007366500Z",
     "start_time": "2024-10-10T15:03:53.891685400Z"
=======
     "end_time": "2024-10-14T15:48:43.358700Z",
     "start_time": "2024-10-14T15:48:43.316487Z"
>>>>>>> 923ac9e57b1b101f8141a073d66cfc65fa060726
    }
   },
   "outputs": [
    {
     "data": {
<<<<<<< HEAD
      "text/plain": "               upvotes  downvotes            author_id  vote_ratio  \\\nauthor_name                                                          \nrickje139          114         11   217336009455566848    0.912000   \nzxxcx_            1341        287   656137684213039124    0.823710   \njordydevrix       1078        492   495328668105703426    0.686624   \nfreakyman3800      656        311  1097594103757283329    0.678387   \nDeleted User    437753     251586   456226577798135808    0.635033   \n\n               upvotes rank  upvote ratio rank  \nauthor_name                                     \nrickje139              5075                823  \nzxxcx_                  833               2222  \njordydevrix            1068               3892  \nfreakyman3800          1705               3986  \nDeleted User              1               4420  ",
      "text/html": "<div>\n<style scoped>\n    .dataframe tbody tr th:only-of-type {\n        vertical-align: middle;\n    }\n\n    .dataframe tbody tr th {\n        vertical-align: top;\n    }\n\n    .dataframe thead th {\n        text-align: right;\n    }\n</style>\n<table border=\"1\" class=\"dataframe\">\n  <thead>\n    <tr style=\"text-align: right;\">\n      <th></th>\n      <th>upvotes</th>\n      <th>downvotes</th>\n      <th>author_id</th>\n      <th>vote_ratio</th>\n      <th>upvotes rank</th>\n      <th>upvote ratio rank</th>\n    </tr>\n    <tr>\n      <th>author_name</th>\n      <th></th>\n      <th></th>\n      <th></th>\n      <th></th>\n      <th></th>\n      <th></th>\n    </tr>\n  </thead>\n  <tbody>\n    <tr>\n      <th>rickje139</th>\n      <td>114</td>\n      <td>11</td>\n      <td>217336009455566848</td>\n      <td>0.912000</td>\n      <td>5075</td>\n      <td>823</td>\n    </tr>\n    <tr>\n      <th>zxxcx_</th>\n      <td>1341</td>\n      <td>287</td>\n      <td>656137684213039124</td>\n      <td>0.823710</td>\n      <td>833</td>\n      <td>2222</td>\n    </tr>\n    <tr>\n      <th>jordydevrix</th>\n      <td>1078</td>\n      <td>492</td>\n      <td>495328668105703426</td>\n      <td>0.686624</td>\n      <td>1068</td>\n      <td>3892</td>\n    </tr>\n    <tr>\n      <th>freakyman3800</th>\n      <td>656</td>\n      <td>311</td>\n      <td>1097594103757283329</td>\n      <td>0.678387</td>\n      <td>1705</td>\n      <td>3986</td>\n    </tr>\n    <tr>\n      <th>Deleted User</th>\n      <td>437753</td>\n      <td>251586</td>\n      <td>456226577798135808</td>\n      <td>0.635033</td>\n      <td>1</td>\n      <td>4420</td>\n    </tr>\n  </tbody>\n</table>\n</div>"
=======
      "text/plain": "              upvotes  downvotes           author_id  vote_ratio  \\\nauthor_name                                                        \nrickje139         114         11  217336009455566848    0.912000   \nunyielding_j     3222        673  221487880487436288    0.827214   \nzxxcx_           1341        287  656137684213039124    0.823710   \njordydevrix      1078        492  495328668105703426    0.686624   \nDeleted User   437753     251586  456226577798135808    0.635033   \n\n              upvotes rank  upvote ratio rank  \nauthor_name                                    \nrickje139             5062                823  \nunyielding_j           275               2157  \nzxxcx_                 832               2222  \njordydevrix           1068               3892  \nDeleted User             1               4420  ",
      "text/html": "<div>\n<style scoped>\n    .dataframe tbody tr th:only-of-type {\n        vertical-align: middle;\n    }\n\n    .dataframe tbody tr th {\n        vertical-align: top;\n    }\n\n    .dataframe thead th {\n        text-align: right;\n    }\n</style>\n<table border=\"1\" class=\"dataframe\">\n  <thead>\n    <tr style=\"text-align: right;\">\n      <th></th>\n      <th>upvotes</th>\n      <th>downvotes</th>\n      <th>author_id</th>\n      <th>vote_ratio</th>\n      <th>upvotes rank</th>\n      <th>upvote ratio rank</th>\n    </tr>\n    <tr>\n      <th>author_name</th>\n      <th></th>\n      <th></th>\n      <th></th>\n      <th></th>\n      <th></th>\n      <th></th>\n    </tr>\n  </thead>\n  <tbody>\n    <tr>\n      <th>rickje139</th>\n      <td>114</td>\n      <td>11</td>\n      <td>217336009455566848</td>\n      <td>0.912000</td>\n      <td>5062</td>\n      <td>823</td>\n    </tr>\n    <tr>\n      <th>unyielding_j</th>\n      <td>3222</td>\n      <td>673</td>\n      <td>221487880487436288</td>\n      <td>0.827214</td>\n      <td>275</td>\n      <td>2157</td>\n    </tr>\n    <tr>\n      <th>zxxcx_</th>\n      <td>1341</td>\n      <td>287</td>\n      <td>656137684213039124</td>\n      <td>0.823710</td>\n      <td>832</td>\n      <td>2222</td>\n    </tr>\n    <tr>\n      <th>jordydevrix</th>\n      <td>1078</td>\n      <td>492</td>\n      <td>495328668105703426</td>\n      <td>0.686624</td>\n      <td>1068</td>\n      <td>3892</td>\n    </tr>\n    <tr>\n      <th>Deleted User</th>\n      <td>437753</td>\n      <td>251586</td>\n      <td>456226577798135808</td>\n      <td>0.635033</td>\n      <td>1</td>\n      <td>4420</td>\n    </tr>\n  </tbody>\n</table>\n</div>"
>>>>>>> 923ac9e57b1b101f8141a073d66cfc65fa060726
     },
     "execution_count": 17,
     "metadata": {},
     "output_type": "execute_result"
    }
   ],
   "source": [
    "users_on_id"
   ]
  },
  {
   "cell_type": "code",
<<<<<<< HEAD
   "execution_count": 18,
=======
   "execution_count": 9,
>>>>>>> 923ac9e57b1b101f8141a073d66cfc65fa060726
   "id": "90601070035c254",
   "metadata": {
    "collapsed": false,
    "ExecuteTime": {
<<<<<<< HEAD
     "end_time": "2024-10-10T15:03:54.007366500Z",
     "start_time": "2024-10-10T15:03:53.892193800Z"
=======
     "end_time": "2024-10-14T15:53:00.784615700Z",
     "start_time": "2024-10-14T15:53:00.772791300Z"
>>>>>>> 923ac9e57b1b101f8141a073d66cfc65fa060726
    }
   },
   "outputs": [
    {
     "data": {
      "text/plain": "author_name\n.0niichan.             0.325581\n.1drake1.              0.272423\n.4doors.more.whores    0.683292\n.4low.                 0.801724\n.7dayslater            0.155425\n                         ...   \nzyn_citrus             0.672131\nzynith.                0.940000\nzynnias                0.761111\nzynu.                  0.240000\nzyrian6988             0.187500\nName: vote_ratio, Length: 10238, dtype: float64"
     },
<<<<<<< HEAD
     "execution_count": 18,
=======
     "execution_count": 9,
>>>>>>> 923ac9e57b1b101f8141a073d66cfc65fa060726
     "metadata": {},
     "output_type": "execute_result"
    }
   ],
   "source": [
    "upvotes['vote_ratio']"
   ]
  },
  {
   "cell_type": "code",
<<<<<<< HEAD
   "execution_count": 19,
   "outputs": [
    {
     "data": {
      "text/plain": "                 author_name           author_id  \\\n0          ChannelLinkerBot2  378555883497586688   \n1                ninteyniner  447221768520859659   \n2                 exqusyte42  853923968041353236   \n3       dr.doofenshmirtz3140  466793357318815744   \n4       dr.doofenshmirtz3140  466793357318815744   \n...                      ...                 ...   \n162301                  Dyno  155149108183695360   \n162302                  Dyno  155149108183695360   \n162303                  Dyno  155149108183695360   \n162304                  MEE6  159985870458322944   \n162305                  MEE6  159985870458322944   \n\n                                             author_roles  \\\n0       [{\"id\":\"504436883728629781\",\"name\":\"ChannelLin...   \n1       [{\"id\":\"519639313319723012\",\"name\":\"Bright Blu...   \n2       [{\"id\":\"519639705382289409\",\"name\":\"Space\",\"co...   \n3       [{\"id\":\"486236478863704065\",\"name\":\"Server Mod...   \n4       [{\"id\":\"486236478863704065\",\"name\":\"Server Mod...   \n...                                                   ...   \n162301  [{\"id\":\"384024241533747200\",\"name\":\"Dyno\",\"col...   \n162302  [{\"id\":\"384024241533747200\",\"name\":\"Dyno\",\"col...   \n162303  [{\"id\":\"384024241533747200\",\"name\":\"Dyno\",\"col...   \n162304  [{\"id\":\"1126861291831709798\",\"name\":\"MEE6\",\"co...   \n162305  [{\"id\":\"1126861291831709798\",\"name\":\"MEE6\",\"co...   \n\n                         id                   timestamp  upvotes  downvotes  \\\n0        526831841987133457  2018-12-25 02:41:39.192+08     1009         42   \n1       1235618608747642952  2024-05-02 23:47:13.009+08      801         10   \n2        964107596917248004  2022-04-14 18:19:23.358+08      707         13   \n3        983196854634311700  2022-06-06 10:33:17.059+08      686         28   \n4       1236902647743905844  2024-05-06 12:49:31.762+08      663         45   \n...                     ...                         ...      ...        ...   \n162301  1203080854516273184  2024-02-03 04:53:47.878+08        0          0   \n162302  1159913756600578209  2023-10-07 02:03:09.729+08        0          0   \n162303  1203080906412261516  2024-02-03 04:54:00.251+08        0          0   \n162304  1188328288884621432  2023-12-24 11:52:22.142+08        0          0   \n162305  1160309729646620782   2023-10-08 04:16:37.06+08        0          0   \n\n       ispinned                                            content  \n0             f                                    i built a block  \n1             t  **Sukhoi Su-35S \"Flanker-M\"**\\n\\nThanks @HerrG...  \n2             t           Better view of the Main Hub of the ship.  \n3             t                                 my latest creation  \n4             t                                                NaN  \n...         ...                                                ...  \n162301        t                                                NaN  \n162302        t                                                NaN  \n162303        t                                                NaN  \n162304        t                                                NaN  \n162305        t                                                NaN  \n\n[162306 rows x 9 columns]",
      "text/html": "<div>\n<style scoped>\n    .dataframe tbody tr th:only-of-type {\n        vertical-align: middle;\n    }\n\n    .dataframe tbody tr th {\n        vertical-align: top;\n    }\n\n    .dataframe thead th {\n        text-align: right;\n    }\n</style>\n<table border=\"1\" class=\"dataframe\">\n  <thead>\n    <tr style=\"text-align: right;\">\n      <th></th>\n      <th>author_name</th>\n      <th>author_id</th>\n      <th>author_roles</th>\n      <th>id</th>\n      <th>timestamp</th>\n      <th>upvotes</th>\n      <th>downvotes</th>\n      <th>ispinned</th>\n      <th>content</th>\n    </tr>\n  </thead>\n  <tbody>\n    <tr>\n      <th>0</th>\n      <td>ChannelLinkerBot2</td>\n      <td>378555883497586688</td>\n      <td>[{\"id\":\"504436883728629781\",\"name\":\"ChannelLin...</td>\n      <td>526831841987133457</td>\n      <td>2018-12-25 02:41:39.192+08</td>\n      <td>1009</td>\n      <td>42</td>\n      <td>f</td>\n      <td>i built a block</td>\n    </tr>\n    <tr>\n      <th>1</th>\n      <td>ninteyniner</td>\n      <td>447221768520859659</td>\n      <td>[{\"id\":\"519639313319723012\",\"name\":\"Bright Blu...</td>\n      <td>1235618608747642952</td>\n      <td>2024-05-02 23:47:13.009+08</td>\n      <td>801</td>\n      <td>10</td>\n      <td>t</td>\n      <td>**Sukhoi Su-35S \"Flanker-M\"**\\n\\nThanks @HerrG...</td>\n    </tr>\n    <tr>\n      <th>2</th>\n      <td>exqusyte42</td>\n      <td>853923968041353236</td>\n      <td>[{\"id\":\"519639705382289409\",\"name\":\"Space\",\"co...</td>\n      <td>964107596917248004</td>\n      <td>2022-04-14 18:19:23.358+08</td>\n      <td>707</td>\n      <td>13</td>\n      <td>t</td>\n      <td>Better view of the Main Hub of the ship.</td>\n    </tr>\n    <tr>\n      <th>3</th>\n      <td>dr.doofenshmirtz3140</td>\n      <td>466793357318815744</td>\n      <td>[{\"id\":\"486236478863704065\",\"name\":\"Server Mod...</td>\n      <td>983196854634311700</td>\n      <td>2022-06-06 10:33:17.059+08</td>\n      <td>686</td>\n      <td>28</td>\n      <td>t</td>\n      <td>my latest creation</td>\n    </tr>\n    <tr>\n      <th>4</th>\n      <td>dr.doofenshmirtz3140</td>\n      <td>466793357318815744</td>\n      <td>[{\"id\":\"486236478863704065\",\"name\":\"Server Mod...</td>\n      <td>1236902647743905844</td>\n      <td>2024-05-06 12:49:31.762+08</td>\n      <td>663</td>\n      <td>45</td>\n      <td>t</td>\n      <td>NaN</td>\n    </tr>\n    <tr>\n      <th>...</th>\n      <td>...</td>\n      <td>...</td>\n      <td>...</td>\n      <td>...</td>\n      <td>...</td>\n      <td>...</td>\n      <td>...</td>\n      <td>...</td>\n      <td>...</td>\n    </tr>\n    <tr>\n      <th>162301</th>\n      <td>Dyno</td>\n      <td>155149108183695360</td>\n      <td>[{\"id\":\"384024241533747200\",\"name\":\"Dyno\",\"col...</td>\n      <td>1203080854516273184</td>\n      <td>2024-02-03 04:53:47.878+08</td>\n      <td>0</td>\n      <td>0</td>\n      <td>t</td>\n      <td>NaN</td>\n    </tr>\n    <tr>\n      <th>162302</th>\n      <td>Dyno</td>\n      <td>155149108183695360</td>\n      <td>[{\"id\":\"384024241533747200\",\"name\":\"Dyno\",\"col...</td>\n      <td>1159913756600578209</td>\n      <td>2023-10-07 02:03:09.729+08</td>\n      <td>0</td>\n      <td>0</td>\n      <td>t</td>\n      <td>NaN</td>\n    </tr>\n    <tr>\n      <th>162303</th>\n      <td>Dyno</td>\n      <td>155149108183695360</td>\n      <td>[{\"id\":\"384024241533747200\",\"name\":\"Dyno\",\"col...</td>\n      <td>1203080906412261516</td>\n      <td>2024-02-03 04:54:00.251+08</td>\n      <td>0</td>\n      <td>0</td>\n      <td>t</td>\n      <td>NaN</td>\n    </tr>\n    <tr>\n      <th>162304</th>\n      <td>MEE6</td>\n      <td>159985870458322944</td>\n      <td>[{\"id\":\"1126861291831709798\",\"name\":\"MEE6\",\"co...</td>\n      <td>1188328288884621432</td>\n      <td>2023-12-24 11:52:22.142+08</td>\n      <td>0</td>\n      <td>0</td>\n      <td>t</td>\n      <td>NaN</td>\n    </tr>\n    <tr>\n      <th>162305</th>\n      <td>MEE6</td>\n      <td>159985870458322944</td>\n      <td>[{\"id\":\"1126861291831709798\",\"name\":\"MEE6\",\"co...</td>\n      <td>1160309729646620782</td>\n      <td>2023-10-08 04:16:37.06+08</td>\n      <td>0</td>\n      <td>0</td>\n      <td>t</td>\n      <td>NaN</td>\n    </tr>\n  </tbody>\n</table>\n<p>162306 rows × 9 columns</p>\n</div>"
     },
     "execution_count": 19,
     "metadata": {},
     "output_type": "execute_result"
    }
   ],
   "source": [
    "usefull_data = df[['author_name', 'author_id', 'author_roles', 'id', 'timestamp', 'upvotes', 'downvotes', 'ispinned', 'content']]\n",
    "usefull_data = usefull_data.sort_values('upvotes', ascending=False).reset_index(drop=True)\n",
    "usefull_data"
   ],
   "metadata": {
    "collapsed": false,
    "ExecuteTime": {
     "end_time": "2024-10-10T15:03:54.017411200Z",
     "start_time": "2024-10-10T15:03:53.907238600Z"
    }
   },
   "id": "2a65d1f0223c3dee"
  },
  {
   "cell_type": "code",
   "execution_count": 19,
   "outputs": [],
   "source": [],
   "metadata": {
    "collapsed": false,
    "ExecuteTime": {
     "end_time": "2024-10-10T15:03:54.017411200Z",
     "start_time": "2024-10-10T15:03:53.990223Z"
    }
   },
   "id": "dabe0d0a9c328972"
=======
   "execution_count": null,
   "outputs": [],
   "source": [],
   "metadata": {
    "collapsed": false
   },
   "id": "38b906dcfdc737b3"
>>>>>>> 923ac9e57b1b101f8141a073d66cfc65fa060726
  }
 ],
 "metadata": {
  "kernelspec": {
   "display_name": "Python 3 (ipykernel)",
   "language": "python",
   "name": "python3"
  },
  "language_info": {
   "codemirror_mode": {
    "name": "ipython",
    "version": 3
   },
   "file_extension": ".py",
   "mimetype": "text/x-python",
   "name": "python",
   "nbconvert_exporter": "python",
   "pygments_lexer": "ipython3",
   "version": "3.11.5"
  }
 },
 "nbformat": 4,
 "nbformat_minor": 5
}
