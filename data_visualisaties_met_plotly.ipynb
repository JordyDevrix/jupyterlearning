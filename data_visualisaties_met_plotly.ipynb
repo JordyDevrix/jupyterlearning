{
 "cells": [
  {
   "cell_type": "markdown",
   "metadata": {},
   "source": [
    "In deze hands-on-gids ga je aan de slag met datavisualisaties op basis van datatypes. In machine learning werk je altijd met verschillende soorten datatypes. Jouw data kan bijvoorbeeld decimalen bevatten, zoals salarissen, getallen zoals het aantal uren, of categorieën zoals 'onvoldoende', 'voldoende' en 'goed' als het over studentencijfers gaat.\n",
    "\n",
    "Deze hands-on-gids helpt je om twee belangrijke vragen te beantwoorden:\n",
    "\n",
    "- Hoe kies je welke visualisatie je gebruikt?\n",
    "- Hoe maak je visualisaties in Python? En welke informatie kun je daaruit halen?"
   ]
  },
  {
   "cell_type": "markdown",
   "metadata": {},
   "source": [
    "### Hoe kies je welke type visualisatie voor jouw data?\n",
    " - Bij **categorische data**, dit zijn data die verschillende categorieën of groepen vertegenwoordigen, zoals producttypes, landen of geslacht, is een **staafdiagram (bar chart)** het meest gebruikt. Staafdiagramen helpen bij het vergelijken van verschillende categorieën in een categorische variabele.\n",
    "\n",
    " - Bij **numerieke data**, dit zijn gegevens die numerieke waarden vertegenwoordigen die discreet of continu kunnen zijn, zoals verkoopcijfers, temperaturen of lengtes, worden **Histogram's** en **Boxplot's** gebruikt.\n",
    "    * Histogram: Goed om de verdeling van numerieke variabelen te tonen.\n",
    "    * Boxplot: Handig om de spreiding te tonen en uitschieters te identificeren.\n",
    "\n",
    "\n",
    "- Om relaties tussen variabelen te verkennen, zijn spreidingsdiagrammen (Scatter plot) en heatmaps effectief.\n",
    "   * Spreidingsdiagram (Scatter Plot): handig om de verdeling en mogelijke correlatie tussen numerieke variabelen te tonen.\n",
    "   * Heatmap: visualiseert de gegevensgrootte over twee dimensies, handig om patronen te detecteren bijvoorbeeld.\n"
   ]
  },
  {
   "cell_type": "markdown",
   "metadata": {},
   "source": [
    "### En hoe maak je visualisaties in python?\n",
    "Er zijn verschillende Python-modules die worden gebruikt om visualisaties in Python te maken, zoals Matplotlib of Seaborn. Maar voor de scope van Data Advanced gaan we gebruikmaken van Plotly, een module die je helpt om interactieve visualisaties te maken."
   ]
  },
  {
   "cell_type": "markdown",
   "metadata": {},
   "source": [
    "Hieronder volgen implementatie voorbeelden van deze visualisaties met plotly.\n",
    "Zorg dus dat je de module plotly geinstaleerd heb. Je kunt de module uit de jupyter notebook installeren met de commando\n",
    "`%pip install plotly`"
   ]
  },
  {
   "cell_type": "markdown",
   "metadata": {},
   "source": [
    "### 1. Categorische data visualiseren met een **Staafdiagram** \n",
    "Dat doe je met de volgende code:\n",
    "\n",
    "`fig = px.bar(jouw_dataframe, x='kolom_naam', title='titel van de grafiek')\n",
    "fig.show()`\n",
    "\n",
    "`fig = px.bar(...)` maakt een staafdiagram met behulp van de px.bar functie van Plotly Express.\n",
    "`fig.show()` toont het staafdiagram in een notebook-cel."
   ]
  },
  {
   "cell_type": "markdown",
   "metadata": {},
   "source": [
    "### 2. Numerieke data met Histogram visualiseren\n",
    "Om een histogram te maken, roep je de px.histogram functie aan. Hier is een voorbeeld:\n",
    "\n",
    "`fig = px.histogram(jouw_dataframe, x='Kolom_naam', title='titel van de grafiek')`\n",
    "`fig.show()`"
   ]
  },
  {
   "cell_type": "markdown",
   "metadata": {},
   "source": [
    "### 3. Numerieke data met Box Plot visualiseren\n",
    "Een boxplot maak je door de functie `px.box` aan te roepen. Hier een voorbeeld:\n",
    "\n",
    "fig = px.box(jouw_dataframe, y='Kolom_naam', title='titel van de grafiek')\n",
    "fig.show()"
   ]
  },
  {
   "cell_type": "markdown",
   "metadata": {},
   "source": [
    "### 4. Relatie tussen numerieke variabelen visualiseren met een Scatterplot\n",
    "Om de relatie tussen numerieke variabelen te visualiseren, kun je een scatter plot (strooidiagram) gebruiken. Hier is een voorbeeld:\n",
    "\n",
    "`fig = px.scatter(df, x='Variabele1', y='Variabele2', title='Titel van je scatter plot')\n",
    "fig.show()\n",
    "`"
   ]
  },
  {
   "cell_type": "markdown",
   "metadata": {},
   "source": [
    "# HUISWERKOPDRACHT - visualisaties maken voor de iris dataset\n",
    "Het doel van dit huiswerkopdracht om visualisaties te maken voor de iris dataset. Deze dataset bevat gegevens over de iris bloemen die worden in drie verschillende species gecalssificeerd.\n",
    "Je kunt de dataset downloaden met de kaggle link: https://www.kaggle.com/datasets/uciml/iris\n",
    "\n",
    "- Als je dataset heb gedownload, laad je hem in een pandas dataframe\n",
    "- Maak stafdiagramen die de verdeling van de numerieke kolomen visualiseert. Je kunt 1 stafdiagram per kolom weergeven Wat valt je op?\n",
    "- Maak nu histograms om de verdeling van numerieke variabelen te visualiseren.\n",
    "- Mooi! Nu maak je een scatterplot om de relatie tussen \"leeftijd\" en \"gebruik\" en tussen \"leeftijd\" en \"Inkomen\". Wat valt je hier op?\n",
    "\n",
    "Zorg voor je plotly gaat gebruiken om de benodigde modules te importeren. De import statements geven we vast.\n",
    "\n",
    " `import plotly.express as px`\n",
    "\n",
    " `import plotly.graph_objects as go`\n",
    " \n",
    " `import pandas as pd`"
   ]
  }
 ],
 "metadata": {
  "kernelspec": {
   "display_name": "py_env_3_11",
   "language": "python",
   "name": "python3"
  },
  "language_info": {
   "codemirror_mode": {
    "name": "ipython",
    "version": 3
   },
   "file_extension": ".py",
   "mimetype": "text/x-python",
   "name": "python",
   "nbconvert_exporter": "python",
   "pygments_lexer": "ipython3",
   "version": "3.10.14"
  }
 },
 "nbformat": 4,
 "nbformat_minor": 2
}
