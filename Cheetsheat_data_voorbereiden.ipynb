{
 "cells": [
  {
   "cell_type": "markdown",
   "metadata": {},
   "source": [
    "## 1. Bibliotheken Importeren"
   ]
  },
  {
   "cell_type": "code",
   "execution_count": 46,
   "metadata": {
    "ExecuteTime": {
     "end_time": "2024-10-17T07:56:14.189931100Z",
     "start_time": "2024-10-17T07:56:14.166908400Z"
    }
   },
   "outputs": [],
   "source": [
    "import pandas as pd\n",
    "import numpy as np\n",
    "from sklearn.model_selection import train_test_split\n",
    "from sklearn.preprocessing import StandardScaler, MinMaxScaler, LabelEncoder\n",
    "import joblib  # Voor het opslaan van modellen en scalers"
   ]
  },
  {
   "cell_type": "markdown",
   "metadata": {},
   "source": [
    "## 2. Dataset laden"
   ]
  },
  {
   "cell_type": "code",
   "execution_count": 47,
   "metadata": {
    "ExecuteTime": {
     "end_time": "2024-10-17T07:56:14.730474200Z",
     "start_time": "2024-10-17T07:56:14.692305700Z"
    }
   },
   "outputs": [],
   "source": [
    "df = pd.read_csv('CardioGoodFitness.csv')\n"
   ]
  },
  {
   "cell_type": "markdown",
   "metadata": {},
   "source": [
    "## 3. Data inspecteren"
   ]
  },
  {
   "cell_type": "code",
   "execution_count": 48,
   "metadata": {
    "ExecuteTime": {
     "end_time": "2024-10-17T07:56:15.096324Z",
     "start_time": "2024-10-17T07:56:15.080580600Z"
    }
   },
   "outputs": [
    {
     "data": {
      "text/plain": "  product_code  leeftijd  gender  onderwijsniveau burgerlijke_staat  gebruik  \\\n0        TM798      37.0  Female             14.0            Single      5.0   \n1        TM195      34.0    Male             13.0         Partnered      1.0   \n2          NaN      47.0  Female             17.0         Partnered      1.0   \n3        TM798      34.0    Male             11.0            Single      3.0   \n4        TM195      43.0  Female             11.0            Single      5.0   \n\n   fitness  Inkomen  kilometers  lengte  gewicht        bmi  \n0      4.0  64409.0       275.0     NaN     78.0        NaN  \n1      2.0  75176.0         NaN   172.0     70.0  23.661439  \n2      NaN  74261.0       245.0   198.0     96.0  24.487297  \n3      3.0  40530.0        72.0   158.0     65.0  26.037494  \n4      2.0  59964.0         NaN   184.0     86.0  25.401701  ",
      "text/html": "<div>\n<style scoped>\n    .dataframe tbody tr th:only-of-type {\n        vertical-align: middle;\n    }\n\n    .dataframe tbody tr th {\n        vertical-align: top;\n    }\n\n    .dataframe thead th {\n        text-align: right;\n    }\n</style>\n<table border=\"1\" class=\"dataframe\">\n  <thead>\n    <tr style=\"text-align: right;\">\n      <th></th>\n      <th>product_code</th>\n      <th>leeftijd</th>\n      <th>gender</th>\n      <th>onderwijsniveau</th>\n      <th>burgerlijke_staat</th>\n      <th>gebruik</th>\n      <th>fitness</th>\n      <th>Inkomen</th>\n      <th>kilometers</th>\n      <th>lengte</th>\n      <th>gewicht</th>\n      <th>bmi</th>\n    </tr>\n  </thead>\n  <tbody>\n    <tr>\n      <th>0</th>\n      <td>TM798</td>\n      <td>37.0</td>\n      <td>Female</td>\n      <td>14.0</td>\n      <td>Single</td>\n      <td>5.0</td>\n      <td>4.0</td>\n      <td>64409.0</td>\n      <td>275.0</td>\n      <td>NaN</td>\n      <td>78.0</td>\n      <td>NaN</td>\n    </tr>\n    <tr>\n      <th>1</th>\n      <td>TM195</td>\n      <td>34.0</td>\n      <td>Male</td>\n      <td>13.0</td>\n      <td>Partnered</td>\n      <td>1.0</td>\n      <td>2.0</td>\n      <td>75176.0</td>\n      <td>NaN</td>\n      <td>172.0</td>\n      <td>70.0</td>\n      <td>23.661439</td>\n    </tr>\n    <tr>\n      <th>2</th>\n      <td>NaN</td>\n      <td>47.0</td>\n      <td>Female</td>\n      <td>17.0</td>\n      <td>Partnered</td>\n      <td>1.0</td>\n      <td>NaN</td>\n      <td>74261.0</td>\n      <td>245.0</td>\n      <td>198.0</td>\n      <td>96.0</td>\n      <td>24.487297</td>\n    </tr>\n    <tr>\n      <th>3</th>\n      <td>TM798</td>\n      <td>34.0</td>\n      <td>Male</td>\n      <td>11.0</td>\n      <td>Single</td>\n      <td>3.0</td>\n      <td>3.0</td>\n      <td>40530.0</td>\n      <td>72.0</td>\n      <td>158.0</td>\n      <td>65.0</td>\n      <td>26.037494</td>\n    </tr>\n    <tr>\n      <th>4</th>\n      <td>TM195</td>\n      <td>43.0</td>\n      <td>Female</td>\n      <td>11.0</td>\n      <td>Single</td>\n      <td>5.0</td>\n      <td>2.0</td>\n      <td>59964.0</td>\n      <td>NaN</td>\n      <td>184.0</td>\n      <td>86.0</td>\n      <td>25.401701</td>\n    </tr>\n  </tbody>\n</table>\n</div>"
     },
     "execution_count": 48,
     "metadata": {},
     "output_type": "execute_result"
    }
   ],
   "source": [
    "# Bekijk de eerste rijen van de dataset:\n",
    "df.head()"
   ]
  },
  {
   "cell_type": "code",
   "execution_count": 49,
   "metadata": {
    "ExecuteTime": {
     "end_time": "2024-10-17T07:56:15.374297900Z",
     "start_time": "2024-10-17T07:56:15.303821400Z"
    }
   },
   "outputs": [
    {
     "name": "stdout",
     "output_type": "stream",
     "text": [
      "<class 'pandas.core.frame.DataFrame'>\n",
      "RangeIndex: 200 entries, 0 to 199\n",
      "Data columns (total 12 columns):\n",
      " #   Column             Non-Null Count  Dtype  \n",
      "---  ------             --------------  -----  \n",
      " 0   product_code       180 non-null    object \n",
      " 1   leeftijd           180 non-null    float64\n",
      " 2   gender             180 non-null    object \n",
      " 3   onderwijsniveau    180 non-null    float64\n",
      " 4   burgerlijke_staat  180 non-null    object \n",
      " 5   gebruik            180 non-null    float64\n",
      " 6   fitness            180 non-null    float64\n",
      " 7   Inkomen            180 non-null    float64\n",
      " 8   kilometers         180 non-null    float64\n",
      " 9   lengte             180 non-null    float64\n",
      " 10  gewicht            180 non-null    float64\n",
      " 11  bmi                144 non-null    float64\n",
      "dtypes: float64(9), object(3)\n",
      "memory usage: 18.9+ KB\n"
     ]
    }
   ],
   "source": [
    "# Bekijk de datatypes:\n",
    "df.info()"
   ]
  },
  {
   "cell_type": "code",
   "execution_count": 50,
   "metadata": {
    "ExecuteTime": {
     "end_time": "2024-10-17T07:56:15.503321900Z",
     "start_time": "2024-10-17T07:56:15.467574800Z"
    }
   },
   "outputs": [
    {
     "data": {
      "text/plain": "product_code         20\nleeftijd             20\ngender               20\nonderwijsniveau      20\nburgerlijke_staat    20\ngebruik              20\nfitness              20\nInkomen              20\nkilometers           20\nlengte               20\ngewicht              20\nbmi                  56\ndtype: int64"
     },
     "execution_count": 50,
     "metadata": {},
     "output_type": "execute_result"
    }
   ],
   "source": [
    "# Controleer op missende waarden:\n",
    "df.isnull().sum()"
   ]
  },
  {
   "cell_type": "code",
   "execution_count": 51,
   "metadata": {
    "ExecuteTime": {
     "end_time": "2024-10-17T07:56:15.723143300Z",
     "start_time": "2024-10-17T07:56:15.659208400Z"
    }
   },
   "outputs": [
    {
     "data": {
      "text/plain": "         leeftijd  onderwijsniveau     gebruik     fitness      Inkomen  \\\ncount  180.000000       180.000000  180.000000  180.000000    180.00000   \nmean    33.505556        13.155556    2.838889    2.538889  50861.50000   \nstd     10.113047         2.269108    1.374809    1.140243  17276.28102   \nmin     18.000000        10.000000    1.000000    1.000000  20822.00000   \n25%     23.000000        11.000000    2.000000    1.750000  35620.50000   \n50%     34.000000        13.000000    3.000000    3.000000  51850.50000   \n75%     42.000000        15.000000    4.000000    4.000000  65822.25000   \nmax     49.000000        17.000000    5.000000    4.000000  79676.00000   \n\n       kilometers      lengte     gewicht         bmi  \ncount  180.000000  180.000000  180.000000  144.000000  \nmean   159.777778  175.250000   74.216667   24.538636  \nstd     82.775631   14.009923   13.880284    6.201142  \nmin     22.000000  150.000000   50.000000   13.130982  \n25%     82.750000  162.000000   62.750000   20.126371  \n50%    166.000000  177.000000   73.500000   24.342414  \n75%    234.250000  187.000000   86.000000   28.661393  \nmax    297.000000  199.000000   99.000000   39.728310  ",
      "text/html": "<div>\n<style scoped>\n    .dataframe tbody tr th:only-of-type {\n        vertical-align: middle;\n    }\n\n    .dataframe tbody tr th {\n        vertical-align: top;\n    }\n\n    .dataframe thead th {\n        text-align: right;\n    }\n</style>\n<table border=\"1\" class=\"dataframe\">\n  <thead>\n    <tr style=\"text-align: right;\">\n      <th></th>\n      <th>leeftijd</th>\n      <th>onderwijsniveau</th>\n      <th>gebruik</th>\n      <th>fitness</th>\n      <th>Inkomen</th>\n      <th>kilometers</th>\n      <th>lengte</th>\n      <th>gewicht</th>\n      <th>bmi</th>\n    </tr>\n  </thead>\n  <tbody>\n    <tr>\n      <th>count</th>\n      <td>180.000000</td>\n      <td>180.000000</td>\n      <td>180.000000</td>\n      <td>180.000000</td>\n      <td>180.00000</td>\n      <td>180.000000</td>\n      <td>180.000000</td>\n      <td>180.000000</td>\n      <td>144.000000</td>\n    </tr>\n    <tr>\n      <th>mean</th>\n      <td>33.505556</td>\n      <td>13.155556</td>\n      <td>2.838889</td>\n      <td>2.538889</td>\n      <td>50861.50000</td>\n      <td>159.777778</td>\n      <td>175.250000</td>\n      <td>74.216667</td>\n      <td>24.538636</td>\n    </tr>\n    <tr>\n      <th>std</th>\n      <td>10.113047</td>\n      <td>2.269108</td>\n      <td>1.374809</td>\n      <td>1.140243</td>\n      <td>17276.28102</td>\n      <td>82.775631</td>\n      <td>14.009923</td>\n      <td>13.880284</td>\n      <td>6.201142</td>\n    </tr>\n    <tr>\n      <th>min</th>\n      <td>18.000000</td>\n      <td>10.000000</td>\n      <td>1.000000</td>\n      <td>1.000000</td>\n      <td>20822.00000</td>\n      <td>22.000000</td>\n      <td>150.000000</td>\n      <td>50.000000</td>\n      <td>13.130982</td>\n    </tr>\n    <tr>\n      <th>25%</th>\n      <td>23.000000</td>\n      <td>11.000000</td>\n      <td>2.000000</td>\n      <td>1.750000</td>\n      <td>35620.50000</td>\n      <td>82.750000</td>\n      <td>162.000000</td>\n      <td>62.750000</td>\n      <td>20.126371</td>\n    </tr>\n    <tr>\n      <th>50%</th>\n      <td>34.000000</td>\n      <td>13.000000</td>\n      <td>3.000000</td>\n      <td>3.000000</td>\n      <td>51850.50000</td>\n      <td>166.000000</td>\n      <td>177.000000</td>\n      <td>73.500000</td>\n      <td>24.342414</td>\n    </tr>\n    <tr>\n      <th>75%</th>\n      <td>42.000000</td>\n      <td>15.000000</td>\n      <td>4.000000</td>\n      <td>4.000000</td>\n      <td>65822.25000</td>\n      <td>234.250000</td>\n      <td>187.000000</td>\n      <td>86.000000</td>\n      <td>28.661393</td>\n    </tr>\n    <tr>\n      <th>max</th>\n      <td>49.000000</td>\n      <td>17.000000</td>\n      <td>5.000000</td>\n      <td>4.000000</td>\n      <td>79676.00000</td>\n      <td>297.000000</td>\n      <td>199.000000</td>\n      <td>99.000000</td>\n      <td>39.728310</td>\n    </tr>\n  </tbody>\n</table>\n</div>"
     },
     "execution_count": 51,
     "metadata": {},
     "output_type": "execute_result"
    }
   ],
   "source": [
    "# Beschrijvende statistieken van de dataset:\n",
    "df.describe()"
   ]
  },
  {
   "cell_type": "markdown",
   "metadata": {},
   "source": [
    "## 4. Omgaan met Missende Waarden"
   ]
  },
  {
   "cell_type": "code",
   "execution_count": 52,
   "metadata": {
    "ExecuteTime": {
     "end_time": "2024-10-17T07:56:16.197544Z",
     "start_time": "2024-10-17T07:56:16.076269600Z"
    }
   },
   "outputs": [
    {
     "name": "stdout",
     "output_type": "stream",
     "text": [
      "product_code         20\n",
      "leeftijd             20\n",
      "gender               20\n",
      "onderwijsniveau      20\n",
      "burgerlijke_staat    20\n",
      "gebruik              20\n",
      "fitness              20\n",
      "Inkomen              20\n",
      "kilometers           20\n",
      "lengte               20\n",
      "gewicht              20\n",
      "bmi                  56\n",
      "dtype: int64\n"
     ]
    }
   ],
   "source": [
    "# Check of er verschillende formaten voor missende waarden zijn\n",
    "missende_waarden = df.isin([np.nan, None, 'NA', 'null', '']).sum()\n",
    "print(missende_waarden)"
   ]
  },
  {
   "cell_type": "code",
   "execution_count": 53,
   "metadata": {
    "ExecuteTime": {
     "end_time": "2024-10-17T07:56:16.451125Z",
     "start_time": "2024-10-17T07:56:16.339169600Z"
    }
   },
   "outputs": [
    {
     "name": "stderr",
     "output_type": "stream",
     "text": [
      "C:\\Users\\2109j\\AppData\\Local\\Temp\\ipykernel_1740\\861376172.py:4: FutureWarning: A value is trying to be set on a copy of a DataFrame or Series through chained assignment using an inplace method.\n",
      "The behavior will change in pandas 3.0. This inplace method will never work because the intermediate object on which we are setting values always behaves as a copy.\n",
      "\n",
      "For example, when doing 'df[col].method(value, inplace=True)', try using 'df.method({col: value}, inplace=True)' or df[col] = df[col].method(value) instead, to perform the operation inplace on the original object.\n",
      "\n",
      "\n",
      "  df['leeftijd'].fillna(leeftijd, inplace=True)\n",
      "C:\\Users\\2109j\\AppData\\Local\\Temp\\ipykernel_1740\\861376172.py:7: FutureWarning: A value is trying to be set on a copy of a DataFrame or Series through chained assignment using an inplace method.\n",
      "The behavior will change in pandas 3.0. This inplace method will never work because the intermediate object on which we are setting values always behaves as a copy.\n",
      "\n",
      "For example, when doing 'df[col].method(value, inplace=True)', try using 'df.method({col: value}, inplace=True)' or df[col] = df[col].method(value) instead, to perform the operation inplace on the original object.\n",
      "\n",
      "\n",
      "  df['onderwijsniveau'].fillna(onderwijsniveau, inplace=True)\n",
      "C:\\Users\\2109j\\AppData\\Local\\Temp\\ipykernel_1740\\861376172.py:10: FutureWarning: A value is trying to be set on a copy of a DataFrame or Series through chained assignment using an inplace method.\n",
      "The behavior will change in pandas 3.0. This inplace method will never work because the intermediate object on which we are setting values always behaves as a copy.\n",
      "\n",
      "For example, when doing 'df[col].method(value, inplace=True)', try using 'df.method({col: value}, inplace=True)' or df[col] = df[col].method(value) instead, to perform the operation inplace on the original object.\n",
      "\n",
      "\n",
      "  df['gebruik'].fillna(gebruik, inplace=True)\n",
      "C:\\Users\\2109j\\AppData\\Local\\Temp\\ipykernel_1740\\861376172.py:13: FutureWarning: A value is trying to be set on a copy of a DataFrame or Series through chained assignment using an inplace method.\n",
      "The behavior will change in pandas 3.0. This inplace method will never work because the intermediate object on which we are setting values always behaves as a copy.\n",
      "\n",
      "For example, when doing 'df[col].method(value, inplace=True)', try using 'df.method({col: value}, inplace=True)' or df[col] = df[col].method(value) instead, to perform the operation inplace on the original object.\n",
      "\n",
      "\n",
      "  df['fitness'].fillna(fitness, inplace=True)\n",
      "C:\\Users\\2109j\\AppData\\Local\\Temp\\ipykernel_1740\\861376172.py:16: FutureWarning: A value is trying to be set on a copy of a DataFrame or Series through chained assignment using an inplace method.\n",
      "The behavior will change in pandas 3.0. This inplace method will never work because the intermediate object on which we are setting values always behaves as a copy.\n",
      "\n",
      "For example, when doing 'df[col].method(value, inplace=True)', try using 'df.method({col: value}, inplace=True)' or df[col] = df[col].method(value) instead, to perform the operation inplace on the original object.\n",
      "\n",
      "\n",
      "  df['Inkomen'].fillna(inkomen, inplace=True)\n",
      "C:\\Users\\2109j\\AppData\\Local\\Temp\\ipykernel_1740\\861376172.py:19: FutureWarning: A value is trying to be set on a copy of a DataFrame or Series through chained assignment using an inplace method.\n",
      "The behavior will change in pandas 3.0. This inplace method will never work because the intermediate object on which we are setting values always behaves as a copy.\n",
      "\n",
      "For example, when doing 'df[col].method(value, inplace=True)', try using 'df.method({col: value}, inplace=True)' or df[col] = df[col].method(value) instead, to perform the operation inplace on the original object.\n",
      "\n",
      "\n",
      "  df['kilometers'].fillna(kilometers, inplace=True)\n",
      "C:\\Users\\2109j\\AppData\\Local\\Temp\\ipykernel_1740\\861376172.py:22: FutureWarning: A value is trying to be set on a copy of a DataFrame or Series through chained assignment using an inplace method.\n",
      "The behavior will change in pandas 3.0. This inplace method will never work because the intermediate object on which we are setting values always behaves as a copy.\n",
      "\n",
      "For example, when doing 'df[col].method(value, inplace=True)', try using 'df.method({col: value}, inplace=True)' or df[col] = df[col].method(value) instead, to perform the operation inplace on the original object.\n",
      "\n",
      "\n",
      "  df['lengte'].fillna(lengte, inplace=True)\n",
      "C:\\Users\\2109j\\AppData\\Local\\Temp\\ipykernel_1740\\861376172.py:25: FutureWarning: A value is trying to be set on a copy of a DataFrame or Series through chained assignment using an inplace method.\n",
      "The behavior will change in pandas 3.0. This inplace method will never work because the intermediate object on which we are setting values always behaves as a copy.\n",
      "\n",
      "For example, when doing 'df[col].method(value, inplace=True)', try using 'df.method({col: value}, inplace=True)' or df[col] = df[col].method(value) instead, to perform the operation inplace on the original object.\n",
      "\n",
      "\n",
      "  df['gewicht'].fillna(gewicht, inplace=True)\n",
      "C:\\Users\\2109j\\AppData\\Local\\Temp\\ipykernel_1740\\861376172.py:28: FutureWarning: A value is trying to be set on a copy of a DataFrame or Series through chained assignment using an inplace method.\n",
      "The behavior will change in pandas 3.0. This inplace method will never work because the intermediate object on which we are setting values always behaves as a copy.\n",
      "\n",
      "For example, when doing 'df[col].method(value, inplace=True)', try using 'df.method({col: value}, inplace=True)' or df[col] = df[col].method(value) instead, to perform the operation inplace on the original object.\n",
      "\n",
      "\n",
      "  df['bmi'].fillna(bmi, inplace=True)\n"
     ]
    }
   ],
   "source": [
    "# Imputeren van missende waarden: Gemiddelde/Mediaan/Meest voorkomende waarde voor numerieke data:\n",
    "\n",
    "leeftijd = df['leeftijd'].median()\n",
    "df['leeftijd'].fillna(leeftijd, inplace=True)\n",
    "\n",
    "onderwijsniveau = df['onderwijsniveau'].mode()[0]\n",
    "df['onderwijsniveau'].fillna(onderwijsniveau, inplace=True)\n",
    "\n",
    "gebruik = df['gebruik'].median()\n",
    "df['gebruik'].fillna(gebruik, inplace=True)\n",
    "\n",
    "fitness = df['fitness'].median()\n",
    "df['fitness'].fillna(fitness, inplace=True)\n",
    "\n",
    "inkomen = df['Inkomen'].median()\n",
    "df['Inkomen'].fillna(inkomen, inplace=True)\n",
    "\n",
    "kilometers = df['kilometers'].mean()\n",
    "df['kilometers'].fillna(kilometers, inplace=True)\n",
    "\n",
    "lengte = df['lengte'].mean()\n",
    "df['lengte'].fillna(lengte, inplace=True)\n",
    "\n",
    "gewicht = df['gewicht'].mean()\n",
    "df['gewicht'].fillna(gewicht, inplace=True)\n",
    "\n",
    "bmi = df['bmi'].mean()\n",
    "df['bmi'].fillna(bmi, inplace=True)\n",
    "\n",
    "# # mean\n",
    "# mean_value = df['kolom'].mean()\n",
    "# df['kolom'].fillna(mean_value, inplace=True)\n",
    "# \n",
    "# # median\n",
    "# median_value = df['kolom'].median()\n",
    "# df['kolom'].fillna(median_value, inplace=True)\n",
    "# \n",
    "# # mode\n",
    "# mode_value = df['kolom'].mode()[0]\n",
    "# df['kolom'].fillna(mode_value, inplace=True)\n",
    "\n"
   ]
  },
  {
   "cell_type": "code",
   "execution_count": 54,
   "outputs": [],
   "source": [
    "# Verwijderen van missende waarden:\n",
    "df.dropna(inplace=True)  # Verwijder rijen met missende waarden"
   ],
   "metadata": {
    "collapsed": false,
    "ExecuteTime": {
     "end_time": "2024-10-17T07:56:16.625954800Z",
     "start_time": "2024-10-17T07:56:16.528580800Z"
    }
   }
  },
  {
   "cell_type": "code",
   "execution_count": 60,
   "outputs": [
    {
     "data": {
      "text/plain": "     leeftijd    gender  onderwijsniveau  burgerlijke_staat   gebruik  \\\n0    0.397824 -0.946628         0.498147           0.883452  1.592375   \n1    0.078105  1.056382         0.046411          -1.131923 -1.426933   \n3    0.078105  1.056382        -0.857060           0.883452  0.082721   \n4    1.037262 -0.946628        -0.857060           0.883452  1.592375   \n5    0.397824 -0.946628        -0.857060           0.883452  1.592375   \n..        ...       ...              ...                ...       ...   \n194  1.250409  1.056382        -0.857060           0.883452  0.837548   \n196  0.078105 -0.946628         1.853353          -1.131923  0.082721   \n197  0.291251 -0.946628        -0.857060          -1.131923  0.082721   \n198 -1.307345 -0.946628        -0.857060           0.883452 -1.426933   \n199 -1.413918 -0.946628        -0.857060           0.883452  0.082721   \n\n      fitness   Inkomen  kilometers    lengte   gewicht       bmi  \\\n0    1.285712  0.815728    1.381433  0.116638  0.332355 -0.070937   \n1   -0.563686  1.477842   -0.053708 -0.128793 -0.290777 -0.236789   \n3    0.361013 -0.652705   -1.147017 -1.186032 -0.680235  0.212454   \n4   -0.563686  0.542384   -0.053708  0.777412  0.955487  0.092244   \n5    1.285712  0.810685   -0.798265 -0.355344 -0.368669 -0.142749   \n..        ...       ...         ...       ...       ...       ...   \n194 -1.488386 -1.215259    0.908127 -1.034998 -0.057103 -0.070937   \n196  0.361013  1.203022    1.418799 -1.639134  0.037665 -0.070937   \n197 -0.563686 -1.017615    1.456166 -0.581895  0.566030  0.847202   \n198  0.361013  0.149309   -1.744877  1.457066  1.267053 -0.142200   \n199  1.285712 -1.102170   -0.053708  0.248793  0.877596  0.419282   \n\n     product_code_TM498  product_code_TM798  \n0             -0.614295            1.344504  \n1             -0.614295           -0.743768  \n3             -0.614295            1.344504  \n4             -0.614295           -0.743768  \n5             -0.614295           -0.743768  \n..                  ...                 ...  \n194           -0.614295            1.344504  \n196           -0.614295            1.344504  \n197           -0.614295            1.344504  \n198            1.627882           -0.743768  \n199           -0.614295           -0.743768  \n\n[146 rows x 13 columns]",
      "text/html": "<div>\n<style scoped>\n    .dataframe tbody tr th:only-of-type {\n        vertical-align: middle;\n    }\n\n    .dataframe tbody tr th {\n        vertical-align: top;\n    }\n\n    .dataframe thead th {\n        text-align: right;\n    }\n</style>\n<table border=\"1\" class=\"dataframe\">\n  <thead>\n    <tr style=\"text-align: right;\">\n      <th></th>\n      <th>leeftijd</th>\n      <th>gender</th>\n      <th>onderwijsniveau</th>\n      <th>burgerlijke_staat</th>\n      <th>gebruik</th>\n      <th>fitness</th>\n      <th>Inkomen</th>\n      <th>kilometers</th>\n      <th>lengte</th>\n      <th>gewicht</th>\n      <th>bmi</th>\n      <th>product_code_TM498</th>\n      <th>product_code_TM798</th>\n    </tr>\n  </thead>\n  <tbody>\n    <tr>\n      <th>0</th>\n      <td>0.397824</td>\n      <td>-0.946628</td>\n      <td>0.498147</td>\n      <td>0.883452</td>\n      <td>1.592375</td>\n      <td>1.285712</td>\n      <td>0.815728</td>\n      <td>1.381433</td>\n      <td>0.116638</td>\n      <td>0.332355</td>\n      <td>-0.070937</td>\n      <td>-0.614295</td>\n      <td>1.344504</td>\n    </tr>\n    <tr>\n      <th>1</th>\n      <td>0.078105</td>\n      <td>1.056382</td>\n      <td>0.046411</td>\n      <td>-1.131923</td>\n      <td>-1.426933</td>\n      <td>-0.563686</td>\n      <td>1.477842</td>\n      <td>-0.053708</td>\n      <td>-0.128793</td>\n      <td>-0.290777</td>\n      <td>-0.236789</td>\n      <td>-0.614295</td>\n      <td>-0.743768</td>\n    </tr>\n    <tr>\n      <th>3</th>\n      <td>0.078105</td>\n      <td>1.056382</td>\n      <td>-0.857060</td>\n      <td>0.883452</td>\n      <td>0.082721</td>\n      <td>0.361013</td>\n      <td>-0.652705</td>\n      <td>-1.147017</td>\n      <td>-1.186032</td>\n      <td>-0.680235</td>\n      <td>0.212454</td>\n      <td>-0.614295</td>\n      <td>1.344504</td>\n    </tr>\n    <tr>\n      <th>4</th>\n      <td>1.037262</td>\n      <td>-0.946628</td>\n      <td>-0.857060</td>\n      <td>0.883452</td>\n      <td>1.592375</td>\n      <td>-0.563686</td>\n      <td>0.542384</td>\n      <td>-0.053708</td>\n      <td>0.777412</td>\n      <td>0.955487</td>\n      <td>0.092244</td>\n      <td>-0.614295</td>\n      <td>-0.743768</td>\n    </tr>\n    <tr>\n      <th>5</th>\n      <td>0.397824</td>\n      <td>-0.946628</td>\n      <td>-0.857060</td>\n      <td>0.883452</td>\n      <td>1.592375</td>\n      <td>1.285712</td>\n      <td>0.810685</td>\n      <td>-0.798265</td>\n      <td>-0.355344</td>\n      <td>-0.368669</td>\n      <td>-0.142749</td>\n      <td>-0.614295</td>\n      <td>-0.743768</td>\n    </tr>\n    <tr>\n      <th>...</th>\n      <td>...</td>\n      <td>...</td>\n      <td>...</td>\n      <td>...</td>\n      <td>...</td>\n      <td>...</td>\n      <td>...</td>\n      <td>...</td>\n      <td>...</td>\n      <td>...</td>\n      <td>...</td>\n      <td>...</td>\n      <td>...</td>\n    </tr>\n    <tr>\n      <th>194</th>\n      <td>1.250409</td>\n      <td>1.056382</td>\n      <td>-0.857060</td>\n      <td>0.883452</td>\n      <td>0.837548</td>\n      <td>-1.488386</td>\n      <td>-1.215259</td>\n      <td>0.908127</td>\n      <td>-1.034998</td>\n      <td>-0.057103</td>\n      <td>-0.070937</td>\n      <td>-0.614295</td>\n      <td>1.344504</td>\n    </tr>\n    <tr>\n      <th>196</th>\n      <td>0.078105</td>\n      <td>-0.946628</td>\n      <td>1.853353</td>\n      <td>-1.131923</td>\n      <td>0.082721</td>\n      <td>0.361013</td>\n      <td>1.203022</td>\n      <td>1.418799</td>\n      <td>-1.639134</td>\n      <td>0.037665</td>\n      <td>-0.070937</td>\n      <td>-0.614295</td>\n      <td>1.344504</td>\n    </tr>\n    <tr>\n      <th>197</th>\n      <td>0.291251</td>\n      <td>-0.946628</td>\n      <td>-0.857060</td>\n      <td>-1.131923</td>\n      <td>0.082721</td>\n      <td>-0.563686</td>\n      <td>-1.017615</td>\n      <td>1.456166</td>\n      <td>-0.581895</td>\n      <td>0.566030</td>\n      <td>0.847202</td>\n      <td>-0.614295</td>\n      <td>1.344504</td>\n    </tr>\n    <tr>\n      <th>198</th>\n      <td>-1.307345</td>\n      <td>-0.946628</td>\n      <td>-0.857060</td>\n      <td>0.883452</td>\n      <td>-1.426933</td>\n      <td>0.361013</td>\n      <td>0.149309</td>\n      <td>-1.744877</td>\n      <td>1.457066</td>\n      <td>1.267053</td>\n      <td>-0.142200</td>\n      <td>1.627882</td>\n      <td>-0.743768</td>\n    </tr>\n    <tr>\n      <th>199</th>\n      <td>-1.413918</td>\n      <td>-0.946628</td>\n      <td>-0.857060</td>\n      <td>0.883452</td>\n      <td>0.082721</td>\n      <td>1.285712</td>\n      <td>-1.102170</td>\n      <td>-0.053708</td>\n      <td>0.248793</td>\n      <td>0.877596</td>\n      <td>0.419282</td>\n      <td>-0.614295</td>\n      <td>-0.743768</td>\n    </tr>\n  </tbody>\n</table>\n<p>146 rows × 13 columns</p>\n</div>"
     },
     "execution_count": 60,
     "metadata": {},
     "output_type": "execute_result"
    }
   ],
   "source": [
    "df"
   ],
   "metadata": {
    "collapsed": false,
    "ExecuteTime": {
     "end_time": "2024-10-17T07:56:27.680887800Z",
     "start_time": "2024-10-17T07:56:27.641951200Z"
    }
   }
  },
  {
   "cell_type": "markdown",
   "metadata": {},
   "source": [
    "## 5. Duplicaten Verwijderen"
   ]
  },
  {
   "cell_type": "code",
   "execution_count": 56,
   "metadata": {
    "ExecuteTime": {
     "end_time": "2024-10-17T07:56:17.659901500Z",
     "start_time": "2024-10-17T07:56:17.588027400Z"
    }
   },
   "outputs": [],
   "source": [
    "# Verwijder dubbele rijen:\n",
    "df.drop_duplicates(inplace=True)"
   ]
  },
  {
   "cell_type": "markdown",
   "metadata": {},
   "source": [
    "## 6. Categorieën coderen"
   ]
  },
  {
   "cell_type": "code",
   "execution_count": 57,
   "metadata": {
    "ExecuteTime": {
     "end_time": "2024-10-17T07:56:18.399680500Z",
     "start_time": "2024-10-17T07:56:18.379559700Z"
    }
   },
   "outputs": [],
   "source": [
    "# Label Encoding (voor binaire of ordinale categorieën):\n",
    "label_encoder = LabelEncoder()\n",
    "df['burgerlijke_staat'] = label_encoder.fit_transform(df['burgerlijke_staat'])\n",
    "\n",
    "label_encoder = LabelEncoder()\n",
    "df['gender'] = label_encoder.fit_transform(df['gender'])"
   ]
  },
  {
   "cell_type": "code",
   "execution_count": 58,
   "metadata": {
    "ExecuteTime": {
     "end_time": "2024-10-17T07:56:18.779491300Z",
     "start_time": "2024-10-17T07:56:18.763999600Z"
    }
   },
   "outputs": [],
   "source": [
    "# One-Hot Encoding (voor nominale categorieën):\n",
    "df = pd.get_dummies(df, columns=['product_code'], drop_first=True).astype('float64')"
   ]
  },
  {
   "cell_type": "markdown",
   "metadata": {},
   "source": [
    "## 7. Schalen van Features"
   ]
  },
  {
   "cell_type": "code",
   "execution_count": 59,
   "metadata": {
    "ExecuteTime": {
     "end_time": "2024-10-17T07:56:19.769235800Z",
     "start_time": "2024-10-17T07:56:19.653561400Z"
    }
   },
   "outputs": [],
   "source": [
    "scaler = StandardScaler()\n",
    "df[[\n",
    "    'leeftijd',\n",
    "    'gender',\n",
    "    'onderwijsniveau',\n",
    "    'burgerlijke_staat',\n",
    "    'gebruik',\n",
    "    'fitness',\n",
    "    'Inkomen',\n",
    "    'kilometers',\n",
    "    'lengte',\n",
    "    'gewicht',\n",
    "    'bmi',\n",
    "    'product_code_TM498',\n",
    "    'product_code_TM798'\n",
    "]] = scaler.fit_transform(df[[\n",
    "    'leeftijd',\n",
    "    'gender',\n",
    "    'onderwijsniveau',\n",
    "    'burgerlijke_staat',\n",
    "    'gebruik',\n",
    "    'fitness',\n",
    "    'Inkomen',\n",
    "    'kilometers',\n",
    "    'lengte',\n",
    "    'gewicht',\n",
    "    'bmi',\n",
    "    'product_code_TM498',\n",
    "    'product_code_TM798'\n",
    "]])"
   ]
  },
  {
   "cell_type": "markdown",
   "metadata": {},
   "source": [
    "## 8. Feature Engineering"
   ]
  },
  {
   "cell_type": "code",
   "execution_count": null,
   "metadata": {},
   "outputs": [],
   "source": [
    "# Nieuwe features creëren:\n",
    "df['nieuwe_feature'] = df['feature1'] / df['feature2']"
   ]
  },
  {
   "cell_type": "markdown",
   "metadata": {},
   "source": [
    "## 9. Schoongemaakte Data Opslaan"
   ]
  },
  {
   "cell_type": "code",
   "execution_count": 62,
   "metadata": {
    "ExecuteTime": {
     "end_time": "2024-10-17T07:57:19.246883500Z",
     "start_time": "2024-10-17T07:57:19.224144800Z"
    }
   },
   "outputs": [],
   "source": [
    "df.to_csv('schoongemaakte_data.csv', index=False)"
   ]
  },
  {
   "cell_type": "code",
   "execution_count": null,
   "outputs": [],
   "source": [],
   "metadata": {
    "collapsed": false
   }
  }
 ],
 "metadata": {
  "language_info": {
   "name": "python"
  },
  "kernelspec": {
   "name": "python3",
   "language": "python",
   "display_name": "Python 3 (ipykernel)"
  }
 },
 "nbformat": 4,
 "nbformat_minor": 2
}
