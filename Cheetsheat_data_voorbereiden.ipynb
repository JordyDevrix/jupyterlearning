{
 "cells": [
  {
   "cell_type": "markdown",
   "metadata": {},
   "source": [
    "## 1. Bibliotheken Importeren"
   ]
  },
  {
   "cell_type": "code",
   "execution_count": 87,
   "metadata": {
    "ExecuteTime": {
     "end_time": "2024-10-16T20:54:49.583585100Z",
     "start_time": "2024-10-16T20:54:49.580595200Z"
    }
   },
   "outputs": [],
   "source": [
    "import pandas as pd\n",
    "import numpy as np\n",
    "from sklearn.model_selection import train_test_split\n",
    "from sklearn.preprocessing import StandardScaler, MinMaxScaler, LabelEncoder\n",
    "import joblib  # Voor het opslaan van modellen en scalers"
   ]
  },
  {
   "cell_type": "markdown",
   "metadata": {},
   "source": [
    "## 2. Dataset laden"
   ]
  },
  {
   "cell_type": "code",
   "execution_count": 88,
   "metadata": {
    "ExecuteTime": {
     "end_time": "2024-10-16T20:54:49.940197500Z",
     "start_time": "2024-10-16T20:54:49.937246500Z"
    }
   },
   "outputs": [],
   "source": [
    "df = pd.read_csv('CardioGoodFitness.csv')\n"
   ]
  },
  {
   "cell_type": "markdown",
   "metadata": {},
   "source": [
    "## 3. Data inspecteren"
   ]
  },
  {
   "cell_type": "code",
   "execution_count": 89,
   "metadata": {
    "ExecuteTime": {
     "end_time": "2024-10-16T20:54:50.294211400Z",
     "start_time": "2024-10-16T20:54:50.287861800Z"
    }
   },
   "outputs": [
    {
     "data": {
      "text/plain": "  product_code  leeftijd  gender  onderwijsniveau burgerlijke_staat  gebruik  \\\n0        TM798      37.0  Female             14.0            Single      5.0   \n1        TM195      34.0    Male             13.0         Partnered      1.0   \n2          NaN      47.0  Female             17.0         Partnered      1.0   \n3        TM798      34.0    Male             11.0            Single      3.0   \n4        TM195      43.0  Female             11.0            Single      5.0   \n\n   fitness  Inkomen  kilometers  lengte  gewicht        bmi  \n0      4.0  64409.0       275.0     NaN     78.0        NaN  \n1      2.0  75176.0         NaN   172.0     70.0  23.661439  \n2      NaN  74261.0       245.0   198.0     96.0  24.487297  \n3      3.0  40530.0        72.0   158.0     65.0  26.037494  \n4      2.0  59964.0         NaN   184.0     86.0  25.401701  ",
      "text/html": "<div>\n<style scoped>\n    .dataframe tbody tr th:only-of-type {\n        vertical-align: middle;\n    }\n\n    .dataframe tbody tr th {\n        vertical-align: top;\n    }\n\n    .dataframe thead th {\n        text-align: right;\n    }\n</style>\n<table border=\"1\" class=\"dataframe\">\n  <thead>\n    <tr style=\"text-align: right;\">\n      <th></th>\n      <th>product_code</th>\n      <th>leeftijd</th>\n      <th>gender</th>\n      <th>onderwijsniveau</th>\n      <th>burgerlijke_staat</th>\n      <th>gebruik</th>\n      <th>fitness</th>\n      <th>Inkomen</th>\n      <th>kilometers</th>\n      <th>lengte</th>\n      <th>gewicht</th>\n      <th>bmi</th>\n    </tr>\n  </thead>\n  <tbody>\n    <tr>\n      <th>0</th>\n      <td>TM798</td>\n      <td>37.0</td>\n      <td>Female</td>\n      <td>14.0</td>\n      <td>Single</td>\n      <td>5.0</td>\n      <td>4.0</td>\n      <td>64409.0</td>\n      <td>275.0</td>\n      <td>NaN</td>\n      <td>78.0</td>\n      <td>NaN</td>\n    </tr>\n    <tr>\n      <th>1</th>\n      <td>TM195</td>\n      <td>34.0</td>\n      <td>Male</td>\n      <td>13.0</td>\n      <td>Partnered</td>\n      <td>1.0</td>\n      <td>2.0</td>\n      <td>75176.0</td>\n      <td>NaN</td>\n      <td>172.0</td>\n      <td>70.0</td>\n      <td>23.661439</td>\n    </tr>\n    <tr>\n      <th>2</th>\n      <td>NaN</td>\n      <td>47.0</td>\n      <td>Female</td>\n      <td>17.0</td>\n      <td>Partnered</td>\n      <td>1.0</td>\n      <td>NaN</td>\n      <td>74261.0</td>\n      <td>245.0</td>\n      <td>198.0</td>\n      <td>96.0</td>\n      <td>24.487297</td>\n    </tr>\n    <tr>\n      <th>3</th>\n      <td>TM798</td>\n      <td>34.0</td>\n      <td>Male</td>\n      <td>11.0</td>\n      <td>Single</td>\n      <td>3.0</td>\n      <td>3.0</td>\n      <td>40530.0</td>\n      <td>72.0</td>\n      <td>158.0</td>\n      <td>65.0</td>\n      <td>26.037494</td>\n    </tr>\n    <tr>\n      <th>4</th>\n      <td>TM195</td>\n      <td>43.0</td>\n      <td>Female</td>\n      <td>11.0</td>\n      <td>Single</td>\n      <td>5.0</td>\n      <td>2.0</td>\n      <td>59964.0</td>\n      <td>NaN</td>\n      <td>184.0</td>\n      <td>86.0</td>\n      <td>25.401701</td>\n    </tr>\n  </tbody>\n</table>\n</div>"
     },
     "execution_count": 89,
     "metadata": {},
     "output_type": "execute_result"
    }
   ],
   "source": [
    "# Bekijk de eerste rijen van de dataset:\n",
    "df.head()"
   ]
  },
  {
   "cell_type": "code",
   "execution_count": 102,
   "metadata": {
    "ExecuteTime": {
     "end_time": "2024-10-16T20:55:49.416232500Z",
     "start_time": "2024-10-16T20:55:49.408692700Z"
    }
   },
   "outputs": [
    {
     "name": "stdout",
     "output_type": "stream",
     "text": [
      "<class 'pandas.core.frame.DataFrame'>\n",
      "Index: 146 entries, 0 to 199\n",
      "Data columns (total 13 columns):\n",
      " #   Column              Non-Null Count  Dtype  \n",
      "---  ------              --------------  -----  \n",
      " 0   leeftijd            146 non-null    float64\n",
      " 1   gender              146 non-null    int64  \n",
      " 2   onderwijsniveau     146 non-null    float64\n",
      " 3   burgerlijke_staat   146 non-null    int64  \n",
      " 4   gebruik             146 non-null    float64\n",
      " 5   fitness             146 non-null    float64\n",
      " 6   Inkomen             146 non-null    float64\n",
      " 7   kilometers          146 non-null    float64\n",
      " 8   lengte              146 non-null    float64\n",
      " 9   gewicht             146 non-null    float64\n",
      " 10  bmi                 146 non-null    float64\n",
      " 11  product_code_TM498  146 non-null    bool   \n",
      " 12  product_code_TM798  146 non-null    bool   \n",
      "dtypes: bool(2), float64(9), int64(2)\n",
      "memory usage: 14.0 KB\n"
     ]
    }
   ],
   "source": [
    "# Bekijk de datatypes:\n",
    "df.info()"
   ]
  },
  {
   "cell_type": "code",
   "execution_count": 91,
   "metadata": {
    "ExecuteTime": {
     "end_time": "2024-10-16T20:54:50.681461400Z",
     "start_time": "2024-10-16T20:54:50.675550Z"
    }
   },
   "outputs": [
    {
     "data": {
      "text/plain": "product_code         20\nleeftijd             20\ngender               20\nonderwijsniveau      20\nburgerlijke_staat    20\ngebruik              20\nfitness              20\nInkomen              20\nkilometers           20\nlengte               20\ngewicht              20\nbmi                  56\ndtype: int64"
     },
     "execution_count": 91,
     "metadata": {},
     "output_type": "execute_result"
    }
   ],
   "source": [
    "# Controleer op missende waarden:\n",
    "df.isnull().sum()"
   ]
  },
  {
   "cell_type": "code",
   "execution_count": 101,
   "metadata": {
    "ExecuteTime": {
     "end_time": "2024-10-16T20:55:36.395545800Z",
     "start_time": "2024-10-16T20:55:36.384205400Z"
    }
   },
   "outputs": [
    {
     "data": {
      "text/plain": "         leeftijd      gender  onderwijsniveau  burgerlijke_staat     gebruik  \\\ncount  146.000000  146.000000       146.000000         146.000000  146.000000   \nmean    33.267123    0.472603        12.897260           0.561644    2.890411   \nstd      9.415535    0.500967         2.221306           0.497894    1.329367   \nmin     18.000000    0.000000        10.000000           0.000000    1.000000   \n25%     24.000000    0.000000        11.000000           0.000000    2.000000   \n50%     34.000000    0.000000        13.000000           1.000000    3.000000   \n75%     40.000000    1.000000        14.000000           1.000000    4.000000   \nmax     49.000000    1.000000        17.000000           1.000000    5.000000   \n\n          fitness       Inkomen  kilometers      lengte     gewicht  \\\ncount  146.000000    146.000000  146.000000  146.000000  146.000000   \nmean     2.609589  51143.996575  164.089802  173.705479   73.733105   \nstd      1.085156  16317.531049   80.562701   13.287623   12.882562   \nmin      1.000000  20822.000000   23.000000  150.000000   50.000000   \n25%      2.000000  38567.250000   96.250000  162.000000   64.000000   \n50%      3.000000  51850.500000  160.500000  175.250000   74.216667   \n75%      3.000000  64255.000000  234.000000  184.000000   82.000000   \nmax      4.000000  79676.000000  297.000000  199.000000   99.000000   \n\n              bmi  \ncount  146.000000  \nmean    24.913822  \nstd      5.307221  \nmin     13.130982  \n25%     22.315596  \n50%     24.538636  \n75%     27.332696  \nmax     39.125911  ",
      "text/html": "<div>\n<style scoped>\n    .dataframe tbody tr th:only-of-type {\n        vertical-align: middle;\n    }\n\n    .dataframe tbody tr th {\n        vertical-align: top;\n    }\n\n    .dataframe thead th {\n        text-align: right;\n    }\n</style>\n<table border=\"1\" class=\"dataframe\">\n  <thead>\n    <tr style=\"text-align: right;\">\n      <th></th>\n      <th>leeftijd</th>\n      <th>gender</th>\n      <th>onderwijsniveau</th>\n      <th>burgerlijke_staat</th>\n      <th>gebruik</th>\n      <th>fitness</th>\n      <th>Inkomen</th>\n      <th>kilometers</th>\n      <th>lengte</th>\n      <th>gewicht</th>\n      <th>bmi</th>\n    </tr>\n  </thead>\n  <tbody>\n    <tr>\n      <th>count</th>\n      <td>146.000000</td>\n      <td>146.000000</td>\n      <td>146.000000</td>\n      <td>146.000000</td>\n      <td>146.000000</td>\n      <td>146.000000</td>\n      <td>146.000000</td>\n      <td>146.000000</td>\n      <td>146.000000</td>\n      <td>146.000000</td>\n      <td>146.000000</td>\n    </tr>\n    <tr>\n      <th>mean</th>\n      <td>33.267123</td>\n      <td>0.472603</td>\n      <td>12.897260</td>\n      <td>0.561644</td>\n      <td>2.890411</td>\n      <td>2.609589</td>\n      <td>51143.996575</td>\n      <td>164.089802</td>\n      <td>173.705479</td>\n      <td>73.733105</td>\n      <td>24.913822</td>\n    </tr>\n    <tr>\n      <th>std</th>\n      <td>9.415535</td>\n      <td>0.500967</td>\n      <td>2.221306</td>\n      <td>0.497894</td>\n      <td>1.329367</td>\n      <td>1.085156</td>\n      <td>16317.531049</td>\n      <td>80.562701</td>\n      <td>13.287623</td>\n      <td>12.882562</td>\n      <td>5.307221</td>\n    </tr>\n    <tr>\n      <th>min</th>\n      <td>18.000000</td>\n      <td>0.000000</td>\n      <td>10.000000</td>\n      <td>0.000000</td>\n      <td>1.000000</td>\n      <td>1.000000</td>\n      <td>20822.000000</td>\n      <td>23.000000</td>\n      <td>150.000000</td>\n      <td>50.000000</td>\n      <td>13.130982</td>\n    </tr>\n    <tr>\n      <th>25%</th>\n      <td>24.000000</td>\n      <td>0.000000</td>\n      <td>11.000000</td>\n      <td>0.000000</td>\n      <td>2.000000</td>\n      <td>2.000000</td>\n      <td>38567.250000</td>\n      <td>96.250000</td>\n      <td>162.000000</td>\n      <td>64.000000</td>\n      <td>22.315596</td>\n    </tr>\n    <tr>\n      <th>50%</th>\n      <td>34.000000</td>\n      <td>0.000000</td>\n      <td>13.000000</td>\n      <td>1.000000</td>\n      <td>3.000000</td>\n      <td>3.000000</td>\n      <td>51850.500000</td>\n      <td>160.500000</td>\n      <td>175.250000</td>\n      <td>74.216667</td>\n      <td>24.538636</td>\n    </tr>\n    <tr>\n      <th>75%</th>\n      <td>40.000000</td>\n      <td>1.000000</td>\n      <td>14.000000</td>\n      <td>1.000000</td>\n      <td>4.000000</td>\n      <td>3.000000</td>\n      <td>64255.000000</td>\n      <td>234.000000</td>\n      <td>184.000000</td>\n      <td>82.000000</td>\n      <td>27.332696</td>\n    </tr>\n    <tr>\n      <th>max</th>\n      <td>49.000000</td>\n      <td>1.000000</td>\n      <td>17.000000</td>\n      <td>1.000000</td>\n      <td>5.000000</td>\n      <td>4.000000</td>\n      <td>79676.000000</td>\n      <td>297.000000</td>\n      <td>199.000000</td>\n      <td>99.000000</td>\n      <td>39.125911</td>\n    </tr>\n  </tbody>\n</table>\n</div>"
     },
     "execution_count": 101,
     "metadata": {},
     "output_type": "execute_result"
    }
   ],
   "source": [
    "# Beschrijvende statistieken van de dataset:\n",
    "df.describe()"
   ]
  },
  {
   "cell_type": "markdown",
   "metadata": {},
   "source": [
    "## 4. Omgaan met Missende Waarden"
   ]
  },
  {
   "cell_type": "code",
   "execution_count": 93,
   "metadata": {
    "ExecuteTime": {
     "end_time": "2024-10-16T20:54:52.165831800Z",
     "start_time": "2024-10-16T20:54:52.160797100Z"
    }
   },
   "outputs": [
    {
     "name": "stdout",
     "output_type": "stream",
     "text": [
      "product_code         20\n",
      "leeftijd             20\n",
      "gender               20\n",
      "onderwijsniveau      20\n",
      "burgerlijke_staat    20\n",
      "gebruik              20\n",
      "fitness              20\n",
      "Inkomen              20\n",
      "kilometers           20\n",
      "lengte               20\n",
      "gewicht              20\n",
      "bmi                  56\n",
      "dtype: int64\n"
     ]
    }
   ],
   "source": [
    "# Check of er verschillende formaten voor missende waarden zijn\n",
    "missende_waarden = df.isin([np.nan, None, 'NA', 'null', '']).sum()\n",
    "print(missende_waarden)"
   ]
  },
  {
   "cell_type": "code",
   "execution_count": 94,
   "metadata": {
    "ExecuteTime": {
     "end_time": "2024-10-16T20:54:52.429261500Z",
     "start_time": "2024-10-16T20:54:52.425011900Z"
    }
   },
   "outputs": [
    {
     "name": "stderr",
     "output_type": "stream",
     "text": [
      "C:\\Users\\2109j\\AppData\\Local\\Temp\\ipykernel_7944\\861376172.py:4: FutureWarning: A value is trying to be set on a copy of a DataFrame or Series through chained assignment using an inplace method.\n",
      "The behavior will change in pandas 3.0. This inplace method will never work because the intermediate object on which we are setting values always behaves as a copy.\n",
      "\n",
      "For example, when doing 'df[col].method(value, inplace=True)', try using 'df.method({col: value}, inplace=True)' or df[col] = df[col].method(value) instead, to perform the operation inplace on the original object.\n",
      "\n",
      "\n",
      "  df['leeftijd'].fillna(leeftijd, inplace=True)\n",
      "C:\\Users\\2109j\\AppData\\Local\\Temp\\ipykernel_7944\\861376172.py:7: FutureWarning: A value is trying to be set on a copy of a DataFrame or Series through chained assignment using an inplace method.\n",
      "The behavior will change in pandas 3.0. This inplace method will never work because the intermediate object on which we are setting values always behaves as a copy.\n",
      "\n",
      "For example, when doing 'df[col].method(value, inplace=True)', try using 'df.method({col: value}, inplace=True)' or df[col] = df[col].method(value) instead, to perform the operation inplace on the original object.\n",
      "\n",
      "\n",
      "  df['onderwijsniveau'].fillna(onderwijsniveau, inplace=True)\n",
      "C:\\Users\\2109j\\AppData\\Local\\Temp\\ipykernel_7944\\861376172.py:10: FutureWarning: A value is trying to be set on a copy of a DataFrame or Series through chained assignment using an inplace method.\n",
      "The behavior will change in pandas 3.0. This inplace method will never work because the intermediate object on which we are setting values always behaves as a copy.\n",
      "\n",
      "For example, when doing 'df[col].method(value, inplace=True)', try using 'df.method({col: value}, inplace=True)' or df[col] = df[col].method(value) instead, to perform the operation inplace on the original object.\n",
      "\n",
      "\n",
      "  df['gebruik'].fillna(gebruik, inplace=True)\n",
      "C:\\Users\\2109j\\AppData\\Local\\Temp\\ipykernel_7944\\861376172.py:13: FutureWarning: A value is trying to be set on a copy of a DataFrame or Series through chained assignment using an inplace method.\n",
      "The behavior will change in pandas 3.0. This inplace method will never work because the intermediate object on which we are setting values always behaves as a copy.\n",
      "\n",
      "For example, when doing 'df[col].method(value, inplace=True)', try using 'df.method({col: value}, inplace=True)' or df[col] = df[col].method(value) instead, to perform the operation inplace on the original object.\n",
      "\n",
      "\n",
      "  df['fitness'].fillna(fitness, inplace=True)\n",
      "C:\\Users\\2109j\\AppData\\Local\\Temp\\ipykernel_7944\\861376172.py:16: FutureWarning: A value is trying to be set on a copy of a DataFrame or Series through chained assignment using an inplace method.\n",
      "The behavior will change in pandas 3.0. This inplace method will never work because the intermediate object on which we are setting values always behaves as a copy.\n",
      "\n",
      "For example, when doing 'df[col].method(value, inplace=True)', try using 'df.method({col: value}, inplace=True)' or df[col] = df[col].method(value) instead, to perform the operation inplace on the original object.\n",
      "\n",
      "\n",
      "  df['Inkomen'].fillna(inkomen, inplace=True)\n",
      "C:\\Users\\2109j\\AppData\\Local\\Temp\\ipykernel_7944\\861376172.py:19: FutureWarning: A value is trying to be set on a copy of a DataFrame or Series through chained assignment using an inplace method.\n",
      "The behavior will change in pandas 3.0. This inplace method will never work because the intermediate object on which we are setting values always behaves as a copy.\n",
      "\n",
      "For example, when doing 'df[col].method(value, inplace=True)', try using 'df.method({col: value}, inplace=True)' or df[col] = df[col].method(value) instead, to perform the operation inplace on the original object.\n",
      "\n",
      "\n",
      "  df['kilometers'].fillna(kilometers, inplace=True)\n",
      "C:\\Users\\2109j\\AppData\\Local\\Temp\\ipykernel_7944\\861376172.py:22: FutureWarning: A value is trying to be set on a copy of a DataFrame or Series through chained assignment using an inplace method.\n",
      "The behavior will change in pandas 3.0. This inplace method will never work because the intermediate object on which we are setting values always behaves as a copy.\n",
      "\n",
      "For example, when doing 'df[col].method(value, inplace=True)', try using 'df.method({col: value}, inplace=True)' or df[col] = df[col].method(value) instead, to perform the operation inplace on the original object.\n",
      "\n",
      "\n",
      "  df['lengte'].fillna(lengte, inplace=True)\n",
      "C:\\Users\\2109j\\AppData\\Local\\Temp\\ipykernel_7944\\861376172.py:25: FutureWarning: A value is trying to be set on a copy of a DataFrame or Series through chained assignment using an inplace method.\n",
      "The behavior will change in pandas 3.0. This inplace method will never work because the intermediate object on which we are setting values always behaves as a copy.\n",
      "\n",
      "For example, when doing 'df[col].method(value, inplace=True)', try using 'df.method({col: value}, inplace=True)' or df[col] = df[col].method(value) instead, to perform the operation inplace on the original object.\n",
      "\n",
      "\n",
      "  df['gewicht'].fillna(gewicht, inplace=True)\n",
      "C:\\Users\\2109j\\AppData\\Local\\Temp\\ipykernel_7944\\861376172.py:28: FutureWarning: A value is trying to be set on a copy of a DataFrame or Series through chained assignment using an inplace method.\n",
      "The behavior will change in pandas 3.0. This inplace method will never work because the intermediate object on which we are setting values always behaves as a copy.\n",
      "\n",
      "For example, when doing 'df[col].method(value, inplace=True)', try using 'df.method({col: value}, inplace=True)' or df[col] = df[col].method(value) instead, to perform the operation inplace on the original object.\n",
      "\n",
      "\n",
      "  df['bmi'].fillna(bmi, inplace=True)\n"
     ]
    }
   ],
   "source": [
    "# Imputeren van missende waarden: Gemiddelde/Mediaan/Meest voorkomende waarde voor numerieke data:\n",
    "\n",
    "leeftijd = df['leeftijd'].median()\n",
    "df['leeftijd'].fillna(leeftijd, inplace=True)\n",
    "\n",
    "onderwijsniveau = df['onderwijsniveau'].mode()[0]\n",
    "df['onderwijsniveau'].fillna(onderwijsniveau, inplace=True)\n",
    "\n",
    "gebruik = df['gebruik'].median()\n",
    "df['gebruik'].fillna(gebruik, inplace=True)\n",
    "\n",
    "fitness = df['fitness'].median()\n",
    "df['fitness'].fillna(fitness, inplace=True)\n",
    "\n",
    "inkomen = df['Inkomen'].median()\n",
    "df['Inkomen'].fillna(inkomen, inplace=True)\n",
    "\n",
    "kilometers = df['kilometers'].mean()\n",
    "df['kilometers'].fillna(kilometers, inplace=True)\n",
    "\n",
    "lengte = df['lengte'].mean()\n",
    "df['lengte'].fillna(lengte, inplace=True)\n",
    "\n",
    "gewicht = df['gewicht'].mean()\n",
    "df['gewicht'].fillna(gewicht, inplace=True)\n",
    "\n",
    "bmi = df['bmi'].mean()\n",
    "df['bmi'].fillna(bmi, inplace=True)\n",
    "\n",
    "# # mean\n",
    "# mean_value = df['kolom'].mean()\n",
    "# df['kolom'].fillna(mean_value, inplace=True)\n",
    "# \n",
    "# # median\n",
    "# median_value = df['kolom'].median()\n",
    "# df['kolom'].fillna(median_value, inplace=True)\n",
    "# \n",
    "# # mode\n",
    "# mode_value = df['kolom'].mode()[0]\n",
    "# df['kolom'].fillna(mode_value, inplace=True)\n",
    "\n"
   ]
  },
  {
   "cell_type": "code",
   "execution_count": 95,
   "outputs": [],
   "source": [
    "# Verwijderen van missende waarden:\n",
    "df.dropna(inplace=True)  # Verwijder rijen met missende waarden"
   ],
   "metadata": {
    "collapsed": false,
    "ExecuteTime": {
     "end_time": "2024-10-16T20:54:52.817002500Z",
     "start_time": "2024-10-16T20:54:52.809959100Z"
    }
   }
  },
  {
   "cell_type": "code",
   "execution_count": 100,
   "outputs": [
    {
     "data": {
      "text/plain": "     leeftijd  gender  onderwijsniveau  burgerlijke_staat  gebruik  fitness  \\\n0        37.0       0             14.0                  1      5.0      4.0   \n1        34.0       1             13.0                  0      1.0      2.0   \n3        34.0       1             11.0                  1      3.0      3.0   \n4        43.0       0             11.0                  1      5.0      2.0   \n5        37.0       0             11.0                  1      5.0      4.0   \n..        ...     ...              ...                ...      ...      ...   \n194      45.0       1             11.0                  1      4.0      1.0   \n196      34.0       0             17.0                  0      3.0      3.0   \n197      36.0       0             11.0                  0      3.0      2.0   \n198      21.0       0             11.0                  1      1.0      3.0   \n199      20.0       0             11.0                  1      3.0      4.0   \n\n     Inkomen  kilometers  lengte    gewicht        bmi  product_code_TM498  \\\n0    64409.0  275.000000  175.25  78.000000  24.538636               False   \n1    75176.0  159.777778  172.00  70.000000  23.661439               False   \n3    40530.0   72.000000  158.00  65.000000  26.037494               False   \n4    59964.0  159.777778  184.00  86.000000  25.401701               False   \n5    64327.0  100.000000  169.00  69.000000  24.158818               False   \n..       ...         ...     ...        ...        ...                 ...   \n194  31382.0  237.000000  160.00  73.000000  24.538636               False   \n196  70707.0  278.000000  152.00  74.216667  24.538636               False   \n197  34596.0  281.000000  166.00  81.000000  29.394687               False   \n198  53572.0   24.000000  193.00  90.000000  24.161722                True   \n199  33221.0  159.777778  177.00  85.000000  27.131412               False   \n\n     product_code_TM798  \n0                  True  \n1                 False  \n3                  True  \n4                 False  \n5                 False  \n..                  ...  \n194                True  \n196                True  \n197                True  \n198               False  \n199               False  \n\n[146 rows x 13 columns]",
      "text/html": "<div>\n<style scoped>\n    .dataframe tbody tr th:only-of-type {\n        vertical-align: middle;\n    }\n\n    .dataframe tbody tr th {\n        vertical-align: top;\n    }\n\n    .dataframe thead th {\n        text-align: right;\n    }\n</style>\n<table border=\"1\" class=\"dataframe\">\n  <thead>\n    <tr style=\"text-align: right;\">\n      <th></th>\n      <th>leeftijd</th>\n      <th>gender</th>\n      <th>onderwijsniveau</th>\n      <th>burgerlijke_staat</th>\n      <th>gebruik</th>\n      <th>fitness</th>\n      <th>Inkomen</th>\n      <th>kilometers</th>\n      <th>lengte</th>\n      <th>gewicht</th>\n      <th>bmi</th>\n      <th>product_code_TM498</th>\n      <th>product_code_TM798</th>\n    </tr>\n  </thead>\n  <tbody>\n    <tr>\n      <th>0</th>\n      <td>37.0</td>\n      <td>0</td>\n      <td>14.0</td>\n      <td>1</td>\n      <td>5.0</td>\n      <td>4.0</td>\n      <td>64409.0</td>\n      <td>275.000000</td>\n      <td>175.25</td>\n      <td>78.000000</td>\n      <td>24.538636</td>\n      <td>False</td>\n      <td>True</td>\n    </tr>\n    <tr>\n      <th>1</th>\n      <td>34.0</td>\n      <td>1</td>\n      <td>13.0</td>\n      <td>0</td>\n      <td>1.0</td>\n      <td>2.0</td>\n      <td>75176.0</td>\n      <td>159.777778</td>\n      <td>172.00</td>\n      <td>70.000000</td>\n      <td>23.661439</td>\n      <td>False</td>\n      <td>False</td>\n    </tr>\n    <tr>\n      <th>3</th>\n      <td>34.0</td>\n      <td>1</td>\n      <td>11.0</td>\n      <td>1</td>\n      <td>3.0</td>\n      <td>3.0</td>\n      <td>40530.0</td>\n      <td>72.000000</td>\n      <td>158.00</td>\n      <td>65.000000</td>\n      <td>26.037494</td>\n      <td>False</td>\n      <td>True</td>\n    </tr>\n    <tr>\n      <th>4</th>\n      <td>43.0</td>\n      <td>0</td>\n      <td>11.0</td>\n      <td>1</td>\n      <td>5.0</td>\n      <td>2.0</td>\n      <td>59964.0</td>\n      <td>159.777778</td>\n      <td>184.00</td>\n      <td>86.000000</td>\n      <td>25.401701</td>\n      <td>False</td>\n      <td>False</td>\n    </tr>\n    <tr>\n      <th>5</th>\n      <td>37.0</td>\n      <td>0</td>\n      <td>11.0</td>\n      <td>1</td>\n      <td>5.0</td>\n      <td>4.0</td>\n      <td>64327.0</td>\n      <td>100.000000</td>\n      <td>169.00</td>\n      <td>69.000000</td>\n      <td>24.158818</td>\n      <td>False</td>\n      <td>False</td>\n    </tr>\n    <tr>\n      <th>...</th>\n      <td>...</td>\n      <td>...</td>\n      <td>...</td>\n      <td>...</td>\n      <td>...</td>\n      <td>...</td>\n      <td>...</td>\n      <td>...</td>\n      <td>...</td>\n      <td>...</td>\n      <td>...</td>\n      <td>...</td>\n      <td>...</td>\n    </tr>\n    <tr>\n      <th>194</th>\n      <td>45.0</td>\n      <td>1</td>\n      <td>11.0</td>\n      <td>1</td>\n      <td>4.0</td>\n      <td>1.0</td>\n      <td>31382.0</td>\n      <td>237.000000</td>\n      <td>160.00</td>\n      <td>73.000000</td>\n      <td>24.538636</td>\n      <td>False</td>\n      <td>True</td>\n    </tr>\n    <tr>\n      <th>196</th>\n      <td>34.0</td>\n      <td>0</td>\n      <td>17.0</td>\n      <td>0</td>\n      <td>3.0</td>\n      <td>3.0</td>\n      <td>70707.0</td>\n      <td>278.000000</td>\n      <td>152.00</td>\n      <td>74.216667</td>\n      <td>24.538636</td>\n      <td>False</td>\n      <td>True</td>\n    </tr>\n    <tr>\n      <th>197</th>\n      <td>36.0</td>\n      <td>0</td>\n      <td>11.0</td>\n      <td>0</td>\n      <td>3.0</td>\n      <td>2.0</td>\n      <td>34596.0</td>\n      <td>281.000000</td>\n      <td>166.00</td>\n      <td>81.000000</td>\n      <td>29.394687</td>\n      <td>False</td>\n      <td>True</td>\n    </tr>\n    <tr>\n      <th>198</th>\n      <td>21.0</td>\n      <td>0</td>\n      <td>11.0</td>\n      <td>1</td>\n      <td>1.0</td>\n      <td>3.0</td>\n      <td>53572.0</td>\n      <td>24.000000</td>\n      <td>193.00</td>\n      <td>90.000000</td>\n      <td>24.161722</td>\n      <td>True</td>\n      <td>False</td>\n    </tr>\n    <tr>\n      <th>199</th>\n      <td>20.0</td>\n      <td>0</td>\n      <td>11.0</td>\n      <td>1</td>\n      <td>3.0</td>\n      <td>4.0</td>\n      <td>33221.0</td>\n      <td>159.777778</td>\n      <td>177.00</td>\n      <td>85.000000</td>\n      <td>27.131412</td>\n      <td>False</td>\n      <td>False</td>\n    </tr>\n  </tbody>\n</table>\n<p>146 rows × 13 columns</p>\n</div>"
     },
     "execution_count": 100,
     "metadata": {},
     "output_type": "execute_result"
    }
   ],
   "source": [
    "df"
   ],
   "metadata": {
    "collapsed": false,
    "ExecuteTime": {
     "end_time": "2024-10-16T20:55:24.606345400Z",
     "start_time": "2024-10-16T20:55:24.595650500Z"
    }
   }
  },
  {
   "cell_type": "markdown",
   "metadata": {},
   "source": [
    "## 5. Duplicaten Verwijderen"
   ]
  },
  {
   "cell_type": "code",
   "execution_count": 97,
   "metadata": {
    "ExecuteTime": {
     "end_time": "2024-10-16T20:54:54.707524Z",
     "start_time": "2024-10-16T20:54:54.703866100Z"
    }
   },
   "outputs": [],
   "source": [
    "# Verwijder dubbele rijen:\n",
    "df.drop_duplicates(inplace=True)"
   ]
  },
  {
   "cell_type": "markdown",
   "metadata": {},
   "source": [
    "## 6. Categorieën coderen"
   ]
  },
  {
   "cell_type": "code",
   "execution_count": 98,
   "metadata": {
    "ExecuteTime": {
     "end_time": "2024-10-16T20:54:56.678417200Z",
     "start_time": "2024-10-16T20:54:56.672785200Z"
    }
   },
   "outputs": [],
   "source": [
    "# Label Encoding (voor binaire of ordinale categorieën):\n",
    "label_encoder = LabelEncoder()\n",
    "df['burgerlijke_staat'] = label_encoder.fit_transform(df['burgerlijke_staat'])\n",
    "\n",
    "label_encoder = LabelEncoder()\n",
    "df['gender'] = label_encoder.fit_transform(df['gender'])"
   ]
  },
  {
   "cell_type": "code",
   "execution_count": 99,
   "metadata": {
    "ExecuteTime": {
     "end_time": "2024-10-16T20:55:21.190230100Z",
     "start_time": "2024-10-16T20:55:21.180427800Z"
    }
   },
   "outputs": [],
   "source": [
    "# One-Hot Encoding (voor nominale categorieën):\n",
    "df = pd.get_dummies(df, columns=['product_code'], drop_first=True)"
   ]
  },
  {
   "cell_type": "markdown",
   "metadata": {},
   "source": [
    "## 7. Schalen van Features"
   ]
  },
  {
   "cell_type": "code",
   "execution_count": 86,
   "metadata": {
    "ExecuteTime": {
     "end_time": "2024-10-16T20:54:44.201891200Z",
     "start_time": "2024-10-16T20:54:43.552085800Z"
    }
   },
   "outputs": [
    {
     "ename": "KeyError",
     "evalue": "\"None of [Index(['kolom1', 'kolom2'], dtype='object')] are in the [columns]\"",
     "output_type": "error",
     "traceback": [
      "\u001B[1;31m---------------------------------------------------------------------------\u001B[0m",
      "\u001B[1;31mKeyError\u001B[0m                                  Traceback (most recent call last)",
      "Cell \u001B[1;32mIn[86], line 2\u001B[0m\n\u001B[0;32m      1\u001B[0m scaler \u001B[38;5;241m=\u001B[39m StandardScaler()\n\u001B[1;32m----> 2\u001B[0m df[[\u001B[38;5;124m'\u001B[39m\u001B[38;5;124mkolom1\u001B[39m\u001B[38;5;124m'\u001B[39m, \u001B[38;5;124m'\u001B[39m\u001B[38;5;124mkolom2\u001B[39m\u001B[38;5;124m'\u001B[39m]] \u001B[38;5;241m=\u001B[39m scaler\u001B[38;5;241m.\u001B[39mfit_transform(\u001B[43mdf\u001B[49m\u001B[43m[\u001B[49m\u001B[43m[\u001B[49m\u001B[38;5;124;43m'\u001B[39;49m\u001B[38;5;124;43mkolom1\u001B[39;49m\u001B[38;5;124;43m'\u001B[39;49m\u001B[43m,\u001B[49m\u001B[43m \u001B[49m\u001B[38;5;124;43m'\u001B[39;49m\u001B[38;5;124;43mkolom2\u001B[39;49m\u001B[38;5;124;43m'\u001B[39;49m\u001B[43m]\u001B[49m\u001B[43m]\u001B[49m)\n",
      "File \u001B[1;32m~\\AppData\\Local\\Programs\\Python\\Python311\\Lib\\site-packages\\pandas\\core\\frame.py:4108\u001B[0m, in \u001B[0;36mDataFrame.__getitem__\u001B[1;34m(self, key)\u001B[0m\n\u001B[0;32m   4106\u001B[0m     \u001B[38;5;28;01mif\u001B[39;00m is_iterator(key):\n\u001B[0;32m   4107\u001B[0m         key \u001B[38;5;241m=\u001B[39m \u001B[38;5;28mlist\u001B[39m(key)\n\u001B[1;32m-> 4108\u001B[0m     indexer \u001B[38;5;241m=\u001B[39m \u001B[38;5;28;43mself\u001B[39;49m\u001B[38;5;241;43m.\u001B[39;49m\u001B[43mcolumns\u001B[49m\u001B[38;5;241;43m.\u001B[39;49m\u001B[43m_get_indexer_strict\u001B[49m\u001B[43m(\u001B[49m\u001B[43mkey\u001B[49m\u001B[43m,\u001B[49m\u001B[43m \u001B[49m\u001B[38;5;124;43m\"\u001B[39;49m\u001B[38;5;124;43mcolumns\u001B[39;49m\u001B[38;5;124;43m\"\u001B[39;49m\u001B[43m)\u001B[49m[\u001B[38;5;241m1\u001B[39m]\n\u001B[0;32m   4110\u001B[0m \u001B[38;5;66;03m# take() does not accept boolean indexers\u001B[39;00m\n\u001B[0;32m   4111\u001B[0m \u001B[38;5;28;01mif\u001B[39;00m \u001B[38;5;28mgetattr\u001B[39m(indexer, \u001B[38;5;124m\"\u001B[39m\u001B[38;5;124mdtype\u001B[39m\u001B[38;5;124m\"\u001B[39m, \u001B[38;5;28;01mNone\u001B[39;00m) \u001B[38;5;241m==\u001B[39m \u001B[38;5;28mbool\u001B[39m:\n",
      "File \u001B[1;32m~\\AppData\\Local\\Programs\\Python\\Python311\\Lib\\site-packages\\pandas\\core\\indexes\\base.py:6200\u001B[0m, in \u001B[0;36mIndex._get_indexer_strict\u001B[1;34m(self, key, axis_name)\u001B[0m\n\u001B[0;32m   6197\u001B[0m \u001B[38;5;28;01melse\u001B[39;00m:\n\u001B[0;32m   6198\u001B[0m     keyarr, indexer, new_indexer \u001B[38;5;241m=\u001B[39m \u001B[38;5;28mself\u001B[39m\u001B[38;5;241m.\u001B[39m_reindex_non_unique(keyarr)\n\u001B[1;32m-> 6200\u001B[0m \u001B[38;5;28;43mself\u001B[39;49m\u001B[38;5;241;43m.\u001B[39;49m\u001B[43m_raise_if_missing\u001B[49m\u001B[43m(\u001B[49m\u001B[43mkeyarr\u001B[49m\u001B[43m,\u001B[49m\u001B[43m \u001B[49m\u001B[43mindexer\u001B[49m\u001B[43m,\u001B[49m\u001B[43m \u001B[49m\u001B[43maxis_name\u001B[49m\u001B[43m)\u001B[49m\n\u001B[0;32m   6202\u001B[0m keyarr \u001B[38;5;241m=\u001B[39m \u001B[38;5;28mself\u001B[39m\u001B[38;5;241m.\u001B[39mtake(indexer)\n\u001B[0;32m   6203\u001B[0m \u001B[38;5;28;01mif\u001B[39;00m \u001B[38;5;28misinstance\u001B[39m(key, Index):\n\u001B[0;32m   6204\u001B[0m     \u001B[38;5;66;03m# GH 42790 - Preserve name from an Index\u001B[39;00m\n",
      "File \u001B[1;32m~\\AppData\\Local\\Programs\\Python\\Python311\\Lib\\site-packages\\pandas\\core\\indexes\\base.py:6249\u001B[0m, in \u001B[0;36mIndex._raise_if_missing\u001B[1;34m(self, key, indexer, axis_name)\u001B[0m\n\u001B[0;32m   6247\u001B[0m \u001B[38;5;28;01mif\u001B[39;00m nmissing:\n\u001B[0;32m   6248\u001B[0m     \u001B[38;5;28;01mif\u001B[39;00m nmissing \u001B[38;5;241m==\u001B[39m \u001B[38;5;28mlen\u001B[39m(indexer):\n\u001B[1;32m-> 6249\u001B[0m         \u001B[38;5;28;01mraise\u001B[39;00m \u001B[38;5;167;01mKeyError\u001B[39;00m(\u001B[38;5;124mf\u001B[39m\u001B[38;5;124m\"\u001B[39m\u001B[38;5;124mNone of [\u001B[39m\u001B[38;5;132;01m{\u001B[39;00mkey\u001B[38;5;132;01m}\u001B[39;00m\u001B[38;5;124m] are in the [\u001B[39m\u001B[38;5;132;01m{\u001B[39;00maxis_name\u001B[38;5;132;01m}\u001B[39;00m\u001B[38;5;124m]\u001B[39m\u001B[38;5;124m\"\u001B[39m)\n\u001B[0;32m   6251\u001B[0m     not_found \u001B[38;5;241m=\u001B[39m \u001B[38;5;28mlist\u001B[39m(ensure_index(key)[missing_mask\u001B[38;5;241m.\u001B[39mnonzero()[\u001B[38;5;241m0\u001B[39m]]\u001B[38;5;241m.\u001B[39munique())\n\u001B[0;32m   6252\u001B[0m     \u001B[38;5;28;01mraise\u001B[39;00m \u001B[38;5;167;01mKeyError\u001B[39;00m(\u001B[38;5;124mf\u001B[39m\u001B[38;5;124m\"\u001B[39m\u001B[38;5;132;01m{\u001B[39;00mnot_found\u001B[38;5;132;01m}\u001B[39;00m\u001B[38;5;124m not in index\u001B[39m\u001B[38;5;124m\"\u001B[39m)\n",
      "\u001B[1;31mKeyError\u001B[0m: \"None of [Index(['kolom1', 'kolom2'], dtype='object')] are in the [columns]\""
     ]
    }
   ],
   "source": [
    "scaler = StandardScaler()\n",
    "df[['kolom1', 'kolom2']] = scaler.fit_transform(df[['kolom1', 'kolom2']])"
   ]
  },
  {
   "cell_type": "markdown",
   "metadata": {},
   "source": [
    "## 8. Feature Engineering"
   ]
  },
  {
   "cell_type": "code",
   "execution_count": null,
   "metadata": {},
   "outputs": [],
   "source": [
    "# Nieuwe features creëren:\n",
    "df['nieuwe_feature'] = df['feature1'] / df['feature2']"
   ]
  },
  {
   "cell_type": "markdown",
   "metadata": {},
   "source": [
    "## 9. Schoongemaakte Data Opslaan"
   ]
  },
  {
   "cell_type": "code",
   "execution_count": null,
   "metadata": {},
   "outputs": [],
   "source": [
    "df.to_csv('schoongemaakte_data.csv', index=False)"
   ]
  }
 ],
 "metadata": {
  "language_info": {
   "name": "python"
  },
  "kernelspec": {
   "name": "python3",
   "language": "python",
   "display_name": "Python 3 (ipykernel)"
  }
 },
 "nbformat": 4,
 "nbformat_minor": 2
}
