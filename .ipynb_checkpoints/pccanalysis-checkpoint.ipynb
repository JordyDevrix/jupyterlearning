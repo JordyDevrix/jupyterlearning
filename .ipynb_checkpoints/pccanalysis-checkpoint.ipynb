{
 "cells": [
  {
   "cell_type": "code",
   "execution_count": 144,
   "id": "initial_id",
   "metadata": {
    "collapsed": true,
    "ExecuteTime": {
     "end_time": "2024-10-09T22:08:34.019381500Z",
     "start_time": "2024-10-09T22:08:34.017008300Z"
    }
   },
   "outputs": [],
   "source": [
    "import pandas as pd\n",
    "import numpy as np\n",
    "import plotly.express as px"
   ]
  },
  {
   "cell_type": "markdown",
   "source": [
    "# Load the data"
   ],
   "metadata": {
    "collapsed": false
   },
   "id": "ddf584c42bff62fe"
  },
  {
   "cell_type": "code",
   "execution_count": 145,
   "outputs": [
    {
     "name": "stderr",
     "output_type": "stream",
     "text": [
      "C:\\Users\\2109j\\AppData\\Local\\Temp\\ipykernel_19800\\4262247774.py:1: DtypeWarning: Columns (4,17,18) have mixed types. Specify dtype option on import or set low_memory=False.\n",
      "  df = pd.read_csv('creations-october.csv')\n"
     ]
    }
   ],
   "source": [
    "df = pd.read_csv('creations-october.csv')"
   ],
   "metadata": {
    "collapsed": false,
    "ExecuteTime": {
     "end_time": "2024-10-09T22:08:47.050309300Z",
     "start_time": "2024-10-09T22:08:34.334178Z"
    }
   },
   "id": "7855b31bab049fd4"
  },
  {
   "cell_type": "code",
   "execution_count": 146,
   "outputs": [
    {
     "data": {
      "text/plain": "                   id     type                   timestamp  \\\n0  619962288048308235  Default  2019-09-08 02:28:47.813+08   \n1  619962304577929216  Default  2019-09-08 02:28:51.754+08   \n2  527565401505136656  Default   2018-12-27 03:16:33.41+08   \n3  527565446350766080  Default  2018-12-27 03:16:44.102+08   \n4  527565563497807909  Default  2018-12-27 03:17:12.032+08   \n\n                 timestampedited             callendedtimestamp ispinned  \\\n0  2024-09-14 18:00:54.370402+08  2024-09-14 18:00:54.370402+08        f   \n1  2024-09-14 18:00:54.370402+08  2024-09-14 18:00:54.370402+08        f   \n2  2024-09-14 18:00:54.322638+08  2024-09-14 18:00:54.322638+08        f   \n3  2024-09-14 18:00:54.322638+08  2024-09-14 18:00:54.322638+08        f   \n4  2024-09-14 18:00:54.322638+08  2024-09-14 18:00:54.322638+08        f   \n\n                             content           author_id   author_name  \\\n0       Submitted by @Deleted User :  456226577798135808  Deleted User   \n1       Submitted by @Deleted User :  456226577798135808  Deleted User   \n2  Submitted by @DAN : moms spagetti  243731791192522752      .bruhium   \n3      Submitted by @Gingerbread ♥ :  421975189362966538     ginredfox   \n4      Submitted by @Gingerbread ♥ :  421975189362966538     ginredfox   \n\n   author_discriminator  ... author_isbot author_roles  \\\n0                     0  ...            f         \"[]\"   \n1                     0  ...            f         \"[]\"   \n2                     0  ...            f         \"[]\"   \n3                     0  ...            f         \"[]\"   \n4                     0  ...            f         \"[]\"   \n\n                                    author_avatarurl  \\\n0     https://cdn.discordapp.com/embed/avatars/3.png   \n1     https://cdn.discordapp.com/embed/avatars/3.png   \n2  https://cdn.discordapp.com/avatars/24373179119...   \n3  https://cdn.discordapp.com/avatars/42197518936...   \n4  https://cdn.discordapp.com/avatars/42197518936...   \n\n                                         attachments    embeds  stickers  \\\n0  \"{'id': '619962287406710785', 'url': 'https:\\/...  \"\\\"[]\\\"\"  \"\\\"[]\\\"\"   \n1  \"{'id': '619962303776948244', 'url': 'https:\\/...  \"\\\"[]\\\"\"  \"\\\"[]\\\"\"   \n2  \"{'id': '527565401505136654', 'url': 'https:\\/...  \"\\\"[]\\\"\"  \"\\\"[]\\\"\"   \n3  \"{'id': '527565445822414858', 'url': 'https:\\/...  \"\\\"[]\\\"\"  \"\\\"[]\\\"\"   \n4  \"{'id': '527565562994229278', 'url': 'https:\\/...  \"\\\"[]\\\"\"  \"\\\"[]\\\"\"   \n\n  reactions                                           mentions upvotes  \\\n0       NaN  \"\\\"{'id': '456226577798135808', 'name': 'Delet...       1   \n1       NaN  \"\\\"{'id': '456226577798135808', 'name': 'Delet...       1   \n2       NaN  \"\\\"{'id': '243731791192522752', 'name': '.bruh...       3   \n3       NaN  \"\\\"{'id': '421975189362966538', 'name': 'ginre...       1   \n4       NaN  \"\\\"{'id': '421975189362966538', 'name': 'ginre...       1   \n\n  downvotes  \n0         4  \n1         5  \n2         1  \n3         1  \n4         3  \n\n[5 rows x 22 columns]",
      "text/html": "<div>\n<style scoped>\n    .dataframe tbody tr th:only-of-type {\n        vertical-align: middle;\n    }\n\n    .dataframe tbody tr th {\n        vertical-align: top;\n    }\n\n    .dataframe thead th {\n        text-align: right;\n    }\n</style>\n<table border=\"1\" class=\"dataframe\">\n  <thead>\n    <tr style=\"text-align: right;\">\n      <th></th>\n      <th>id</th>\n      <th>type</th>\n      <th>timestamp</th>\n      <th>timestampedited</th>\n      <th>callendedtimestamp</th>\n      <th>ispinned</th>\n      <th>content</th>\n      <th>author_id</th>\n      <th>author_name</th>\n      <th>author_discriminator</th>\n      <th>...</th>\n      <th>author_isbot</th>\n      <th>author_roles</th>\n      <th>author_avatarurl</th>\n      <th>attachments</th>\n      <th>embeds</th>\n      <th>stickers</th>\n      <th>reactions</th>\n      <th>mentions</th>\n      <th>upvotes</th>\n      <th>downvotes</th>\n    </tr>\n  </thead>\n  <tbody>\n    <tr>\n      <th>0</th>\n      <td>619962288048308235</td>\n      <td>Default</td>\n      <td>2019-09-08 02:28:47.813+08</td>\n      <td>2024-09-14 18:00:54.370402+08</td>\n      <td>2024-09-14 18:00:54.370402+08</td>\n      <td>f</td>\n      <td>Submitted by @Deleted User :</td>\n      <td>456226577798135808</td>\n      <td>Deleted User</td>\n      <td>0</td>\n      <td>...</td>\n      <td>f</td>\n      <td>\"[]\"</td>\n      <td>https://cdn.discordapp.com/embed/avatars/3.png</td>\n      <td>\"{'id': '619962287406710785', 'url': 'https:\\/...</td>\n      <td>\"\\\"[]\\\"\"</td>\n      <td>\"\\\"[]\\\"\"</td>\n      <td>NaN</td>\n      <td>\"\\\"{'id': '456226577798135808', 'name': 'Delet...</td>\n      <td>1</td>\n      <td>4</td>\n    </tr>\n    <tr>\n      <th>1</th>\n      <td>619962304577929216</td>\n      <td>Default</td>\n      <td>2019-09-08 02:28:51.754+08</td>\n      <td>2024-09-14 18:00:54.370402+08</td>\n      <td>2024-09-14 18:00:54.370402+08</td>\n      <td>f</td>\n      <td>Submitted by @Deleted User :</td>\n      <td>456226577798135808</td>\n      <td>Deleted User</td>\n      <td>0</td>\n      <td>...</td>\n      <td>f</td>\n      <td>\"[]\"</td>\n      <td>https://cdn.discordapp.com/embed/avatars/3.png</td>\n      <td>\"{'id': '619962303776948244', 'url': 'https:\\/...</td>\n      <td>\"\\\"[]\\\"\"</td>\n      <td>\"\\\"[]\\\"\"</td>\n      <td>NaN</td>\n      <td>\"\\\"{'id': '456226577798135808', 'name': 'Delet...</td>\n      <td>1</td>\n      <td>5</td>\n    </tr>\n    <tr>\n      <th>2</th>\n      <td>527565401505136656</td>\n      <td>Default</td>\n      <td>2018-12-27 03:16:33.41+08</td>\n      <td>2024-09-14 18:00:54.322638+08</td>\n      <td>2024-09-14 18:00:54.322638+08</td>\n      <td>f</td>\n      <td>Submitted by @DAN : moms spagetti</td>\n      <td>243731791192522752</td>\n      <td>.bruhium</td>\n      <td>0</td>\n      <td>...</td>\n      <td>f</td>\n      <td>\"[]\"</td>\n      <td>https://cdn.discordapp.com/avatars/24373179119...</td>\n      <td>\"{'id': '527565401505136654', 'url': 'https:\\/...</td>\n      <td>\"\\\"[]\\\"\"</td>\n      <td>\"\\\"[]\\\"\"</td>\n      <td>NaN</td>\n      <td>\"\\\"{'id': '243731791192522752', 'name': '.bruh...</td>\n      <td>3</td>\n      <td>1</td>\n    </tr>\n    <tr>\n      <th>3</th>\n      <td>527565446350766080</td>\n      <td>Default</td>\n      <td>2018-12-27 03:16:44.102+08</td>\n      <td>2024-09-14 18:00:54.322638+08</td>\n      <td>2024-09-14 18:00:54.322638+08</td>\n      <td>f</td>\n      <td>Submitted by @Gingerbread ♥ :</td>\n      <td>421975189362966538</td>\n      <td>ginredfox</td>\n      <td>0</td>\n      <td>...</td>\n      <td>f</td>\n      <td>\"[]\"</td>\n      <td>https://cdn.discordapp.com/avatars/42197518936...</td>\n      <td>\"{'id': '527565445822414858', 'url': 'https:\\/...</td>\n      <td>\"\\\"[]\\\"\"</td>\n      <td>\"\\\"[]\\\"\"</td>\n      <td>NaN</td>\n      <td>\"\\\"{'id': '421975189362966538', 'name': 'ginre...</td>\n      <td>1</td>\n      <td>1</td>\n    </tr>\n    <tr>\n      <th>4</th>\n      <td>527565563497807909</td>\n      <td>Default</td>\n      <td>2018-12-27 03:17:12.032+08</td>\n      <td>2024-09-14 18:00:54.322638+08</td>\n      <td>2024-09-14 18:00:54.322638+08</td>\n      <td>f</td>\n      <td>Submitted by @Gingerbread ♥ :</td>\n      <td>421975189362966538</td>\n      <td>ginredfox</td>\n      <td>0</td>\n      <td>...</td>\n      <td>f</td>\n      <td>\"[]\"</td>\n      <td>https://cdn.discordapp.com/avatars/42197518936...</td>\n      <td>\"{'id': '527565562994229278', 'url': 'https:\\/...</td>\n      <td>\"\\\"[]\\\"\"</td>\n      <td>\"\\\"[]\\\"\"</td>\n      <td>NaN</td>\n      <td>\"\\\"{'id': '421975189362966538', 'name': 'ginre...</td>\n      <td>1</td>\n      <td>3</td>\n    </tr>\n  </tbody>\n</table>\n<p>5 rows × 22 columns</p>\n</div>"
     },
     "execution_count": 146,
     "metadata": {},
     "output_type": "execute_result"
    }
   ],
   "source": [
    "df.head()"
   ],
   "metadata": {
    "collapsed": false,
    "ExecuteTime": {
     "end_time": "2024-10-09T22:08:47.054763400Z",
     "start_time": "2024-10-09T22:08:47.048310100Z"
    }
   },
   "id": "8754e3c573cbdc3c"
  },
  {
   "cell_type": "markdown",
   "source": [
    "# Plot the data"
   ],
   "metadata": {
    "collapsed": false
   },
   "id": "95006faa2c04ff7d"
  },
  {
   "cell_type": "code",
   "execution_count": 396,
   "outputs": [],
   "source": [
    "upvotes = df.groupby('author_name').agg({'upvotes': 'sum', 'downvotes': 'sum', 'author_id': 'first'})\n",
    "\n",
    "vote_ratio = upvotes['upvotes'] / (upvotes['upvotes'] + upvotes['downvotes'])\n",
    "\n",
    "upvotes['vote_ratio'] = vote_ratio\n",
    "\n",
    "ranks = upvotes.sort_values('upvotes', ascending=False)\n",
    "ranks['upvotes rank'] = np.arange(1, len(ranks) + 1)\n",
    "upvotes['upvotes rank'] = ranks['upvotes rank']\n",
    "\n",
    "author_names = ['jordydevrix']\n",
    "author_ids = [\n",
    "    495328668105703426,\n",
    "    217336009455566848,\n",
    "    456226577798135808,\n",
    "    656137684213039124,\n",
    "    1097594103757283329\n",
    "]\n",
    "\n",
    "# users_on_name = upvotes.sort_values('upvotes', ascending=False).loc[author_names]\n",
    "# users_on_id = upvotes[upvotes['author_id'].isin(author_ids)]\n",
    "\n",
    "users_on_id = upvotes.sort_values('vote_ratio', ascending=False)\n",
    "users_on_id['upvote ratio rank'] = np.arange(1, len(users_on_id) + 1)\n",
    "users_on_id = users_on_id[users_on_id['author_id'].isin(author_ids)]\n",
    "# users_on_id['upvotes amount rank'] = ranks.loc[users_on_id.index, 'upvotes rank']\n"
   ],
   "metadata": {
    "collapsed": false,
    "ExecuteTime": {
     "end_time": "2024-10-10T00:15:43.480778600Z",
     "start_time": "2024-10-10T00:15:43.459330200Z"
    }
   },
   "id": "60b8eb8b5e97898e"
  },
  {
   "cell_type": "code",
   "execution_count": 397,
   "outputs": [
    {
     "data": {
      "text/plain": "               upvotes  downvotes            author_id  vote_ratio  \\\nauthor_name                                                          \nrickje139          114         11   217336009455566848    0.912000   \nzxxcx_            1341        287   656137684213039124    0.823710   \njordydevrix       1078        492   495328668105703426    0.686624   \nfreakyman3800      656        311  1097594103757283329    0.678387   \nDeleted User    437753     251586   456226577798135808    0.635033   \n\n               upvotes rank  upvote ratio rank  \nauthor_name                                     \nrickje139              5062                823  \nzxxcx_                  832               2222  \njordydevrix            1068               3892  \nfreakyman3800          1708               3986  \nDeleted User              1               4420  ",
      "text/html": "<div>\n<style scoped>\n    .dataframe tbody tr th:only-of-type {\n        vertical-align: middle;\n    }\n\n    .dataframe tbody tr th {\n        vertical-align: top;\n    }\n\n    .dataframe thead th {\n        text-align: right;\n    }\n</style>\n<table border=\"1\" class=\"dataframe\">\n  <thead>\n    <tr style=\"text-align: right;\">\n      <th></th>\n      <th>upvotes</th>\n      <th>downvotes</th>\n      <th>author_id</th>\n      <th>vote_ratio</th>\n      <th>upvotes rank</th>\n      <th>upvote ratio rank</th>\n    </tr>\n    <tr>\n      <th>author_name</th>\n      <th></th>\n      <th></th>\n      <th></th>\n      <th></th>\n      <th></th>\n      <th></th>\n    </tr>\n  </thead>\n  <tbody>\n    <tr>\n      <th>rickje139</th>\n      <td>114</td>\n      <td>11</td>\n      <td>217336009455566848</td>\n      <td>0.912000</td>\n      <td>5062</td>\n      <td>823</td>\n    </tr>\n    <tr>\n      <th>zxxcx_</th>\n      <td>1341</td>\n      <td>287</td>\n      <td>656137684213039124</td>\n      <td>0.823710</td>\n      <td>832</td>\n      <td>2222</td>\n    </tr>\n    <tr>\n      <th>jordydevrix</th>\n      <td>1078</td>\n      <td>492</td>\n      <td>495328668105703426</td>\n      <td>0.686624</td>\n      <td>1068</td>\n      <td>3892</td>\n    </tr>\n    <tr>\n      <th>freakyman3800</th>\n      <td>656</td>\n      <td>311</td>\n      <td>1097594103757283329</td>\n      <td>0.678387</td>\n      <td>1708</td>\n      <td>3986</td>\n    </tr>\n    <tr>\n      <th>Deleted User</th>\n      <td>437753</td>\n      <td>251586</td>\n      <td>456226577798135808</td>\n      <td>0.635033</td>\n      <td>1</td>\n      <td>4420</td>\n    </tr>\n  </tbody>\n</table>\n</div>"
     },
     "execution_count": 397,
     "metadata": {},
     "output_type": "execute_result"
    }
   ],
   "source": [
    "users_on_id"
   ],
   "metadata": {
    "collapsed": false,
    "ExecuteTime": {
     "end_time": "2024-10-10T00:15:44.074306Z",
     "start_time": "2024-10-10T00:15:44.067866200Z"
    }
   },
   "id": "b5a926f46449a753"
  },
  {
   "cell_type": "code",
   "execution_count": 415,
   "outputs": [
    {
     "data": {
      "text/plain": "             upvotes      downvotes     author_id    vote_ratio  upvotes rank\ncount   10238.000000   10238.000000  1.023800e+04  10157.000000  10238.000000\nmean      514.929283     254.125415  6.535347e+17      0.531610   5119.500000\nstd      4515.952957    2517.568515  2.413597e+17      0.289517   2955.600362\nmin         0.000000       0.000000  6.904131e+16      0.000000      1.000000\n25%        27.000000      35.000000  4.710420e+17      0.250000   2560.250000\n50%       111.000000      97.000000  6.607557e+17      0.563158   5119.500000\n75%       386.000000     250.000000  8.051412e+17      0.800797   7678.750000\nmax    437753.000000  251586.000000  1.282507e+18      1.000000  10238.000000",
      "text/html": "<div>\n<style scoped>\n    .dataframe tbody tr th:only-of-type {\n        vertical-align: middle;\n    }\n\n    .dataframe tbody tr th {\n        vertical-align: top;\n    }\n\n    .dataframe thead th {\n        text-align: right;\n    }\n</style>\n<table border=\"1\" class=\"dataframe\">\n  <thead>\n    <tr style=\"text-align: right;\">\n      <th></th>\n      <th>upvotes</th>\n      <th>downvotes</th>\n      <th>author_id</th>\n      <th>vote_ratio</th>\n      <th>upvotes rank</th>\n    </tr>\n  </thead>\n  <tbody>\n    <tr>\n      <th>count</th>\n      <td>10238.000000</td>\n      <td>10238.000000</td>\n      <td>1.023800e+04</td>\n      <td>10157.000000</td>\n      <td>10238.000000</td>\n    </tr>\n    <tr>\n      <th>mean</th>\n      <td>514.929283</td>\n      <td>254.125415</td>\n      <td>6.535347e+17</td>\n      <td>0.531610</td>\n      <td>5119.500000</td>\n    </tr>\n    <tr>\n      <th>std</th>\n      <td>4515.952957</td>\n      <td>2517.568515</td>\n      <td>2.413597e+17</td>\n      <td>0.289517</td>\n      <td>2955.600362</td>\n    </tr>\n    <tr>\n      <th>min</th>\n      <td>0.000000</td>\n      <td>0.000000</td>\n      <td>6.904131e+16</td>\n      <td>0.000000</td>\n      <td>1.000000</td>\n    </tr>\n    <tr>\n      <th>25%</th>\n      <td>27.000000</td>\n      <td>35.000000</td>\n      <td>4.710420e+17</td>\n      <td>0.250000</td>\n      <td>2560.250000</td>\n    </tr>\n    <tr>\n      <th>50%</th>\n      <td>111.000000</td>\n      <td>97.000000</td>\n      <td>6.607557e+17</td>\n      <td>0.563158</td>\n      <td>5119.500000</td>\n    </tr>\n    <tr>\n      <th>75%</th>\n      <td>386.000000</td>\n      <td>250.000000</td>\n      <td>8.051412e+17</td>\n      <td>0.800797</td>\n      <td>7678.750000</td>\n    </tr>\n    <tr>\n      <th>max</th>\n      <td>437753.000000</td>\n      <td>251586.000000</td>\n      <td>1.282507e+18</td>\n      <td>1.000000</td>\n      <td>10238.000000</td>\n    </tr>\n  </tbody>\n</table>\n</div>"
     },
     "execution_count": 415,
     "metadata": {},
     "output_type": "execute_result"
    }
   ],
   "source": [
    "upvotes.describe()"
   ],
   "metadata": {
    "collapsed": false,
    "ExecuteTime": {
     "end_time": "2024-10-10T00:20:26.130372500Z",
     "start_time": "2024-10-10T00:20:26.120577500Z"
    }
   },
   "id": "90601070035c254"
  },
  {
   "cell_type": "code",
   "execution_count": null,
   "outputs": [],
   "source": [],
   "metadata": {
    "collapsed": false
   },
   "id": "2214e15782f17e97"
  }
 ],
 "metadata": {
  "kernelspec": {
   "display_name": "Python 3",
   "language": "python",
   "name": "python3"
  },
  "language_info": {
   "codemirror_mode": {
    "name": "ipython",
    "version": 2
   },
   "file_extension": ".py",
   "mimetype": "text/x-python",
   "name": "python",
   "nbconvert_exporter": "python",
   "pygments_lexer": "ipython2",
   "version": "2.7.6"
  }
 },
 "nbformat": 4,
 "nbformat_minor": 5
}
