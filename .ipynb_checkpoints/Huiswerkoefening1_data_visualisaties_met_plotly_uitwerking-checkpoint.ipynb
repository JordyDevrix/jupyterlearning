{
 "cells": [
  {
   "cell_type": "code",
   "execution_count": 25,
   "metadata": {},
   "outputs": [],
   "source": [
    "import plotly.express as px\n",
    "import plotly.graph_objects as go\n",
    "import pandas as pd"
   ]
  },
  {
   "cell_type": "markdown",
   "metadata": {},
   "source": [
    "Als je dataset heb gedownload, laad je hem in een pandas dataframe"
   ]
  },
  {
   "cell_type": "code",
   "execution_count": 26,
   "metadata": {},
   "outputs": [
    {
     "data": {
      "text/html": [
       "<div>\n",
       "<style scoped>\n",
       "    .dataframe tbody tr th:only-of-type {\n",
       "        vertical-align: middle;\n",
       "    }\n",
       "\n",
       "    .dataframe tbody tr th {\n",
       "        vertical-align: top;\n",
       "    }\n",
       "\n",
       "    .dataframe thead th {\n",
       "        text-align: right;\n",
       "    }\n",
       "</style>\n",
       "<table border=\"1\" class=\"dataframe\">\n",
       "  <thead>\n",
       "    <tr style=\"text-align: right;\">\n",
       "      <th></th>\n",
       "      <th>leeftijd</th>\n",
       "      <th>gebruik</th>\n",
       "      <th>fitness</th>\n",
       "      <th>kilometers</th>\n",
       "      <th>product_code</th>\n",
       "      <th>gender</th>\n",
       "      <th>onderwijsniveau</th>\n",
       "      <th>burgerlijke_staat</th>\n",
       "      <th>Inkomen</th>\n",
       "      <th>lengte</th>\n",
       "      <th>gewicht</th>\n",
       "    </tr>\n",
       "  </thead>\n",
       "  <tbody>\n",
       "    <tr>\n",
       "      <th>0</th>\n",
       "      <td>59.0</td>\n",
       "      <td>5.0</td>\n",
       "      <td>3.0</td>\n",
       "      <td>192.15</td>\n",
       "      <td>TM798</td>\n",
       "      <td>vrouw</td>\n",
       "      <td>havo</td>\n",
       "      <td>samenwonend</td>\n",
       "      <td>25611.33</td>\n",
       "      <td>NaN</td>\n",
       "      <td>59.0</td>\n",
       "    </tr>\n",
       "    <tr>\n",
       "      <th>1</th>\n",
       "      <td>39.0</td>\n",
       "      <td>1.0</td>\n",
       "      <td>5.0</td>\n",
       "      <td>254.72</td>\n",
       "      <td>TM498</td>\n",
       "      <td>man</td>\n",
       "      <td>vmbo</td>\n",
       "      <td>single</td>\n",
       "      <td>33380.74</td>\n",
       "      <td>164.0</td>\n",
       "      <td>103.0</td>\n",
       "    </tr>\n",
       "    <tr>\n",
       "      <th>2</th>\n",
       "      <td>46.0</td>\n",
       "      <td>2.0</td>\n",
       "      <td>4.0</td>\n",
       "      <td>245.35</td>\n",
       "      <td>TM798</td>\n",
       "      <td>man</td>\n",
       "      <td>vmbo</td>\n",
       "      <td>single</td>\n",
       "      <td>20357.81</td>\n",
       "      <td>191.0</td>\n",
       "      <td>74.0</td>\n",
       "    </tr>\n",
       "    <tr>\n",
       "      <th>3</th>\n",
       "      <td>63.0</td>\n",
       "      <td>4.0</td>\n",
       "      <td>3.0</td>\n",
       "      <td>217.30</td>\n",
       "      <td>TM195</td>\n",
       "      <td>man</td>\n",
       "      <td>vmbo</td>\n",
       "      <td>single</td>\n",
       "      <td>58821.77</td>\n",
       "      <td>185.0</td>\n",
       "      <td>NaN</td>\n",
       "    </tr>\n",
       "    <tr>\n",
       "      <th>4</th>\n",
       "      <td>61.0</td>\n",
       "      <td>4.0</td>\n",
       "      <td>3.0</td>\n",
       "      <td>252.52</td>\n",
       "      <td>TM798</td>\n",
       "      <td>vrouw</td>\n",
       "      <td>vmbo</td>\n",
       "      <td>single</td>\n",
       "      <td>54148.57</td>\n",
       "      <td>152.0</td>\n",
       "      <td>114.0</td>\n",
       "    </tr>\n",
       "    <tr>\n",
       "      <th>...</th>\n",
       "      <td>...</td>\n",
       "      <td>...</td>\n",
       "      <td>...</td>\n",
       "      <td>...</td>\n",
       "      <td>...</td>\n",
       "      <td>...</td>\n",
       "      <td>...</td>\n",
       "      <td>...</td>\n",
       "      <td>...</td>\n",
       "      <td>...</td>\n",
       "      <td>...</td>\n",
       "    </tr>\n",
       "    <tr>\n",
       "      <th>995</th>\n",
       "      <td>NaN</td>\n",
       "      <td>4.0</td>\n",
       "      <td>2.0</td>\n",
       "      <td>229.61</td>\n",
       "      <td>TM798</td>\n",
       "      <td>man</td>\n",
       "      <td>NaN</td>\n",
       "      <td>samenwonend</td>\n",
       "      <td>40012.43</td>\n",
       "      <td>178.0</td>\n",
       "      <td>55.0</td>\n",
       "    </tr>\n",
       "    <tr>\n",
       "      <th>996</th>\n",
       "      <td>44.0</td>\n",
       "      <td>2.0</td>\n",
       "      <td>NaN</td>\n",
       "      <td>232.49</td>\n",
       "      <td>TM798</td>\n",
       "      <td>NaN</td>\n",
       "      <td>vmbo</td>\n",
       "      <td>single</td>\n",
       "      <td>55259.62</td>\n",
       "      <td>185.0</td>\n",
       "      <td>83.0</td>\n",
       "    </tr>\n",
       "    <tr>\n",
       "      <th>997</th>\n",
       "      <td>54.0</td>\n",
       "      <td>4.0</td>\n",
       "      <td>3.0</td>\n",
       "      <td>265.63</td>\n",
       "      <td>TM498</td>\n",
       "      <td>NaN</td>\n",
       "      <td>havo</td>\n",
       "      <td>single</td>\n",
       "      <td>44088.79</td>\n",
       "      <td>162.0</td>\n",
       "      <td>54.0</td>\n",
       "    </tr>\n",
       "    <tr>\n",
       "      <th>998</th>\n",
       "      <td>57.0</td>\n",
       "      <td>NaN</td>\n",
       "      <td>3.0</td>\n",
       "      <td>251.36</td>\n",
       "      <td>TM195</td>\n",
       "      <td>man</td>\n",
       "      <td>hbo-wo</td>\n",
       "      <td>single</td>\n",
       "      <td>45189.95</td>\n",
       "      <td>157.0</td>\n",
       "      <td>87.0</td>\n",
       "    </tr>\n",
       "    <tr>\n",
       "      <th>999</th>\n",
       "      <td>52.0</td>\n",
       "      <td>NaN</td>\n",
       "      <td>NaN</td>\n",
       "      <td>225.41</td>\n",
       "      <td>TM195</td>\n",
       "      <td>vrouw</td>\n",
       "      <td>vwo</td>\n",
       "      <td>samenwonend</td>\n",
       "      <td>38205.87</td>\n",
       "      <td>193.0</td>\n",
       "      <td>92.0</td>\n",
       "    </tr>\n",
       "  </tbody>\n",
       "</table>\n",
       "<p>1000 rows × 11 columns</p>\n",
       "</div>"
      ],
      "text/plain": [
       "     leeftijd  gebruik  fitness  kilometers product_code gender  \\\n",
       "0        59.0      5.0      3.0      192.15        TM798  vrouw   \n",
       "1        39.0      1.0      5.0      254.72        TM498    man   \n",
       "2        46.0      2.0      4.0      245.35        TM798    man   \n",
       "3        63.0      4.0      3.0      217.30        TM195    man   \n",
       "4        61.0      4.0      3.0      252.52        TM798  vrouw   \n",
       "..        ...      ...      ...         ...          ...    ...   \n",
       "995       NaN      4.0      2.0      229.61        TM798    man   \n",
       "996      44.0      2.0      NaN      232.49        TM798    NaN   \n",
       "997      54.0      4.0      3.0      265.63        TM498    NaN   \n",
       "998      57.0      NaN      3.0      251.36        TM195    man   \n",
       "999      52.0      NaN      NaN      225.41        TM195  vrouw   \n",
       "\n",
       "    onderwijsniveau burgerlijke_staat   Inkomen  lengte  gewicht  \n",
       "0              havo       samenwonend  25611.33     NaN     59.0  \n",
       "1              vmbo            single  33380.74   164.0    103.0  \n",
       "2              vmbo            single  20357.81   191.0     74.0  \n",
       "3              vmbo            single  58821.77   185.0      NaN  \n",
       "4              vmbo            single  54148.57   152.0    114.0  \n",
       "..              ...               ...       ...     ...      ...  \n",
       "995             NaN       samenwonend  40012.43   178.0     55.0  \n",
       "996            vmbo            single  55259.62   185.0     83.0  \n",
       "997            havo            single  44088.79   162.0     54.0  \n",
       "998          hbo-wo            single  45189.95   157.0     87.0  \n",
       "999             vwo       samenwonend  38205.87   193.0     92.0  \n",
       "\n",
       "[1000 rows x 11 columns]"
      ]
     },
     "execution_count": 26,
     "metadata": {},
     "output_type": "execute_result"
    }
   ],
   "source": [
    "df_cardio = pd.read_csv(\"CardioGoodFitness.csv\")\n",
    "df_cardio"
   ]
  },
  {
   "cell_type": "markdown",
   "metadata": {},
   "source": [
    "Maak stafdiagramen die de verdeling van de numerieke kolomen visualiseert. Je kunt 1 stafdiagram per kolom weergeven Wat valt je op?"
   ]
  },
  {
   "cell_type": "code",
   "execution_count": 27,
   "metadata": {},
   "outputs": [
    {
     "data": {
      "text/plain": [
       "Index(['leeftijd', 'gebruik', 'fitness', 'kilometers', 'Inkomen', 'lengte',\n",
       "       'gewicht'],\n",
       "      dtype='object')"
      ]
     },
     "execution_count": 27,
     "metadata": {},
     "output_type": "execute_result"
    }
   ],
   "source": [
    "numeric_columns = df_cardio.select_dtypes(include=['number']).columns\n",
    "numeric_columns\n",
    "\n"
   ]
  },
  {
   "cell_type": "code",
   "execution_count": 28,
   "metadata": {},
   "outputs": [
    {
     "data": {
      "application/vnd.plotly.v1+json": {
       "config": {
        "plotlyServerURL": "https://plot.ly"
       },
       "data": [
        {
         "alignmentgroup": "True",
         "bingroup": "x",
         "hovertemplate": "leeftijd=%{x}<br>count=%{y}<extra></extra>",
         "legendgroup": "",
         "marker": {
          "color": "#636efa",
          "pattern": {
           "shape": ""
          }
         },
         "name": "",
         "nbinsx": 20,
         "offsetgroup": "",
         "orientation": "v",
         "showlegend": false,
         "type": "histogram",
         "x": [
          59,
          39,
          46,
          63,
          61,
          23,
          52,
          28,
          21,
          57,
          59,
          32,
          null,
          34,
          63,
          29,
          39,
          42,
          58,
          54,
          51,
          31,
          34,
          25,
          55,
          25,
          42,
          23,
          null,
          54,
          32,
          24,
          57,
          58,
          24,
          51,
          37,
          40,
          null,
          56,
          58,
          28,
          62,
          27,
          35,
          27,
          52,
          44,
          43,
          null,
          53,
          null,
          54,
          59,
          22,
          28,
          27,
          null,
          42,
          38,
          null,
          null,
          63,
          38,
          21,
          null,
          56,
          null,
          18,
          36,
          38,
          27,
          57,
          32,
          28,
          57,
          49,
          53,
          37,
          28,
          51,
          63,
          32,
          38,
          60,
          30,
          32,
          30,
          36,
          28,
          33,
          30,
          30,
          37,
          27,
          26,
          33,
          27,
          30,
          59,
          43,
          null,
          28,
          28,
          30,
          56,
          66,
          22,
          null,
          22,
          22,
          46,
          27,
          28,
          62,
          null,
          39,
          26,
          22,
          59,
          44,
          39,
          49,
          30,
          48,
          31,
          42,
          58,
          32,
          27,
          null,
          55,
          null,
          53,
          30,
          28,
          null,
          37,
          null,
          35,
          60,
          53,
          37,
          40,
          29,
          27,
          22,
          38,
          36,
          29,
          null,
          21,
          24,
          52,
          25,
          43,
          40,
          63,
          37,
          61,
          32,
          39,
          52,
          null,
          54,
          38,
          38,
          32,
          null,
          34,
          37,
          52,
          54,
          58,
          33,
          58,
          42,
          55,
          26,
          null,
          42,
          61,
          57,
          26,
          22,
          30,
          59,
          27,
          27,
          55,
          30,
          57,
          29,
          36,
          35,
          54,
          28,
          53,
          41,
          null,
          38,
          null,
          38,
          41,
          58,
          null,
          33,
          33,
          37,
          null,
          41,
          27,
          55,
          31,
          53,
          58,
          40,
          54,
          61,
          35,
          57,
          35,
          null,
          55,
          40,
          57,
          54,
          40,
          46,
          28,
          34,
          59,
          30,
          28,
          28,
          35,
          39,
          57,
          58,
          35,
          52,
          33,
          41,
          45,
          48,
          36,
          59,
          21,
          33,
          null,
          58,
          41,
          null,
          34,
          null,
          34,
          40,
          null,
          32,
          36,
          58,
          53,
          70,
          23,
          23,
          36,
          null,
          46,
          58,
          32,
          32,
          57,
          36,
          38,
          37,
          30,
          41,
          57,
          38,
          42,
          36,
          27,
          37,
          57,
          null,
          33,
          61,
          59,
          44,
          38,
          55,
          36,
          null,
          55,
          32,
          25,
          65,
          27,
          44,
          39,
          null,
          53,
          null,
          31,
          43,
          39,
          44,
          null,
          33,
          54,
          32,
          60,
          58,
          34,
          25,
          41,
          59,
          41,
          27,
          25,
          39,
          35,
          38,
          38,
          53,
          29,
          55,
          30,
          50,
          44,
          42,
          null,
          38,
          43,
          57,
          30,
          28,
          60,
          24,
          29,
          27,
          61,
          null,
          null,
          25,
          null,
          61,
          43,
          31,
          36,
          54,
          26,
          48,
          41,
          32,
          61,
          null,
          26,
          29,
          28,
          41,
          28,
          25,
          38,
          35,
          52,
          25,
          null,
          43,
          55,
          37,
          52,
          36,
          38,
          24,
          41,
          null,
          32,
          47,
          26,
          27,
          40,
          37,
          32,
          36,
          39,
          35,
          null,
          60,
          56,
          null,
          37,
          null,
          null,
          61,
          41,
          41,
          50,
          26,
          27,
          58,
          26,
          60,
          28,
          55,
          34,
          61,
          59,
          54,
          32,
          34,
          null,
          33,
          53,
          27,
          31,
          41,
          36,
          56,
          58,
          30,
          44,
          24,
          60,
          42,
          56,
          34,
          39,
          25,
          29,
          null,
          28,
          31,
          26,
          59,
          44,
          62,
          null,
          39,
          55,
          41,
          38,
          35,
          51,
          28,
          34,
          41,
          57,
          42,
          null,
          null,
          23,
          59,
          31,
          25,
          29,
          26,
          28,
          37,
          42,
          52,
          24,
          54,
          54,
          36,
          34,
          34,
          25,
          26,
          55,
          29,
          43,
          52,
          43,
          null,
          null,
          null,
          53,
          50,
          56,
          30,
          59,
          66,
          25,
          35,
          31,
          35,
          56,
          51,
          38,
          null,
          27,
          59,
          null,
          null,
          40,
          56,
          25,
          56,
          null,
          22,
          55,
          26,
          33,
          42,
          47,
          54,
          35,
          56,
          40,
          32,
          31,
          33,
          37,
          44,
          39,
          null,
          30,
          55,
          39,
          35,
          36,
          48,
          58,
          39,
          26,
          61,
          57,
          26,
          36,
          27,
          40,
          null,
          36,
          44,
          24,
          30,
          36,
          26,
          62,
          37,
          42,
          24,
          30,
          59,
          56,
          43,
          24,
          29,
          null,
          22,
          37,
          51,
          25,
          44,
          22,
          29,
          55,
          null,
          29,
          52,
          48,
          31,
          38,
          66,
          38,
          42,
          25,
          27,
          41,
          45,
          29,
          58,
          31,
          53,
          29,
          43,
          20,
          60,
          null,
          52,
          32,
          38,
          null,
          37,
          null,
          33,
          29,
          43,
          57,
          57,
          null,
          58,
          57,
          26,
          50,
          59,
          54,
          null,
          56,
          37,
          60,
          39,
          56,
          39,
          38,
          55,
          54,
          27,
          56,
          61,
          25,
          null,
          58,
          34,
          40,
          27,
          62,
          44,
          61,
          38,
          null,
          35,
          31,
          30,
          28,
          59,
          20,
          35,
          42,
          43,
          38,
          54,
          31,
          56,
          46,
          40,
          41,
          26,
          32,
          27,
          54,
          34,
          33,
          60,
          26,
          35,
          25,
          57,
          32,
          56,
          36,
          40,
          34,
          31,
          38,
          29,
          null,
          59,
          23,
          55,
          34,
          57,
          29,
          28,
          43,
          38,
          40,
          45,
          29,
          42,
          38,
          58,
          29,
          37,
          null,
          31,
          31,
          29,
          24,
          26,
          39,
          40,
          37,
          30,
          42,
          35,
          35,
          46,
          60,
          55,
          54,
          36,
          41,
          58,
          57,
          62,
          27,
          30,
          27,
          55,
          42,
          26,
          25,
          57,
          23,
          24,
          25,
          59,
          38,
          43,
          34,
          40,
          38,
          64,
          25,
          47,
          35,
          29,
          43,
          37,
          40,
          47,
          38,
          61,
          37,
          55,
          54,
          40,
          59,
          52,
          37,
          40,
          32,
          31,
          26,
          29,
          41,
          null,
          31,
          null,
          55,
          40,
          62,
          31,
          38,
          34,
          null,
          57,
          29,
          44,
          38,
          67,
          56,
          59,
          61,
          52,
          54,
          47,
          38,
          58,
          59,
          null,
          44,
          50,
          41,
          42,
          36,
          31,
          58,
          57,
          64,
          28,
          29,
          30,
          30,
          63,
          22,
          26,
          23,
          65,
          null,
          52,
          50,
          55,
          40,
          29,
          42,
          61,
          null,
          40,
          null,
          30,
          30,
          30,
          27,
          58,
          32,
          36,
          41,
          25,
          60,
          32,
          27,
          61,
          60,
          null,
          33,
          56,
          52,
          53,
          37,
          24,
          24,
          58,
          49,
          54,
          23,
          29,
          59,
          42,
          33,
          54,
          31,
          33,
          43,
          29,
          30,
          56,
          null,
          54,
          60,
          35,
          null,
          55,
          53,
          64,
          52,
          null,
          51,
          58,
          null,
          29,
          33,
          38,
          null,
          54,
          34,
          52,
          35,
          52,
          18,
          58,
          39,
          null,
          60,
          39,
          32,
          39,
          30,
          null,
          null,
          40,
          null,
          58,
          24,
          31,
          60,
          36,
          32,
          32,
          54,
          52,
          53,
          61,
          59,
          55,
          null,
          58,
          34,
          57,
          40,
          39,
          null,
          40,
          65,
          29,
          41,
          42,
          31,
          35,
          51,
          44,
          58,
          null,
          26,
          37,
          36,
          null,
          29,
          58,
          37,
          61,
          31,
          38,
          38,
          null,
          61,
          55,
          39,
          62,
          58,
          38,
          50,
          37,
          39,
          28,
          39,
          37,
          43,
          43,
          56,
          29,
          47,
          28,
          null,
          null,
          53,
          27,
          null,
          64,
          33,
          56,
          43,
          43,
          30,
          50,
          37,
          27,
          56,
          60,
          43,
          39,
          34,
          38,
          null,
          57,
          35,
          27,
          60,
          26,
          44,
          39,
          29,
          36,
          26,
          30,
          30,
          57,
          37,
          57,
          25,
          34,
          32,
          56,
          31,
          33,
          60,
          31,
          44,
          54,
          30,
          62,
          39,
          38,
          33,
          50,
          39,
          39,
          25,
          60,
          34,
          57,
          44,
          65,
          59,
          49,
          38,
          35,
          41,
          null,
          39,
          39,
          56,
          42,
          null,
          44,
          54,
          57,
          52
         ],
         "xaxis": "x",
         "yaxis": "y"
        }
       ],
       "layout": {
        "bargap": 0.2,
        "barmode": "relative",
        "legend": {
         "tracegroupgap": 0
        },
        "template": {
         "data": {
          "bar": [
           {
            "error_x": {
             "color": "#2a3f5f"
            },
            "error_y": {
             "color": "#2a3f5f"
            },
            "marker": {
             "line": {
              "color": "#E5ECF6",
              "width": 0.5
             },
             "pattern": {
              "fillmode": "overlay",
              "size": 10,
              "solidity": 0.2
             }
            },
            "type": "bar"
           }
          ],
          "barpolar": [
           {
            "marker": {
             "line": {
              "color": "#E5ECF6",
              "width": 0.5
             },
             "pattern": {
              "fillmode": "overlay",
              "size": 10,
              "solidity": 0.2
             }
            },
            "type": "barpolar"
           }
          ],
          "carpet": [
           {
            "aaxis": {
             "endlinecolor": "#2a3f5f",
             "gridcolor": "white",
             "linecolor": "white",
             "minorgridcolor": "white",
             "startlinecolor": "#2a3f5f"
            },
            "baxis": {
             "endlinecolor": "#2a3f5f",
             "gridcolor": "white",
             "linecolor": "white",
             "minorgridcolor": "white",
             "startlinecolor": "#2a3f5f"
            },
            "type": "carpet"
           }
          ],
          "choropleth": [
           {
            "colorbar": {
             "outlinewidth": 0,
             "ticks": ""
            },
            "type": "choropleth"
           }
          ],
          "contour": [
           {
            "colorbar": {
             "outlinewidth": 0,
             "ticks": ""
            },
            "colorscale": [
             [
              0,
              "#0d0887"
             ],
             [
              0.1111111111111111,
              "#46039f"
             ],
             [
              0.2222222222222222,
              "#7201a8"
             ],
             [
              0.3333333333333333,
              "#9c179e"
             ],
             [
              0.4444444444444444,
              "#bd3786"
             ],
             [
              0.5555555555555556,
              "#d8576b"
             ],
             [
              0.6666666666666666,
              "#ed7953"
             ],
             [
              0.7777777777777778,
              "#fb9f3a"
             ],
             [
              0.8888888888888888,
              "#fdca26"
             ],
             [
              1,
              "#f0f921"
             ]
            ],
            "type": "contour"
           }
          ],
          "contourcarpet": [
           {
            "colorbar": {
             "outlinewidth": 0,
             "ticks": ""
            },
            "type": "contourcarpet"
           }
          ],
          "heatmap": [
           {
            "colorbar": {
             "outlinewidth": 0,
             "ticks": ""
            },
            "colorscale": [
             [
              0,
              "#0d0887"
             ],
             [
              0.1111111111111111,
              "#46039f"
             ],
             [
              0.2222222222222222,
              "#7201a8"
             ],
             [
              0.3333333333333333,
              "#9c179e"
             ],
             [
              0.4444444444444444,
              "#bd3786"
             ],
             [
              0.5555555555555556,
              "#d8576b"
             ],
             [
              0.6666666666666666,
              "#ed7953"
             ],
             [
              0.7777777777777778,
              "#fb9f3a"
             ],
             [
              0.8888888888888888,
              "#fdca26"
             ],
             [
              1,
              "#f0f921"
             ]
            ],
            "type": "heatmap"
           }
          ],
          "heatmapgl": [
           {
            "colorbar": {
             "outlinewidth": 0,
             "ticks": ""
            },
            "colorscale": [
             [
              0,
              "#0d0887"
             ],
             [
              0.1111111111111111,
              "#46039f"
             ],
             [
              0.2222222222222222,
              "#7201a8"
             ],
             [
              0.3333333333333333,
              "#9c179e"
             ],
             [
              0.4444444444444444,
              "#bd3786"
             ],
             [
              0.5555555555555556,
              "#d8576b"
             ],
             [
              0.6666666666666666,
              "#ed7953"
             ],
             [
              0.7777777777777778,
              "#fb9f3a"
             ],
             [
              0.8888888888888888,
              "#fdca26"
             ],
             [
              1,
              "#f0f921"
             ]
            ],
            "type": "heatmapgl"
           }
          ],
          "histogram": [
           {
            "marker": {
             "pattern": {
              "fillmode": "overlay",
              "size": 10,
              "solidity": 0.2
             }
            },
            "type": "histogram"
           }
          ],
          "histogram2d": [
           {
            "colorbar": {
             "outlinewidth": 0,
             "ticks": ""
            },
            "colorscale": [
             [
              0,
              "#0d0887"
             ],
             [
              0.1111111111111111,
              "#46039f"
             ],
             [
              0.2222222222222222,
              "#7201a8"
             ],
             [
              0.3333333333333333,
              "#9c179e"
             ],
             [
              0.4444444444444444,
              "#bd3786"
             ],
             [
              0.5555555555555556,
              "#d8576b"
             ],
             [
              0.6666666666666666,
              "#ed7953"
             ],
             [
              0.7777777777777778,
              "#fb9f3a"
             ],
             [
              0.8888888888888888,
              "#fdca26"
             ],
             [
              1,
              "#f0f921"
             ]
            ],
            "type": "histogram2d"
           }
          ],
          "histogram2dcontour": [
           {
            "colorbar": {
             "outlinewidth": 0,
             "ticks": ""
            },
            "colorscale": [
             [
              0,
              "#0d0887"
             ],
             [
              0.1111111111111111,
              "#46039f"
             ],
             [
              0.2222222222222222,
              "#7201a8"
             ],
             [
              0.3333333333333333,
              "#9c179e"
             ],
             [
              0.4444444444444444,
              "#bd3786"
             ],
             [
              0.5555555555555556,
              "#d8576b"
             ],
             [
              0.6666666666666666,
              "#ed7953"
             ],
             [
              0.7777777777777778,
              "#fb9f3a"
             ],
             [
              0.8888888888888888,
              "#fdca26"
             ],
             [
              1,
              "#f0f921"
             ]
            ],
            "type": "histogram2dcontour"
           }
          ],
          "mesh3d": [
           {
            "colorbar": {
             "outlinewidth": 0,
             "ticks": ""
            },
            "type": "mesh3d"
           }
          ],
          "parcoords": [
           {
            "line": {
             "colorbar": {
              "outlinewidth": 0,
              "ticks": ""
             }
            },
            "type": "parcoords"
           }
          ],
          "pie": [
           {
            "automargin": true,
            "type": "pie"
           }
          ],
          "scatter": [
           {
            "fillpattern": {
             "fillmode": "overlay",
             "size": 10,
             "solidity": 0.2
            },
            "type": "scatter"
           }
          ],
          "scatter3d": [
           {
            "line": {
             "colorbar": {
              "outlinewidth": 0,
              "ticks": ""
             }
            },
            "marker": {
             "colorbar": {
              "outlinewidth": 0,
              "ticks": ""
             }
            },
            "type": "scatter3d"
           }
          ],
          "scattercarpet": [
           {
            "marker": {
             "colorbar": {
              "outlinewidth": 0,
              "ticks": ""
             }
            },
            "type": "scattercarpet"
           }
          ],
          "scattergeo": [
           {
            "marker": {
             "colorbar": {
              "outlinewidth": 0,
              "ticks": ""
             }
            },
            "type": "scattergeo"
           }
          ],
          "scattergl": [
           {
            "marker": {
             "colorbar": {
              "outlinewidth": 0,
              "ticks": ""
             }
            },
            "type": "scattergl"
           }
          ],
          "scattermapbox": [
           {
            "marker": {
             "colorbar": {
              "outlinewidth": 0,
              "ticks": ""
             }
            },
            "type": "scattermapbox"
           }
          ],
          "scatterpolar": [
           {
            "marker": {
             "colorbar": {
              "outlinewidth": 0,
              "ticks": ""
             }
            },
            "type": "scatterpolar"
           }
          ],
          "scatterpolargl": [
           {
            "marker": {
             "colorbar": {
              "outlinewidth": 0,
              "ticks": ""
             }
            },
            "type": "scatterpolargl"
           }
          ],
          "scatterternary": [
           {
            "marker": {
             "colorbar": {
              "outlinewidth": 0,
              "ticks": ""
             }
            },
            "type": "scatterternary"
           }
          ],
          "surface": [
           {
            "colorbar": {
             "outlinewidth": 0,
             "ticks": ""
            },
            "colorscale": [
             [
              0,
              "#0d0887"
             ],
             [
              0.1111111111111111,
              "#46039f"
             ],
             [
              0.2222222222222222,
              "#7201a8"
             ],
             [
              0.3333333333333333,
              "#9c179e"
             ],
             [
              0.4444444444444444,
              "#bd3786"
             ],
             [
              0.5555555555555556,
              "#d8576b"
             ],
             [
              0.6666666666666666,
              "#ed7953"
             ],
             [
              0.7777777777777778,
              "#fb9f3a"
             ],
             [
              0.8888888888888888,
              "#fdca26"
             ],
             [
              1,
              "#f0f921"
             ]
            ],
            "type": "surface"
           }
          ],
          "table": [
           {
            "cells": {
             "fill": {
              "color": "#EBF0F8"
             },
             "line": {
              "color": "white"
             }
            },
            "header": {
             "fill": {
              "color": "#C8D4E3"
             },
             "line": {
              "color": "white"
             }
            },
            "type": "table"
           }
          ]
         },
         "layout": {
          "annotationdefaults": {
           "arrowcolor": "#2a3f5f",
           "arrowhead": 0,
           "arrowwidth": 1
          },
          "autotypenumbers": "strict",
          "coloraxis": {
           "colorbar": {
            "outlinewidth": 0,
            "ticks": ""
           }
          },
          "colorscale": {
           "diverging": [
            [
             0,
             "#8e0152"
            ],
            [
             0.1,
             "#c51b7d"
            ],
            [
             0.2,
             "#de77ae"
            ],
            [
             0.3,
             "#f1b6da"
            ],
            [
             0.4,
             "#fde0ef"
            ],
            [
             0.5,
             "#f7f7f7"
            ],
            [
             0.6,
             "#e6f5d0"
            ],
            [
             0.7,
             "#b8e186"
            ],
            [
             0.8,
             "#7fbc41"
            ],
            [
             0.9,
             "#4d9221"
            ],
            [
             1,
             "#276419"
            ]
           ],
           "sequential": [
            [
             0,
             "#0d0887"
            ],
            [
             0.1111111111111111,
             "#46039f"
            ],
            [
             0.2222222222222222,
             "#7201a8"
            ],
            [
             0.3333333333333333,
             "#9c179e"
            ],
            [
             0.4444444444444444,
             "#bd3786"
            ],
            [
             0.5555555555555556,
             "#d8576b"
            ],
            [
             0.6666666666666666,
             "#ed7953"
            ],
            [
             0.7777777777777778,
             "#fb9f3a"
            ],
            [
             0.8888888888888888,
             "#fdca26"
            ],
            [
             1,
             "#f0f921"
            ]
           ],
           "sequentialminus": [
            [
             0,
             "#0d0887"
            ],
            [
             0.1111111111111111,
             "#46039f"
            ],
            [
             0.2222222222222222,
             "#7201a8"
            ],
            [
             0.3333333333333333,
             "#9c179e"
            ],
            [
             0.4444444444444444,
             "#bd3786"
            ],
            [
             0.5555555555555556,
             "#d8576b"
            ],
            [
             0.6666666666666666,
             "#ed7953"
            ],
            [
             0.7777777777777778,
             "#fb9f3a"
            ],
            [
             0.8888888888888888,
             "#fdca26"
            ],
            [
             1,
             "#f0f921"
            ]
           ]
          },
          "colorway": [
           "#636efa",
           "#EF553B",
           "#00cc96",
           "#ab63fa",
           "#FFA15A",
           "#19d3f3",
           "#FF6692",
           "#B6E880",
           "#FF97FF",
           "#FECB52"
          ],
          "font": {
           "color": "#2a3f5f"
          },
          "geo": {
           "bgcolor": "white",
           "lakecolor": "white",
           "landcolor": "#E5ECF6",
           "showlakes": true,
           "showland": true,
           "subunitcolor": "white"
          },
          "hoverlabel": {
           "align": "left"
          },
          "hovermode": "closest",
          "mapbox": {
           "style": "light"
          },
          "paper_bgcolor": "white",
          "plot_bgcolor": "#E5ECF6",
          "polar": {
           "angularaxis": {
            "gridcolor": "white",
            "linecolor": "white",
            "ticks": ""
           },
           "bgcolor": "#E5ECF6",
           "radialaxis": {
            "gridcolor": "white",
            "linecolor": "white",
            "ticks": ""
           }
          },
          "scene": {
           "xaxis": {
            "backgroundcolor": "#E5ECF6",
            "gridcolor": "white",
            "gridwidth": 2,
            "linecolor": "white",
            "showbackground": true,
            "ticks": "",
            "zerolinecolor": "white"
           },
           "yaxis": {
            "backgroundcolor": "#E5ECF6",
            "gridcolor": "white",
            "gridwidth": 2,
            "linecolor": "white",
            "showbackground": true,
            "ticks": "",
            "zerolinecolor": "white"
           },
           "zaxis": {
            "backgroundcolor": "#E5ECF6",
            "gridcolor": "white",
            "gridwidth": 2,
            "linecolor": "white",
            "showbackground": true,
            "ticks": "",
            "zerolinecolor": "white"
           }
          },
          "shapedefaults": {
           "line": {
            "color": "#2a3f5f"
           }
          },
          "ternary": {
           "aaxis": {
            "gridcolor": "white",
            "linecolor": "white",
            "ticks": ""
           },
           "baxis": {
            "gridcolor": "white",
            "linecolor": "white",
            "ticks": ""
           },
           "bgcolor": "#E5ECF6",
           "caxis": {
            "gridcolor": "white",
            "linecolor": "white",
            "ticks": ""
           }
          },
          "title": {
           "x": 0.05
          },
          "xaxis": {
           "automargin": true,
           "gridcolor": "white",
           "linecolor": "white",
           "ticks": "",
           "title": {
            "standoff": 15
           },
           "zerolinecolor": "white",
           "zerolinewidth": 2
          },
          "yaxis": {
           "automargin": true,
           "gridcolor": "white",
           "linecolor": "white",
           "ticks": "",
           "title": {
            "standoff": 15
           },
           "zerolinecolor": "white",
           "zerolinewidth": 2
          }
         }
        },
        "title": {
         "text": "Verdeling van leeftijd"
        },
        "xaxis": {
         "anchor": "y",
         "domain": [
          0,
          1
         ],
         "title": {
          "text": "leeftijd"
         }
        },
        "yaxis": {
         "anchor": "x",
         "domain": [
          0,
          1
         ],
         "title": {
          "text": "Frequentie"
         }
        }
       }
      }
     },
     "metadata": {},
     "output_type": "display_data"
    },
    {
     "data": {
      "application/vnd.plotly.v1+json": {
       "config": {
        "plotlyServerURL": "https://plot.ly"
       },
       "data": [
        {
         "alignmentgroup": "True",
         "bingroup": "x",
         "hovertemplate": "gebruik=%{x}<br>count=%{y}<extra></extra>",
         "legendgroup": "",
         "marker": {
          "color": "#636efa",
          "pattern": {
           "shape": ""
          }
         },
         "name": "",
         "nbinsx": 20,
         "offsetgroup": "",
         "orientation": "v",
         "showlegend": false,
         "type": "histogram",
         "x": [
          5,
          1,
          2,
          4,
          4,
          4,
          5,
          5,
          null,
          4,
          5,
          5,
          4,
          4,
          4,
          4,
          1,
          1,
          4,
          null,
          4,
          2,
          1,
          5,
          null,
          5,
          1,
          4,
          null,
          4,
          5,
          5,
          4,
          4,
          5,
          4,
          5,
          null,
          5,
          4,
          5,
          5,
          4,
          4,
          1,
          5,
          4,
          2,
          1,
          2,
          5,
          5,
          5,
          4,
          4,
          5,
          5,
          4,
          1,
          1,
          4,
          1,
          4,
          null,
          4,
          null,
          5,
          1,
          5,
          2,
          1,
          5,
          5,
          5,
          4,
          5,
          5,
          4,
          5,
          5,
          4,
          5,
          4,
          1,
          4,
          5,
          5,
          4,
          1,
          5,
          5,
          4,
          4,
          2,
          4,
          4,
          5,
          5,
          5,
          4,
          1,
          5,
          5,
          4,
          5,
          5,
          5,
          5,
          2,
          5,
          5,
          1,
          5,
          5,
          4,
          1,
          2,
          5,
          4,
          4,
          1,
          1,
          4,
          5,
          5,
          5,
          1,
          5,
          4,
          5,
          5,
          5,
          4,
          4,
          5,
          5,
          null,
          1,
          1,
          5,
          4,
          5,
          null,
          1,
          5,
          5,
          5,
          1,
          2,
          4,
          4,
          5,
          5,
          5,
          4,
          1,
          1,
          null,
          1,
          5,
          1,
          1,
          5,
          4,
          5,
          1,
          1,
          1,
          2,
          1,
          2,
          4,
          4,
          4,
          5,
          5,
          1,
          4,
          5,
          4,
          2,
          5,
          null,
          5,
          5,
          5,
          4,
          5,
          5,
          4,
          5,
          4,
          4,
          5,
          null,
          5,
          4,
          4,
          1,
          5,
          2,
          5,
          2,
          1,
          4,
          1,
          2,
          4,
          2,
          1,
          1,
          5,
          4,
          1,
          4,
          4,
          2,
          4,
          null,
          null,
          5,
          null,
          4,
          5,
          1,
          4,
          5,
          2,
          1,
          4,
          5,
          5,
          5,
          4,
          5,
          1,
          5,
          null,
          5,
          1,
          4,
          4,
          2,
          5,
          5,
          1,
          4,
          5,
          null,
          1,
          4,
          2,
          5,
          5,
          1,
          5,
          1,
          4,
          5,
          null,
          4,
          5,
          4,
          5,
          4,
          2,
          1,
          1,
          4,
          1,
          5,
          5,
          1,
          5,
          1,
          5,
          2,
          5,
          null,
          1,
          1,
          5,
          1,
          4,
          4,
          1,
          4,
          5,
          1,
          1,
          5,
          1,
          4,
          5,
          5,
          5,
          4,
          4,
          1,
          1,
          2,
          null,
          4,
          5,
          null,
          1,
          2,
          4,
          null,
          5,
          5,
          5,
          5,
          1,
          5,
          1,
          5,
          2,
          5,
          1,
          1,
          null,
          1,
          1,
          5,
          null,
          4,
          5,
          4,
          1,
          null,
          null,
          2,
          1,
          5,
          5,
          4,
          4,
          5,
          4,
          null,
          5,
          5,
          5,
          5,
          1,
          5,
          2,
          5,
          2,
          4,
          5,
          2,
          null,
          5,
          4,
          1,
          5,
          4,
          5,
          1,
          5,
          5,
          1,
          2,
          4,
          5,
          4,
          2,
          4,
          2,
          4,
          1,
          1,
          5,
          1,
          5,
          5,
          5,
          4,
          5,
          2,
          1,
          4,
          4,
          1,
          1,
          2,
          null,
          5,
          4,
          1,
          4,
          null,
          5,
          2,
          2,
          4,
          5,
          5,
          5,
          null,
          5,
          5,
          5,
          1,
          5,
          5,
          5,
          5,
          4,
          2,
          5,
          5,
          5,
          4,
          2,
          1,
          5,
          5,
          5,
          1,
          5,
          4,
          1,
          5,
          1,
          2,
          null,
          4,
          1,
          5,
          1,
          4,
          5,
          2,
          5,
          5,
          null,
          5,
          2,
          null,
          null,
          4,
          null,
          4,
          2,
          5,
          1,
          1,
          null,
          5,
          4,
          5,
          4,
          null,
          5,
          5,
          5,
          1,
          null,
          5,
          4,
          5,
          5,
          4,
          4,
          4,
          5,
          5,
          4,
          2,
          4,
          2,
          1,
          5,
          4,
          4,
          null,
          null,
          null,
          5,
          5,
          5,
          null,
          5,
          1,
          4,
          5,
          1,
          null,
          5,
          5,
          1,
          4,
          1,
          4,
          5,
          4,
          5,
          5,
          5,
          1,
          4,
          2,
          1,
          5,
          1,
          4,
          1,
          5,
          5,
          4,
          1,
          1,
          null,
          1,
          5,
          5,
          1,
          1,
          1,
          null,
          4,
          1,
          5,
          4,
          5,
          4,
          4,
          5,
          1,
          2,
          1,
          1,
          5,
          4,
          2,
          4,
          5,
          1,
          null,
          5,
          5,
          5,
          null,
          1,
          4,
          4,
          null,
          5,
          1,
          4,
          4,
          null,
          5,
          5,
          5,
          1,
          5,
          4,
          4,
          4,
          1,
          5,
          1,
          2,
          5,
          null,
          1,
          1,
          5,
          5,
          4,
          null,
          5,
          1,
          null,
          5,
          4,
          4,
          5,
          1,
          5,
          1,
          1,
          4,
          5,
          1,
          5,
          5,
          1,
          5,
          null,
          null,
          4,
          5,
          4,
          5,
          5,
          1,
          4,
          2,
          4,
          2,
          2,
          5,
          4,
          null,
          5,
          4,
          4,
          2,
          4,
          1,
          2,
          5,
          4,
          2,
          4,
          1,
          null,
          1,
          null,
          4,
          4,
          4,
          5,
          1,
          1,
          1,
          2,
          4,
          4,
          null,
          1,
          2,
          1,
          5,
          5,
          4,
          5,
          4,
          4,
          4,
          5,
          5,
          5,
          5,
          4,
          5,
          1,
          1,
          5,
          null,
          1,
          4,
          1,
          null,
          4,
          null,
          4,
          5,
          5,
          4,
          2,
          1,
          1,
          2,
          5,
          null,
          1,
          null,
          5,
          2,
          5,
          1,
          5,
          null,
          4,
          5,
          null,
          1,
          1,
          4,
          1,
          null,
          null,
          1,
          4,
          4,
          null,
          1,
          1,
          null,
          4,
          5,
          null,
          4,
          null,
          4,
          2,
          4,
          4,
          5,
          null,
          4,
          4,
          5,
          1,
          null,
          2,
          1,
          1,
          5,
          5,
          4,
          1,
          5,
          1,
          1,
          1,
          2,
          1,
          5,
          5,
          null,
          5,
          2,
          4,
          5,
          1,
          1,
          2,
          4,
          4,
          5,
          1,
          4,
          5,
          1,
          5,
          2,
          4,
          1,
          2,
          4,
          2,
          5,
          5,
          1,
          1,
          5,
          5,
          4,
          4,
          null,
          4,
          null,
          1,
          4,
          5,
          2,
          null,
          4,
          2,
          1,
          5,
          null,
          4,
          5,
          4,
          5,
          null,
          5,
          4,
          4,
          5,
          5,
          null,
          4,
          4,
          5,
          5,
          5,
          2,
          5,
          1,
          5,
          null,
          1,
          5,
          5,
          4,
          4,
          5,
          4,
          5,
          5,
          1,
          5,
          5,
          4,
          4,
          4,
          4,
          4,
          1,
          5,
          5,
          4,
          1,
          5,
          5,
          4,
          4,
          4,
          5,
          2,
          5,
          1,
          4,
          5,
          2,
          4,
          1,
          5,
          null,
          null,
          5,
          5,
          4,
          4,
          4,
          4,
          null,
          5,
          null,
          4,
          4,
          4,
          5,
          5,
          4,
          2,
          1,
          5,
          5,
          5,
          1,
          5,
          4,
          4,
          1,
          5,
          4,
          2,
          2,
          1,
          5,
          1,
          5,
          1,
          5,
          5,
          5,
          5,
          5,
          5,
          5,
          2,
          4,
          4,
          5,
          4,
          4,
          4,
          4,
          null,
          2,
          5,
          2,
          1,
          5,
          1,
          5,
          5,
          2,
          1,
          4,
          2,
          5,
          2,
          5,
          2,
          5,
          1,
          2,
          1,
          5,
          4,
          2,
          null,
          4,
          2,
          1,
          1,
          null,
          null,
          1,
          null,
          5,
          1,
          5,
          2,
          null,
          5,
          1,
          1,
          2,
          1,
          5,
          5,
          1,
          5,
          5,
          5,
          4,
          null,
          1,
          5,
          2,
          4,
          2,
          2,
          1,
          5,
          2,
          4,
          5,
          4,
          null,
          1,
          2,
          5,
          5,
          5,
          2,
          5,
          5,
          4,
          2,
          null,
          5,
          1,
          5,
          null,
          5,
          4,
          1,
          5,
          5,
          1,
          5,
          5,
          4,
          4,
          4,
          4,
          1,
          5,
          5,
          4,
          1,
          1,
          5,
          4,
          2,
          null,
          5,
          5,
          2,
          5,
          2,
          5,
          4,
          1,
          1,
          null,
          1,
          4,
          1,
          1,
          5,
          2,
          4,
          2,
          4,
          null,
          null
         ],
         "xaxis": "x",
         "yaxis": "y"
        }
       ],
       "layout": {
        "bargap": 0.2,
        "barmode": "relative",
        "legend": {
         "tracegroupgap": 0
        },
        "template": {
         "data": {
          "bar": [
           {
            "error_x": {
             "color": "#2a3f5f"
            },
            "error_y": {
             "color": "#2a3f5f"
            },
            "marker": {
             "line": {
              "color": "#E5ECF6",
              "width": 0.5
             },
             "pattern": {
              "fillmode": "overlay",
              "size": 10,
              "solidity": 0.2
             }
            },
            "type": "bar"
           }
          ],
          "barpolar": [
           {
            "marker": {
             "line": {
              "color": "#E5ECF6",
              "width": 0.5
             },
             "pattern": {
              "fillmode": "overlay",
              "size": 10,
              "solidity": 0.2
             }
            },
            "type": "barpolar"
           }
          ],
          "carpet": [
           {
            "aaxis": {
             "endlinecolor": "#2a3f5f",
             "gridcolor": "white",
             "linecolor": "white",
             "minorgridcolor": "white",
             "startlinecolor": "#2a3f5f"
            },
            "baxis": {
             "endlinecolor": "#2a3f5f",
             "gridcolor": "white",
             "linecolor": "white",
             "minorgridcolor": "white",
             "startlinecolor": "#2a3f5f"
            },
            "type": "carpet"
           }
          ],
          "choropleth": [
           {
            "colorbar": {
             "outlinewidth": 0,
             "ticks": ""
            },
            "type": "choropleth"
           }
          ],
          "contour": [
           {
            "colorbar": {
             "outlinewidth": 0,
             "ticks": ""
            },
            "colorscale": [
             [
              0,
              "#0d0887"
             ],
             [
              0.1111111111111111,
              "#46039f"
             ],
             [
              0.2222222222222222,
              "#7201a8"
             ],
             [
              0.3333333333333333,
              "#9c179e"
             ],
             [
              0.4444444444444444,
              "#bd3786"
             ],
             [
              0.5555555555555556,
              "#d8576b"
             ],
             [
              0.6666666666666666,
              "#ed7953"
             ],
             [
              0.7777777777777778,
              "#fb9f3a"
             ],
             [
              0.8888888888888888,
              "#fdca26"
             ],
             [
              1,
              "#f0f921"
             ]
            ],
            "type": "contour"
           }
          ],
          "contourcarpet": [
           {
            "colorbar": {
             "outlinewidth": 0,
             "ticks": ""
            },
            "type": "contourcarpet"
           }
          ],
          "heatmap": [
           {
            "colorbar": {
             "outlinewidth": 0,
             "ticks": ""
            },
            "colorscale": [
             [
              0,
              "#0d0887"
             ],
             [
              0.1111111111111111,
              "#46039f"
             ],
             [
              0.2222222222222222,
              "#7201a8"
             ],
             [
              0.3333333333333333,
              "#9c179e"
             ],
             [
              0.4444444444444444,
              "#bd3786"
             ],
             [
              0.5555555555555556,
              "#d8576b"
             ],
             [
              0.6666666666666666,
              "#ed7953"
             ],
             [
              0.7777777777777778,
              "#fb9f3a"
             ],
             [
              0.8888888888888888,
              "#fdca26"
             ],
             [
              1,
              "#f0f921"
             ]
            ],
            "type": "heatmap"
           }
          ],
          "heatmapgl": [
           {
            "colorbar": {
             "outlinewidth": 0,
             "ticks": ""
            },
            "colorscale": [
             [
              0,
              "#0d0887"
             ],
             [
              0.1111111111111111,
              "#46039f"
             ],
             [
              0.2222222222222222,
              "#7201a8"
             ],
             [
              0.3333333333333333,
              "#9c179e"
             ],
             [
              0.4444444444444444,
              "#bd3786"
             ],
             [
              0.5555555555555556,
              "#d8576b"
             ],
             [
              0.6666666666666666,
              "#ed7953"
             ],
             [
              0.7777777777777778,
              "#fb9f3a"
             ],
             [
              0.8888888888888888,
              "#fdca26"
             ],
             [
              1,
              "#f0f921"
             ]
            ],
            "type": "heatmapgl"
           }
          ],
          "histogram": [
           {
            "marker": {
             "pattern": {
              "fillmode": "overlay",
              "size": 10,
              "solidity": 0.2
             }
            },
            "type": "histogram"
           }
          ],
          "histogram2d": [
           {
            "colorbar": {
             "outlinewidth": 0,
             "ticks": ""
            },
            "colorscale": [
             [
              0,
              "#0d0887"
             ],
             [
              0.1111111111111111,
              "#46039f"
             ],
             [
              0.2222222222222222,
              "#7201a8"
             ],
             [
              0.3333333333333333,
              "#9c179e"
             ],
             [
              0.4444444444444444,
              "#bd3786"
             ],
             [
              0.5555555555555556,
              "#d8576b"
             ],
             [
              0.6666666666666666,
              "#ed7953"
             ],
             [
              0.7777777777777778,
              "#fb9f3a"
             ],
             [
              0.8888888888888888,
              "#fdca26"
             ],
             [
              1,
              "#f0f921"
             ]
            ],
            "type": "histogram2d"
           }
          ],
          "histogram2dcontour": [
           {
            "colorbar": {
             "outlinewidth": 0,
             "ticks": ""
            },
            "colorscale": [
             [
              0,
              "#0d0887"
             ],
             [
              0.1111111111111111,
              "#46039f"
             ],
             [
              0.2222222222222222,
              "#7201a8"
             ],
             [
              0.3333333333333333,
              "#9c179e"
             ],
             [
              0.4444444444444444,
              "#bd3786"
             ],
             [
              0.5555555555555556,
              "#d8576b"
             ],
             [
              0.6666666666666666,
              "#ed7953"
             ],
             [
              0.7777777777777778,
              "#fb9f3a"
             ],
             [
              0.8888888888888888,
              "#fdca26"
             ],
             [
              1,
              "#f0f921"
             ]
            ],
            "type": "histogram2dcontour"
           }
          ],
          "mesh3d": [
           {
            "colorbar": {
             "outlinewidth": 0,
             "ticks": ""
            },
            "type": "mesh3d"
           }
          ],
          "parcoords": [
           {
            "line": {
             "colorbar": {
              "outlinewidth": 0,
              "ticks": ""
             }
            },
            "type": "parcoords"
           }
          ],
          "pie": [
           {
            "automargin": true,
            "type": "pie"
           }
          ],
          "scatter": [
           {
            "fillpattern": {
             "fillmode": "overlay",
             "size": 10,
             "solidity": 0.2
            },
            "type": "scatter"
           }
          ],
          "scatter3d": [
           {
            "line": {
             "colorbar": {
              "outlinewidth": 0,
              "ticks": ""
             }
            },
            "marker": {
             "colorbar": {
              "outlinewidth": 0,
              "ticks": ""
             }
            },
            "type": "scatter3d"
           }
          ],
          "scattercarpet": [
           {
            "marker": {
             "colorbar": {
              "outlinewidth": 0,
              "ticks": ""
             }
            },
            "type": "scattercarpet"
           }
          ],
          "scattergeo": [
           {
            "marker": {
             "colorbar": {
              "outlinewidth": 0,
              "ticks": ""
             }
            },
            "type": "scattergeo"
           }
          ],
          "scattergl": [
           {
            "marker": {
             "colorbar": {
              "outlinewidth": 0,
              "ticks": ""
             }
            },
            "type": "scattergl"
           }
          ],
          "scattermapbox": [
           {
            "marker": {
             "colorbar": {
              "outlinewidth": 0,
              "ticks": ""
             }
            },
            "type": "scattermapbox"
           }
          ],
          "scatterpolar": [
           {
            "marker": {
             "colorbar": {
              "outlinewidth": 0,
              "ticks": ""
             }
            },
            "type": "scatterpolar"
           }
          ],
          "scatterpolargl": [
           {
            "marker": {
             "colorbar": {
              "outlinewidth": 0,
              "ticks": ""
             }
            },
            "type": "scatterpolargl"
           }
          ],
          "scatterternary": [
           {
            "marker": {
             "colorbar": {
              "outlinewidth": 0,
              "ticks": ""
             }
            },
            "type": "scatterternary"
           }
          ],
          "surface": [
           {
            "colorbar": {
             "outlinewidth": 0,
             "ticks": ""
            },
            "colorscale": [
             [
              0,
              "#0d0887"
             ],
             [
              0.1111111111111111,
              "#46039f"
             ],
             [
              0.2222222222222222,
              "#7201a8"
             ],
             [
              0.3333333333333333,
              "#9c179e"
             ],
             [
              0.4444444444444444,
              "#bd3786"
             ],
             [
              0.5555555555555556,
              "#d8576b"
             ],
             [
              0.6666666666666666,
              "#ed7953"
             ],
             [
              0.7777777777777778,
              "#fb9f3a"
             ],
             [
              0.8888888888888888,
              "#fdca26"
             ],
             [
              1,
              "#f0f921"
             ]
            ],
            "type": "surface"
           }
          ],
          "table": [
           {
            "cells": {
             "fill": {
              "color": "#EBF0F8"
             },
             "line": {
              "color": "white"
             }
            },
            "header": {
             "fill": {
              "color": "#C8D4E3"
             },
             "line": {
              "color": "white"
             }
            },
            "type": "table"
           }
          ]
         },
         "layout": {
          "annotationdefaults": {
           "arrowcolor": "#2a3f5f",
           "arrowhead": 0,
           "arrowwidth": 1
          },
          "autotypenumbers": "strict",
          "coloraxis": {
           "colorbar": {
            "outlinewidth": 0,
            "ticks": ""
           }
          },
          "colorscale": {
           "diverging": [
            [
             0,
             "#8e0152"
            ],
            [
             0.1,
             "#c51b7d"
            ],
            [
             0.2,
             "#de77ae"
            ],
            [
             0.3,
             "#f1b6da"
            ],
            [
             0.4,
             "#fde0ef"
            ],
            [
             0.5,
             "#f7f7f7"
            ],
            [
             0.6,
             "#e6f5d0"
            ],
            [
             0.7,
             "#b8e186"
            ],
            [
             0.8,
             "#7fbc41"
            ],
            [
             0.9,
             "#4d9221"
            ],
            [
             1,
             "#276419"
            ]
           ],
           "sequential": [
            [
             0,
             "#0d0887"
            ],
            [
             0.1111111111111111,
             "#46039f"
            ],
            [
             0.2222222222222222,
             "#7201a8"
            ],
            [
             0.3333333333333333,
             "#9c179e"
            ],
            [
             0.4444444444444444,
             "#bd3786"
            ],
            [
             0.5555555555555556,
             "#d8576b"
            ],
            [
             0.6666666666666666,
             "#ed7953"
            ],
            [
             0.7777777777777778,
             "#fb9f3a"
            ],
            [
             0.8888888888888888,
             "#fdca26"
            ],
            [
             1,
             "#f0f921"
            ]
           ],
           "sequentialminus": [
            [
             0,
             "#0d0887"
            ],
            [
             0.1111111111111111,
             "#46039f"
            ],
            [
             0.2222222222222222,
             "#7201a8"
            ],
            [
             0.3333333333333333,
             "#9c179e"
            ],
            [
             0.4444444444444444,
             "#bd3786"
            ],
            [
             0.5555555555555556,
             "#d8576b"
            ],
            [
             0.6666666666666666,
             "#ed7953"
            ],
            [
             0.7777777777777778,
             "#fb9f3a"
            ],
            [
             0.8888888888888888,
             "#fdca26"
            ],
            [
             1,
             "#f0f921"
            ]
           ]
          },
          "colorway": [
           "#636efa",
           "#EF553B",
           "#00cc96",
           "#ab63fa",
           "#FFA15A",
           "#19d3f3",
           "#FF6692",
           "#B6E880",
           "#FF97FF",
           "#FECB52"
          ],
          "font": {
           "color": "#2a3f5f"
          },
          "geo": {
           "bgcolor": "white",
           "lakecolor": "white",
           "landcolor": "#E5ECF6",
           "showlakes": true,
           "showland": true,
           "subunitcolor": "white"
          },
          "hoverlabel": {
           "align": "left"
          },
          "hovermode": "closest",
          "mapbox": {
           "style": "light"
          },
          "paper_bgcolor": "white",
          "plot_bgcolor": "#E5ECF6",
          "polar": {
           "angularaxis": {
            "gridcolor": "white",
            "linecolor": "white",
            "ticks": ""
           },
           "bgcolor": "#E5ECF6",
           "radialaxis": {
            "gridcolor": "white",
            "linecolor": "white",
            "ticks": ""
           }
          },
          "scene": {
           "xaxis": {
            "backgroundcolor": "#E5ECF6",
            "gridcolor": "white",
            "gridwidth": 2,
            "linecolor": "white",
            "showbackground": true,
            "ticks": "",
            "zerolinecolor": "white"
           },
           "yaxis": {
            "backgroundcolor": "#E5ECF6",
            "gridcolor": "white",
            "gridwidth": 2,
            "linecolor": "white",
            "showbackground": true,
            "ticks": "",
            "zerolinecolor": "white"
           },
           "zaxis": {
            "backgroundcolor": "#E5ECF6",
            "gridcolor": "white",
            "gridwidth": 2,
            "linecolor": "white",
            "showbackground": true,
            "ticks": "",
            "zerolinecolor": "white"
           }
          },
          "shapedefaults": {
           "line": {
            "color": "#2a3f5f"
           }
          },
          "ternary": {
           "aaxis": {
            "gridcolor": "white",
            "linecolor": "white",
            "ticks": ""
           },
           "baxis": {
            "gridcolor": "white",
            "linecolor": "white",
            "ticks": ""
           },
           "bgcolor": "#E5ECF6",
           "caxis": {
            "gridcolor": "white",
            "linecolor": "white",
            "ticks": ""
           }
          },
          "title": {
           "x": 0.05
          },
          "xaxis": {
           "automargin": true,
           "gridcolor": "white",
           "linecolor": "white",
           "ticks": "",
           "title": {
            "standoff": 15
           },
           "zerolinecolor": "white",
           "zerolinewidth": 2
          },
          "yaxis": {
           "automargin": true,
           "gridcolor": "white",
           "linecolor": "white",
           "ticks": "",
           "title": {
            "standoff": 15
           },
           "zerolinecolor": "white",
           "zerolinewidth": 2
          }
         }
        },
        "title": {
         "text": "Verdeling van gebruik"
        },
        "xaxis": {
         "anchor": "y",
         "domain": [
          0,
          1
         ],
         "title": {
          "text": "gebruik"
         }
        },
        "yaxis": {
         "anchor": "x",
         "domain": [
          0,
          1
         ],
         "title": {
          "text": "Frequentie"
         }
        }
       }
      }
     },
     "metadata": {},
     "output_type": "display_data"
    },
    {
     "data": {
      "application/vnd.plotly.v1+json": {
       "config": {
        "plotlyServerURL": "https://plot.ly"
       },
       "data": [
        {
         "alignmentgroup": "True",
         "bingroup": "x",
         "hovertemplate": "fitness=%{x}<br>count=%{y}<extra></extra>",
         "legendgroup": "",
         "marker": {
          "color": "#636efa",
          "pattern": {
           "shape": ""
          }
         },
         "name": "",
         "nbinsx": 20,
         "offsetgroup": "",
         "orientation": "v",
         "showlegend": false,
         "type": "histogram",
         "x": [
          3,
          5,
          4,
          3,
          3,
          null,
          3,
          3,
          3,
          2,
          2,
          4,
          3,
          3,
          2,
          4,
          4,
          3,
          2,
          2,
          1,
          4,
          null,
          4,
          2,
          3,
          4,
          null,
          3,
          2,
          3,
          4,
          2,
          2,
          2,
          2,
          3,
          4,
          2,
          3,
          null,
          3,
          1,
          4,
          4,
          null,
          null,
          4,
          4,
          4,
          2,
          3,
          1,
          2,
          3,
          4,
          3,
          null,
          4,
          4,
          2,
          null,
          2,
          3,
          3,
          4,
          2,
          3,
          4,
          3,
          4,
          4,
          2,
          4,
          3,
          2,
          2,
          2,
          4,
          4,
          3,
          2,
          3,
          4,
          2,
          4,
          3,
          3,
          4,
          2,
          4,
          2,
          3,
          3,
          4,
          4,
          3,
          3,
          3,
          2,
          4,
          1,
          3,
          3,
          3,
          3,
          2,
          3,
          2,
          null,
          2,
          3,
          3,
          4,
          2,
          4,
          4,
          3,
          3,
          2,
          4,
          4,
          3,
          3,
          3,
          3,
          4,
          3,
          3,
          4,
          4,
          3,
          2,
          2,
          3,
          3,
          3,
          3,
          3,
          3,
          2,
          2,
          4,
          4,
          3,
          3,
          null,
          4,
          3,
          null,
          3,
          3,
          4,
          3,
          3,
          4,
          4,
          3,
          3,
          3,
          5,
          4,
          2,
          2,
          1,
          3,
          3,
          null,
          4,
          null,
          4,
          3,
          2,
          2,
          3,
          3,
          4,
          3,
          3,
          3,
          4,
          null,
          3,
          3,
          null,
          null,
          3,
          4,
          3,
          2,
          3,
          3,
          3,
          4,
          null,
          4,
          4,
          1,
          4,
          null,
          4,
          2,
          3,
          3,
          null,
          4,
          3,
          4,
          3,
          null,
          3,
          4,
          3,
          3,
          2,
          2,
          4,
          null,
          3,
          5,
          3,
          4,
          4,
          2,
          3,
          2,
          null,
          4,
          4,
          3,
          3,
          3,
          3,
          2,
          3,
          4,
          3,
          2,
          2,
          4,
          2,
          3,
          3,
          2,
          2,
          4,
          1,
          null,
          3,
          4,
          1,
          4,
          3,
          4,
          4,
          3,
          4,
          4,
          3,
          4,
          2,
          2,
          2,
          3,
          3,
          3,
          5,
          4,
          null,
          3,
          4,
          2,
          3,
          4,
          3,
          4,
          4,
          2,
          4,
          4,
          4,
          3,
          5,
          null,
          3,
          4,
          null,
          3,
          3,
          3,
          2,
          4,
          4,
          3,
          3,
          3,
          2,
          4,
          4,
          4,
          4,
          2,
          3,
          3,
          5,
          3,
          3,
          2,
          3,
          3,
          3,
          3,
          3,
          3,
          4,
          5,
          null,
          4,
          4,
          3,
          4,
          3,
          4,
          4,
          3,
          3,
          2,
          3,
          3,
          3,
          4,
          3,
          3,
          3,
          2,
          null,
          4,
          3,
          4,
          4,
          3,
          null,
          null,
          null,
          3,
          null,
          2,
          3,
          3,
          3,
          1,
          3,
          3,
          4,
          3,
          2,
          3,
          3,
          5,
          3,
          null,
          3,
          3,
          3,
          3,
          2,
          4,
          4,
          4,
          2,
          3,
          2,
          5,
          3,
          4,
          null,
          3,
          4,
          3,
          4,
          4,
          3,
          4,
          4,
          4,
          3,
          4,
          3,
          2,
          2,
          2,
          4,
          2,
          2,
          2,
          4,
          3,
          3,
          3,
          4,
          3,
          null,
          3,
          4,
          2,
          4,
          2,
          3,
          null,
          4,
          3,
          4,
          3,
          3,
          3,
          3,
          4,
          3,
          2,
          2,
          3,
          3,
          3,
          2,
          4,
          null,
          4,
          4,
          3,
          3,
          4,
          3,
          4,
          null,
          3,
          3,
          3,
          2,
          3,
          2,
          4,
          4,
          3,
          2,
          4,
          3,
          3,
          2,
          5,
          null,
          4,
          3,
          3,
          4,
          3,
          3,
          3,
          3,
          3,
          4,
          2,
          3,
          2,
          2,
          4,
          4,
          3,
          null,
          null,
          null,
          3,
          3,
          2,
          3,
          null,
          2,
          2,
          2,
          null,
          3,
          3,
          4,
          2,
          3,
          4,
          3,
          3,
          null,
          2,
          null,
          4,
          3,
          3,
          4,
          3,
          4,
          2,
          3,
          3,
          3,
          3,
          3,
          3,
          3,
          4,
          4,
          2,
          4,
          2,
          3,
          4,
          4,
          4,
          3,
          4,
          3,
          4,
          3,
          2,
          3,
          4,
          4,
          3,
          3,
          5,
          3,
          3,
          3,
          3,
          2,
          3,
          3,
          4,
          4,
          4,
          null,
          3,
          4,
          3,
          3,
          4,
          3,
          4,
          4,
          2,
          3,
          4,
          3,
          null,
          2,
          4,
          3,
          2,
          4,
          3,
          4,
          4,
          3,
          4,
          3,
          2,
          3,
          3,
          4,
          2,
          4,
          3,
          3,
          4,
          4,
          3,
          3,
          3,
          3,
          2,
          3,
          3,
          3,
          2,
          2,
          3,
          3,
          3,
          2,
          4,
          null,
          3,
          3,
          3,
          2,
          2,
          4,
          null,
          3,
          4,
          2,
          2,
          2,
          2,
          2,
          null,
          2,
          4,
          2,
          3,
          4,
          3,
          2,
          4,
          2,
          2,
          3,
          null,
          3,
          3,
          4,
          4,
          2,
          4,
          3,
          null,
          null,
          3,
          3,
          null,
          3,
          3,
          3,
          4,
          4,
          3,
          4,
          2,
          null,
          2,
          4,
          3,
          2,
          4,
          3,
          3,
          2,
          4,
          3,
          3,
          null,
          3,
          4,
          3,
          4,
          2,
          3,
          5,
          null,
          3,
          null,
          3,
          null,
          3,
          3,
          2,
          3,
          2,
          null,
          3,
          3,
          4,
          4,
          4,
          4,
          3,
          3,
          3,
          3,
          4,
          3,
          4,
          null,
          3,
          4,
          4,
          5,
          4,
          3,
          3,
          null,
          3,
          4,
          4,
          3,
          1,
          3,
          4,
          4,
          2,
          3,
          2,
          4,
          3,
          4,
          2,
          4,
          4,
          3,
          3,
          4,
          3,
          4,
          null,
          null,
          null,
          4,
          3,
          4,
          3,
          null,
          null,
          3,
          null,
          5,
          4,
          3,
          4,
          null,
          3,
          2,
          2,
          2,
          4,
          2,
          2,
          4,
          4,
          3,
          null,
          3,
          3,
          3,
          4,
          4,
          4,
          null,
          3,
          3,
          4,
          3,
          3,
          4,
          3,
          4,
          3,
          4,
          null,
          3,
          2,
          3,
          2,
          3,
          2,
          3,
          3,
          2,
          4,
          4,
          2,
          null,
          null,
          3,
          4,
          3,
          2,
          2,
          3,
          4,
          3,
          3,
          3,
          3,
          4,
          3,
          2,
          3,
          2,
          3,
          2,
          4,
          null,
          4,
          3,
          3,
          3,
          null,
          2,
          3,
          4,
          4,
          2,
          4,
          4,
          3,
          2,
          2,
          null,
          4,
          2,
          3,
          3,
          4,
          3,
          2,
          3,
          3,
          3,
          4,
          3,
          3,
          null,
          3,
          2,
          null,
          3,
          3,
          3,
          3,
          3,
          3,
          4,
          3,
          null,
          null,
          2,
          2,
          3,
          4,
          2,
          1,
          2,
          3,
          4,
          null,
          3,
          2,
          3,
          4,
          null,
          4,
          null,
          null,
          3,
          4,
          2,
          4,
          2,
          4,
          3,
          2,
          3,
          4,
          3,
          null,
          4,
          3,
          4,
          3,
          2,
          3,
          3,
          3,
          4,
          3,
          4,
          null,
          null,
          3,
          2,
          3,
          2,
          3,
          2,
          3,
          3,
          null,
          4,
          2,
          4,
          null,
          4,
          3,
          4,
          4,
          3,
          3,
          4,
          null,
          5,
          3,
          4,
          3,
          4,
          3,
          2,
          3,
          2,
          4,
          5,
          3,
          3,
          2,
          2,
          4,
          2,
          3,
          4,
          2,
          4,
          4,
          null,
          4,
          4,
          4,
          4,
          2,
          3,
          null,
          3,
          2,
          3,
          3,
          3,
          4,
          3,
          3,
          2,
          4,
          4,
          4,
          2,
          3,
          4,
          2,
          2,
          3,
          4,
          4,
          3,
          null,
          2,
          4,
          2,
          null,
          4,
          3,
          5,
          3,
          4,
          3,
          3,
          3,
          3,
          4,
          2,
          3,
          null,
          4,
          2,
          3,
          3,
          2,
          3,
          4,
          2,
          4,
          null,
          3,
          4,
          3,
          3,
          4,
          4,
          3,
          2,
          3,
          2,
          4,
          2,
          2,
          3,
          3,
          4,
          3,
          2,
          4,
          3,
          2,
          4,
          2,
          null,
          3,
          3,
          null
         ],
         "xaxis": "x",
         "yaxis": "y"
        }
       ],
       "layout": {
        "bargap": 0.2,
        "barmode": "relative",
        "legend": {
         "tracegroupgap": 0
        },
        "template": {
         "data": {
          "bar": [
           {
            "error_x": {
             "color": "#2a3f5f"
            },
            "error_y": {
             "color": "#2a3f5f"
            },
            "marker": {
             "line": {
              "color": "#E5ECF6",
              "width": 0.5
             },
             "pattern": {
              "fillmode": "overlay",
              "size": 10,
              "solidity": 0.2
             }
            },
            "type": "bar"
           }
          ],
          "barpolar": [
           {
            "marker": {
             "line": {
              "color": "#E5ECF6",
              "width": 0.5
             },
             "pattern": {
              "fillmode": "overlay",
              "size": 10,
              "solidity": 0.2
             }
            },
            "type": "barpolar"
           }
          ],
          "carpet": [
           {
            "aaxis": {
             "endlinecolor": "#2a3f5f",
             "gridcolor": "white",
             "linecolor": "white",
             "minorgridcolor": "white",
             "startlinecolor": "#2a3f5f"
            },
            "baxis": {
             "endlinecolor": "#2a3f5f",
             "gridcolor": "white",
             "linecolor": "white",
             "minorgridcolor": "white",
             "startlinecolor": "#2a3f5f"
            },
            "type": "carpet"
           }
          ],
          "choropleth": [
           {
            "colorbar": {
             "outlinewidth": 0,
             "ticks": ""
            },
            "type": "choropleth"
           }
          ],
          "contour": [
           {
            "colorbar": {
             "outlinewidth": 0,
             "ticks": ""
            },
            "colorscale": [
             [
              0,
              "#0d0887"
             ],
             [
              0.1111111111111111,
              "#46039f"
             ],
             [
              0.2222222222222222,
              "#7201a8"
             ],
             [
              0.3333333333333333,
              "#9c179e"
             ],
             [
              0.4444444444444444,
              "#bd3786"
             ],
             [
              0.5555555555555556,
              "#d8576b"
             ],
             [
              0.6666666666666666,
              "#ed7953"
             ],
             [
              0.7777777777777778,
              "#fb9f3a"
             ],
             [
              0.8888888888888888,
              "#fdca26"
             ],
             [
              1,
              "#f0f921"
             ]
            ],
            "type": "contour"
           }
          ],
          "contourcarpet": [
           {
            "colorbar": {
             "outlinewidth": 0,
             "ticks": ""
            },
            "type": "contourcarpet"
           }
          ],
          "heatmap": [
           {
            "colorbar": {
             "outlinewidth": 0,
             "ticks": ""
            },
            "colorscale": [
             [
              0,
              "#0d0887"
             ],
             [
              0.1111111111111111,
              "#46039f"
             ],
             [
              0.2222222222222222,
              "#7201a8"
             ],
             [
              0.3333333333333333,
              "#9c179e"
             ],
             [
              0.4444444444444444,
              "#bd3786"
             ],
             [
              0.5555555555555556,
              "#d8576b"
             ],
             [
              0.6666666666666666,
              "#ed7953"
             ],
             [
              0.7777777777777778,
              "#fb9f3a"
             ],
             [
              0.8888888888888888,
              "#fdca26"
             ],
             [
              1,
              "#f0f921"
             ]
            ],
            "type": "heatmap"
           }
          ],
          "heatmapgl": [
           {
            "colorbar": {
             "outlinewidth": 0,
             "ticks": ""
            },
            "colorscale": [
             [
              0,
              "#0d0887"
             ],
             [
              0.1111111111111111,
              "#46039f"
             ],
             [
              0.2222222222222222,
              "#7201a8"
             ],
             [
              0.3333333333333333,
              "#9c179e"
             ],
             [
              0.4444444444444444,
              "#bd3786"
             ],
             [
              0.5555555555555556,
              "#d8576b"
             ],
             [
              0.6666666666666666,
              "#ed7953"
             ],
             [
              0.7777777777777778,
              "#fb9f3a"
             ],
             [
              0.8888888888888888,
              "#fdca26"
             ],
             [
              1,
              "#f0f921"
             ]
            ],
            "type": "heatmapgl"
           }
          ],
          "histogram": [
           {
            "marker": {
             "pattern": {
              "fillmode": "overlay",
              "size": 10,
              "solidity": 0.2
             }
            },
            "type": "histogram"
           }
          ],
          "histogram2d": [
           {
            "colorbar": {
             "outlinewidth": 0,
             "ticks": ""
            },
            "colorscale": [
             [
              0,
              "#0d0887"
             ],
             [
              0.1111111111111111,
              "#46039f"
             ],
             [
              0.2222222222222222,
              "#7201a8"
             ],
             [
              0.3333333333333333,
              "#9c179e"
             ],
             [
              0.4444444444444444,
              "#bd3786"
             ],
             [
              0.5555555555555556,
              "#d8576b"
             ],
             [
              0.6666666666666666,
              "#ed7953"
             ],
             [
              0.7777777777777778,
              "#fb9f3a"
             ],
             [
              0.8888888888888888,
              "#fdca26"
             ],
             [
              1,
              "#f0f921"
             ]
            ],
            "type": "histogram2d"
           }
          ],
          "histogram2dcontour": [
           {
            "colorbar": {
             "outlinewidth": 0,
             "ticks": ""
            },
            "colorscale": [
             [
              0,
              "#0d0887"
             ],
             [
              0.1111111111111111,
              "#46039f"
             ],
             [
              0.2222222222222222,
              "#7201a8"
             ],
             [
              0.3333333333333333,
              "#9c179e"
             ],
             [
              0.4444444444444444,
              "#bd3786"
             ],
             [
              0.5555555555555556,
              "#d8576b"
             ],
             [
              0.6666666666666666,
              "#ed7953"
             ],
             [
              0.7777777777777778,
              "#fb9f3a"
             ],
             [
              0.8888888888888888,
              "#fdca26"
             ],
             [
              1,
              "#f0f921"
             ]
            ],
            "type": "histogram2dcontour"
           }
          ],
          "mesh3d": [
           {
            "colorbar": {
             "outlinewidth": 0,
             "ticks": ""
            },
            "type": "mesh3d"
           }
          ],
          "parcoords": [
           {
            "line": {
             "colorbar": {
              "outlinewidth": 0,
              "ticks": ""
             }
            },
            "type": "parcoords"
           }
          ],
          "pie": [
           {
            "automargin": true,
            "type": "pie"
           }
          ],
          "scatter": [
           {
            "fillpattern": {
             "fillmode": "overlay",
             "size": 10,
             "solidity": 0.2
            },
            "type": "scatter"
           }
          ],
          "scatter3d": [
           {
            "line": {
             "colorbar": {
              "outlinewidth": 0,
              "ticks": ""
             }
            },
            "marker": {
             "colorbar": {
              "outlinewidth": 0,
              "ticks": ""
             }
            },
            "type": "scatter3d"
           }
          ],
          "scattercarpet": [
           {
            "marker": {
             "colorbar": {
              "outlinewidth": 0,
              "ticks": ""
             }
            },
            "type": "scattercarpet"
           }
          ],
          "scattergeo": [
           {
            "marker": {
             "colorbar": {
              "outlinewidth": 0,
              "ticks": ""
             }
            },
            "type": "scattergeo"
           }
          ],
          "scattergl": [
           {
            "marker": {
             "colorbar": {
              "outlinewidth": 0,
              "ticks": ""
             }
            },
            "type": "scattergl"
           }
          ],
          "scattermapbox": [
           {
            "marker": {
             "colorbar": {
              "outlinewidth": 0,
              "ticks": ""
             }
            },
            "type": "scattermapbox"
           }
          ],
          "scatterpolar": [
           {
            "marker": {
             "colorbar": {
              "outlinewidth": 0,
              "ticks": ""
             }
            },
            "type": "scatterpolar"
           }
          ],
          "scatterpolargl": [
           {
            "marker": {
             "colorbar": {
              "outlinewidth": 0,
              "ticks": ""
             }
            },
            "type": "scatterpolargl"
           }
          ],
          "scatterternary": [
           {
            "marker": {
             "colorbar": {
              "outlinewidth": 0,
              "ticks": ""
             }
            },
            "type": "scatterternary"
           }
          ],
          "surface": [
           {
            "colorbar": {
             "outlinewidth": 0,
             "ticks": ""
            },
            "colorscale": [
             [
              0,
              "#0d0887"
             ],
             [
              0.1111111111111111,
              "#46039f"
             ],
             [
              0.2222222222222222,
              "#7201a8"
             ],
             [
              0.3333333333333333,
              "#9c179e"
             ],
             [
              0.4444444444444444,
              "#bd3786"
             ],
             [
              0.5555555555555556,
              "#d8576b"
             ],
             [
              0.6666666666666666,
              "#ed7953"
             ],
             [
              0.7777777777777778,
              "#fb9f3a"
             ],
             [
              0.8888888888888888,
              "#fdca26"
             ],
             [
              1,
              "#f0f921"
             ]
            ],
            "type": "surface"
           }
          ],
          "table": [
           {
            "cells": {
             "fill": {
              "color": "#EBF0F8"
             },
             "line": {
              "color": "white"
             }
            },
            "header": {
             "fill": {
              "color": "#C8D4E3"
             },
             "line": {
              "color": "white"
             }
            },
            "type": "table"
           }
          ]
         },
         "layout": {
          "annotationdefaults": {
           "arrowcolor": "#2a3f5f",
           "arrowhead": 0,
           "arrowwidth": 1
          },
          "autotypenumbers": "strict",
          "coloraxis": {
           "colorbar": {
            "outlinewidth": 0,
            "ticks": ""
           }
          },
          "colorscale": {
           "diverging": [
            [
             0,
             "#8e0152"
            ],
            [
             0.1,
             "#c51b7d"
            ],
            [
             0.2,
             "#de77ae"
            ],
            [
             0.3,
             "#f1b6da"
            ],
            [
             0.4,
             "#fde0ef"
            ],
            [
             0.5,
             "#f7f7f7"
            ],
            [
             0.6,
             "#e6f5d0"
            ],
            [
             0.7,
             "#b8e186"
            ],
            [
             0.8,
             "#7fbc41"
            ],
            [
             0.9,
             "#4d9221"
            ],
            [
             1,
             "#276419"
            ]
           ],
           "sequential": [
            [
             0,
             "#0d0887"
            ],
            [
             0.1111111111111111,
             "#46039f"
            ],
            [
             0.2222222222222222,
             "#7201a8"
            ],
            [
             0.3333333333333333,
             "#9c179e"
            ],
            [
             0.4444444444444444,
             "#bd3786"
            ],
            [
             0.5555555555555556,
             "#d8576b"
            ],
            [
             0.6666666666666666,
             "#ed7953"
            ],
            [
             0.7777777777777778,
             "#fb9f3a"
            ],
            [
             0.8888888888888888,
             "#fdca26"
            ],
            [
             1,
             "#f0f921"
            ]
           ],
           "sequentialminus": [
            [
             0,
             "#0d0887"
            ],
            [
             0.1111111111111111,
             "#46039f"
            ],
            [
             0.2222222222222222,
             "#7201a8"
            ],
            [
             0.3333333333333333,
             "#9c179e"
            ],
            [
             0.4444444444444444,
             "#bd3786"
            ],
            [
             0.5555555555555556,
             "#d8576b"
            ],
            [
             0.6666666666666666,
             "#ed7953"
            ],
            [
             0.7777777777777778,
             "#fb9f3a"
            ],
            [
             0.8888888888888888,
             "#fdca26"
            ],
            [
             1,
             "#f0f921"
            ]
           ]
          },
          "colorway": [
           "#636efa",
           "#EF553B",
           "#00cc96",
           "#ab63fa",
           "#FFA15A",
           "#19d3f3",
           "#FF6692",
           "#B6E880",
           "#FF97FF",
           "#FECB52"
          ],
          "font": {
           "color": "#2a3f5f"
          },
          "geo": {
           "bgcolor": "white",
           "lakecolor": "white",
           "landcolor": "#E5ECF6",
           "showlakes": true,
           "showland": true,
           "subunitcolor": "white"
          },
          "hoverlabel": {
           "align": "left"
          },
          "hovermode": "closest",
          "mapbox": {
           "style": "light"
          },
          "paper_bgcolor": "white",
          "plot_bgcolor": "#E5ECF6",
          "polar": {
           "angularaxis": {
            "gridcolor": "white",
            "linecolor": "white",
            "ticks": ""
           },
           "bgcolor": "#E5ECF6",
           "radialaxis": {
            "gridcolor": "white",
            "linecolor": "white",
            "ticks": ""
           }
          },
          "scene": {
           "xaxis": {
            "backgroundcolor": "#E5ECF6",
            "gridcolor": "white",
            "gridwidth": 2,
            "linecolor": "white",
            "showbackground": true,
            "ticks": "",
            "zerolinecolor": "white"
           },
           "yaxis": {
            "backgroundcolor": "#E5ECF6",
            "gridcolor": "white",
            "gridwidth": 2,
            "linecolor": "white",
            "showbackground": true,
            "ticks": "",
            "zerolinecolor": "white"
           },
           "zaxis": {
            "backgroundcolor": "#E5ECF6",
            "gridcolor": "white",
            "gridwidth": 2,
            "linecolor": "white",
            "showbackground": true,
            "ticks": "",
            "zerolinecolor": "white"
           }
          },
          "shapedefaults": {
           "line": {
            "color": "#2a3f5f"
           }
          },
          "ternary": {
           "aaxis": {
            "gridcolor": "white",
            "linecolor": "white",
            "ticks": ""
           },
           "baxis": {
            "gridcolor": "white",
            "linecolor": "white",
            "ticks": ""
           },
           "bgcolor": "#E5ECF6",
           "caxis": {
            "gridcolor": "white",
            "linecolor": "white",
            "ticks": ""
           }
          },
          "title": {
           "x": 0.05
          },
          "xaxis": {
           "automargin": true,
           "gridcolor": "white",
           "linecolor": "white",
           "ticks": "",
           "title": {
            "standoff": 15
           },
           "zerolinecolor": "white",
           "zerolinewidth": 2
          },
          "yaxis": {
           "automargin": true,
           "gridcolor": "white",
           "linecolor": "white",
           "ticks": "",
           "title": {
            "standoff": 15
           },
           "zerolinecolor": "white",
           "zerolinewidth": 2
          }
         }
        },
        "title": {
         "text": "Verdeling van fitness"
        },
        "xaxis": {
         "anchor": "y",
         "domain": [
          0,
          1
         ],
         "title": {
          "text": "fitness"
         }
        },
        "yaxis": {
         "anchor": "x",
         "domain": [
          0,
          1
         ],
         "title": {
          "text": "Frequentie"
         }
        }
       }
      }
     },
     "metadata": {},
     "output_type": "display_data"
    },
    {
     "data": {
      "application/vnd.plotly.v1+json": {
       "config": {
        "plotlyServerURL": "https://plot.ly"
       },
       "data": [
        {
         "alignmentgroup": "True",
         "bingroup": "x",
         "hovertemplate": "kilometers=%{x}<br>count=%{y}<extra></extra>",
         "legendgroup": "",
         "marker": {
          "color": "#636efa",
          "pattern": {
           "shape": ""
          }
         },
         "name": "",
         "nbinsx": 20,
         "offsetgroup": "",
         "orientation": "v",
         "showlegend": false,
         "type": "histogram",
         "x": [
          192.15,
          254.72,
          245.35,
          217.3,
          252.52,
          87.01,
          226.78,
          86.66,
          77.42,
          252.07,
          214.86,
          75.15,
          210.36,
          76.62,
          235.22,
          87.77,
          208.62,
          null,
          231.95,
          191.84,
          245.51,
          261.8,
          235.12,
          73.55,
          225.12,
          82.47,
          205.76,
          95.66,
          233.56,
          null,
          82.8,
          45.51,
          233.12,
          255.5,
          45.05,
          217.89,
          45.98,
          216.49,
          69.15,
          245.74,
          209.99,
          65.06,
          206.33,
          88.28,
          244.53,
          42.04,
          225.48,
          210.44,
          248.2,
          259.41,
          194.24,
          75.25,
          null,
          null,
          null,
          53.3,
          59.46,
          236.92,
          247.89,
          237.34,
          215.2,
          244.03,
          212.86,
          245.75,
          63.79,
          258.77,
          171.23,
          265.82,
          null,
          204.19,
          265.16,
          42.34,
          237.88,
          114.17,
          108.48,
          253.46,
          278.48,
          232.91,
          76.87,
          95.36,
          256.8,
          211.71,
          null,
          215.01,
          218.63,
          40.53,
          30.29,
          73.49,
          233.5,
          null,
          54.77,
          59.43,
          77.25,
          241.09,
          52.48,
          91.79,
          43.16,
          65.41,
          88.14,
          188.05,
          203.95,
          257.66,
          64.6,
          75.73,
          60.11,
          245.18,
          null,
          79.14,
          218.34,
          36.13,
          79.45,
          null,
          58.6,
          38.22,
          234.4,
          245.65,
          260.43,
          null,
          60.39,
          256.09,
          230.05,
          218.82,
          207.27,
          null,
          196.47,
          68.29,
          224.82,
          226.3,
          74.05,
          71.5,
          118.69,
          null,
          229.49,
          243.37,
          53.44,
          81.26,
          null,
          251.99,
          242.13,
          51.93,
          255.27,
          235.76,
          275.74,
          278.88,
          83.08,
          31.36,
          77.95,
          256.69,
          199.32,
          47.12,
          10.31,
          69.57,
          46.48,
          241.68,
          99.23,
          222.55,
          243.32,
          225.06,
          218.3,
          208.67,
          null,
          216.5,
          238.97,
          202.89,
          234.41,
          null,
          285.97,
          205.75,
          null,
          176.3,
          200.66,
          216.73,
          200.01,
          244.41,
          99.41,
          253.12,
          null,
          null,
          92.49,
          null,
          222.42,
          218.33,
          209.86,
          93.44,
          102.98,
          47.5,
          226.56,
          63.6,
          null,
          198.78,
          85.35,
          276.2,
          81.43,
          null,
          85.25,
          241.52,
          66.57,
          277.39,
          null,
          251.84,
          235.04,
          250.24,
          284.68,
          211.96,
          259.39,
          206.77,
          218.81,
          62.81,
          239.52,
          224.66,
          230.27,
          null,
          224.52,
          267.95,
          231.18,
          243.02,
          259.16,
          209.34,
          222.12,
          259.17,
          249.09,
          null,
          79.83,
          246.6,
          291.88,
          234.94,
          241.65,
          247.79,
          null,
          55.14,
          50.37,
          261.24,
          97,
          73.45,
          73.1,
          251.75,
          72.79,
          286.09,
          204.16,
          198.36,
          234.6,
          85.85,
          219.71,
          215.96,
          199.02,
          228.97,
          206.76,
          70.95,
          86.54,
          189.58,
          214.25,
          213.65,
          73.88,
          null,
          234.29,
          36.2,
          243.87,
          56.14,
          73.89,
          239.23,
          213.17,
          246.9,
          231.72,
          72.34,
          86.52,
          230.76,
          257.98,
          null,
          189.5,
          209.69,
          77.05,
          261.39,
          null,
          53.96,
          249.24,
          null,
          238.71,
          224.32,
          240,
          219.94,
          230.72,
          null,
          210.24,
          260.39,
          274.93,
          252.2,
          179.55,
          234.8,
          null,
          260.68,
          259.06,
          268.22,
          62.98,
          223.46,
          75.37,
          61.6,
          null,
          96.08,
          222.92,
          219.53,
          257.15,
          223.84,
          201.76,
          77.04,
          210.13,
          239.28,
          null,
          249.61,
          239.42,
          212.08,
          38.55,
          206.07,
          249,
          218.7,
          51.51,
          null,
          228.54,
          218.12,
          81.3,
          222.24,
          215.69,
          202.43,
          259.19,
          226.05,
          237.9,
          36.65,
          215.84,
          84.14,
          236.89,
          219.37,
          227.93,
          236.61,
          231.24,
          239.59,
          249.85,
          50.35,
          48.62,
          257.05,
          85.71,
          54.02,
          52.45,
          285.42,
          69.62,
          88.98,
          60.81,
          202.62,
          238.8,
          213.77,
          40.17,
          225.98,
          253.49,
          55.51,
          276.51,
          211.77,
          89.13,
          259.03,
          291.74,
          43.69,
          80.21,
          80.99,
          262.97,
          123.5,
          93.03,
          250.25,
          247.39,
          276.3,
          47.04,
          92.18,
          236.49,
          217.8,
          236.79,
          261.3,
          227.62,
          259.82,
          41.16,
          263.71,
          null,
          58.81,
          231.21,
          39.74,
          84.95,
          235.5,
          197.11,
          69.8,
          74.02,
          null,
          246.67,
          243.14,
          230.36,
          242.65,
          null,
          261.15,
          233.75,
          244.99,
          221.53,
          247.91,
          259.54,
          212.57,
          0,
          95.26,
          null,
          null,
          209.4,
          63.83,
          262.96,
          254.27,
          224.25,
          null,
          232.49,
          41.41,
          76.17,
          null,
          44.2,
          228.51,
          75.66,
          108.66,
          209.46,
          245.69,
          null,
          251.8,
          47.1,
          249.78,
          71.4,
          235.57,
          236.54,
          261.04,
          232.3,
          239.52,
          35.53,
          59.43,
          271.86,
          70.2,
          243.08,
          35.23,
          262.39,
          241.82,
          null,
          236.17,
          227.37,
          244.33,
          256.39,
          266.66,
          80.28,
          183.9,
          49.04,
          67.81,
          227.76,
          229.81,
          267.86,
          232.49,
          72.2,
          105.61,
          259.92,
          null,
          65.62,
          null,
          54.12,
          60.54,
          102.34,
          null,
          237.16,
          78.7,
          230.22,
          244.81,
          47.35,
          73.12,
          78.38,
          59.22,
          110.37,
          225.67,
          53.95,
          245.47,
          231.13,
          300,
          242.2,
          null,
          216.2,
          208.81,
          225.84,
          203.07,
          null,
          230.95,
          null,
          59.42,
          54.39,
          84.37,
          228.28,
          243.79,
          238.8,
          216.74,
          56.65,
          67.79,
          214.72,
          254.79,
          34.67,
          257.5,
          283.57,
          109.7,
          194.07,
          4.3,
          63.64,
          185.5,
          256.39,
          54.53,
          243.77,
          238.32,
          212.02,
          252.43,
          211.85,
          270.74,
          84.18,
          null,
          88.76,
          260.65,
          213.37,
          234.13,
          242.5,
          67.21,
          244.58,
          258.97,
          241.1,
          215.18,
          null,
          248.59,
          null,
          49.72,
          248.84,
          238.03,
          102.56,
          64.59,
          88.28,
          268.34,
          222,
          268.34,
          234.91,
          72.37,
          60.59,
          243.88,
          61.04,
          214.08,
          197.07,
          228.96,
          63.97,
          78.7,
          231,
          null,
          241.31,
          58.44,
          65.39,
          215.48,
          null,
          235.76,
          196.67,
          76.27,
          230.83,
          51.95,
          null,
          262.26,
          231.19,
          96.74,
          214.61,
          254.16,
          null,
          203.68,
          273.07,
          235.54,
          191.35,
          75.15,
          55.07,
          228.89,
          208.72,
          74.89,
          220.56,
          89,
          237.49,
          19.56,
          247.86,
          73.58,
          200.92,
          60.11,
          206.62,
          52.07,
          221.22,
          245.39,
          235.75,
          245.28,
          5.82,
          88.12,
          230.86,
          158.11,
          235.38,
          197.45,
          258.83,
          231.25,
          72.81,
          220.08,
          242.99,
          248.28,
          233.56,
          212.96,
          206.16,
          246.55,
          231.19,
          null,
          234.67,
          225.27,
          232.35,
          217.87,
          64.48,
          243.91,
          252.12,
          51.2,
          251.44,
          null,
          229.68,
          244.43,
          54.4,
          233.74,
          239.53,
          251.83,
          256.41,
          225.38,
          185.08,
          55.93,
          57.58,
          66.94,
          227.41,
          null,
          273.25,
          214.88,
          241.7,
          244.61,
          246,
          53.86,
          250.61,
          219.77,
          202.1,
          234.45,
          69.77,
          50.71,
          94.35,
          206.6,
          48.63,
          91.39,
          222.22,
          95.6,
          61.68,
          55.79,
          257.88,
          66.1,
          223.24,
          231.33,
          228.29,
          56.95,
          26.09,
          279.38,
          69.44,
          194.57,
          241.29,
          67.71,
          225.83,
          55.1,
          222.56,
          67.95,
          68.31,
          null,
          268.18,
          244.58,
          270.94,
          74.66,
          251.5,
          203.58,
          null,
          44.26,
          261.85,
          66.85,
          264.88,
          56.75,
          103.41,
          73.13,
          72.97,
          206.32,
          260.95,
          260.99,
          69.38,
          239.96,
          70.74,
          256.75,
          232.22,
          186.33,
          251.36,
          229.21,
          232,
          null,
          220.74,
          229.65,
          246.66,
          null,
          76.16,
          30.49,
          207.77,
          230.44,
          27.23,
          96.17,
          null,
          51.01,
          81.28,
          61.18,
          227.32,
          223.85,
          249.14,
          205.86,
          222.33,
          230.12,
          253.62,
          79.57,
          231.84,
          185.7,
          85.2,
          253.85,
          null,
          229.06,
          null,
          216.94,
          null,
          65.9,
          258.66,
          254.32,
          230.16,
          226.96,
          285.01,
          null,
          null,
          230.88,
          49.63,
          null,
          49.68,
          251.16,
          67.34,
          null,
          237.18,
          235.51,
          248.28,
          248.64,
          222.93,
          237.13,
          47.68,
          null,
          209.86,
          36.39,
          252.68,
          249.37,
          232.29,
          265.22,
          232.06,
          239.42,
          266.45,
          249.41,
          229.01,
          227.8,
          206.22,
          236.49,
          233.6,
          230.64,
          234.91,
          232.67,
          250.48,
          58.19,
          96.41,
          260.29,
          236.25,
          261.36,
          60.01,
          49.12,
          44.93,
          54.38,
          220.7,
          null,
          36.5,
          null,
          210.83,
          218.21,
          207.75,
          230.08,
          201.91,
          243.24,
          37.31,
          243.34,
          220.8,
          51.55,
          209,
          241.21,
          40.14,
          74.92,
          74.59,
          50.69,
          250.87,
          68.2,
          61.08,
          195.92,
          47.3,
          229.28,
          61.95,
          34.99,
          208.13,
          237.63,
          290.36,
          null,
          239.65,
          null,
          235.8,
          227.75,
          73.56,
          26.32,
          248.39,
          215.83,
          224.11,
          87.72,
          232.43,
          259.18,
          228.07,
          76.06,
          262.87,
          240.27,
          50.24,
          null,
          122.56,
          65.18,
          235.09,
          241.96,
          259.07,
          246.96,
          106.15,
          106.41,
          null,
          223.16,
          245.87,
          null,
          9.88,
          215.38,
          234.14,
          220.87,
          91.14,
          98.11,
          215.29,
          220.52,
          255.06,
          null,
          262.38,
          230.78,
          239.42,
          29.43,
          223.85,
          293.63,
          77.63,
          231.54,
          251.84,
          230.53,
          null,
          101.84,
          245.78,
          61.34,
          null,
          75.1,
          null,
          55.88,
          56.7,
          214.22,
          87.8,
          58.14,
          227.72,
          187.93,
          263.11,
          226.43,
          206.56,
          228.97,
          null,
          267.93,
          265.53,
          null,
          226.92,
          246.71,
          245.74,
          235.63,
          252.24,
          216.64,
          59.67,
          227.66,
          265.41,
          null,
          223.48,
          266.21,
          206.17,
          226.5,
          216.76,
          null,
          242.77,
          263.08,
          222.9,
          115.76,
          189.22,
          225.92,
          217.85,
          97.93,
          239.51,
          232.08,
          247.88,
          208.16,
          245.54,
          248.53,
          null,
          214.2,
          249.69,
          null,
          270.43,
          218.96,
          23.16,
          284.33,
          216.18,
          null,
          254.43,
          238.08,
          100.51,
          245.09,
          100.22,
          250.32,
          44.19,
          230.76,
          60.48,
          209.95,
          252.41,
          227.87,
          266.25,
          243.16,
          224.45,
          241.32,
          221.99,
          217.71,
          92.73,
          245.7,
          274.2,
          206.55,
          199.53,
          185.15,
          null,
          null,
          227.9,
          207.95,
          47,
          250.27,
          48.78,
          225.5,
          238.23,
          68.15,
          null,
          56.8,
          83.67,
          60.51,
          null,
          228.3,
          197.2,
          106.71,
          219.32,
          101.25,
          183.47,
          73.41,
          71.35,
          249.68,
          76.43,
          292.87,
          225.81,
          96.87,
          247.68,
          255.53,
          263.94,
          null,
          245.3,
          null,
          58.31,
          52.18,
          251.06,
          null,
          234.74,
          204.63,
          null,
          288.35,
          235.93,
          241.2,
          230.19,
          null,
          239.02,
          242.9,
          241.39,
          184.82,
          231.82,
          229.61,
          232.49,
          265.63,
          251.36,
          225.41
         ],
         "xaxis": "x",
         "yaxis": "y"
        }
       ],
       "layout": {
        "bargap": 0.2,
        "barmode": "relative",
        "legend": {
         "tracegroupgap": 0
        },
        "template": {
         "data": {
          "bar": [
           {
            "error_x": {
             "color": "#2a3f5f"
            },
            "error_y": {
             "color": "#2a3f5f"
            },
            "marker": {
             "line": {
              "color": "#E5ECF6",
              "width": 0.5
             },
             "pattern": {
              "fillmode": "overlay",
              "size": 10,
              "solidity": 0.2
             }
            },
            "type": "bar"
           }
          ],
          "barpolar": [
           {
            "marker": {
             "line": {
              "color": "#E5ECF6",
              "width": 0.5
             },
             "pattern": {
              "fillmode": "overlay",
              "size": 10,
              "solidity": 0.2
             }
            },
            "type": "barpolar"
           }
          ],
          "carpet": [
           {
            "aaxis": {
             "endlinecolor": "#2a3f5f",
             "gridcolor": "white",
             "linecolor": "white",
             "minorgridcolor": "white",
             "startlinecolor": "#2a3f5f"
            },
            "baxis": {
             "endlinecolor": "#2a3f5f",
             "gridcolor": "white",
             "linecolor": "white",
             "minorgridcolor": "white",
             "startlinecolor": "#2a3f5f"
            },
            "type": "carpet"
           }
          ],
          "choropleth": [
           {
            "colorbar": {
             "outlinewidth": 0,
             "ticks": ""
            },
            "type": "choropleth"
           }
          ],
          "contour": [
           {
            "colorbar": {
             "outlinewidth": 0,
             "ticks": ""
            },
            "colorscale": [
             [
              0,
              "#0d0887"
             ],
             [
              0.1111111111111111,
              "#46039f"
             ],
             [
              0.2222222222222222,
              "#7201a8"
             ],
             [
              0.3333333333333333,
              "#9c179e"
             ],
             [
              0.4444444444444444,
              "#bd3786"
             ],
             [
              0.5555555555555556,
              "#d8576b"
             ],
             [
              0.6666666666666666,
              "#ed7953"
             ],
             [
              0.7777777777777778,
              "#fb9f3a"
             ],
             [
              0.8888888888888888,
              "#fdca26"
             ],
             [
              1,
              "#f0f921"
             ]
            ],
            "type": "contour"
           }
          ],
          "contourcarpet": [
           {
            "colorbar": {
             "outlinewidth": 0,
             "ticks": ""
            },
            "type": "contourcarpet"
           }
          ],
          "heatmap": [
           {
            "colorbar": {
             "outlinewidth": 0,
             "ticks": ""
            },
            "colorscale": [
             [
              0,
              "#0d0887"
             ],
             [
              0.1111111111111111,
              "#46039f"
             ],
             [
              0.2222222222222222,
              "#7201a8"
             ],
             [
              0.3333333333333333,
              "#9c179e"
             ],
             [
              0.4444444444444444,
              "#bd3786"
             ],
             [
              0.5555555555555556,
              "#d8576b"
             ],
             [
              0.6666666666666666,
              "#ed7953"
             ],
             [
              0.7777777777777778,
              "#fb9f3a"
             ],
             [
              0.8888888888888888,
              "#fdca26"
             ],
             [
              1,
              "#f0f921"
             ]
            ],
            "type": "heatmap"
           }
          ],
          "heatmapgl": [
           {
            "colorbar": {
             "outlinewidth": 0,
             "ticks": ""
            },
            "colorscale": [
             [
              0,
              "#0d0887"
             ],
             [
              0.1111111111111111,
              "#46039f"
             ],
             [
              0.2222222222222222,
              "#7201a8"
             ],
             [
              0.3333333333333333,
              "#9c179e"
             ],
             [
              0.4444444444444444,
              "#bd3786"
             ],
             [
              0.5555555555555556,
              "#d8576b"
             ],
             [
              0.6666666666666666,
              "#ed7953"
             ],
             [
              0.7777777777777778,
              "#fb9f3a"
             ],
             [
              0.8888888888888888,
              "#fdca26"
             ],
             [
              1,
              "#f0f921"
             ]
            ],
            "type": "heatmapgl"
           }
          ],
          "histogram": [
           {
            "marker": {
             "pattern": {
              "fillmode": "overlay",
              "size": 10,
              "solidity": 0.2
             }
            },
            "type": "histogram"
           }
          ],
          "histogram2d": [
           {
            "colorbar": {
             "outlinewidth": 0,
             "ticks": ""
            },
            "colorscale": [
             [
              0,
              "#0d0887"
             ],
             [
              0.1111111111111111,
              "#46039f"
             ],
             [
              0.2222222222222222,
              "#7201a8"
             ],
             [
              0.3333333333333333,
              "#9c179e"
             ],
             [
              0.4444444444444444,
              "#bd3786"
             ],
             [
              0.5555555555555556,
              "#d8576b"
             ],
             [
              0.6666666666666666,
              "#ed7953"
             ],
             [
              0.7777777777777778,
              "#fb9f3a"
             ],
             [
              0.8888888888888888,
              "#fdca26"
             ],
             [
              1,
              "#f0f921"
             ]
            ],
            "type": "histogram2d"
           }
          ],
          "histogram2dcontour": [
           {
            "colorbar": {
             "outlinewidth": 0,
             "ticks": ""
            },
            "colorscale": [
             [
              0,
              "#0d0887"
             ],
             [
              0.1111111111111111,
              "#46039f"
             ],
             [
              0.2222222222222222,
              "#7201a8"
             ],
             [
              0.3333333333333333,
              "#9c179e"
             ],
             [
              0.4444444444444444,
              "#bd3786"
             ],
             [
              0.5555555555555556,
              "#d8576b"
             ],
             [
              0.6666666666666666,
              "#ed7953"
             ],
             [
              0.7777777777777778,
              "#fb9f3a"
             ],
             [
              0.8888888888888888,
              "#fdca26"
             ],
             [
              1,
              "#f0f921"
             ]
            ],
            "type": "histogram2dcontour"
           }
          ],
          "mesh3d": [
           {
            "colorbar": {
             "outlinewidth": 0,
             "ticks": ""
            },
            "type": "mesh3d"
           }
          ],
          "parcoords": [
           {
            "line": {
             "colorbar": {
              "outlinewidth": 0,
              "ticks": ""
             }
            },
            "type": "parcoords"
           }
          ],
          "pie": [
           {
            "automargin": true,
            "type": "pie"
           }
          ],
          "scatter": [
           {
            "fillpattern": {
             "fillmode": "overlay",
             "size": 10,
             "solidity": 0.2
            },
            "type": "scatter"
           }
          ],
          "scatter3d": [
           {
            "line": {
             "colorbar": {
              "outlinewidth": 0,
              "ticks": ""
             }
            },
            "marker": {
             "colorbar": {
              "outlinewidth": 0,
              "ticks": ""
             }
            },
            "type": "scatter3d"
           }
          ],
          "scattercarpet": [
           {
            "marker": {
             "colorbar": {
              "outlinewidth": 0,
              "ticks": ""
             }
            },
            "type": "scattercarpet"
           }
          ],
          "scattergeo": [
           {
            "marker": {
             "colorbar": {
              "outlinewidth": 0,
              "ticks": ""
             }
            },
            "type": "scattergeo"
           }
          ],
          "scattergl": [
           {
            "marker": {
             "colorbar": {
              "outlinewidth": 0,
              "ticks": ""
             }
            },
            "type": "scattergl"
           }
          ],
          "scattermapbox": [
           {
            "marker": {
             "colorbar": {
              "outlinewidth": 0,
              "ticks": ""
             }
            },
            "type": "scattermapbox"
           }
          ],
          "scatterpolar": [
           {
            "marker": {
             "colorbar": {
              "outlinewidth": 0,
              "ticks": ""
             }
            },
            "type": "scatterpolar"
           }
          ],
          "scatterpolargl": [
           {
            "marker": {
             "colorbar": {
              "outlinewidth": 0,
              "ticks": ""
             }
            },
            "type": "scatterpolargl"
           }
          ],
          "scatterternary": [
           {
            "marker": {
             "colorbar": {
              "outlinewidth": 0,
              "ticks": ""
             }
            },
            "type": "scatterternary"
           }
          ],
          "surface": [
           {
            "colorbar": {
             "outlinewidth": 0,
             "ticks": ""
            },
            "colorscale": [
             [
              0,
              "#0d0887"
             ],
             [
              0.1111111111111111,
              "#46039f"
             ],
             [
              0.2222222222222222,
              "#7201a8"
             ],
             [
              0.3333333333333333,
              "#9c179e"
             ],
             [
              0.4444444444444444,
              "#bd3786"
             ],
             [
              0.5555555555555556,
              "#d8576b"
             ],
             [
              0.6666666666666666,
              "#ed7953"
             ],
             [
              0.7777777777777778,
              "#fb9f3a"
             ],
             [
              0.8888888888888888,
              "#fdca26"
             ],
             [
              1,
              "#f0f921"
             ]
            ],
            "type": "surface"
           }
          ],
          "table": [
           {
            "cells": {
             "fill": {
              "color": "#EBF0F8"
             },
             "line": {
              "color": "white"
             }
            },
            "header": {
             "fill": {
              "color": "#C8D4E3"
             },
             "line": {
              "color": "white"
             }
            },
            "type": "table"
           }
          ]
         },
         "layout": {
          "annotationdefaults": {
           "arrowcolor": "#2a3f5f",
           "arrowhead": 0,
           "arrowwidth": 1
          },
          "autotypenumbers": "strict",
          "coloraxis": {
           "colorbar": {
            "outlinewidth": 0,
            "ticks": ""
           }
          },
          "colorscale": {
           "diverging": [
            [
             0,
             "#8e0152"
            ],
            [
             0.1,
             "#c51b7d"
            ],
            [
             0.2,
             "#de77ae"
            ],
            [
             0.3,
             "#f1b6da"
            ],
            [
             0.4,
             "#fde0ef"
            ],
            [
             0.5,
             "#f7f7f7"
            ],
            [
             0.6,
             "#e6f5d0"
            ],
            [
             0.7,
             "#b8e186"
            ],
            [
             0.8,
             "#7fbc41"
            ],
            [
             0.9,
             "#4d9221"
            ],
            [
             1,
             "#276419"
            ]
           ],
           "sequential": [
            [
             0,
             "#0d0887"
            ],
            [
             0.1111111111111111,
             "#46039f"
            ],
            [
             0.2222222222222222,
             "#7201a8"
            ],
            [
             0.3333333333333333,
             "#9c179e"
            ],
            [
             0.4444444444444444,
             "#bd3786"
            ],
            [
             0.5555555555555556,
             "#d8576b"
            ],
            [
             0.6666666666666666,
             "#ed7953"
            ],
            [
             0.7777777777777778,
             "#fb9f3a"
            ],
            [
             0.8888888888888888,
             "#fdca26"
            ],
            [
             1,
             "#f0f921"
            ]
           ],
           "sequentialminus": [
            [
             0,
             "#0d0887"
            ],
            [
             0.1111111111111111,
             "#46039f"
            ],
            [
             0.2222222222222222,
             "#7201a8"
            ],
            [
             0.3333333333333333,
             "#9c179e"
            ],
            [
             0.4444444444444444,
             "#bd3786"
            ],
            [
             0.5555555555555556,
             "#d8576b"
            ],
            [
             0.6666666666666666,
             "#ed7953"
            ],
            [
             0.7777777777777778,
             "#fb9f3a"
            ],
            [
             0.8888888888888888,
             "#fdca26"
            ],
            [
             1,
             "#f0f921"
            ]
           ]
          },
          "colorway": [
           "#636efa",
           "#EF553B",
           "#00cc96",
           "#ab63fa",
           "#FFA15A",
           "#19d3f3",
           "#FF6692",
           "#B6E880",
           "#FF97FF",
           "#FECB52"
          ],
          "font": {
           "color": "#2a3f5f"
          },
          "geo": {
           "bgcolor": "white",
           "lakecolor": "white",
           "landcolor": "#E5ECF6",
           "showlakes": true,
           "showland": true,
           "subunitcolor": "white"
          },
          "hoverlabel": {
           "align": "left"
          },
          "hovermode": "closest",
          "mapbox": {
           "style": "light"
          },
          "paper_bgcolor": "white",
          "plot_bgcolor": "#E5ECF6",
          "polar": {
           "angularaxis": {
            "gridcolor": "white",
            "linecolor": "white",
            "ticks": ""
           },
           "bgcolor": "#E5ECF6",
           "radialaxis": {
            "gridcolor": "white",
            "linecolor": "white",
            "ticks": ""
           }
          },
          "scene": {
           "xaxis": {
            "backgroundcolor": "#E5ECF6",
            "gridcolor": "white",
            "gridwidth": 2,
            "linecolor": "white",
            "showbackground": true,
            "ticks": "",
            "zerolinecolor": "white"
           },
           "yaxis": {
            "backgroundcolor": "#E5ECF6",
            "gridcolor": "white",
            "gridwidth": 2,
            "linecolor": "white",
            "showbackground": true,
            "ticks": "",
            "zerolinecolor": "white"
           },
           "zaxis": {
            "backgroundcolor": "#E5ECF6",
            "gridcolor": "white",
            "gridwidth": 2,
            "linecolor": "white",
            "showbackground": true,
            "ticks": "",
            "zerolinecolor": "white"
           }
          },
          "shapedefaults": {
           "line": {
            "color": "#2a3f5f"
           }
          },
          "ternary": {
           "aaxis": {
            "gridcolor": "white",
            "linecolor": "white",
            "ticks": ""
           },
           "baxis": {
            "gridcolor": "white",
            "linecolor": "white",
            "ticks": ""
           },
           "bgcolor": "#E5ECF6",
           "caxis": {
            "gridcolor": "white",
            "linecolor": "white",
            "ticks": ""
           }
          },
          "title": {
           "x": 0.05
          },
          "xaxis": {
           "automargin": true,
           "gridcolor": "white",
           "linecolor": "white",
           "ticks": "",
           "title": {
            "standoff": 15
           },
           "zerolinecolor": "white",
           "zerolinewidth": 2
          },
          "yaxis": {
           "automargin": true,
           "gridcolor": "white",
           "linecolor": "white",
           "ticks": "",
           "title": {
            "standoff": 15
           },
           "zerolinecolor": "white",
           "zerolinewidth": 2
          }
         }
        },
        "title": {
         "text": "Verdeling van kilometers"
        },
        "xaxis": {
         "anchor": "y",
         "domain": [
          0,
          1
         ],
         "title": {
          "text": "kilometers"
         }
        },
        "yaxis": {
         "anchor": "x",
         "domain": [
          0,
          1
         ],
         "title": {
          "text": "Frequentie"
         }
        }
       }
      }
     },
     "metadata": {},
     "output_type": "display_data"
    },
    {
     "data": {
      "application/vnd.plotly.v1+json": {
       "config": {
        "plotlyServerURL": "https://plot.ly"
       },
       "data": [
        {
         "alignmentgroup": "True",
         "bingroup": "x",
         "hovertemplate": "Inkomen=%{x}<br>count=%{y}<extra></extra>",
         "legendgroup": "",
         "marker": {
          "color": "#636efa",
          "pattern": {
           "shape": ""
          }
         },
         "name": "",
         "nbinsx": 20,
         "offsetgroup": "",
         "orientation": "v",
         "showlegend": false,
         "type": "histogram",
         "x": [
          25611.33,
          33380.74,
          20357.81,
          58821.77,
          54148.57,
          21343.69,
          61104.9,
          34298.93,
          27366.57,
          39701.78,
          45527.18,
          64549.84,
          69122.75,
          47907.24,
          38206.63,
          43772.52,
          33014.62,
          49241.09,
          22745.43,
          45512.25,
          56980.7,
          40496.32,
          66163.47,
          43665.65,
          29478.1,
          25944.01,
          45428.88,
          null,
          64184.06,
          47175.64,
          32287.88,
          61067.14,
          67974.1,
          43055.07,
          46652.49,
          null,
          59809.64,
          43655.19,
          49856.88,
          53194.67,
          41476.03,
          null,
          54479.2,
          67733.28,
          30957.91,
          30935.35,
          49629.6,
          39087.03,
          31086.24,
          25161.89,
          null,
          62665.12,
          57988.55,
          31241.85,
          41257.19,
          25147.72,
          55868.98,
          47319.94,
          null,
          41319.69,
          62324.84,
          null,
          41605.37,
          60230.92,
          54039.98,
          68791.39,
          63102.9,
          45893.02,
          63058.69,
          36379.43,
          61327.61,
          62273.73,
          21228.77,
          43909.11,
          49751.38,
          48364.28,
          60646.56,
          64196.49,
          24332.93,
          66524.65,
          61392.35,
          49494.29,
          null,
          68888.41,
          57269.53,
          30727.01,
          41409.21,
          21289.45,
          68907.53,
          67258.98,
          50861.02,
          64209.08,
          43861.11,
          67408.21,
          null,
          52091.87,
          44307.8,
          37106.03,
          65145.19,
          null,
          46977.32,
          null,
          32840.44,
          59543.21,
          61109.68,
          36435.35,
          30707.33,
          53306.27,
          35990.37,
          56635.03,
          58726.07,
          23998.4,
          64100.6,
          47378.24,
          58150.07,
          59542.28,
          22845.04,
          null,
          55237.52,
          41260.29,
          48495.16,
          47852.65,
          52590.73,
          53910.96,
          40588.35,
          57378.83,
          28500.41,
          29096.5,
          33915.45,
          61776.58,
          23709.5,
          25275.08,
          62527.4,
          41516.17,
          30224.43,
          50492.82,
          40778.76,
          50231.21,
          26313.38,
          36600.99,
          48245.74,
          21305.89,
          68867.38,
          53303.85,
          43557.69,
          64298.7,
          45595.25,
          46676.69,
          34780.31,
          41489.87,
          null,
          60488.08,
          23093.31,
          64433.9,
          25535.16,
          22176.24,
          48564.45,
          29980.86,
          29072.56,
          null,
          57234.89,
          54168.56,
          68559.91,
          50165.76,
          49362.44,
          40431.27,
          33256.75,
          null,
          39440.88,
          null,
          23398.35,
          45100.85,
          36683.93,
          55218.08,
          31685.23,
          30517.17,
          21036.4,
          26816.5,
          54413.11,
          33159.05,
          33749,
          42981.86,
          null,
          44479.63,
          49694.88,
          27882.64,
          40837.33,
          24971.93,
          null,
          36252.56,
          20302.4,
          42154.36,
          24620.03,
          65528.39,
          60824.13,
          56335.08,
          66086.18,
          51546.4,
          25741.54,
          28531.66,
          38837.17,
          40180,
          68598.53,
          38386.2,
          59068.4,
          65261.6,
          54510.09,
          null,
          23982.2,
          47622.72,
          38181.77,
          37513.55,
          65357.91,
          53747.98,
          46118.37,
          41550.62,
          56414.51,
          22364.89,
          null,
          null,
          55373.47,
          36880.83,
          38273.38,
          38335.35,
          36891.91,
          29581.71,
          58208.41,
          null,
          27042.62,
          35229.8,
          51785,
          46942.65,
          28678.82,
          null,
          57820.22,
          63912.9,
          33132.27,
          69770.33,
          26014.2,
          54001.11,
          null,
          61929.12,
          66136.14,
          49963.87,
          49434.16,
          35290.96,
          44421.92,
          62384.96,
          54117.08,
          48804.19,
          61957.35,
          54203.33,
          50597.56,
          20301.09,
          30093.09,
          44816.39,
          67466.04,
          45925.76,
          38835.76,
          41570.09,
          28409.57,
          64996.92,
          53172.2,
          67757.18,
          69484.14,
          54106.69,
          69314.06,
          37286.98,
          20288.18,
          69659.14,
          24681.95,
          31289.61,
          57101.11,
          null,
          47192.63,
          39053.87,
          null,
          43518.24,
          60798.98,
          53200.45,
          49422.96,
          20015.81,
          20210.79,
          34139.02,
          23873.07,
          60127.54,
          46368.64,
          30753.73,
          63827.14,
          54298.89,
          46509.67,
          57063.15,
          64406.18,
          48237.71,
          59470.77,
          30001.45,
          54005.75,
          64256.86,
          25983.28,
          25195.54,
          42685.03,
          null,
          63826.34,
          26592.9,
          29956.41,
          52774.4,
          48260.66,
          30096.97,
          52997.89,
          35818.69,
          24448.08,
          null,
          56905.49,
          45206.07,
          52704.78,
          54989.79,
          64106.63,
          45071.92,
          52434.26,
          64911.62,
          21365.73,
          54581.33,
          61028.57,
          67681.9,
          51213.86,
          35445.11,
          46578.07,
          30457.35,
          62251.49,
          64760.93,
          36668.56,
          42585.76,
          40169.97,
          57530.05,
          36887.88,
          40628.06,
          null,
          52746.38,
          52324.29,
          32646.5,
          null,
          null,
          33801.29,
          40630.63,
          60717.71,
          59097.22,
          44165.61,
          37246.25,
          20833.15,
          null,
          50899.49,
          64323.38,
          48917.99,
          39016.95,
          null,
          null,
          59703.21,
          20165.45,
          23025.07,
          32528.88,
          32482.5,
          null,
          null,
          31853.27,
          49430.97,
          40419.75,
          62015.39,
          27714.77,
          65815.96,
          47760.42,
          63552.5,
          53044.33,
          null,
          50790.16,
          null,
          26489.56,
          30361.35,
          36970.67,
          null,
          20958.48,
          null,
          40823.86,
          21166.52,
          39540.38,
          64057.83,
          64953.86,
          69824.69,
          23188.49,
          20456.86,
          68754.87,
          33162.31,
          68882.11,
          27892.48,
          39858.77,
          28989.06,
          53257.98,
          58659.63,
          32820.91,
          41759.15,
          30302.71,
          null,
          60108.15,
          31319.39,
          34147.83,
          40571.96,
          50600.22,
          21147.94,
          26262.98,
          20532.8,
          48227.22,
          44361.97,
          67132.93,
          28024.74,
          null,
          20097.87,
          65016.65,
          null,
          36144.63,
          67616.41,
          67569.89,
          37871.18,
          66346.82,
          49262.76,
          69130.2,
          57284.69,
          35952.15,
          53786.66,
          48118.63,
          54860.51,
          64448.25,
          47801.64,
          39939.21,
          64233.68,
          59788.19,
          39120.67,
          43981.93,
          68293.36,
          25659.73,
          36751.34,
          null,
          54108.04,
          53707.11,
          null,
          69532.7,
          20472.08,
          null,
          30432.1,
          38811.38,
          30100.84,
          45577.05,
          24884.17,
          26575.56,
          31606.98,
          null,
          57452.34,
          59310.08,
          null,
          35812.44,
          69695.07,
          null,
          28302.64,
          36513.61,
          49972.11,
          39455.47,
          53838.91,
          34329.79,
          35108.53,
          62874.98,
          null,
          41310.85,
          24448.69,
          69846.43,
          63362.89,
          28492.87,
          49509.85,
          52276.5,
          null,
          41477.84,
          66838.62,
          57214.19,
          64328.26,
          29214.98,
          23920.06,
          55498.5,
          30689.01,
          26466.7,
          35505.76,
          44934.32,
          68890.78,
          54370.31,
          31672.48,
          44958.92,
          null,
          53908.68,
          67156.8,
          null,
          36631.69,
          37809.35,
          33085.8,
          65348.35,
          56908.31,
          26458.38,
          59798.44,
          66470.09,
          31108.6,
          57127.98,
          45568.31,
          56454.39,
          68701.87,
          20148.17,
          28251.13,
          20351.33,
          null,
          46524.63,
          55934.06,
          null,
          52884.73,
          66136.09,
          37335,
          null,
          64374.27,
          47640.59,
          42378.05,
          51484.45,
          48154.18,
          47416.6,
          61937.27,
          46626.21,
          null,
          36597.61,
          23974.26,
          37757.6,
          55478.3,
          59443.51,
          49387.21,
          42253.76,
          67345.43,
          60517.9,
          21992.37,
          56786.71,
          63170.82,
          26564.8,
          68484.04,
          59090.9,
          25126.02,
          61243.78,
          37727.64,
          56767.27,
          41463.28,
          41110.24,
          55672.45,
          null,
          64903.04,
          20634.47,
          44218.91,
          64959.97,
          37477.68,
          54054.76,
          50690.52,
          60626.42,
          63568.64,
          41942.85,
          26824.19,
          69308.55,
          43500.53,
          69213.69,
          42289.86,
          22436.12,
          42252.41,
          42988.9,
          38742.11,
          63188.82,
          36588.4,
          42016.5,
          63930.9,
          62265.7,
          57284.22,
          21537.1,
          22850.41,
          68810.94,
          30353.61,
          66903.94,
          50739.8,
          20083.89,
          46384.21,
          31579.27,
          62041.93,
          23929.28,
          40487.84,
          20582.87,
          21514.55,
          25186.68,
          null,
          33151.44,
          null,
          64161.92,
          44909.47,
          35949.19,
          32721.38,
          61962.56,
          null,
          29680.33,
          63965.99,
          62381.83,
          null,
          63705.78,
          55916.67,
          50325.75,
          31352,
          64843.22,
          26072.9,
          47513.21,
          39704.51,
          24484.57,
          null,
          49497.16,
          38179.03,
          40996.59,
          58879.29,
          58409.4,
          30631.47,
          41616.42,
          51954.61,
          47756.37,
          44184.15,
          null,
          59029.54,
          38836.49,
          32750.04,
          null,
          62998.36,
          26083.99,
          24502.17,
          68992.12,
          22316.89,
          61193.88,
          48860.71,
          34319.5,
          21772.46,
          34424.57,
          null,
          61684.1,
          53086.69,
          65992.68,
          26879.55,
          32591.17,
          31696,
          56414.86,
          50698.21,
          null,
          33171.43,
          63827.78,
          49736.2,
          null,
          29365.06,
          37257.95,
          37308.73,
          44647.43,
          58310.25,
          54358.38,
          49738.35,
          68145.07,
          null,
          34340.37,
          39249.05,
          24535.28,
          null,
          null,
          27119.15,
          61435.34,
          49336.41,
          30171.08,
          57488,
          54659.64,
          48088.06,
          34562.23,
          null,
          27056.31,
          29346.56,
          68747.56,
          66556.14,
          42219.09,
          42441.47,
          62132.47,
          67555.5,
          null,
          43460.78,
          62566.61,
          null,
          null,
          20534.3,
          34267.54,
          60804.53,
          47338.09,
          41470.25,
          66357.36,
          25184.65,
          41845.72,
          null,
          51489.38,
          20780.91,
          54682.4,
          67478.52,
          46982.06,
          null,
          42064.68,
          23913.14,
          30552.53,
          53854.82,
          30286.38,
          66429.85,
          67563.93,
          50979.06,
          50113.86,
          null,
          21164.37,
          50330.22,
          42809.89,
          null,
          69866.84,
          null,
          54629.02,
          38491.87,
          29056.9,
          69838.01,
          52289.41,
          40160.11,
          24565.44,
          41318.43,
          59403.6,
          49880.2,
          42524.22,
          50277.02,
          69355.8,
          24508.91,
          39211.41,
          67070.51,
          22824,
          69921.75,
          39601.09,
          54611.41,
          null,
          26549.09,
          47309.96,
          26497.59,
          53298.82,
          43019.58,
          54961.79,
          28492.45,
          21373.65,
          63526.06,
          59077.91,
          31981.67,
          45582.33,
          48232.08,
          58307.95,
          54273.35,
          55483.04,
          29907.39,
          30251.8,
          26426.18,
          null,
          32163.89,
          45229.66,
          35702.07,
          null,
          69572.38,
          69159.6,
          68077.5,
          51146.57,
          61500.68,
          62697.77,
          56040.51,
          36454.11,
          40746.12,
          25700.11,
          40282.06,
          24548.22,
          null,
          57608.97,
          50857.58,
          68921.5,
          27365.09,
          54420.29,
          36813.6,
          41337.17,
          31928.95,
          50150.72,
          66876.7,
          69962.44,
          null,
          null,
          null,
          35217.66,
          41431.38,
          49776.92,
          32578.61,
          35116.88,
          22999.39,
          40650.44,
          54649.47,
          26060.65,
          23037.37,
          32887.38,
          34737.73,
          69473.47,
          51689.65,
          59327.73,
          null,
          50588.12,
          33927.36,
          50670.28,
          53912.23,
          23619.45,
          21325.16,
          65585.7,
          27474.03,
          53094.09,
          60153.07,
          69984.83,
          35370.91,
          68107.01,
          67518.18,
          59858.54,
          47787.45,
          null,
          41539.77,
          52396.85,
          69112.14,
          44305.06,
          69572.7,
          45571.63,
          34705.16,
          20445.82,
          63321.28,
          60383.81,
          56659.24,
          22483.45,
          46073.04,
          44194.78,
          64888.97,
          61385.59,
          36215.4,
          31548.72,
          33987.7,
          23123.62,
          20592.2,
          45176.79,
          45904.85,
          62951.76,
          51874.3,
          23586.29,
          52914.51,
          60650.25,
          69831.93,
          68685.74,
          33323.31,
          50773.53,
          44019.84,
          38714.82,
          null,
          46655.25,
          43376.83,
          36940.26,
          44526.47,
          46503.72,
          56272.73,
          48605.3,
          24724.14,
          48575.04,
          31951.13,
          59965.43,
          64204.55,
          25159.69,
          56065.72,
          68731.55,
          60049.72,
          27998.13,
          67532.76,
          null,
          25086.18,
          57740.54,
          50647.64,
          49073.64,
          61672.22,
          41438.02,
          65249.86,
          22411.25,
          57811.85,
          68712.69,
          49557.82,
          56327.38,
          49648.05,
          61187.21,
          57137.65,
          33238.05,
          43501.23,
          28136.45,
          63602.23,
          56619.67,
          55924.72,
          66511.85,
          41726.63,
          45855.23,
          29177.72,
          44796.25,
          60299.98,
          43777.25,
          66871.19,
          58727.3,
          29453.6,
          64686.47,
          42665.79,
          62862.35,
          58688.59,
          47039.91,
          57975.93,
          31777.75,
          23470.9,
          25597.65,
          null,
          null,
          66740.89,
          68507.38,
          61320.3,
          28621.34,
          50224.51,
          null,
          32755.99,
          61057.52,
          27499.77,
          42433.6,
          65316.78,
          35229.69,
          40791.78,
          46260.99,
          66870.61,
          25078.39,
          40882.91,
          47910.79,
          66031.4,
          21557.21,
          40217.14,
          31306.08,
          25892.16,
          30957.93,
          null,
          null,
          null,
          43262.53,
          34386.52,
          37267.35,
          26024.43,
          31169.16,
          54391.61,
          60085.3,
          53368.15,
          42764.33,
          60030.41,
          43121.99,
          21568.87,
          42082.28,
          23102,
          39873.08,
          41706.24,
          63798.85,
          30035.24,
          34634.75,
          27981.39,
          null,
          43373.99,
          51072.8,
          25879.09,
          61056.4,
          null,
          34959.13,
          65642.08,
          52411.66,
          39449.44,
          30240.12,
          69983.7,
          46109.71,
          54773.27,
          28532.11,
          22114,
          68136.1,
          40646.59,
          55578.64,
          41806.91,
          32072.56,
          36620.85,
          null,
          25423.9,
          null,
          39186.57,
          40012.43,
          55259.62,
          44088.79,
          45189.95,
          38205.87
         ],
         "xaxis": "x",
         "yaxis": "y"
        }
       ],
       "layout": {
        "bargap": 0.2,
        "barmode": "relative",
        "legend": {
         "tracegroupgap": 0
        },
        "template": {
         "data": {
          "bar": [
           {
            "error_x": {
             "color": "#2a3f5f"
            },
            "error_y": {
             "color": "#2a3f5f"
            },
            "marker": {
             "line": {
              "color": "#E5ECF6",
              "width": 0.5
             },
             "pattern": {
              "fillmode": "overlay",
              "size": 10,
              "solidity": 0.2
             }
            },
            "type": "bar"
           }
          ],
          "barpolar": [
           {
            "marker": {
             "line": {
              "color": "#E5ECF6",
              "width": 0.5
             },
             "pattern": {
              "fillmode": "overlay",
              "size": 10,
              "solidity": 0.2
             }
            },
            "type": "barpolar"
           }
          ],
          "carpet": [
           {
            "aaxis": {
             "endlinecolor": "#2a3f5f",
             "gridcolor": "white",
             "linecolor": "white",
             "minorgridcolor": "white",
             "startlinecolor": "#2a3f5f"
            },
            "baxis": {
             "endlinecolor": "#2a3f5f",
             "gridcolor": "white",
             "linecolor": "white",
             "minorgridcolor": "white",
             "startlinecolor": "#2a3f5f"
            },
            "type": "carpet"
           }
          ],
          "choropleth": [
           {
            "colorbar": {
             "outlinewidth": 0,
             "ticks": ""
            },
            "type": "choropleth"
           }
          ],
          "contour": [
           {
            "colorbar": {
             "outlinewidth": 0,
             "ticks": ""
            },
            "colorscale": [
             [
              0,
              "#0d0887"
             ],
             [
              0.1111111111111111,
              "#46039f"
             ],
             [
              0.2222222222222222,
              "#7201a8"
             ],
             [
              0.3333333333333333,
              "#9c179e"
             ],
             [
              0.4444444444444444,
              "#bd3786"
             ],
             [
              0.5555555555555556,
              "#d8576b"
             ],
             [
              0.6666666666666666,
              "#ed7953"
             ],
             [
              0.7777777777777778,
              "#fb9f3a"
             ],
             [
              0.8888888888888888,
              "#fdca26"
             ],
             [
              1,
              "#f0f921"
             ]
            ],
            "type": "contour"
           }
          ],
          "contourcarpet": [
           {
            "colorbar": {
             "outlinewidth": 0,
             "ticks": ""
            },
            "type": "contourcarpet"
           }
          ],
          "heatmap": [
           {
            "colorbar": {
             "outlinewidth": 0,
             "ticks": ""
            },
            "colorscale": [
             [
              0,
              "#0d0887"
             ],
             [
              0.1111111111111111,
              "#46039f"
             ],
             [
              0.2222222222222222,
              "#7201a8"
             ],
             [
              0.3333333333333333,
              "#9c179e"
             ],
             [
              0.4444444444444444,
              "#bd3786"
             ],
             [
              0.5555555555555556,
              "#d8576b"
             ],
             [
              0.6666666666666666,
              "#ed7953"
             ],
             [
              0.7777777777777778,
              "#fb9f3a"
             ],
             [
              0.8888888888888888,
              "#fdca26"
             ],
             [
              1,
              "#f0f921"
             ]
            ],
            "type": "heatmap"
           }
          ],
          "heatmapgl": [
           {
            "colorbar": {
             "outlinewidth": 0,
             "ticks": ""
            },
            "colorscale": [
             [
              0,
              "#0d0887"
             ],
             [
              0.1111111111111111,
              "#46039f"
             ],
             [
              0.2222222222222222,
              "#7201a8"
             ],
             [
              0.3333333333333333,
              "#9c179e"
             ],
             [
              0.4444444444444444,
              "#bd3786"
             ],
             [
              0.5555555555555556,
              "#d8576b"
             ],
             [
              0.6666666666666666,
              "#ed7953"
             ],
             [
              0.7777777777777778,
              "#fb9f3a"
             ],
             [
              0.8888888888888888,
              "#fdca26"
             ],
             [
              1,
              "#f0f921"
             ]
            ],
            "type": "heatmapgl"
           }
          ],
          "histogram": [
           {
            "marker": {
             "pattern": {
              "fillmode": "overlay",
              "size": 10,
              "solidity": 0.2
             }
            },
            "type": "histogram"
           }
          ],
          "histogram2d": [
           {
            "colorbar": {
             "outlinewidth": 0,
             "ticks": ""
            },
            "colorscale": [
             [
              0,
              "#0d0887"
             ],
             [
              0.1111111111111111,
              "#46039f"
             ],
             [
              0.2222222222222222,
              "#7201a8"
             ],
             [
              0.3333333333333333,
              "#9c179e"
             ],
             [
              0.4444444444444444,
              "#bd3786"
             ],
             [
              0.5555555555555556,
              "#d8576b"
             ],
             [
              0.6666666666666666,
              "#ed7953"
             ],
             [
              0.7777777777777778,
              "#fb9f3a"
             ],
             [
              0.8888888888888888,
              "#fdca26"
             ],
             [
              1,
              "#f0f921"
             ]
            ],
            "type": "histogram2d"
           }
          ],
          "histogram2dcontour": [
           {
            "colorbar": {
             "outlinewidth": 0,
             "ticks": ""
            },
            "colorscale": [
             [
              0,
              "#0d0887"
             ],
             [
              0.1111111111111111,
              "#46039f"
             ],
             [
              0.2222222222222222,
              "#7201a8"
             ],
             [
              0.3333333333333333,
              "#9c179e"
             ],
             [
              0.4444444444444444,
              "#bd3786"
             ],
             [
              0.5555555555555556,
              "#d8576b"
             ],
             [
              0.6666666666666666,
              "#ed7953"
             ],
             [
              0.7777777777777778,
              "#fb9f3a"
             ],
             [
              0.8888888888888888,
              "#fdca26"
             ],
             [
              1,
              "#f0f921"
             ]
            ],
            "type": "histogram2dcontour"
           }
          ],
          "mesh3d": [
           {
            "colorbar": {
             "outlinewidth": 0,
             "ticks": ""
            },
            "type": "mesh3d"
           }
          ],
          "parcoords": [
           {
            "line": {
             "colorbar": {
              "outlinewidth": 0,
              "ticks": ""
             }
            },
            "type": "parcoords"
           }
          ],
          "pie": [
           {
            "automargin": true,
            "type": "pie"
           }
          ],
          "scatter": [
           {
            "fillpattern": {
             "fillmode": "overlay",
             "size": 10,
             "solidity": 0.2
            },
            "type": "scatter"
           }
          ],
          "scatter3d": [
           {
            "line": {
             "colorbar": {
              "outlinewidth": 0,
              "ticks": ""
             }
            },
            "marker": {
             "colorbar": {
              "outlinewidth": 0,
              "ticks": ""
             }
            },
            "type": "scatter3d"
           }
          ],
          "scattercarpet": [
           {
            "marker": {
             "colorbar": {
              "outlinewidth": 0,
              "ticks": ""
             }
            },
            "type": "scattercarpet"
           }
          ],
          "scattergeo": [
           {
            "marker": {
             "colorbar": {
              "outlinewidth": 0,
              "ticks": ""
             }
            },
            "type": "scattergeo"
           }
          ],
          "scattergl": [
           {
            "marker": {
             "colorbar": {
              "outlinewidth": 0,
              "ticks": ""
             }
            },
            "type": "scattergl"
           }
          ],
          "scattermapbox": [
           {
            "marker": {
             "colorbar": {
              "outlinewidth": 0,
              "ticks": ""
             }
            },
            "type": "scattermapbox"
           }
          ],
          "scatterpolar": [
           {
            "marker": {
             "colorbar": {
              "outlinewidth": 0,
              "ticks": ""
             }
            },
            "type": "scatterpolar"
           }
          ],
          "scatterpolargl": [
           {
            "marker": {
             "colorbar": {
              "outlinewidth": 0,
              "ticks": ""
             }
            },
            "type": "scatterpolargl"
           }
          ],
          "scatterternary": [
           {
            "marker": {
             "colorbar": {
              "outlinewidth": 0,
              "ticks": ""
             }
            },
            "type": "scatterternary"
           }
          ],
          "surface": [
           {
            "colorbar": {
             "outlinewidth": 0,
             "ticks": ""
            },
            "colorscale": [
             [
              0,
              "#0d0887"
             ],
             [
              0.1111111111111111,
              "#46039f"
             ],
             [
              0.2222222222222222,
              "#7201a8"
             ],
             [
              0.3333333333333333,
              "#9c179e"
             ],
             [
              0.4444444444444444,
              "#bd3786"
             ],
             [
              0.5555555555555556,
              "#d8576b"
             ],
             [
              0.6666666666666666,
              "#ed7953"
             ],
             [
              0.7777777777777778,
              "#fb9f3a"
             ],
             [
              0.8888888888888888,
              "#fdca26"
             ],
             [
              1,
              "#f0f921"
             ]
            ],
            "type": "surface"
           }
          ],
          "table": [
           {
            "cells": {
             "fill": {
              "color": "#EBF0F8"
             },
             "line": {
              "color": "white"
             }
            },
            "header": {
             "fill": {
              "color": "#C8D4E3"
             },
             "line": {
              "color": "white"
             }
            },
            "type": "table"
           }
          ]
         },
         "layout": {
          "annotationdefaults": {
           "arrowcolor": "#2a3f5f",
           "arrowhead": 0,
           "arrowwidth": 1
          },
          "autotypenumbers": "strict",
          "coloraxis": {
           "colorbar": {
            "outlinewidth": 0,
            "ticks": ""
           }
          },
          "colorscale": {
           "diverging": [
            [
             0,
             "#8e0152"
            ],
            [
             0.1,
             "#c51b7d"
            ],
            [
             0.2,
             "#de77ae"
            ],
            [
             0.3,
             "#f1b6da"
            ],
            [
             0.4,
             "#fde0ef"
            ],
            [
             0.5,
             "#f7f7f7"
            ],
            [
             0.6,
             "#e6f5d0"
            ],
            [
             0.7,
             "#b8e186"
            ],
            [
             0.8,
             "#7fbc41"
            ],
            [
             0.9,
             "#4d9221"
            ],
            [
             1,
             "#276419"
            ]
           ],
           "sequential": [
            [
             0,
             "#0d0887"
            ],
            [
             0.1111111111111111,
             "#46039f"
            ],
            [
             0.2222222222222222,
             "#7201a8"
            ],
            [
             0.3333333333333333,
             "#9c179e"
            ],
            [
             0.4444444444444444,
             "#bd3786"
            ],
            [
             0.5555555555555556,
             "#d8576b"
            ],
            [
             0.6666666666666666,
             "#ed7953"
            ],
            [
             0.7777777777777778,
             "#fb9f3a"
            ],
            [
             0.8888888888888888,
             "#fdca26"
            ],
            [
             1,
             "#f0f921"
            ]
           ],
           "sequentialminus": [
            [
             0,
             "#0d0887"
            ],
            [
             0.1111111111111111,
             "#46039f"
            ],
            [
             0.2222222222222222,
             "#7201a8"
            ],
            [
             0.3333333333333333,
             "#9c179e"
            ],
            [
             0.4444444444444444,
             "#bd3786"
            ],
            [
             0.5555555555555556,
             "#d8576b"
            ],
            [
             0.6666666666666666,
             "#ed7953"
            ],
            [
             0.7777777777777778,
             "#fb9f3a"
            ],
            [
             0.8888888888888888,
             "#fdca26"
            ],
            [
             1,
             "#f0f921"
            ]
           ]
          },
          "colorway": [
           "#636efa",
           "#EF553B",
           "#00cc96",
           "#ab63fa",
           "#FFA15A",
           "#19d3f3",
           "#FF6692",
           "#B6E880",
           "#FF97FF",
           "#FECB52"
          ],
          "font": {
           "color": "#2a3f5f"
          },
          "geo": {
           "bgcolor": "white",
           "lakecolor": "white",
           "landcolor": "#E5ECF6",
           "showlakes": true,
           "showland": true,
           "subunitcolor": "white"
          },
          "hoverlabel": {
           "align": "left"
          },
          "hovermode": "closest",
          "mapbox": {
           "style": "light"
          },
          "paper_bgcolor": "white",
          "plot_bgcolor": "#E5ECF6",
          "polar": {
           "angularaxis": {
            "gridcolor": "white",
            "linecolor": "white",
            "ticks": ""
           },
           "bgcolor": "#E5ECF6",
           "radialaxis": {
            "gridcolor": "white",
            "linecolor": "white",
            "ticks": ""
           }
          },
          "scene": {
           "xaxis": {
            "backgroundcolor": "#E5ECF6",
            "gridcolor": "white",
            "gridwidth": 2,
            "linecolor": "white",
            "showbackground": true,
            "ticks": "",
            "zerolinecolor": "white"
           },
           "yaxis": {
            "backgroundcolor": "#E5ECF6",
            "gridcolor": "white",
            "gridwidth": 2,
            "linecolor": "white",
            "showbackground": true,
            "ticks": "",
            "zerolinecolor": "white"
           },
           "zaxis": {
            "backgroundcolor": "#E5ECF6",
            "gridcolor": "white",
            "gridwidth": 2,
            "linecolor": "white",
            "showbackground": true,
            "ticks": "",
            "zerolinecolor": "white"
           }
          },
          "shapedefaults": {
           "line": {
            "color": "#2a3f5f"
           }
          },
          "ternary": {
           "aaxis": {
            "gridcolor": "white",
            "linecolor": "white",
            "ticks": ""
           },
           "baxis": {
            "gridcolor": "white",
            "linecolor": "white",
            "ticks": ""
           },
           "bgcolor": "#E5ECF6",
           "caxis": {
            "gridcolor": "white",
            "linecolor": "white",
            "ticks": ""
           }
          },
          "title": {
           "x": 0.05
          },
          "xaxis": {
           "automargin": true,
           "gridcolor": "white",
           "linecolor": "white",
           "ticks": "",
           "title": {
            "standoff": 15
           },
           "zerolinecolor": "white",
           "zerolinewidth": 2
          },
          "yaxis": {
           "automargin": true,
           "gridcolor": "white",
           "linecolor": "white",
           "ticks": "",
           "title": {
            "standoff": 15
           },
           "zerolinecolor": "white",
           "zerolinewidth": 2
          }
         }
        },
        "title": {
         "text": "Verdeling van Inkomen"
        },
        "xaxis": {
         "anchor": "y",
         "domain": [
          0,
          1
         ],
         "title": {
          "text": "Inkomen"
         }
        },
        "yaxis": {
         "anchor": "x",
         "domain": [
          0,
          1
         ],
         "title": {
          "text": "Frequentie"
         }
        }
       }
      }
     },
     "metadata": {},
     "output_type": "display_data"
    },
    {
     "data": {
      "application/vnd.plotly.v1+json": {
       "config": {
        "plotlyServerURL": "https://plot.ly"
       },
       "data": [
        {
         "alignmentgroup": "True",
         "bingroup": "x",
         "hovertemplate": "lengte=%{x}<br>count=%{y}<extra></extra>",
         "legendgroup": "",
         "marker": {
          "color": "#636efa",
          "pattern": {
           "shape": ""
          }
         },
         "name": "",
         "nbinsx": 20,
         "offsetgroup": "",
         "orientation": "v",
         "showlegend": false,
         "type": "histogram",
         "x": [
          null,
          164,
          191,
          185,
          152,
          164,
          172,
          null,
          160,
          null,
          152,
          152,
          163,
          193,
          193,
          193,
          166,
          192,
          178,
          157,
          176,
          169,
          null,
          null,
          199,
          160,
          159,
          175,
          null,
          197,
          171,
          152,
          null,
          193,
          173,
          167,
          188,
          195,
          198,
          194,
          176,
          162,
          173,
          161,
          160,
          174,
          182,
          188,
          187,
          197,
          186,
          192,
          189,
          187,
          158,
          155,
          191,
          199,
          188,
          null,
          195,
          170,
          156,
          162,
          166,
          179,
          null,
          184,
          180,
          166,
          188,
          null,
          null,
          153,
          155,
          199,
          187,
          152,
          164,
          159,
          186,
          179,
          null,
          188,
          null,
          185,
          191,
          151,
          158,
          165,
          160,
          178,
          151,
          173,
          182,
          192,
          167,
          156,
          178,
          175,
          188,
          197,
          185,
          154,
          196,
          188,
          199,
          195,
          183,
          156,
          180,
          188,
          194,
          null,
          174,
          189,
          174,
          197,
          153,
          159,
          162,
          168,
          180,
          184,
          182,
          166,
          191,
          193,
          188,
          198,
          null,
          178,
          156,
          null,
          172,
          188,
          163,
          180,
          184,
          181,
          155,
          null,
          176,
          159,
          170,
          162,
          150,
          158,
          166,
          181,
          153,
          166,
          197,
          167,
          null,
          162,
          156,
          null,
          187,
          153,
          175,
          200,
          157,
          183,
          198,
          186,
          164,
          155,
          190,
          154,
          185,
          192,
          193,
          154,
          150,
          186,
          162,
          157,
          null,
          196,
          193,
          173,
          183,
          174,
          178,
          196,
          183,
          186,
          195,
          null,
          null,
          197,
          196,
          165,
          190,
          null,
          184,
          151,
          150,
          186,
          188,
          160,
          175,
          155,
          185,
          175,
          161,
          187,
          155,
          197,
          175,
          195,
          177,
          181,
          186,
          null,
          null,
          null,
          173,
          173,
          182,
          186,
          null,
          186,
          167,
          153,
          169,
          151,
          168,
          169,
          null,
          156,
          159,
          192,
          171,
          164,
          179,
          170,
          162,
          159,
          173,
          189,
          158,
          193,
          174,
          182,
          165,
          154,
          null,
          167,
          186,
          153,
          180,
          157,
          171,
          null,
          192,
          190,
          174,
          190,
          null,
          192,
          173,
          176,
          null,
          162,
          168,
          155,
          157,
          198,
          199,
          159,
          188,
          154,
          183,
          null,
          185,
          179,
          190,
          169,
          197,
          160,
          173,
          176,
          null,
          null,
          152,
          null,
          158,
          155,
          180,
          167,
          153,
          192,
          164,
          159,
          181,
          194,
          152,
          187,
          197,
          163,
          164,
          175,
          198,
          183,
          181,
          150,
          172,
          199,
          153,
          192,
          200,
          191,
          185,
          159,
          194,
          null,
          176,
          163,
          183,
          174,
          198,
          165,
          194,
          196,
          182,
          163,
          184,
          165,
          157,
          159,
          189,
          157,
          187,
          161,
          198,
          192,
          190,
          187,
          162,
          167,
          198,
          null,
          191,
          151,
          182,
          153,
          189,
          null,
          189,
          180,
          157,
          178,
          167,
          189,
          157,
          160,
          158,
          165,
          189,
          null,
          164,
          184,
          180,
          193,
          192,
          183,
          197,
          166,
          169,
          170,
          null,
          169,
          184,
          198,
          157,
          177,
          181,
          156,
          161,
          176,
          200,
          181,
          null,
          179,
          191,
          153,
          155,
          182,
          191,
          165,
          null,
          197,
          null,
          170,
          184,
          170,
          165,
          198,
          167,
          161,
          162,
          196,
          184,
          199,
          164,
          158,
          197,
          197,
          196,
          190,
          187,
          null,
          158,
          170,
          166,
          162,
          162,
          160,
          null,
          155,
          171,
          153,
          197,
          175,
          null,
          184,
          191,
          168,
          184,
          169,
          159,
          150,
          156,
          187,
          157,
          null,
          162,
          null,
          181,
          193,
          180,
          185,
          181,
          154,
          null,
          null,
          191,
          190,
          190,
          172,
          161,
          154,
          166,
          164,
          196,
          null,
          180,
          181,
          168,
          null,
          159,
          151,
          179,
          194,
          194,
          173,
          200,
          163,
          156,
          null,
          196,
          194,
          163,
          172,
          151,
          191,
          194,
          163,
          164,
          176,
          null,
          197,
          200,
          180,
          155,
          171,
          161,
          191,
          174,
          189,
          191,
          180,
          null,
          154,
          195,
          164,
          null,
          172,
          163,
          163,
          153,
          150,
          184,
          165,
          198,
          162,
          176,
          179,
          185,
          161,
          179,
          166,
          152,
          199,
          186,
          190,
          177,
          165,
          159,
          190,
          161,
          151,
          193,
          190,
          190,
          153,
          178,
          197,
          170,
          199,
          183,
          177,
          196,
          193,
          167,
          191,
          170,
          173,
          178,
          183,
          177,
          195,
          159,
          null,
          173,
          200,
          170,
          181,
          186,
          170,
          175,
          182,
          173,
          154,
          151,
          174,
          189,
          198,
          197,
          174,
          167,
          183,
          null,
          null,
          193,
          190,
          198,
          190,
          171,
          null,
          173,
          197,
          null,
          169,
          156,
          164,
          165,
          197,
          157,
          null,
          null,
          189,
          177,
          163,
          null,
          166,
          170,
          181,
          182,
          170,
          160,
          196,
          185,
          188,
          187,
          175,
          192,
          199,
          151,
          160,
          164,
          164,
          156,
          197,
          175,
          182,
          186,
          197,
          180,
          167,
          167,
          191,
          195,
          null,
          null,
          172,
          191,
          166,
          151,
          163,
          195,
          155,
          172,
          179,
          183,
          157,
          176,
          190,
          180,
          171,
          156,
          189,
          183,
          154,
          153,
          194,
          200,
          180,
          193,
          166,
          170,
          198,
          176,
          168,
          191,
          193,
          199,
          155,
          155,
          155,
          200,
          159,
          174,
          171,
          195,
          152,
          null,
          180,
          152,
          150,
          163,
          169,
          null,
          192,
          163,
          156,
          null,
          162,
          154,
          170,
          192,
          151,
          185,
          161,
          164,
          165,
          200,
          192,
          null,
          161,
          196,
          198,
          null,
          168,
          172,
          161,
          170,
          164,
          185,
          151,
          187,
          162,
          null,
          170,
          158,
          172,
          152,
          165,
          195,
          null,
          183,
          158,
          185,
          null,
          198,
          196,
          197,
          null,
          null,
          null,
          186,
          157,
          152,
          169,
          169,
          167,
          177,
          155,
          156,
          176,
          150,
          189,
          151,
          null,
          194,
          158,
          155,
          181,
          195,
          null,
          180,
          170,
          194,
          183,
          188,
          null,
          157,
          170,
          154,
          195,
          200,
          168,
          157,
          167,
          155,
          188,
          173,
          157,
          169,
          176,
          164,
          182,
          180,
          165,
          154,
          176,
          193,
          152,
          182,
          160,
          null,
          162,
          176,
          183,
          157,
          185,
          169,
          151,
          163,
          152,
          194,
          196,
          159,
          174,
          180,
          193,
          153,
          null,
          189,
          170,
          160,
          165,
          182,
          172,
          180,
          151,
          172,
          197,
          null,
          176,
          152,
          154,
          198,
          168,
          155,
          164,
          195,
          194,
          171,
          168,
          175,
          194,
          null,
          165,
          169,
          164,
          183,
          179,
          null,
          165,
          185,
          162,
          192,
          169,
          171,
          170,
          166,
          null,
          194,
          186,
          153,
          158,
          189,
          186,
          164,
          172,
          188,
          177,
          null,
          165,
          170,
          192,
          159,
          195,
          170,
          183,
          159,
          198,
          169,
          183,
          190,
          186,
          166,
          159,
          null,
          168,
          null,
          155,
          186,
          166,
          185,
          null,
          192,
          159,
          183,
          156,
          173,
          191,
          166,
          151,
          175,
          200,
          192,
          185,
          188,
          155,
          166,
          163,
          null,
          190,
          174,
          172,
          154,
          198,
          157,
          188,
          null,
          182,
          196,
          180,
          167,
          174,
          null,
          194,
          194,
          185,
          182,
          170,
          169,
          151,
          179,
          155,
          158,
          155,
          185,
          156,
          198,
          169,
          188,
          200,
          160,
          190,
          170,
          null,
          171,
          162,
          177,
          172,
          189,
          null,
          185,
          188,
          null,
          156,
          184,
          181,
          199,
          190,
          171,
          171,
          192,
          175,
          196,
          175,
          169,
          168,
          187,
          190,
          194,
          null,
          156,
          164,
          161,
          163,
          154,
          162,
          198,
          187,
          181,
          195,
          151,
          176,
          198,
          161,
          164,
          157,
          178,
          168,
          178,
          197,
          193,
          169,
          194,
          158,
          null,
          178,
          169,
          193,
          180,
          188,
          192,
          173,
          167,
          null,
          157,
          190,
          155,
          152,
          183,
          161,
          193,
          158,
          166,
          193,
          162,
          185,
          199,
          158,
          159,
          154,
          174,
          159,
          164,
          178,
          151,
          152,
          171,
          163,
          185,
          168,
          163,
          152,
          168,
          178,
          185,
          162,
          157,
          193
         ],
         "xaxis": "x",
         "yaxis": "y"
        }
       ],
       "layout": {
        "bargap": 0.2,
        "barmode": "relative",
        "legend": {
         "tracegroupgap": 0
        },
        "template": {
         "data": {
          "bar": [
           {
            "error_x": {
             "color": "#2a3f5f"
            },
            "error_y": {
             "color": "#2a3f5f"
            },
            "marker": {
             "line": {
              "color": "#E5ECF6",
              "width": 0.5
             },
             "pattern": {
              "fillmode": "overlay",
              "size": 10,
              "solidity": 0.2
             }
            },
            "type": "bar"
           }
          ],
          "barpolar": [
           {
            "marker": {
             "line": {
              "color": "#E5ECF6",
              "width": 0.5
             },
             "pattern": {
              "fillmode": "overlay",
              "size": 10,
              "solidity": 0.2
             }
            },
            "type": "barpolar"
           }
          ],
          "carpet": [
           {
            "aaxis": {
             "endlinecolor": "#2a3f5f",
             "gridcolor": "white",
             "linecolor": "white",
             "minorgridcolor": "white",
             "startlinecolor": "#2a3f5f"
            },
            "baxis": {
             "endlinecolor": "#2a3f5f",
             "gridcolor": "white",
             "linecolor": "white",
             "minorgridcolor": "white",
             "startlinecolor": "#2a3f5f"
            },
            "type": "carpet"
           }
          ],
          "choropleth": [
           {
            "colorbar": {
             "outlinewidth": 0,
             "ticks": ""
            },
            "type": "choropleth"
           }
          ],
          "contour": [
           {
            "colorbar": {
             "outlinewidth": 0,
             "ticks": ""
            },
            "colorscale": [
             [
              0,
              "#0d0887"
             ],
             [
              0.1111111111111111,
              "#46039f"
             ],
             [
              0.2222222222222222,
              "#7201a8"
             ],
             [
              0.3333333333333333,
              "#9c179e"
             ],
             [
              0.4444444444444444,
              "#bd3786"
             ],
             [
              0.5555555555555556,
              "#d8576b"
             ],
             [
              0.6666666666666666,
              "#ed7953"
             ],
             [
              0.7777777777777778,
              "#fb9f3a"
             ],
             [
              0.8888888888888888,
              "#fdca26"
             ],
             [
              1,
              "#f0f921"
             ]
            ],
            "type": "contour"
           }
          ],
          "contourcarpet": [
           {
            "colorbar": {
             "outlinewidth": 0,
             "ticks": ""
            },
            "type": "contourcarpet"
           }
          ],
          "heatmap": [
           {
            "colorbar": {
             "outlinewidth": 0,
             "ticks": ""
            },
            "colorscale": [
             [
              0,
              "#0d0887"
             ],
             [
              0.1111111111111111,
              "#46039f"
             ],
             [
              0.2222222222222222,
              "#7201a8"
             ],
             [
              0.3333333333333333,
              "#9c179e"
             ],
             [
              0.4444444444444444,
              "#bd3786"
             ],
             [
              0.5555555555555556,
              "#d8576b"
             ],
             [
              0.6666666666666666,
              "#ed7953"
             ],
             [
              0.7777777777777778,
              "#fb9f3a"
             ],
             [
              0.8888888888888888,
              "#fdca26"
             ],
             [
              1,
              "#f0f921"
             ]
            ],
            "type": "heatmap"
           }
          ],
          "heatmapgl": [
           {
            "colorbar": {
             "outlinewidth": 0,
             "ticks": ""
            },
            "colorscale": [
             [
              0,
              "#0d0887"
             ],
             [
              0.1111111111111111,
              "#46039f"
             ],
             [
              0.2222222222222222,
              "#7201a8"
             ],
             [
              0.3333333333333333,
              "#9c179e"
             ],
             [
              0.4444444444444444,
              "#bd3786"
             ],
             [
              0.5555555555555556,
              "#d8576b"
             ],
             [
              0.6666666666666666,
              "#ed7953"
             ],
             [
              0.7777777777777778,
              "#fb9f3a"
             ],
             [
              0.8888888888888888,
              "#fdca26"
             ],
             [
              1,
              "#f0f921"
             ]
            ],
            "type": "heatmapgl"
           }
          ],
          "histogram": [
           {
            "marker": {
             "pattern": {
              "fillmode": "overlay",
              "size": 10,
              "solidity": 0.2
             }
            },
            "type": "histogram"
           }
          ],
          "histogram2d": [
           {
            "colorbar": {
             "outlinewidth": 0,
             "ticks": ""
            },
            "colorscale": [
             [
              0,
              "#0d0887"
             ],
             [
              0.1111111111111111,
              "#46039f"
             ],
             [
              0.2222222222222222,
              "#7201a8"
             ],
             [
              0.3333333333333333,
              "#9c179e"
             ],
             [
              0.4444444444444444,
              "#bd3786"
             ],
             [
              0.5555555555555556,
              "#d8576b"
             ],
             [
              0.6666666666666666,
              "#ed7953"
             ],
             [
              0.7777777777777778,
              "#fb9f3a"
             ],
             [
              0.8888888888888888,
              "#fdca26"
             ],
             [
              1,
              "#f0f921"
             ]
            ],
            "type": "histogram2d"
           }
          ],
          "histogram2dcontour": [
           {
            "colorbar": {
             "outlinewidth": 0,
             "ticks": ""
            },
            "colorscale": [
             [
              0,
              "#0d0887"
             ],
             [
              0.1111111111111111,
              "#46039f"
             ],
             [
              0.2222222222222222,
              "#7201a8"
             ],
             [
              0.3333333333333333,
              "#9c179e"
             ],
             [
              0.4444444444444444,
              "#bd3786"
             ],
             [
              0.5555555555555556,
              "#d8576b"
             ],
             [
              0.6666666666666666,
              "#ed7953"
             ],
             [
              0.7777777777777778,
              "#fb9f3a"
             ],
             [
              0.8888888888888888,
              "#fdca26"
             ],
             [
              1,
              "#f0f921"
             ]
            ],
            "type": "histogram2dcontour"
           }
          ],
          "mesh3d": [
           {
            "colorbar": {
             "outlinewidth": 0,
             "ticks": ""
            },
            "type": "mesh3d"
           }
          ],
          "parcoords": [
           {
            "line": {
             "colorbar": {
              "outlinewidth": 0,
              "ticks": ""
             }
            },
            "type": "parcoords"
           }
          ],
          "pie": [
           {
            "automargin": true,
            "type": "pie"
           }
          ],
          "scatter": [
           {
            "fillpattern": {
             "fillmode": "overlay",
             "size": 10,
             "solidity": 0.2
            },
            "type": "scatter"
           }
          ],
          "scatter3d": [
           {
            "line": {
             "colorbar": {
              "outlinewidth": 0,
              "ticks": ""
             }
            },
            "marker": {
             "colorbar": {
              "outlinewidth": 0,
              "ticks": ""
             }
            },
            "type": "scatter3d"
           }
          ],
          "scattercarpet": [
           {
            "marker": {
             "colorbar": {
              "outlinewidth": 0,
              "ticks": ""
             }
            },
            "type": "scattercarpet"
           }
          ],
          "scattergeo": [
           {
            "marker": {
             "colorbar": {
              "outlinewidth": 0,
              "ticks": ""
             }
            },
            "type": "scattergeo"
           }
          ],
          "scattergl": [
           {
            "marker": {
             "colorbar": {
              "outlinewidth": 0,
              "ticks": ""
             }
            },
            "type": "scattergl"
           }
          ],
          "scattermapbox": [
           {
            "marker": {
             "colorbar": {
              "outlinewidth": 0,
              "ticks": ""
             }
            },
            "type": "scattermapbox"
           }
          ],
          "scatterpolar": [
           {
            "marker": {
             "colorbar": {
              "outlinewidth": 0,
              "ticks": ""
             }
            },
            "type": "scatterpolar"
           }
          ],
          "scatterpolargl": [
           {
            "marker": {
             "colorbar": {
              "outlinewidth": 0,
              "ticks": ""
             }
            },
            "type": "scatterpolargl"
           }
          ],
          "scatterternary": [
           {
            "marker": {
             "colorbar": {
              "outlinewidth": 0,
              "ticks": ""
             }
            },
            "type": "scatterternary"
           }
          ],
          "surface": [
           {
            "colorbar": {
             "outlinewidth": 0,
             "ticks": ""
            },
            "colorscale": [
             [
              0,
              "#0d0887"
             ],
             [
              0.1111111111111111,
              "#46039f"
             ],
             [
              0.2222222222222222,
              "#7201a8"
             ],
             [
              0.3333333333333333,
              "#9c179e"
             ],
             [
              0.4444444444444444,
              "#bd3786"
             ],
             [
              0.5555555555555556,
              "#d8576b"
             ],
             [
              0.6666666666666666,
              "#ed7953"
             ],
             [
              0.7777777777777778,
              "#fb9f3a"
             ],
             [
              0.8888888888888888,
              "#fdca26"
             ],
             [
              1,
              "#f0f921"
             ]
            ],
            "type": "surface"
           }
          ],
          "table": [
           {
            "cells": {
             "fill": {
              "color": "#EBF0F8"
             },
             "line": {
              "color": "white"
             }
            },
            "header": {
             "fill": {
              "color": "#C8D4E3"
             },
             "line": {
              "color": "white"
             }
            },
            "type": "table"
           }
          ]
         },
         "layout": {
          "annotationdefaults": {
           "arrowcolor": "#2a3f5f",
           "arrowhead": 0,
           "arrowwidth": 1
          },
          "autotypenumbers": "strict",
          "coloraxis": {
           "colorbar": {
            "outlinewidth": 0,
            "ticks": ""
           }
          },
          "colorscale": {
           "diverging": [
            [
             0,
             "#8e0152"
            ],
            [
             0.1,
             "#c51b7d"
            ],
            [
             0.2,
             "#de77ae"
            ],
            [
             0.3,
             "#f1b6da"
            ],
            [
             0.4,
             "#fde0ef"
            ],
            [
             0.5,
             "#f7f7f7"
            ],
            [
             0.6,
             "#e6f5d0"
            ],
            [
             0.7,
             "#b8e186"
            ],
            [
             0.8,
             "#7fbc41"
            ],
            [
             0.9,
             "#4d9221"
            ],
            [
             1,
             "#276419"
            ]
           ],
           "sequential": [
            [
             0,
             "#0d0887"
            ],
            [
             0.1111111111111111,
             "#46039f"
            ],
            [
             0.2222222222222222,
             "#7201a8"
            ],
            [
             0.3333333333333333,
             "#9c179e"
            ],
            [
             0.4444444444444444,
             "#bd3786"
            ],
            [
             0.5555555555555556,
             "#d8576b"
            ],
            [
             0.6666666666666666,
             "#ed7953"
            ],
            [
             0.7777777777777778,
             "#fb9f3a"
            ],
            [
             0.8888888888888888,
             "#fdca26"
            ],
            [
             1,
             "#f0f921"
            ]
           ],
           "sequentialminus": [
            [
             0,
             "#0d0887"
            ],
            [
             0.1111111111111111,
             "#46039f"
            ],
            [
             0.2222222222222222,
             "#7201a8"
            ],
            [
             0.3333333333333333,
             "#9c179e"
            ],
            [
             0.4444444444444444,
             "#bd3786"
            ],
            [
             0.5555555555555556,
             "#d8576b"
            ],
            [
             0.6666666666666666,
             "#ed7953"
            ],
            [
             0.7777777777777778,
             "#fb9f3a"
            ],
            [
             0.8888888888888888,
             "#fdca26"
            ],
            [
             1,
             "#f0f921"
            ]
           ]
          },
          "colorway": [
           "#636efa",
           "#EF553B",
           "#00cc96",
           "#ab63fa",
           "#FFA15A",
           "#19d3f3",
           "#FF6692",
           "#B6E880",
           "#FF97FF",
           "#FECB52"
          ],
          "font": {
           "color": "#2a3f5f"
          },
          "geo": {
           "bgcolor": "white",
           "lakecolor": "white",
           "landcolor": "#E5ECF6",
           "showlakes": true,
           "showland": true,
           "subunitcolor": "white"
          },
          "hoverlabel": {
           "align": "left"
          },
          "hovermode": "closest",
          "mapbox": {
           "style": "light"
          },
          "paper_bgcolor": "white",
          "plot_bgcolor": "#E5ECF6",
          "polar": {
           "angularaxis": {
            "gridcolor": "white",
            "linecolor": "white",
            "ticks": ""
           },
           "bgcolor": "#E5ECF6",
           "radialaxis": {
            "gridcolor": "white",
            "linecolor": "white",
            "ticks": ""
           }
          },
          "scene": {
           "xaxis": {
            "backgroundcolor": "#E5ECF6",
            "gridcolor": "white",
            "gridwidth": 2,
            "linecolor": "white",
            "showbackground": true,
            "ticks": "",
            "zerolinecolor": "white"
           },
           "yaxis": {
            "backgroundcolor": "#E5ECF6",
            "gridcolor": "white",
            "gridwidth": 2,
            "linecolor": "white",
            "showbackground": true,
            "ticks": "",
            "zerolinecolor": "white"
           },
           "zaxis": {
            "backgroundcolor": "#E5ECF6",
            "gridcolor": "white",
            "gridwidth": 2,
            "linecolor": "white",
            "showbackground": true,
            "ticks": "",
            "zerolinecolor": "white"
           }
          },
          "shapedefaults": {
           "line": {
            "color": "#2a3f5f"
           }
          },
          "ternary": {
           "aaxis": {
            "gridcolor": "white",
            "linecolor": "white",
            "ticks": ""
           },
           "baxis": {
            "gridcolor": "white",
            "linecolor": "white",
            "ticks": ""
           },
           "bgcolor": "#E5ECF6",
           "caxis": {
            "gridcolor": "white",
            "linecolor": "white",
            "ticks": ""
           }
          },
          "title": {
           "x": 0.05
          },
          "xaxis": {
           "automargin": true,
           "gridcolor": "white",
           "linecolor": "white",
           "ticks": "",
           "title": {
            "standoff": 15
           },
           "zerolinecolor": "white",
           "zerolinewidth": 2
          },
          "yaxis": {
           "automargin": true,
           "gridcolor": "white",
           "linecolor": "white",
           "ticks": "",
           "title": {
            "standoff": 15
           },
           "zerolinecolor": "white",
           "zerolinewidth": 2
          }
         }
        },
        "title": {
         "text": "Verdeling van lengte"
        },
        "xaxis": {
         "anchor": "y",
         "domain": [
          0,
          1
         ],
         "title": {
          "text": "lengte"
         }
        },
        "yaxis": {
         "anchor": "x",
         "domain": [
          0,
          1
         ],
         "title": {
          "text": "Frequentie"
         }
        }
       }
      }
     },
     "metadata": {},
     "output_type": "display_data"
    },
    {
     "data": {
      "application/vnd.plotly.v1+json": {
       "config": {
        "plotlyServerURL": "https://plot.ly"
       },
       "data": [
        {
         "alignmentgroup": "True",
         "bingroup": "x",
         "hovertemplate": "gewicht=%{x}<br>count=%{y}<extra></extra>",
         "legendgroup": "",
         "marker": {
          "color": "#636efa",
          "pattern": {
           "shape": ""
          }
         },
         "name": "",
         "nbinsx": 20,
         "offsetgroup": "",
         "orientation": "v",
         "showlegend": false,
         "type": "histogram",
         "x": [
          59,
          103,
          74,
          null,
          114,
          80,
          83,
          114,
          77,
          92,
          91,
          116,
          102,
          80,
          92,
          108,
          94,
          72,
          99,
          75,
          89,
          null,
          82,
          108,
          59,
          65,
          59,
          80,
          77,
          63,
          117,
          null,
          62,
          51,
          99,
          96,
          95,
          52,
          115,
          null,
          67,
          72,
          80,
          54,
          104,
          52,
          88,
          58,
          null,
          103,
          null,
          81,
          101,
          82,
          109,
          96,
          67,
          62,
          78,
          117,
          112,
          72,
          95,
          null,
          100,
          55,
          104,
          65,
          61,
          89,
          null,
          59,
          106,
          null,
          58,
          107,
          null,
          null,
          116,
          71,
          69,
          63,
          59,
          106,
          69,
          93,
          71,
          103,
          89,
          54,
          114,
          111,
          52,
          94,
          59,
          60,
          null,
          100,
          90,
          null,
          79,
          null,
          105,
          93,
          110,
          74,
          101,
          55,
          65,
          null,
          66,
          78,
          84,
          52,
          116,
          95,
          87,
          109,
          null,
          55,
          67,
          103,
          93,
          109,
          89,
          115,
          62,
          84,
          null,
          61,
          52,
          null,
          52,
          79,
          107,
          68,
          55,
          96,
          null,
          66,
          72,
          55,
          102,
          82,
          null,
          null,
          107,
          65,
          106,
          82,
          90,
          93,
          87,
          111,
          107,
          58,
          112,
          50,
          null,
          83,
          null,
          null,
          74,
          103,
          91,
          57,
          84,
          null,
          73,
          98,
          73,
          95,
          86,
          null,
          57,
          84,
          72,
          115,
          59,
          112,
          67,
          83,
          93,
          92,
          104,
          83,
          53,
          78,
          81,
          95,
          null,
          79,
          null,
          70,
          108,
          75,
          57,
          117,
          65,
          73,
          97,
          63,
          101,
          null,
          112,
          92,
          107,
          110,
          112,
          52,
          52,
          73,
          105,
          117,
          86,
          74,
          79,
          96,
          67,
          69,
          null,
          75,
          59,
          109,
          67,
          52,
          null,
          102,
          105,
          107,
          84,
          94,
          63,
          72,
          null,
          91,
          100,
          67,
          55,
          52,
          106,
          101,
          110,
          55,
          72,
          76,
          98,
          112,
          79,
          85,
          99,
          84,
          102,
          56,
          78,
          97,
          78,
          111,
          64,
          90,
          114,
          50,
          94,
          81,
          64,
          75,
          106,
          63,
          63,
          67,
          85,
          101,
          89,
          92,
          119,
          118,
          94,
          74,
          105,
          97,
          65,
          51,
          72,
          78,
          112,
          106,
          76,
          98,
          107,
          80,
          76,
          50,
          74,
          88,
          52,
          118,
          105,
          null,
          96,
          53,
          92,
          56,
          97,
          91,
          66,
          103,
          null,
          114,
          70,
          118,
          103,
          115,
          113,
          61,
          55,
          113,
          50,
          null,
          100,
          103,
          62,
          50,
          110,
          105,
          99,
          61,
          105,
          75,
          102,
          null,
          null,
          107,
          98,
          116,
          89,
          90,
          76,
          62,
          null,
          95,
          98,
          89,
          71,
          110,
          59,
          51,
          64,
          61,
          86,
          103,
          56,
          80,
          112,
          71,
          100,
          114,
          75,
          116,
          64,
          73,
          76,
          119,
          84,
          80,
          93,
          60,
          86,
          102,
          87,
          63,
          63,
          90,
          100,
          109,
          55,
          null,
          59,
          79,
          96,
          69,
          104,
          74,
          96,
          114,
          120,
          76,
          82,
          64,
          77,
          77,
          120,
          74,
          94,
          64,
          105,
          77,
          86,
          55,
          90,
          85,
          69,
          94,
          79,
          115,
          63,
          79,
          null,
          116,
          53,
          65,
          108,
          104,
          120,
          73,
          94,
          111,
          107,
          93,
          119,
          60,
          81,
          95,
          118,
          54,
          118,
          66,
          95,
          101,
          97,
          54,
          90,
          76,
          90,
          101,
          51,
          88,
          81,
          64,
          82,
          80,
          50,
          98,
          52,
          56,
          53,
          51,
          101,
          52,
          70,
          57,
          91,
          115,
          92,
          91,
          119,
          75,
          94,
          117,
          84,
          73,
          64,
          102,
          102,
          null,
          65,
          109,
          77,
          91,
          63,
          null,
          77,
          null,
          null,
          null,
          99,
          81,
          83,
          83,
          108,
          62,
          68,
          119,
          63,
          77,
          109,
          81,
          57,
          94,
          75,
          50,
          93,
          null,
          65,
          116,
          115,
          99,
          62,
          79,
          119,
          80,
          115,
          78,
          null,
          113,
          78,
          null,
          106,
          79,
          62,
          72,
          53,
          95,
          115,
          117,
          60,
          54,
          null,
          71,
          107,
          50,
          78,
          68,
          77,
          110,
          64,
          53,
          75,
          79,
          null,
          119,
          null,
          110,
          112,
          91,
          116,
          116,
          null,
          55,
          82,
          null,
          113,
          56,
          97,
          null,
          87,
          79,
          58,
          83,
          101,
          55,
          69,
          89,
          67,
          80,
          96,
          102,
          74,
          83,
          91,
          82,
          null,
          61,
          79,
          67,
          95,
          105,
          null,
          88,
          76,
          120,
          114,
          72,
          84,
          97,
          117,
          60,
          60,
          106,
          113,
          77,
          74,
          null,
          94,
          106,
          82,
          null,
          78,
          91,
          51,
          73,
          88,
          93,
          77,
          52,
          110,
          80,
          71,
          109,
          67,
          75,
          55,
          120,
          107,
          53,
          74,
          106,
          85,
          86,
          108,
          null,
          66,
          92,
          95,
          103,
          53,
          112,
          108,
          89,
          79,
          84,
          62,
          79,
          null,
          76,
          61,
          65,
          89,
          96,
          109,
          98,
          null,
          115,
          93,
          119,
          119,
          54,
          null,
          null,
          106,
          null,
          73,
          91,
          63,
          110,
          106,
          77,
          80,
          null,
          68,
          101,
          89,
          96,
          107,
          75,
          86,
          null,
          101,
          100,
          90,
          114,
          52,
          109,
          59,
          96,
          75,
          113,
          69,
          85,
          51,
          108,
          95,
          61,
          109,
          68,
          106,
          104,
          104,
          76,
          113,
          null,
          75,
          null,
          55,
          76,
          89,
          60,
          98,
          109,
          103,
          93,
          null,
          103,
          107,
          81,
          100,
          79,
          51,
          68,
          114,
          65,
          116,
          59,
          76,
          110,
          65,
          110,
          103,
          114,
          78,
          73,
          81,
          null,
          86,
          64,
          null,
          80,
          71,
          120,
          54,
          73,
          70,
          100,
          null,
          117,
          67,
          63,
          100,
          102,
          113,
          119,
          52,
          null,
          null,
          120,
          66,
          53,
          112,
          null,
          75,
          58,
          56,
          null,
          86,
          66,
          91,
          105,
          84,
          55,
          80,
          105,
          113,
          52,
          69,
          67,
          69,
          97,
          59,
          null,
          null,
          56,
          66,
          55,
          58,
          101,
          113,
          115,
          104,
          120,
          111,
          null,
          101,
          87,
          71,
          57,
          85,
          99,
          61,
          97,
          68,
          90,
          50,
          91,
          77,
          null,
          64,
          91,
          61,
          81,
          104,
          71,
          91,
          96,
          81,
          109,
          111,
          116,
          88,
          71,
          90,
          78,
          114,
          119,
          87,
          69,
          72,
          53,
          81,
          103,
          92,
          95,
          70,
          91,
          null,
          70,
          null,
          null,
          null,
          62,
          117,
          null,
          59,
          76,
          62,
          75,
          103,
          108,
          null,
          56,
          82,
          100,
          106,
          68,
          61,
          91,
          119,
          114,
          97,
          65,
          117,
          99,
          83,
          65,
          114,
          108,
          91,
          108,
          63,
          77,
          63,
          60,
          56,
          100,
          75,
          83,
          59,
          89,
          56,
          null,
          80,
          61,
          64,
          105,
          111,
          83,
          null,
          64,
          78,
          null,
          115,
          null,
          97,
          56,
          64,
          119,
          62,
          89,
          109,
          80,
          88,
          106,
          79,
          54,
          109,
          100,
          null,
          68,
          52,
          69,
          86,
          71,
          103,
          72,
          72,
          57,
          95,
          89,
          69,
          51,
          55,
          74,
          88,
          71,
          57,
          90,
          88,
          75,
          53,
          51,
          91,
          68,
          68,
          117,
          64,
          96,
          64,
          69,
          null,
          104,
          99,
          64,
          56,
          113,
          107,
          116,
          65,
          81,
          66,
          58,
          55,
          102,
          104,
          70,
          113,
          100,
          74,
          59,
          92,
          95,
          108,
          109,
          null,
          101,
          null,
          null,
          59,
          null,
          110,
          74,
          107,
          59,
          66,
          102,
          52,
          89,
          null,
          106,
          80,
          76,
          89,
          85,
          null,
          56,
          91,
          62,
          67,
          69,
          117,
          85,
          51,
          52,
          70,
          119,
          105,
          81,
          101,
          105,
          95,
          104,
          109,
          73,
          90,
          82,
          93,
          null,
          null,
          71,
          73,
          97,
          66,
          88,
          100,
          50,
          98,
          64,
          84,
          55,
          83,
          54,
          87,
          92
         ],
         "xaxis": "x",
         "yaxis": "y"
        }
       ],
       "layout": {
        "bargap": 0.2,
        "barmode": "relative",
        "legend": {
         "tracegroupgap": 0
        },
        "template": {
         "data": {
          "bar": [
           {
            "error_x": {
             "color": "#2a3f5f"
            },
            "error_y": {
             "color": "#2a3f5f"
            },
            "marker": {
             "line": {
              "color": "#E5ECF6",
              "width": 0.5
             },
             "pattern": {
              "fillmode": "overlay",
              "size": 10,
              "solidity": 0.2
             }
            },
            "type": "bar"
           }
          ],
          "barpolar": [
           {
            "marker": {
             "line": {
              "color": "#E5ECF6",
              "width": 0.5
             },
             "pattern": {
              "fillmode": "overlay",
              "size": 10,
              "solidity": 0.2
             }
            },
            "type": "barpolar"
           }
          ],
          "carpet": [
           {
            "aaxis": {
             "endlinecolor": "#2a3f5f",
             "gridcolor": "white",
             "linecolor": "white",
             "minorgridcolor": "white",
             "startlinecolor": "#2a3f5f"
            },
            "baxis": {
             "endlinecolor": "#2a3f5f",
             "gridcolor": "white",
             "linecolor": "white",
             "minorgridcolor": "white",
             "startlinecolor": "#2a3f5f"
            },
            "type": "carpet"
           }
          ],
          "choropleth": [
           {
            "colorbar": {
             "outlinewidth": 0,
             "ticks": ""
            },
            "type": "choropleth"
           }
          ],
          "contour": [
           {
            "colorbar": {
             "outlinewidth": 0,
             "ticks": ""
            },
            "colorscale": [
             [
              0,
              "#0d0887"
             ],
             [
              0.1111111111111111,
              "#46039f"
             ],
             [
              0.2222222222222222,
              "#7201a8"
             ],
             [
              0.3333333333333333,
              "#9c179e"
             ],
             [
              0.4444444444444444,
              "#bd3786"
             ],
             [
              0.5555555555555556,
              "#d8576b"
             ],
             [
              0.6666666666666666,
              "#ed7953"
             ],
             [
              0.7777777777777778,
              "#fb9f3a"
             ],
             [
              0.8888888888888888,
              "#fdca26"
             ],
             [
              1,
              "#f0f921"
             ]
            ],
            "type": "contour"
           }
          ],
          "contourcarpet": [
           {
            "colorbar": {
             "outlinewidth": 0,
             "ticks": ""
            },
            "type": "contourcarpet"
           }
          ],
          "heatmap": [
           {
            "colorbar": {
             "outlinewidth": 0,
             "ticks": ""
            },
            "colorscale": [
             [
              0,
              "#0d0887"
             ],
             [
              0.1111111111111111,
              "#46039f"
             ],
             [
              0.2222222222222222,
              "#7201a8"
             ],
             [
              0.3333333333333333,
              "#9c179e"
             ],
             [
              0.4444444444444444,
              "#bd3786"
             ],
             [
              0.5555555555555556,
              "#d8576b"
             ],
             [
              0.6666666666666666,
              "#ed7953"
             ],
             [
              0.7777777777777778,
              "#fb9f3a"
             ],
             [
              0.8888888888888888,
              "#fdca26"
             ],
             [
              1,
              "#f0f921"
             ]
            ],
            "type": "heatmap"
           }
          ],
          "heatmapgl": [
           {
            "colorbar": {
             "outlinewidth": 0,
             "ticks": ""
            },
            "colorscale": [
             [
              0,
              "#0d0887"
             ],
             [
              0.1111111111111111,
              "#46039f"
             ],
             [
              0.2222222222222222,
              "#7201a8"
             ],
             [
              0.3333333333333333,
              "#9c179e"
             ],
             [
              0.4444444444444444,
              "#bd3786"
             ],
             [
              0.5555555555555556,
              "#d8576b"
             ],
             [
              0.6666666666666666,
              "#ed7953"
             ],
             [
              0.7777777777777778,
              "#fb9f3a"
             ],
             [
              0.8888888888888888,
              "#fdca26"
             ],
             [
              1,
              "#f0f921"
             ]
            ],
            "type": "heatmapgl"
           }
          ],
          "histogram": [
           {
            "marker": {
             "pattern": {
              "fillmode": "overlay",
              "size": 10,
              "solidity": 0.2
             }
            },
            "type": "histogram"
           }
          ],
          "histogram2d": [
           {
            "colorbar": {
             "outlinewidth": 0,
             "ticks": ""
            },
            "colorscale": [
             [
              0,
              "#0d0887"
             ],
             [
              0.1111111111111111,
              "#46039f"
             ],
             [
              0.2222222222222222,
              "#7201a8"
             ],
             [
              0.3333333333333333,
              "#9c179e"
             ],
             [
              0.4444444444444444,
              "#bd3786"
             ],
             [
              0.5555555555555556,
              "#d8576b"
             ],
             [
              0.6666666666666666,
              "#ed7953"
             ],
             [
              0.7777777777777778,
              "#fb9f3a"
             ],
             [
              0.8888888888888888,
              "#fdca26"
             ],
             [
              1,
              "#f0f921"
             ]
            ],
            "type": "histogram2d"
           }
          ],
          "histogram2dcontour": [
           {
            "colorbar": {
             "outlinewidth": 0,
             "ticks": ""
            },
            "colorscale": [
             [
              0,
              "#0d0887"
             ],
             [
              0.1111111111111111,
              "#46039f"
             ],
             [
              0.2222222222222222,
              "#7201a8"
             ],
             [
              0.3333333333333333,
              "#9c179e"
             ],
             [
              0.4444444444444444,
              "#bd3786"
             ],
             [
              0.5555555555555556,
              "#d8576b"
             ],
             [
              0.6666666666666666,
              "#ed7953"
             ],
             [
              0.7777777777777778,
              "#fb9f3a"
             ],
             [
              0.8888888888888888,
              "#fdca26"
             ],
             [
              1,
              "#f0f921"
             ]
            ],
            "type": "histogram2dcontour"
           }
          ],
          "mesh3d": [
           {
            "colorbar": {
             "outlinewidth": 0,
             "ticks": ""
            },
            "type": "mesh3d"
           }
          ],
          "parcoords": [
           {
            "line": {
             "colorbar": {
              "outlinewidth": 0,
              "ticks": ""
             }
            },
            "type": "parcoords"
           }
          ],
          "pie": [
           {
            "automargin": true,
            "type": "pie"
           }
          ],
          "scatter": [
           {
            "fillpattern": {
             "fillmode": "overlay",
             "size": 10,
             "solidity": 0.2
            },
            "type": "scatter"
           }
          ],
          "scatter3d": [
           {
            "line": {
             "colorbar": {
              "outlinewidth": 0,
              "ticks": ""
             }
            },
            "marker": {
             "colorbar": {
              "outlinewidth": 0,
              "ticks": ""
             }
            },
            "type": "scatter3d"
           }
          ],
          "scattercarpet": [
           {
            "marker": {
             "colorbar": {
              "outlinewidth": 0,
              "ticks": ""
             }
            },
            "type": "scattercarpet"
           }
          ],
          "scattergeo": [
           {
            "marker": {
             "colorbar": {
              "outlinewidth": 0,
              "ticks": ""
             }
            },
            "type": "scattergeo"
           }
          ],
          "scattergl": [
           {
            "marker": {
             "colorbar": {
              "outlinewidth": 0,
              "ticks": ""
             }
            },
            "type": "scattergl"
           }
          ],
          "scattermapbox": [
           {
            "marker": {
             "colorbar": {
              "outlinewidth": 0,
              "ticks": ""
             }
            },
            "type": "scattermapbox"
           }
          ],
          "scatterpolar": [
           {
            "marker": {
             "colorbar": {
              "outlinewidth": 0,
              "ticks": ""
             }
            },
            "type": "scatterpolar"
           }
          ],
          "scatterpolargl": [
           {
            "marker": {
             "colorbar": {
              "outlinewidth": 0,
              "ticks": ""
             }
            },
            "type": "scatterpolargl"
           }
          ],
          "scatterternary": [
           {
            "marker": {
             "colorbar": {
              "outlinewidth": 0,
              "ticks": ""
             }
            },
            "type": "scatterternary"
           }
          ],
          "surface": [
           {
            "colorbar": {
             "outlinewidth": 0,
             "ticks": ""
            },
            "colorscale": [
             [
              0,
              "#0d0887"
             ],
             [
              0.1111111111111111,
              "#46039f"
             ],
             [
              0.2222222222222222,
              "#7201a8"
             ],
             [
              0.3333333333333333,
              "#9c179e"
             ],
             [
              0.4444444444444444,
              "#bd3786"
             ],
             [
              0.5555555555555556,
              "#d8576b"
             ],
             [
              0.6666666666666666,
              "#ed7953"
             ],
             [
              0.7777777777777778,
              "#fb9f3a"
             ],
             [
              0.8888888888888888,
              "#fdca26"
             ],
             [
              1,
              "#f0f921"
             ]
            ],
            "type": "surface"
           }
          ],
          "table": [
           {
            "cells": {
             "fill": {
              "color": "#EBF0F8"
             },
             "line": {
              "color": "white"
             }
            },
            "header": {
             "fill": {
              "color": "#C8D4E3"
             },
             "line": {
              "color": "white"
             }
            },
            "type": "table"
           }
          ]
         },
         "layout": {
          "annotationdefaults": {
           "arrowcolor": "#2a3f5f",
           "arrowhead": 0,
           "arrowwidth": 1
          },
          "autotypenumbers": "strict",
          "coloraxis": {
           "colorbar": {
            "outlinewidth": 0,
            "ticks": ""
           }
          },
          "colorscale": {
           "diverging": [
            [
             0,
             "#8e0152"
            ],
            [
             0.1,
             "#c51b7d"
            ],
            [
             0.2,
             "#de77ae"
            ],
            [
             0.3,
             "#f1b6da"
            ],
            [
             0.4,
             "#fde0ef"
            ],
            [
             0.5,
             "#f7f7f7"
            ],
            [
             0.6,
             "#e6f5d0"
            ],
            [
             0.7,
             "#b8e186"
            ],
            [
             0.8,
             "#7fbc41"
            ],
            [
             0.9,
             "#4d9221"
            ],
            [
             1,
             "#276419"
            ]
           ],
           "sequential": [
            [
             0,
             "#0d0887"
            ],
            [
             0.1111111111111111,
             "#46039f"
            ],
            [
             0.2222222222222222,
             "#7201a8"
            ],
            [
             0.3333333333333333,
             "#9c179e"
            ],
            [
             0.4444444444444444,
             "#bd3786"
            ],
            [
             0.5555555555555556,
             "#d8576b"
            ],
            [
             0.6666666666666666,
             "#ed7953"
            ],
            [
             0.7777777777777778,
             "#fb9f3a"
            ],
            [
             0.8888888888888888,
             "#fdca26"
            ],
            [
             1,
             "#f0f921"
            ]
           ],
           "sequentialminus": [
            [
             0,
             "#0d0887"
            ],
            [
             0.1111111111111111,
             "#46039f"
            ],
            [
             0.2222222222222222,
             "#7201a8"
            ],
            [
             0.3333333333333333,
             "#9c179e"
            ],
            [
             0.4444444444444444,
             "#bd3786"
            ],
            [
             0.5555555555555556,
             "#d8576b"
            ],
            [
             0.6666666666666666,
             "#ed7953"
            ],
            [
             0.7777777777777778,
             "#fb9f3a"
            ],
            [
             0.8888888888888888,
             "#fdca26"
            ],
            [
             1,
             "#f0f921"
            ]
           ]
          },
          "colorway": [
           "#636efa",
           "#EF553B",
           "#00cc96",
           "#ab63fa",
           "#FFA15A",
           "#19d3f3",
           "#FF6692",
           "#B6E880",
           "#FF97FF",
           "#FECB52"
          ],
          "font": {
           "color": "#2a3f5f"
          },
          "geo": {
           "bgcolor": "white",
           "lakecolor": "white",
           "landcolor": "#E5ECF6",
           "showlakes": true,
           "showland": true,
           "subunitcolor": "white"
          },
          "hoverlabel": {
           "align": "left"
          },
          "hovermode": "closest",
          "mapbox": {
           "style": "light"
          },
          "paper_bgcolor": "white",
          "plot_bgcolor": "#E5ECF6",
          "polar": {
           "angularaxis": {
            "gridcolor": "white",
            "linecolor": "white",
            "ticks": ""
           },
           "bgcolor": "#E5ECF6",
           "radialaxis": {
            "gridcolor": "white",
            "linecolor": "white",
            "ticks": ""
           }
          },
          "scene": {
           "xaxis": {
            "backgroundcolor": "#E5ECF6",
            "gridcolor": "white",
            "gridwidth": 2,
            "linecolor": "white",
            "showbackground": true,
            "ticks": "",
            "zerolinecolor": "white"
           },
           "yaxis": {
            "backgroundcolor": "#E5ECF6",
            "gridcolor": "white",
            "gridwidth": 2,
            "linecolor": "white",
            "showbackground": true,
            "ticks": "",
            "zerolinecolor": "white"
           },
           "zaxis": {
            "backgroundcolor": "#E5ECF6",
            "gridcolor": "white",
            "gridwidth": 2,
            "linecolor": "white",
            "showbackground": true,
            "ticks": "",
            "zerolinecolor": "white"
           }
          },
          "shapedefaults": {
           "line": {
            "color": "#2a3f5f"
           }
          },
          "ternary": {
           "aaxis": {
            "gridcolor": "white",
            "linecolor": "white",
            "ticks": ""
           },
           "baxis": {
            "gridcolor": "white",
            "linecolor": "white",
            "ticks": ""
           },
           "bgcolor": "#E5ECF6",
           "caxis": {
            "gridcolor": "white",
            "linecolor": "white",
            "ticks": ""
           }
          },
          "title": {
           "x": 0.05
          },
          "xaxis": {
           "automargin": true,
           "gridcolor": "white",
           "linecolor": "white",
           "ticks": "",
           "title": {
            "standoff": 15
           },
           "zerolinecolor": "white",
           "zerolinewidth": 2
          },
          "yaxis": {
           "automargin": true,
           "gridcolor": "white",
           "linecolor": "white",
           "ticks": "",
           "title": {
            "standoff": 15
           },
           "zerolinecolor": "white",
           "zerolinewidth": 2
          }
         }
        },
        "title": {
         "text": "Verdeling van gewicht"
        },
        "xaxis": {
         "anchor": "y",
         "domain": [
          0,
          1
         ],
         "title": {
          "text": "gewicht"
         }
        },
        "yaxis": {
         "anchor": "x",
         "domain": [
          0,
          1
         ],
         "title": {
          "text": "Frequentie"
         }
        }
       }
      }
     },
     "metadata": {},
     "output_type": "display_data"
    }
   ],
   "source": [
    "# Plot bar charts for each numeric column using Plotly\n",
    "for column in numeric_columns:\n",
    "    fig = px.histogram(df_cardio, x=column, nbins=20, title=f'Verdeling van {column}')\n",
    "    fig.update_layout(xaxis_title=column, yaxis_title='Frequentie', bargap=0.2)\n",
    "    fig.show()"
   ]
  },
  {
   "cell_type": "markdown",
   "metadata": {},
   "source": [
    "Aantal observaties:\n",
    "- De leeftijdsverdeling lijkt vrij gelijkmatig verdeeld te zijn over leeftijdsgroepen tussen 25 en 44.\n",
    "- Gebruik: De meeste klanten lijken het fitnessproduct zeer frequent te gebruiken, met een piek bij de hoogste gebruiksfrequentie (score 5). Er zijn echter ook aanzienlijke groepen die het product minder vaak gebruiken (score 1 en 4).\n",
    "- kilometers: de meeste klanten een matig tot hoog aantal kilometers per week afleggen, met een piek rond de 250 kilometer per week\n",
    "-Fitnessniveau: De verdeling van het fitnessniveau is vrij duidelijk geconcentreerd rond de gemiddelde niveaus (score 3 en 4), wat suggereert dat de meeste klanten zich op een gemiddeld fitnessniveau bevinden. \n",
    "- de inkomensverdeling onder de klanten is relatief gelijkmatig verdeeld over verschillende inkomensgroepen.\n",
    "- de lengtes van de klanten redelijk gelijkmatig verdeeld zijn over het bereik van 155 cm tot 200 cm.\n",
    "- Er is redelijk uniforme verdeling van gewichten tussen 50 kg en 120 kg. Er zijn echter enkele lichte pieken rond 80 kg en 110 kg."
   ]
  },
  {
   "cell_type": "markdown",
   "metadata": {},
   "source": [
    "Maak nu stafdiagramen om de verdeling van categorieke variabelen te visualiseren."
   ]
  },
  {
   "cell_type": "code",
   "execution_count": 29,
   "metadata": {},
   "outputs": [
    {
     "data": {
      "application/vnd.plotly.v1+json": {
       "config": {
        "plotlyServerURL": "https://plot.ly"
       },
       "data": [
        {
         "alignmentgroup": "True",
         "bingroup": "x",
         "hovertemplate": "product_code=%{x}<br>count=%{y}<extra></extra>",
         "legendgroup": "",
         "marker": {
          "color": "#636efa",
          "pattern": {
           "shape": ""
          }
         },
         "name": "",
         "offsetgroup": "",
         "orientation": "v",
         "showlegend": false,
         "type": "histogram",
         "x": [
          "TM798",
          "TM498",
          "TM798",
          "TM195",
          "TM798",
          "TM798",
          "TM195",
          "TM498",
          "TM498",
          "TM195",
          "TM195",
          "TM195",
          "TM798",
          "TM798",
          "TM195",
          "TM498",
          "TM195",
          "TM798",
          "TM195",
          "TM498",
          "TM798",
          "TM498",
          "TM195",
          "TM498",
          "TM195",
          "TM798",
          "TM498",
          "TM498",
          "TM798",
          "TM498",
          "TM798",
          "TM798",
          "TM195",
          "TM195",
          "TM798",
          "TM798",
          "TM798",
          "TM498",
          "TM798",
          "TM498",
          "TM195",
          "TM195",
          "TM498",
          "TM798",
          "TM498",
          "TM498",
          "TM498",
          "TM498",
          "TM798",
          "TM798",
          "TM798",
          "TM498",
          "TM498",
          "TM798",
          "TM498",
          "TM498",
          "TM498",
          "TM195",
          "TM195",
          "TM798",
          "TM498",
          "TM195",
          "TM798",
          "TM195",
          "TM195",
          "TM195",
          "TM195",
          "TM498",
          "TM498",
          "TM195",
          "TM798",
          "TM195",
          "TM195",
          "TM195",
          "TM498",
          "TM498",
          "TM498",
          "TM195",
          "TM498",
          "TM498",
          "TM498",
          "TM195",
          "TM798",
          "TM498",
          "TM498",
          "TM798",
          "TM798",
          "TM798",
          "TM498",
          "TM798",
          "TM195",
          "TM498",
          "TM498",
          "TM498",
          "TM498",
          "TM498",
          "TM498",
          "TM195",
          "TM798",
          "TM498",
          "TM195",
          "TM498",
          "TM195",
          "TM498",
          "TM195",
          "TM195",
          "TM798",
          "TM798",
          "TM798",
          "TM798",
          "TM798",
          "TM798",
          "TM498",
          "TM798",
          "TM498",
          "TM498",
          "TM798",
          "TM498",
          "TM498",
          "TM195",
          "TM498",
          "TM498",
          "TM498",
          "TM798",
          "TM798",
          "TM195",
          "TM195",
          "TM498",
          "TM498",
          "TM498",
          "TM195",
          "TM195",
          "TM498",
          "TM798",
          "TM498",
          "TM798",
          "TM498",
          "TM798",
          "TM798",
          "TM498",
          "TM498",
          "TM798",
          "TM798",
          "TM798",
          "TM498",
          "TM498",
          "TM195",
          "TM798",
          "TM798",
          "TM195",
          "TM498",
          "TM498",
          "TM798",
          "TM798",
          "TM195",
          "TM498",
          "TM195",
          "TM195",
          "TM498",
          "TM798",
          "TM498",
          "TM498",
          "TM798",
          "TM498",
          "TM798",
          "TM798",
          "TM498",
          "TM798",
          "TM798",
          "TM498",
          "TM195",
          "TM195",
          "TM798",
          "TM798",
          "TM195",
          "TM195",
          "TM498",
          "TM195",
          "TM195",
          "TM798",
          "TM498",
          "TM798",
          "TM798",
          "TM195",
          "TM498",
          "TM798",
          "TM195",
          "TM195",
          "TM195",
          "TM498",
          "TM798",
          "TM498",
          "TM195",
          "TM798",
          "TM195",
          "TM798",
          "TM195",
          "TM498",
          "TM195",
          "TM798",
          "TM798",
          "TM798",
          "TM798",
          "TM195",
          "TM498",
          "TM798",
          "TM798",
          "TM195",
          "TM195",
          "TM798",
          "TM798",
          "TM195",
          "TM798",
          "TM498",
          "TM798",
          "TM195",
          "TM798",
          "TM798",
          "TM798",
          "TM798",
          "TM498",
          "TM798",
          "TM498",
          "TM498",
          "TM195",
          "TM195",
          "TM498",
          "TM498",
          "TM195",
          "TM798",
          "TM195",
          "TM195",
          "TM498",
          "TM195",
          "TM498",
          "TM195",
          "TM498",
          "TM195",
          "TM498",
          "TM498",
          "TM798",
          "TM498",
          "TM798",
          "TM498",
          "TM798",
          "TM498",
          "TM195",
          "TM195",
          "TM498",
          "TM498",
          "TM798",
          "TM798",
          "TM798",
          "TM195",
          "TM498",
          "TM798",
          "TM498",
          "TM195",
          "TM195",
          "TM498",
          "TM498",
          "TM195",
          "TM798",
          "TM798",
          "TM798",
          "TM798",
          "TM195",
          "TM195",
          "TM195",
          "TM498",
          "TM498",
          "TM498",
          "TM498",
          "TM498",
          "TM798",
          "TM798",
          "TM498",
          "TM498",
          "TM798",
          "TM195",
          "TM798",
          "TM195",
          "TM498",
          "TM195",
          "TM798",
          "TM498",
          "TM195",
          "TM498",
          "TM195",
          "TM798",
          "TM195",
          "TM498",
          "TM798",
          "TM498",
          "TM195",
          "TM798",
          "TM798",
          "TM798",
          "TM195",
          "TM798",
          "TM798",
          "TM798",
          "TM195",
          "TM195",
          "TM798",
          "TM798",
          "TM498",
          "TM195",
          "TM498",
          "TM498",
          "TM798",
          "TM798",
          "TM798",
          "TM798",
          "TM798",
          "TM195",
          "TM498",
          "TM798",
          "TM798",
          "TM798",
          "TM798",
          "TM195",
          "TM195",
          "TM195",
          "TM195",
          "TM195",
          "TM798",
          "TM798",
          "TM798",
          "TM798",
          "TM798",
          "TM498",
          "TM498",
          "TM798",
          "TM195",
          "TM798",
          "TM798",
          "TM195",
          "TM798",
          "TM798",
          "TM498",
          "TM195",
          "TM498",
          "TM498",
          "TM195",
          "TM195",
          "TM195",
          "TM195",
          "TM498",
          "TM498",
          "TM498",
          "TM498",
          "TM195",
          "TM798",
          "TM195",
          "TM798",
          "TM195",
          "TM498",
          "TM195",
          "TM498",
          "TM195",
          "TM798",
          "TM798",
          "TM798",
          "TM498",
          "TM195",
          "TM798",
          "TM498",
          "TM195",
          "TM498",
          "TM195",
          "TM798",
          "TM498",
          "TM498",
          "TM195",
          "TM195",
          "TM798",
          "TM195",
          "TM498",
          "TM195",
          "TM498",
          "TM195",
          "TM498",
          "TM498",
          "TM498",
          "TM498",
          "TM195",
          "TM195",
          "TM498",
          "TM798",
          "TM498",
          "TM195",
          "TM195",
          "TM195",
          "TM798",
          "TM498",
          "TM798",
          "TM798",
          "TM498",
          "TM498",
          "TM195",
          "TM798",
          "TM798",
          "TM498",
          "TM498",
          "TM498",
          "TM798",
          "TM798",
          "TM798",
          "TM195",
          "TM195",
          "TM798",
          "TM798",
          "TM798",
          "TM195",
          "TM798",
          "TM798",
          "TM195",
          "TM195",
          "TM798",
          "TM195",
          "TM195",
          "TM498",
          "TM498",
          "TM498",
          "TM798",
          "TM798",
          "TM195",
          "TM498",
          "TM498",
          "TM498",
          "TM498",
          "TM195",
          "TM798",
          "TM195",
          "TM498",
          "TM195",
          "TM798",
          "TM798",
          "TM798",
          "TM798",
          "TM498",
          "TM498",
          "TM798",
          "TM798",
          "TM798",
          "TM498",
          "TM195",
          "TM798",
          "TM498",
          "TM498",
          "TM195",
          "TM798",
          "TM195",
          "TM195",
          "TM498",
          "TM195",
          "TM498",
          "TM195",
          "TM195",
          "TM195",
          "TM195",
          "TM498",
          "TM498",
          "TM498",
          "TM798",
          "TM798",
          "TM498",
          "TM195",
          "TM195",
          "TM498",
          "TM798",
          "TM498",
          "TM798",
          "TM798",
          "TM195",
          "TM498",
          "TM195",
          "TM798",
          "TM195",
          "TM498",
          "TM195",
          "TM798",
          "TM498",
          "TM195",
          "TM195",
          "TM498",
          "TM195",
          "TM798",
          "TM195",
          "TM798",
          "TM798",
          "TM798",
          "TM195",
          "TM798",
          "TM798",
          "TM498",
          "TM195",
          "TM195",
          "TM498",
          "TM798",
          "TM195",
          "TM195",
          "TM195",
          "TM798",
          "TM195",
          "TM498",
          "TM798",
          "TM798",
          "TM498",
          "TM798",
          "TM498",
          "TM798",
          "TM798",
          "TM798",
          "TM195",
          "TM798",
          "TM798",
          "TM195",
          "TM195",
          "TM798",
          "TM798",
          "TM498",
          "TM498",
          "TM498",
          "TM798",
          "TM195",
          "TM798",
          "TM498",
          "TM798",
          "TM498",
          "TM498",
          "TM195",
          "TM498",
          "TM498",
          "TM798",
          "TM798",
          "TM498",
          "TM498",
          "TM498",
          "TM498",
          "TM195",
          "TM798",
          "TM195",
          "TM498",
          "TM195",
          "TM195",
          "TM798",
          "TM195",
          "TM798",
          "TM195",
          "TM798",
          "TM195",
          "TM798",
          "TM498",
          "TM798",
          "TM798",
          "TM798",
          "TM798",
          "TM798",
          "TM195",
          "TM798",
          "TM798",
          "TM498",
          "TM798",
          "TM195",
          "TM498",
          "TM798",
          "TM195",
          "TM195",
          "TM798",
          "TM798",
          "TM498",
          "TM498",
          "TM498",
          "TM498",
          "TM498",
          "TM498",
          "TM195",
          "TM498",
          "TM195",
          "TM498",
          "TM195",
          "TM498",
          "TM498",
          "TM195",
          "TM195",
          "TM498",
          "TM195",
          "TM798",
          "TM798",
          "TM195",
          "TM798",
          "TM498",
          "TM798",
          "TM195",
          "TM798",
          "TM195",
          "TM798",
          "TM195",
          "TM798",
          "TM498",
          "TM498",
          "TM195",
          "TM798",
          "TM798",
          "TM798",
          "TM798",
          "TM195",
          "TM498",
          "TM195",
          "TM798",
          "TM798",
          "TM195",
          "TM195",
          "TM498",
          "TM195",
          "TM195",
          "TM798",
          "TM798",
          "TM195",
          "TM195",
          "TM798",
          "TM195",
          "TM498",
          "TM195",
          "TM498",
          "TM798",
          "TM195",
          "TM798",
          "TM798",
          "TM195",
          "TM498",
          "TM798",
          "TM798",
          "TM798",
          "TM498",
          "TM498",
          "TM498",
          "TM195",
          "TM798",
          "TM195",
          "TM498",
          "TM195",
          "TM195",
          "TM798",
          "TM498",
          "TM498",
          "TM498",
          "TM798",
          "TM498",
          "TM195",
          "TM195",
          "TM498",
          "TM498",
          "TM498",
          "TM798",
          "TM798",
          "TM195",
          "TM798",
          "TM798",
          "TM195",
          "TM798",
          "TM798",
          "TM798",
          "TM195",
          "TM798",
          "TM498",
          "TM798",
          "TM195",
          "TM195",
          "TM798",
          "TM798",
          "TM798",
          "TM195",
          "TM498",
          "TM498",
          "TM195",
          "TM798",
          "TM498",
          "TM498",
          "TM798",
          "TM195",
          "TM498",
          "TM195",
          "TM195",
          "TM498",
          "TM798",
          "TM195",
          "TM195",
          "TM195",
          "TM498",
          "TM498",
          "TM195",
          "TM498",
          "TM195",
          "TM498",
          "TM498",
          "TM498",
          "TM195",
          "TM498",
          "TM798",
          "TM798",
          "TM195",
          "TM195",
          "TM195",
          "TM498",
          "TM195",
          "TM798",
          "TM498",
          "TM498",
          "TM798",
          "TM498",
          "TM498",
          "TM195",
          "TM498",
          "TM798",
          "TM195",
          "TM798",
          "TM798",
          "TM498",
          "TM498",
          "TM195",
          "TM798",
          "TM798",
          "TM798",
          "TM798",
          "TM498",
          "TM195",
          "TM498",
          "TM798",
          "TM498",
          "TM798",
          "TM498",
          "TM498",
          "TM798",
          "TM195",
          "TM498",
          "TM195",
          "TM498",
          "TM498",
          "TM498",
          "TM195",
          "TM195",
          "TM498",
          "TM498",
          "TM195",
          "TM798",
          "TM798",
          "TM498",
          "TM798",
          "TM798",
          "TM195",
          "TM798",
          "TM798",
          "TM498",
          "TM498",
          "TM498",
          "TM498",
          "TM195",
          "TM195",
          "TM798",
          "TM195",
          "TM798",
          "TM195",
          "TM798",
          "TM195",
          "TM498",
          "TM195",
          "TM195",
          "TM498",
          "TM498",
          "TM498",
          "TM498",
          "TM798",
          "TM798",
          "TM498",
          "TM498",
          "TM195",
          "TM798",
          "TM195",
          "TM498",
          "TM798",
          "TM195",
          "TM498",
          "TM195",
          "TM195",
          "TM798",
          "TM498",
          "TM498",
          "TM498",
          "TM498",
          "TM498",
          "TM798",
          "TM195",
          "TM195",
          "TM498",
          "TM498",
          "TM798",
          "TM498",
          "TM798",
          "TM498",
          "TM498",
          "TM498",
          "TM798",
          "TM798",
          "TM798",
          "TM798",
          "TM195",
          "TM798",
          "TM798",
          "TM798",
          "TM498",
          "TM798",
          "TM798",
          "TM195",
          "TM798",
          "TM798",
          "TM798",
          "TM195",
          "TM798",
          "TM195",
          "TM195",
          "TM798",
          "TM798",
          "TM798",
          "TM798",
          "TM798",
          "TM498",
          "TM195",
          "TM798",
          "TM195",
          "TM798",
          "TM798",
          "TM498",
          "TM498",
          "TM498",
          "TM798",
          "TM498",
          "TM195",
          "TM798",
          "TM498",
          "TM798",
          "TM498",
          "TM498",
          "TM798",
          "TM195",
          "TM798",
          "TM498",
          "TM798",
          "TM798",
          "TM798",
          "TM195",
          "TM195",
          "TM498",
          "TM798",
          "TM798",
          "TM498",
          "TM498",
          "TM498",
          "TM498",
          "TM798",
          "TM498",
          "TM798",
          "TM195",
          "TM498",
          "TM798",
          "TM498",
          "TM195",
          "TM798",
          "TM498",
          "TM798",
          "TM195",
          "TM498",
          "TM195",
          "TM798",
          "TM498",
          "TM195",
          "TM798",
          "TM195",
          "TM498",
          "TM498",
          "TM195",
          "TM498",
          "TM195",
          "TM195",
          "TM798",
          "TM195",
          "TM798",
          "TM195",
          "TM798",
          "TM195",
          "TM195",
          "TM498",
          "TM195",
          "TM798",
          "TM195",
          "TM798",
          "TM798",
          "TM195",
          "TM798",
          "TM798",
          "TM195",
          "TM798",
          "TM195",
          "TM195",
          "TM798",
          "TM195",
          "TM195",
          "TM195",
          "TM195",
          "TM498",
          "TM798",
          "TM195",
          "TM195",
          "TM195",
          "TM798",
          "TM798",
          "TM195",
          "TM798",
          "TM498",
          "TM798",
          "TM498",
          "TM498",
          "TM498",
          "TM798",
          "TM195",
          "TM195",
          "TM498",
          "TM498",
          "TM195",
          "TM498",
          "TM195",
          "TM498",
          "TM798",
          "TM195",
          "TM798",
          "TM498",
          "TM498",
          "TM498",
          "TM498",
          "TM798",
          "TM195",
          "TM798",
          "TM195",
          "TM498",
          "TM798",
          "TM498",
          "TM498",
          "TM798",
          "TM195",
          "TM498",
          "TM498",
          "TM195",
          "TM195",
          "TM798",
          "TM498",
          "TM498",
          "TM195",
          "TM498",
          "TM798",
          "TM498",
          "TM798",
          "TM498",
          "TM195",
          "TM798",
          "TM195",
          "TM498",
          "TM498",
          "TM195",
          "TM798",
          "TM798",
          "TM498",
          "TM798",
          "TM498",
          "TM798",
          "TM798",
          "TM798",
          "TM798",
          "TM195",
          "TM798",
          "TM798",
          "TM498",
          "TM195",
          "TM498",
          "TM195",
          "TM798",
          "TM798",
          "TM498",
          "TM498",
          "TM498",
          "TM798",
          "TM498",
          "TM195",
          "TM498",
          "TM798",
          "TM798",
          "TM498",
          "TM195",
          "TM195"
         ],
         "xaxis": "x",
         "yaxis": "y"
        }
       ],
       "layout": {
        "bargap": 0.2,
        "barmode": "relative",
        "legend": {
         "tracegroupgap": 0
        },
        "template": {
         "data": {
          "bar": [
           {
            "error_x": {
             "color": "#2a3f5f"
            },
            "error_y": {
             "color": "#2a3f5f"
            },
            "marker": {
             "line": {
              "color": "#E5ECF6",
              "width": 0.5
             },
             "pattern": {
              "fillmode": "overlay",
              "size": 10,
              "solidity": 0.2
             }
            },
            "type": "bar"
           }
          ],
          "barpolar": [
           {
            "marker": {
             "line": {
              "color": "#E5ECF6",
              "width": 0.5
             },
             "pattern": {
              "fillmode": "overlay",
              "size": 10,
              "solidity": 0.2
             }
            },
            "type": "barpolar"
           }
          ],
          "carpet": [
           {
            "aaxis": {
             "endlinecolor": "#2a3f5f",
             "gridcolor": "white",
             "linecolor": "white",
             "minorgridcolor": "white",
             "startlinecolor": "#2a3f5f"
            },
            "baxis": {
             "endlinecolor": "#2a3f5f",
             "gridcolor": "white",
             "linecolor": "white",
             "minorgridcolor": "white",
             "startlinecolor": "#2a3f5f"
            },
            "type": "carpet"
           }
          ],
          "choropleth": [
           {
            "colorbar": {
             "outlinewidth": 0,
             "ticks": ""
            },
            "type": "choropleth"
           }
          ],
          "contour": [
           {
            "colorbar": {
             "outlinewidth": 0,
             "ticks": ""
            },
            "colorscale": [
             [
              0,
              "#0d0887"
             ],
             [
              0.1111111111111111,
              "#46039f"
             ],
             [
              0.2222222222222222,
              "#7201a8"
             ],
             [
              0.3333333333333333,
              "#9c179e"
             ],
             [
              0.4444444444444444,
              "#bd3786"
             ],
             [
              0.5555555555555556,
              "#d8576b"
             ],
             [
              0.6666666666666666,
              "#ed7953"
             ],
             [
              0.7777777777777778,
              "#fb9f3a"
             ],
             [
              0.8888888888888888,
              "#fdca26"
             ],
             [
              1,
              "#f0f921"
             ]
            ],
            "type": "contour"
           }
          ],
          "contourcarpet": [
           {
            "colorbar": {
             "outlinewidth": 0,
             "ticks": ""
            },
            "type": "contourcarpet"
           }
          ],
          "heatmap": [
           {
            "colorbar": {
             "outlinewidth": 0,
             "ticks": ""
            },
            "colorscale": [
             [
              0,
              "#0d0887"
             ],
             [
              0.1111111111111111,
              "#46039f"
             ],
             [
              0.2222222222222222,
              "#7201a8"
             ],
             [
              0.3333333333333333,
              "#9c179e"
             ],
             [
              0.4444444444444444,
              "#bd3786"
             ],
             [
              0.5555555555555556,
              "#d8576b"
             ],
             [
              0.6666666666666666,
              "#ed7953"
             ],
             [
              0.7777777777777778,
              "#fb9f3a"
             ],
             [
              0.8888888888888888,
              "#fdca26"
             ],
             [
              1,
              "#f0f921"
             ]
            ],
            "type": "heatmap"
           }
          ],
          "heatmapgl": [
           {
            "colorbar": {
             "outlinewidth": 0,
             "ticks": ""
            },
            "colorscale": [
             [
              0,
              "#0d0887"
             ],
             [
              0.1111111111111111,
              "#46039f"
             ],
             [
              0.2222222222222222,
              "#7201a8"
             ],
             [
              0.3333333333333333,
              "#9c179e"
             ],
             [
              0.4444444444444444,
              "#bd3786"
             ],
             [
              0.5555555555555556,
              "#d8576b"
             ],
             [
              0.6666666666666666,
              "#ed7953"
             ],
             [
              0.7777777777777778,
              "#fb9f3a"
             ],
             [
              0.8888888888888888,
              "#fdca26"
             ],
             [
              1,
              "#f0f921"
             ]
            ],
            "type": "heatmapgl"
           }
          ],
          "histogram": [
           {
            "marker": {
             "pattern": {
              "fillmode": "overlay",
              "size": 10,
              "solidity": 0.2
             }
            },
            "type": "histogram"
           }
          ],
          "histogram2d": [
           {
            "colorbar": {
             "outlinewidth": 0,
             "ticks": ""
            },
            "colorscale": [
             [
              0,
              "#0d0887"
             ],
             [
              0.1111111111111111,
              "#46039f"
             ],
             [
              0.2222222222222222,
              "#7201a8"
             ],
             [
              0.3333333333333333,
              "#9c179e"
             ],
             [
              0.4444444444444444,
              "#bd3786"
             ],
             [
              0.5555555555555556,
              "#d8576b"
             ],
             [
              0.6666666666666666,
              "#ed7953"
             ],
             [
              0.7777777777777778,
              "#fb9f3a"
             ],
             [
              0.8888888888888888,
              "#fdca26"
             ],
             [
              1,
              "#f0f921"
             ]
            ],
            "type": "histogram2d"
           }
          ],
          "histogram2dcontour": [
           {
            "colorbar": {
             "outlinewidth": 0,
             "ticks": ""
            },
            "colorscale": [
             [
              0,
              "#0d0887"
             ],
             [
              0.1111111111111111,
              "#46039f"
             ],
             [
              0.2222222222222222,
              "#7201a8"
             ],
             [
              0.3333333333333333,
              "#9c179e"
             ],
             [
              0.4444444444444444,
              "#bd3786"
             ],
             [
              0.5555555555555556,
              "#d8576b"
             ],
             [
              0.6666666666666666,
              "#ed7953"
             ],
             [
              0.7777777777777778,
              "#fb9f3a"
             ],
             [
              0.8888888888888888,
              "#fdca26"
             ],
             [
              1,
              "#f0f921"
             ]
            ],
            "type": "histogram2dcontour"
           }
          ],
          "mesh3d": [
           {
            "colorbar": {
             "outlinewidth": 0,
             "ticks": ""
            },
            "type": "mesh3d"
           }
          ],
          "parcoords": [
           {
            "line": {
             "colorbar": {
              "outlinewidth": 0,
              "ticks": ""
             }
            },
            "type": "parcoords"
           }
          ],
          "pie": [
           {
            "automargin": true,
            "type": "pie"
           }
          ],
          "scatter": [
           {
            "fillpattern": {
             "fillmode": "overlay",
             "size": 10,
             "solidity": 0.2
            },
            "type": "scatter"
           }
          ],
          "scatter3d": [
           {
            "line": {
             "colorbar": {
              "outlinewidth": 0,
              "ticks": ""
             }
            },
            "marker": {
             "colorbar": {
              "outlinewidth": 0,
              "ticks": ""
             }
            },
            "type": "scatter3d"
           }
          ],
          "scattercarpet": [
           {
            "marker": {
             "colorbar": {
              "outlinewidth": 0,
              "ticks": ""
             }
            },
            "type": "scattercarpet"
           }
          ],
          "scattergeo": [
           {
            "marker": {
             "colorbar": {
              "outlinewidth": 0,
              "ticks": ""
             }
            },
            "type": "scattergeo"
           }
          ],
          "scattergl": [
           {
            "marker": {
             "colorbar": {
              "outlinewidth": 0,
              "ticks": ""
             }
            },
            "type": "scattergl"
           }
          ],
          "scattermapbox": [
           {
            "marker": {
             "colorbar": {
              "outlinewidth": 0,
              "ticks": ""
             }
            },
            "type": "scattermapbox"
           }
          ],
          "scatterpolar": [
           {
            "marker": {
             "colorbar": {
              "outlinewidth": 0,
              "ticks": ""
             }
            },
            "type": "scatterpolar"
           }
          ],
          "scatterpolargl": [
           {
            "marker": {
             "colorbar": {
              "outlinewidth": 0,
              "ticks": ""
             }
            },
            "type": "scatterpolargl"
           }
          ],
          "scatterternary": [
           {
            "marker": {
             "colorbar": {
              "outlinewidth": 0,
              "ticks": ""
             }
            },
            "type": "scatterternary"
           }
          ],
          "surface": [
           {
            "colorbar": {
             "outlinewidth": 0,
             "ticks": ""
            },
            "colorscale": [
             [
              0,
              "#0d0887"
             ],
             [
              0.1111111111111111,
              "#46039f"
             ],
             [
              0.2222222222222222,
              "#7201a8"
             ],
             [
              0.3333333333333333,
              "#9c179e"
             ],
             [
              0.4444444444444444,
              "#bd3786"
             ],
             [
              0.5555555555555556,
              "#d8576b"
             ],
             [
              0.6666666666666666,
              "#ed7953"
             ],
             [
              0.7777777777777778,
              "#fb9f3a"
             ],
             [
              0.8888888888888888,
              "#fdca26"
             ],
             [
              1,
              "#f0f921"
             ]
            ],
            "type": "surface"
           }
          ],
          "table": [
           {
            "cells": {
             "fill": {
              "color": "#EBF0F8"
             },
             "line": {
              "color": "white"
             }
            },
            "header": {
             "fill": {
              "color": "#C8D4E3"
             },
             "line": {
              "color": "white"
             }
            },
            "type": "table"
           }
          ]
         },
         "layout": {
          "annotationdefaults": {
           "arrowcolor": "#2a3f5f",
           "arrowhead": 0,
           "arrowwidth": 1
          },
          "autotypenumbers": "strict",
          "coloraxis": {
           "colorbar": {
            "outlinewidth": 0,
            "ticks": ""
           }
          },
          "colorscale": {
           "diverging": [
            [
             0,
             "#8e0152"
            ],
            [
             0.1,
             "#c51b7d"
            ],
            [
             0.2,
             "#de77ae"
            ],
            [
             0.3,
             "#f1b6da"
            ],
            [
             0.4,
             "#fde0ef"
            ],
            [
             0.5,
             "#f7f7f7"
            ],
            [
             0.6,
             "#e6f5d0"
            ],
            [
             0.7,
             "#b8e186"
            ],
            [
             0.8,
             "#7fbc41"
            ],
            [
             0.9,
             "#4d9221"
            ],
            [
             1,
             "#276419"
            ]
           ],
           "sequential": [
            [
             0,
             "#0d0887"
            ],
            [
             0.1111111111111111,
             "#46039f"
            ],
            [
             0.2222222222222222,
             "#7201a8"
            ],
            [
             0.3333333333333333,
             "#9c179e"
            ],
            [
             0.4444444444444444,
             "#bd3786"
            ],
            [
             0.5555555555555556,
             "#d8576b"
            ],
            [
             0.6666666666666666,
             "#ed7953"
            ],
            [
             0.7777777777777778,
             "#fb9f3a"
            ],
            [
             0.8888888888888888,
             "#fdca26"
            ],
            [
             1,
             "#f0f921"
            ]
           ],
           "sequentialminus": [
            [
             0,
             "#0d0887"
            ],
            [
             0.1111111111111111,
             "#46039f"
            ],
            [
             0.2222222222222222,
             "#7201a8"
            ],
            [
             0.3333333333333333,
             "#9c179e"
            ],
            [
             0.4444444444444444,
             "#bd3786"
            ],
            [
             0.5555555555555556,
             "#d8576b"
            ],
            [
             0.6666666666666666,
             "#ed7953"
            ],
            [
             0.7777777777777778,
             "#fb9f3a"
            ],
            [
             0.8888888888888888,
             "#fdca26"
            ],
            [
             1,
             "#f0f921"
            ]
           ]
          },
          "colorway": [
           "#636efa",
           "#EF553B",
           "#00cc96",
           "#ab63fa",
           "#FFA15A",
           "#19d3f3",
           "#FF6692",
           "#B6E880",
           "#FF97FF",
           "#FECB52"
          ],
          "font": {
           "color": "#2a3f5f"
          },
          "geo": {
           "bgcolor": "white",
           "lakecolor": "white",
           "landcolor": "#E5ECF6",
           "showlakes": true,
           "showland": true,
           "subunitcolor": "white"
          },
          "hoverlabel": {
           "align": "left"
          },
          "hovermode": "closest",
          "mapbox": {
           "style": "light"
          },
          "paper_bgcolor": "white",
          "plot_bgcolor": "#E5ECF6",
          "polar": {
           "angularaxis": {
            "gridcolor": "white",
            "linecolor": "white",
            "ticks": ""
           },
           "bgcolor": "#E5ECF6",
           "radialaxis": {
            "gridcolor": "white",
            "linecolor": "white",
            "ticks": ""
           }
          },
          "scene": {
           "xaxis": {
            "backgroundcolor": "#E5ECF6",
            "gridcolor": "white",
            "gridwidth": 2,
            "linecolor": "white",
            "showbackground": true,
            "ticks": "",
            "zerolinecolor": "white"
           },
           "yaxis": {
            "backgroundcolor": "#E5ECF6",
            "gridcolor": "white",
            "gridwidth": 2,
            "linecolor": "white",
            "showbackground": true,
            "ticks": "",
            "zerolinecolor": "white"
           },
           "zaxis": {
            "backgroundcolor": "#E5ECF6",
            "gridcolor": "white",
            "gridwidth": 2,
            "linecolor": "white",
            "showbackground": true,
            "ticks": "",
            "zerolinecolor": "white"
           }
          },
          "shapedefaults": {
           "line": {
            "color": "#2a3f5f"
           }
          },
          "ternary": {
           "aaxis": {
            "gridcolor": "white",
            "linecolor": "white",
            "ticks": ""
           },
           "baxis": {
            "gridcolor": "white",
            "linecolor": "white",
            "ticks": ""
           },
           "bgcolor": "#E5ECF6",
           "caxis": {
            "gridcolor": "white",
            "linecolor": "white",
            "ticks": ""
           }
          },
          "title": {
           "x": 0.05
          },
          "xaxis": {
           "automargin": true,
           "gridcolor": "white",
           "linecolor": "white",
           "ticks": "",
           "title": {
            "standoff": 15
           },
           "zerolinecolor": "white",
           "zerolinewidth": 2
          },
          "yaxis": {
           "automargin": true,
           "gridcolor": "white",
           "linecolor": "white",
           "ticks": "",
           "title": {
            "standoff": 15
           },
           "zerolinecolor": "white",
           "zerolinewidth": 2
          }
         }
        },
        "title": {
         "text": "Verdeling van product_code"
        },
        "xaxis": {
         "anchor": "y",
         "domain": [
          0,
          1
         ],
         "title": {
          "text": "product_code"
         }
        },
        "yaxis": {
         "anchor": "x",
         "domain": [
          0,
          1
         ],
         "title": {
          "text": "Frequentie"
         }
        }
       }
      }
     },
     "metadata": {},
     "output_type": "display_data"
    },
    {
     "data": {
      "application/vnd.plotly.v1+json": {
       "config": {
        "plotlyServerURL": "https://plot.ly"
       },
       "data": [
        {
         "alignmentgroup": "True",
         "bingroup": "x",
         "hovertemplate": "gender=%{x}<br>count=%{y}<extra></extra>",
         "legendgroup": "",
         "marker": {
          "color": "#636efa",
          "pattern": {
           "shape": ""
          }
         },
         "name": "",
         "offsetgroup": "",
         "orientation": "v",
         "showlegend": false,
         "type": "histogram",
         "x": [
          "vrouw",
          "man",
          "man",
          "man",
          "vrouw",
          "vrouw",
          "man",
          "vrouw",
          "man",
          "man",
          "vrouw",
          null,
          "vrouw",
          "man",
          "vrouw",
          "vrouw",
          "vrouw",
          "vrouw",
          "vrouw",
          "man",
          "man",
          "man",
          "vrouw",
          "vrouw",
          "vrouw",
          null,
          "vrouw",
          "vrouw",
          "man",
          "vrouw",
          "vrouw",
          "vrouw",
          "man",
          null,
          "vrouw",
          "man",
          "vrouw",
          "man",
          "vrouw",
          "man",
          null,
          "man",
          "man",
          "man",
          null,
          "man",
          "vrouw",
          "vrouw",
          "man",
          "vrouw",
          "vrouw",
          "vrouw",
          "vrouw",
          "vrouw",
          "man",
          "man",
          "man",
          "man",
          "man",
          "vrouw",
          null,
          "man",
          "man",
          "vrouw",
          "vrouw",
          "man",
          "man",
          "vrouw",
          "vrouw",
          "vrouw",
          "vrouw",
          "vrouw",
          null,
          "man",
          "vrouw",
          "man",
          "man",
          "man",
          "vrouw",
          "vrouw",
          "man",
          "vrouw",
          "vrouw",
          "vrouw",
          "man",
          "vrouw",
          "vrouw",
          "vrouw",
          "vrouw",
          "vrouw",
          "vrouw",
          "man",
          null,
          "vrouw",
          "vrouw",
          "man",
          "vrouw",
          "vrouw",
          "vrouw",
          "vrouw",
          "man",
          "man",
          "man",
          "man",
          "vrouw",
          null,
          "vrouw",
          "vrouw",
          "man",
          "vrouw",
          "vrouw",
          "vrouw",
          "vrouw",
          "vrouw",
          "vrouw",
          "man",
          "vrouw",
          "man",
          "man",
          "vrouw",
          "man",
          "vrouw",
          "vrouw",
          null,
          "man",
          "vrouw",
          "vrouw",
          null,
          "vrouw",
          "vrouw",
          "vrouw",
          "vrouw",
          "man",
          "vrouw",
          "man",
          "man",
          "man",
          "man",
          "vrouw",
          "vrouw",
          null,
          "man",
          "vrouw",
          "man",
          "man",
          "vrouw",
          "vrouw",
          "man",
          "vrouw",
          "vrouw",
          null,
          "man",
          "man",
          "man",
          null,
          "vrouw",
          "man",
          "man",
          "vrouw",
          "vrouw",
          "man",
          "man",
          "man",
          "man",
          "man",
          "vrouw",
          "man",
          "man",
          "vrouw",
          "vrouw",
          "vrouw",
          "vrouw",
          "man",
          "man",
          "vrouw",
          "man",
          "vrouw",
          "vrouw",
          "man",
          "vrouw",
          "vrouw",
          "vrouw",
          "vrouw",
          "man",
          "vrouw",
          "man",
          "vrouw",
          "man",
          "vrouw",
          "man",
          "vrouw",
          "vrouw",
          "man",
          "vrouw",
          "vrouw",
          "man",
          "vrouw",
          "vrouw",
          null,
          "vrouw",
          "vrouw",
          "vrouw",
          "man",
          "vrouw",
          "vrouw",
          null,
          "vrouw",
          null,
          "man",
          "man",
          "man",
          "man",
          "man",
          "man",
          "vrouw",
          "vrouw",
          "man",
          "vrouw",
          "vrouw",
          "vrouw",
          "man",
          "vrouw",
          "man",
          "vrouw",
          "vrouw",
          "man",
          "man",
          "man",
          "vrouw",
          "vrouw",
          "vrouw",
          "vrouw",
          "vrouw",
          "man",
          "man",
          "vrouw",
          null,
          "man",
          "vrouw",
          "man",
          "man",
          "man",
          "man",
          "man",
          "vrouw",
          "man",
          "vrouw",
          "vrouw",
          null,
          "vrouw",
          "vrouw",
          "man",
          "vrouw",
          "man",
          null,
          null,
          "man",
          "man",
          "man",
          "vrouw",
          "man",
          "man",
          "vrouw",
          "man",
          "man",
          "man",
          "vrouw",
          "vrouw",
          "man",
          "man",
          "vrouw",
          "vrouw",
          null,
          "vrouw",
          "man",
          "man",
          "vrouw",
          "vrouw",
          "vrouw",
          "vrouw",
          "vrouw",
          null,
          "vrouw",
          "vrouw",
          "vrouw",
          "man",
          "man",
          "man",
          "man",
          "vrouw",
          "man",
          "vrouw",
          "man",
          "vrouw",
          "vrouw",
          null,
          "man",
          "man",
          "vrouw",
          "man",
          "vrouw",
          "vrouw",
          "man",
          null,
          "man",
          "vrouw",
          "vrouw",
          "vrouw",
          "man",
          "vrouw",
          "vrouw",
          "man",
          "man",
          null,
          "vrouw",
          "vrouw",
          "vrouw",
          "man",
          "vrouw",
          "man",
          "vrouw",
          "vrouw",
          "vrouw",
          "man",
          "man",
          "man",
          "vrouw",
          "man",
          "man",
          "vrouw",
          "man",
          null,
          "man",
          null,
          "man",
          "vrouw",
          "vrouw",
          "vrouw",
          null,
          "man",
          null,
          "vrouw",
          "man",
          "man",
          "vrouw",
          "man",
          "man",
          "man",
          "man",
          "vrouw",
          "vrouw",
          "vrouw",
          "man",
          "man",
          "vrouw",
          "vrouw",
          "man",
          "vrouw",
          "man",
          "man",
          null,
          null,
          null,
          "man",
          "man",
          "man",
          null,
          "vrouw",
          null,
          "vrouw",
          "man",
          "vrouw",
          "man",
          null,
          "man",
          "vrouw",
          "man",
          "vrouw",
          "man",
          "man",
          null,
          "man",
          "vrouw",
          "vrouw",
          null,
          "vrouw",
          "man",
          "man",
          "man",
          "man",
          "vrouw",
          "vrouw",
          "vrouw",
          "man",
          "vrouw",
          "vrouw",
          "man",
          null,
          "man",
          "vrouw",
          "man",
          "man",
          "man",
          "vrouw",
          null,
          "man",
          "man",
          "vrouw",
          "man",
          "man",
          "man",
          "man",
          null,
          "vrouw",
          null,
          "vrouw",
          "man",
          "man",
          "vrouw",
          "man",
          "vrouw",
          "vrouw",
          "man",
          "vrouw",
          "vrouw",
          null,
          "man",
          "man",
          "man",
          "man",
          "vrouw",
          "man",
          "vrouw",
          "vrouw",
          null,
          null,
          "vrouw",
          "man",
          "man",
          "man",
          "vrouw",
          "man",
          "vrouw",
          "vrouw",
          "vrouw",
          null,
          "vrouw",
          null,
          "man",
          "vrouw",
          "man",
          "vrouw",
          "man",
          "vrouw",
          "vrouw",
          "man",
          "vrouw",
          null,
          "vrouw",
          "vrouw",
          "man",
          "man",
          "vrouw",
          "man",
          "vrouw",
          "vrouw",
          null,
          "man",
          "man",
          "man",
          "vrouw",
          "vrouw",
          "vrouw",
          "man",
          "man",
          "vrouw",
          "vrouw",
          "man",
          "vrouw",
          "man",
          null,
          "man",
          "man",
          "man",
          "vrouw",
          null,
          "vrouw",
          "vrouw",
          "man",
          "vrouw",
          "man",
          "man",
          "man",
          null,
          "vrouw",
          "vrouw",
          "man",
          "vrouw",
          null,
          "vrouw",
          "man",
          "man",
          "vrouw",
          "vrouw",
          "vrouw",
          "man",
          "man",
          "man",
          "man",
          "man",
          "man",
          "man",
          "vrouw",
          "man",
          "vrouw",
          "vrouw",
          "man",
          "man",
          "vrouw",
          "vrouw",
          "man",
          "man",
          "man",
          "vrouw",
          "vrouw",
          "man",
          "vrouw",
          "vrouw",
          "vrouw",
          "man",
          "man",
          "vrouw",
          "man",
          "vrouw",
          "man",
          "vrouw",
          "man",
          "vrouw",
          "man",
          "vrouw",
          "vrouw",
          "vrouw",
          "vrouw",
          "vrouw",
          "vrouw",
          "man",
          "man",
          "vrouw",
          null,
          "man",
          "man",
          "man",
          "vrouw",
          "man",
          "man",
          "vrouw",
          "man",
          "man",
          "vrouw",
          "man",
          "vrouw",
          "vrouw",
          null,
          "vrouw",
          "vrouw",
          null,
          "man",
          "man",
          null,
          "vrouw",
          "man",
          "vrouw",
          "man",
          "man",
          "man",
          "vrouw",
          "vrouw",
          null,
          "vrouw",
          "man",
          "man",
          "vrouw",
          "vrouw",
          "vrouw",
          "man",
          "vrouw",
          null,
          "man",
          "man",
          "vrouw",
          "man",
          "vrouw",
          "vrouw",
          "man",
          "man",
          "vrouw",
          "man",
          "man",
          "man",
          "vrouw",
          "man",
          "man",
          "man",
          "vrouw",
          "vrouw",
          "vrouw",
          "man",
          "man",
          "vrouw",
          "vrouw",
          null,
          "man",
          "vrouw",
          "man",
          "vrouw",
          "vrouw",
          "man",
          "vrouw",
          "man",
          "vrouw",
          "vrouw",
          "vrouw",
          "man",
          "man",
          "vrouw",
          "vrouw",
          null,
          "vrouw",
          "vrouw",
          "man",
          "man",
          "man",
          "vrouw",
          "vrouw",
          "man",
          "man",
          "man",
          null,
          "man",
          "vrouw",
          "man",
          "man",
          null,
          null,
          "vrouw",
          "man",
          null,
          null,
          "man",
          "vrouw",
          "man",
          "man",
          "vrouw",
          "man",
          "vrouw",
          "vrouw",
          "vrouw",
          "vrouw",
          "man",
          "man",
          "vrouw",
          "vrouw",
          "vrouw",
          "vrouw",
          "vrouw",
          null,
          "man",
          "man",
          "man",
          "man",
          "vrouw",
          "man",
          "vrouw",
          null,
          "man",
          "man",
          "man",
          "vrouw",
          "vrouw",
          "man",
          null,
          "man",
          "vrouw",
          "vrouw",
          "vrouw",
          "man",
          "man",
          "vrouw",
          "man",
          "man",
          "man",
          "vrouw",
          "man",
          "vrouw",
          null,
          "vrouw",
          "vrouw",
          "vrouw",
          "man",
          "man",
          "vrouw",
          "vrouw",
          "man",
          "man",
          "man",
          "vrouw",
          "vrouw",
          "vrouw",
          "man",
          "vrouw",
          "vrouw",
          "vrouw",
          "vrouw",
          "vrouw",
          "man",
          "vrouw",
          "man",
          "man",
          "vrouw",
          "vrouw",
          "vrouw",
          "vrouw",
          "vrouw",
          "man",
          "vrouw",
          null,
          "vrouw",
          "vrouw",
          null,
          "vrouw",
          "vrouw",
          "man",
          "vrouw",
          "man",
          "vrouw",
          "man",
          "vrouw",
          "vrouw",
          "man",
          "vrouw",
          "man",
          "man",
          null,
          null,
          "vrouw",
          "man",
          "man",
          "man",
          "man",
          "vrouw",
          null,
          "man",
          null,
          "vrouw",
          "vrouw",
          "man",
          null,
          "man",
          "man",
          "man",
          null,
          "man",
          null,
          "man",
          "man",
          "man",
          "man",
          "man",
          "vrouw",
          null,
          "vrouw",
          "vrouw",
          "vrouw",
          "man",
          null,
          "man",
          "man",
          "man",
          "man",
          "vrouw",
          "man",
          "man",
          null,
          "vrouw",
          "man",
          "man",
          "man",
          "vrouw",
          "vrouw",
          "vrouw",
          "man",
          "man",
          "vrouw",
          "man",
          "vrouw",
          "man",
          "man",
          "vrouw",
          "vrouw",
          "vrouw",
          "vrouw",
          "vrouw",
          "man",
          "man",
          "man",
          "man",
          "vrouw",
          "vrouw",
          "vrouw",
          "vrouw",
          null,
          "vrouw",
          null,
          "man",
          null,
          "vrouw",
          "vrouw",
          "vrouw",
          "vrouw",
          "vrouw",
          "man",
          "man",
          "vrouw",
          "vrouw",
          null,
          "man",
          "man",
          "vrouw",
          "vrouw",
          "vrouw",
          "vrouw",
          "man",
          "vrouw",
          "vrouw",
          "man",
          "vrouw",
          "vrouw",
          null,
          "man",
          "vrouw",
          "man",
          "man",
          "man",
          "vrouw",
          "man",
          "man",
          "man",
          "vrouw",
          "man",
          "vrouw",
          "vrouw",
          "vrouw",
          "man",
          "vrouw",
          null,
          "vrouw",
          "vrouw",
          "vrouw",
          "man",
          "vrouw",
          "vrouw",
          "vrouw",
          "vrouw",
          "man",
          "man",
          "man",
          "man",
          "vrouw",
          "vrouw",
          "man",
          null,
          "vrouw",
          "man",
          null,
          "vrouw",
          "vrouw",
          "man",
          "vrouw",
          "vrouw",
          "vrouw",
          "vrouw",
          "man",
          "man",
          "vrouw",
          "vrouw",
          "vrouw",
          "man",
          "vrouw",
          "man",
          "vrouw",
          "man",
          "vrouw",
          "vrouw",
          "vrouw",
          "vrouw",
          "man",
          "man",
          "man",
          "man",
          "vrouw",
          "vrouw",
          "man",
          "vrouw",
          null,
          "man",
          "man",
          "man",
          "vrouw",
          "vrouw",
          "vrouw",
          "man",
          "vrouw",
          "vrouw",
          "man",
          "man",
          "man",
          null,
          "man",
          "man",
          "vrouw",
          "man",
          "man",
          "man",
          "vrouw",
          null,
          "man",
          "man",
          "man",
          "vrouw",
          "vrouw",
          null,
          "vrouw",
          "man",
          "vrouw",
          "man",
          "vrouw",
          "vrouw",
          "vrouw",
          "man",
          "vrouw",
          "vrouw",
          "man",
          "vrouw",
          "vrouw",
          "man",
          "vrouw",
          "man",
          "man",
          "man",
          null,
          "man",
          "man",
          "man",
          "man",
          "man",
          "man",
          "vrouw",
          "man",
          "vrouw",
          "man",
          "man",
          "vrouw",
          "man",
          "man",
          "vrouw",
          "vrouw",
          "man",
          null,
          "man",
          "man",
          "vrouw",
          "man",
          "man",
          "man",
          "man",
          "man",
          "vrouw",
          "man",
          "vrouw",
          null,
          "vrouw",
          "vrouw",
          "vrouw",
          null,
          "man",
          "vrouw",
          "vrouw",
          "man",
          "vrouw",
          "man",
          "man",
          "vrouw",
          "vrouw",
          "vrouw",
          "vrouw",
          "man",
          null,
          null,
          "man",
          "vrouw"
         ],
         "xaxis": "x",
         "yaxis": "y"
        }
       ],
       "layout": {
        "bargap": 0.2,
        "barmode": "relative",
        "legend": {
         "tracegroupgap": 0
        },
        "template": {
         "data": {
          "bar": [
           {
            "error_x": {
             "color": "#2a3f5f"
            },
            "error_y": {
             "color": "#2a3f5f"
            },
            "marker": {
             "line": {
              "color": "#E5ECF6",
              "width": 0.5
             },
             "pattern": {
              "fillmode": "overlay",
              "size": 10,
              "solidity": 0.2
             }
            },
            "type": "bar"
           }
          ],
          "barpolar": [
           {
            "marker": {
             "line": {
              "color": "#E5ECF6",
              "width": 0.5
             },
             "pattern": {
              "fillmode": "overlay",
              "size": 10,
              "solidity": 0.2
             }
            },
            "type": "barpolar"
           }
          ],
          "carpet": [
           {
            "aaxis": {
             "endlinecolor": "#2a3f5f",
             "gridcolor": "white",
             "linecolor": "white",
             "minorgridcolor": "white",
             "startlinecolor": "#2a3f5f"
            },
            "baxis": {
             "endlinecolor": "#2a3f5f",
             "gridcolor": "white",
             "linecolor": "white",
             "minorgridcolor": "white",
             "startlinecolor": "#2a3f5f"
            },
            "type": "carpet"
           }
          ],
          "choropleth": [
           {
            "colorbar": {
             "outlinewidth": 0,
             "ticks": ""
            },
            "type": "choropleth"
           }
          ],
          "contour": [
           {
            "colorbar": {
             "outlinewidth": 0,
             "ticks": ""
            },
            "colorscale": [
             [
              0,
              "#0d0887"
             ],
             [
              0.1111111111111111,
              "#46039f"
             ],
             [
              0.2222222222222222,
              "#7201a8"
             ],
             [
              0.3333333333333333,
              "#9c179e"
             ],
             [
              0.4444444444444444,
              "#bd3786"
             ],
             [
              0.5555555555555556,
              "#d8576b"
             ],
             [
              0.6666666666666666,
              "#ed7953"
             ],
             [
              0.7777777777777778,
              "#fb9f3a"
             ],
             [
              0.8888888888888888,
              "#fdca26"
             ],
             [
              1,
              "#f0f921"
             ]
            ],
            "type": "contour"
           }
          ],
          "contourcarpet": [
           {
            "colorbar": {
             "outlinewidth": 0,
             "ticks": ""
            },
            "type": "contourcarpet"
           }
          ],
          "heatmap": [
           {
            "colorbar": {
             "outlinewidth": 0,
             "ticks": ""
            },
            "colorscale": [
             [
              0,
              "#0d0887"
             ],
             [
              0.1111111111111111,
              "#46039f"
             ],
             [
              0.2222222222222222,
              "#7201a8"
             ],
             [
              0.3333333333333333,
              "#9c179e"
             ],
             [
              0.4444444444444444,
              "#bd3786"
             ],
             [
              0.5555555555555556,
              "#d8576b"
             ],
             [
              0.6666666666666666,
              "#ed7953"
             ],
             [
              0.7777777777777778,
              "#fb9f3a"
             ],
             [
              0.8888888888888888,
              "#fdca26"
             ],
             [
              1,
              "#f0f921"
             ]
            ],
            "type": "heatmap"
           }
          ],
          "heatmapgl": [
           {
            "colorbar": {
             "outlinewidth": 0,
             "ticks": ""
            },
            "colorscale": [
             [
              0,
              "#0d0887"
             ],
             [
              0.1111111111111111,
              "#46039f"
             ],
             [
              0.2222222222222222,
              "#7201a8"
             ],
             [
              0.3333333333333333,
              "#9c179e"
             ],
             [
              0.4444444444444444,
              "#bd3786"
             ],
             [
              0.5555555555555556,
              "#d8576b"
             ],
             [
              0.6666666666666666,
              "#ed7953"
             ],
             [
              0.7777777777777778,
              "#fb9f3a"
             ],
             [
              0.8888888888888888,
              "#fdca26"
             ],
             [
              1,
              "#f0f921"
             ]
            ],
            "type": "heatmapgl"
           }
          ],
          "histogram": [
           {
            "marker": {
             "pattern": {
              "fillmode": "overlay",
              "size": 10,
              "solidity": 0.2
             }
            },
            "type": "histogram"
           }
          ],
          "histogram2d": [
           {
            "colorbar": {
             "outlinewidth": 0,
             "ticks": ""
            },
            "colorscale": [
             [
              0,
              "#0d0887"
             ],
             [
              0.1111111111111111,
              "#46039f"
             ],
             [
              0.2222222222222222,
              "#7201a8"
             ],
             [
              0.3333333333333333,
              "#9c179e"
             ],
             [
              0.4444444444444444,
              "#bd3786"
             ],
             [
              0.5555555555555556,
              "#d8576b"
             ],
             [
              0.6666666666666666,
              "#ed7953"
             ],
             [
              0.7777777777777778,
              "#fb9f3a"
             ],
             [
              0.8888888888888888,
              "#fdca26"
             ],
             [
              1,
              "#f0f921"
             ]
            ],
            "type": "histogram2d"
           }
          ],
          "histogram2dcontour": [
           {
            "colorbar": {
             "outlinewidth": 0,
             "ticks": ""
            },
            "colorscale": [
             [
              0,
              "#0d0887"
             ],
             [
              0.1111111111111111,
              "#46039f"
             ],
             [
              0.2222222222222222,
              "#7201a8"
             ],
             [
              0.3333333333333333,
              "#9c179e"
             ],
             [
              0.4444444444444444,
              "#bd3786"
             ],
             [
              0.5555555555555556,
              "#d8576b"
             ],
             [
              0.6666666666666666,
              "#ed7953"
             ],
             [
              0.7777777777777778,
              "#fb9f3a"
             ],
             [
              0.8888888888888888,
              "#fdca26"
             ],
             [
              1,
              "#f0f921"
             ]
            ],
            "type": "histogram2dcontour"
           }
          ],
          "mesh3d": [
           {
            "colorbar": {
             "outlinewidth": 0,
             "ticks": ""
            },
            "type": "mesh3d"
           }
          ],
          "parcoords": [
           {
            "line": {
             "colorbar": {
              "outlinewidth": 0,
              "ticks": ""
             }
            },
            "type": "parcoords"
           }
          ],
          "pie": [
           {
            "automargin": true,
            "type": "pie"
           }
          ],
          "scatter": [
           {
            "fillpattern": {
             "fillmode": "overlay",
             "size": 10,
             "solidity": 0.2
            },
            "type": "scatter"
           }
          ],
          "scatter3d": [
           {
            "line": {
             "colorbar": {
              "outlinewidth": 0,
              "ticks": ""
             }
            },
            "marker": {
             "colorbar": {
              "outlinewidth": 0,
              "ticks": ""
             }
            },
            "type": "scatter3d"
           }
          ],
          "scattercarpet": [
           {
            "marker": {
             "colorbar": {
              "outlinewidth": 0,
              "ticks": ""
             }
            },
            "type": "scattercarpet"
           }
          ],
          "scattergeo": [
           {
            "marker": {
             "colorbar": {
              "outlinewidth": 0,
              "ticks": ""
             }
            },
            "type": "scattergeo"
           }
          ],
          "scattergl": [
           {
            "marker": {
             "colorbar": {
              "outlinewidth": 0,
              "ticks": ""
             }
            },
            "type": "scattergl"
           }
          ],
          "scattermapbox": [
           {
            "marker": {
             "colorbar": {
              "outlinewidth": 0,
              "ticks": ""
             }
            },
            "type": "scattermapbox"
           }
          ],
          "scatterpolar": [
           {
            "marker": {
             "colorbar": {
              "outlinewidth": 0,
              "ticks": ""
             }
            },
            "type": "scatterpolar"
           }
          ],
          "scatterpolargl": [
           {
            "marker": {
             "colorbar": {
              "outlinewidth": 0,
              "ticks": ""
             }
            },
            "type": "scatterpolargl"
           }
          ],
          "scatterternary": [
           {
            "marker": {
             "colorbar": {
              "outlinewidth": 0,
              "ticks": ""
             }
            },
            "type": "scatterternary"
           }
          ],
          "surface": [
           {
            "colorbar": {
             "outlinewidth": 0,
             "ticks": ""
            },
            "colorscale": [
             [
              0,
              "#0d0887"
             ],
             [
              0.1111111111111111,
              "#46039f"
             ],
             [
              0.2222222222222222,
              "#7201a8"
             ],
             [
              0.3333333333333333,
              "#9c179e"
             ],
             [
              0.4444444444444444,
              "#bd3786"
             ],
             [
              0.5555555555555556,
              "#d8576b"
             ],
             [
              0.6666666666666666,
              "#ed7953"
             ],
             [
              0.7777777777777778,
              "#fb9f3a"
             ],
             [
              0.8888888888888888,
              "#fdca26"
             ],
             [
              1,
              "#f0f921"
             ]
            ],
            "type": "surface"
           }
          ],
          "table": [
           {
            "cells": {
             "fill": {
              "color": "#EBF0F8"
             },
             "line": {
              "color": "white"
             }
            },
            "header": {
             "fill": {
              "color": "#C8D4E3"
             },
             "line": {
              "color": "white"
             }
            },
            "type": "table"
           }
          ]
         },
         "layout": {
          "annotationdefaults": {
           "arrowcolor": "#2a3f5f",
           "arrowhead": 0,
           "arrowwidth": 1
          },
          "autotypenumbers": "strict",
          "coloraxis": {
           "colorbar": {
            "outlinewidth": 0,
            "ticks": ""
           }
          },
          "colorscale": {
           "diverging": [
            [
             0,
             "#8e0152"
            ],
            [
             0.1,
             "#c51b7d"
            ],
            [
             0.2,
             "#de77ae"
            ],
            [
             0.3,
             "#f1b6da"
            ],
            [
             0.4,
             "#fde0ef"
            ],
            [
             0.5,
             "#f7f7f7"
            ],
            [
             0.6,
             "#e6f5d0"
            ],
            [
             0.7,
             "#b8e186"
            ],
            [
             0.8,
             "#7fbc41"
            ],
            [
             0.9,
             "#4d9221"
            ],
            [
             1,
             "#276419"
            ]
           ],
           "sequential": [
            [
             0,
             "#0d0887"
            ],
            [
             0.1111111111111111,
             "#46039f"
            ],
            [
             0.2222222222222222,
             "#7201a8"
            ],
            [
             0.3333333333333333,
             "#9c179e"
            ],
            [
             0.4444444444444444,
             "#bd3786"
            ],
            [
             0.5555555555555556,
             "#d8576b"
            ],
            [
             0.6666666666666666,
             "#ed7953"
            ],
            [
             0.7777777777777778,
             "#fb9f3a"
            ],
            [
             0.8888888888888888,
             "#fdca26"
            ],
            [
             1,
             "#f0f921"
            ]
           ],
           "sequentialminus": [
            [
             0,
             "#0d0887"
            ],
            [
             0.1111111111111111,
             "#46039f"
            ],
            [
             0.2222222222222222,
             "#7201a8"
            ],
            [
             0.3333333333333333,
             "#9c179e"
            ],
            [
             0.4444444444444444,
             "#bd3786"
            ],
            [
             0.5555555555555556,
             "#d8576b"
            ],
            [
             0.6666666666666666,
             "#ed7953"
            ],
            [
             0.7777777777777778,
             "#fb9f3a"
            ],
            [
             0.8888888888888888,
             "#fdca26"
            ],
            [
             1,
             "#f0f921"
            ]
           ]
          },
          "colorway": [
           "#636efa",
           "#EF553B",
           "#00cc96",
           "#ab63fa",
           "#FFA15A",
           "#19d3f3",
           "#FF6692",
           "#B6E880",
           "#FF97FF",
           "#FECB52"
          ],
          "font": {
           "color": "#2a3f5f"
          },
          "geo": {
           "bgcolor": "white",
           "lakecolor": "white",
           "landcolor": "#E5ECF6",
           "showlakes": true,
           "showland": true,
           "subunitcolor": "white"
          },
          "hoverlabel": {
           "align": "left"
          },
          "hovermode": "closest",
          "mapbox": {
           "style": "light"
          },
          "paper_bgcolor": "white",
          "plot_bgcolor": "#E5ECF6",
          "polar": {
           "angularaxis": {
            "gridcolor": "white",
            "linecolor": "white",
            "ticks": ""
           },
           "bgcolor": "#E5ECF6",
           "radialaxis": {
            "gridcolor": "white",
            "linecolor": "white",
            "ticks": ""
           }
          },
          "scene": {
           "xaxis": {
            "backgroundcolor": "#E5ECF6",
            "gridcolor": "white",
            "gridwidth": 2,
            "linecolor": "white",
            "showbackground": true,
            "ticks": "",
            "zerolinecolor": "white"
           },
           "yaxis": {
            "backgroundcolor": "#E5ECF6",
            "gridcolor": "white",
            "gridwidth": 2,
            "linecolor": "white",
            "showbackground": true,
            "ticks": "",
            "zerolinecolor": "white"
           },
           "zaxis": {
            "backgroundcolor": "#E5ECF6",
            "gridcolor": "white",
            "gridwidth": 2,
            "linecolor": "white",
            "showbackground": true,
            "ticks": "",
            "zerolinecolor": "white"
           }
          },
          "shapedefaults": {
           "line": {
            "color": "#2a3f5f"
           }
          },
          "ternary": {
           "aaxis": {
            "gridcolor": "white",
            "linecolor": "white",
            "ticks": ""
           },
           "baxis": {
            "gridcolor": "white",
            "linecolor": "white",
            "ticks": ""
           },
           "bgcolor": "#E5ECF6",
           "caxis": {
            "gridcolor": "white",
            "linecolor": "white",
            "ticks": ""
           }
          },
          "title": {
           "x": 0.05
          },
          "xaxis": {
           "automargin": true,
           "gridcolor": "white",
           "linecolor": "white",
           "ticks": "",
           "title": {
            "standoff": 15
           },
           "zerolinecolor": "white",
           "zerolinewidth": 2
          },
          "yaxis": {
           "automargin": true,
           "gridcolor": "white",
           "linecolor": "white",
           "ticks": "",
           "title": {
            "standoff": 15
           },
           "zerolinecolor": "white",
           "zerolinewidth": 2
          }
         }
        },
        "title": {
         "text": "Verdeling van gender"
        },
        "xaxis": {
         "anchor": "y",
         "domain": [
          0,
          1
         ],
         "title": {
          "text": "gender"
         }
        },
        "yaxis": {
         "anchor": "x",
         "domain": [
          0,
          1
         ],
         "title": {
          "text": "Frequentie"
         }
        }
       }
      }
     },
     "metadata": {},
     "output_type": "display_data"
    },
    {
     "data": {
      "application/vnd.plotly.v1+json": {
       "config": {
        "plotlyServerURL": "https://plot.ly"
       },
       "data": [
        {
         "alignmentgroup": "True",
         "bingroup": "x",
         "hovertemplate": "onderwijsniveau=%{x}<br>count=%{y}<extra></extra>",
         "legendgroup": "",
         "marker": {
          "color": "#636efa",
          "pattern": {
           "shape": ""
          }
         },
         "name": "",
         "offsetgroup": "",
         "orientation": "v",
         "showlegend": false,
         "type": "histogram",
         "x": [
          "havo",
          "vmbo",
          "vmbo",
          "vmbo",
          "vmbo",
          "vmbo",
          "havo",
          "vmbo",
          "vwo",
          "havo",
          "havo",
          "vwo",
          "havo",
          "hbo-wo",
          null,
          null,
          "havo",
          "hbo-wo",
          "hbo-wo",
          "vmbo",
          "vwo",
          "vwo",
          "vmbo",
          "vmbo",
          "vmbo",
          "vmbo",
          "vwo",
          "vwo",
          "hbo-wo",
          "vwo",
          "vmbo",
          "vwo",
          "vwo",
          "vmbo",
          "vmbo",
          "vwo",
          "havo",
          "vmbo",
          "hbo-wo",
          "havo",
          "havo",
          "vmbo",
          "vwo",
          "vwo",
          "vmbo",
          "havo",
          "havo",
          "vmbo",
          "hbo-wo",
          "vmbo",
          "vwo",
          "hbo-wo",
          null,
          "vwo",
          "vwo",
          "vmbo",
          "havo",
          "vmbo",
          "hbo-wo",
          "vwo",
          "havo",
          "hbo-wo",
          "hbo-wo",
          null,
          "havo",
          "vmbo",
          "hbo-wo",
          "hbo-wo",
          "vwo",
          "vmbo",
          "havo",
          null,
          "vmbo",
          null,
          "havo",
          "vwo",
          null,
          "hbo-wo",
          "vwo",
          "vwo",
          "hbo-wo",
          "hbo-wo",
          "havo",
          "havo",
          "vmbo",
          "vmbo",
          "hbo-wo",
          "vmbo",
          "hbo-wo",
          "havo",
          "havo",
          null,
          "hbo-wo",
          "hbo-wo",
          "vmbo",
          "havo",
          "vwo",
          "havo",
          "vmbo",
          "vwo",
          "vmbo",
          "vmbo",
          "vmbo",
          "havo",
          "vmbo",
          "hbo-wo",
          "hbo-wo",
          "havo",
          "havo",
          "vwo",
          "vwo",
          "hbo-wo",
          "havo",
          "vwo",
          "hbo-wo",
          "hbo-wo",
          "vwo",
          "vmbo",
          null,
          "vmbo",
          "vmbo",
          "hbo-wo",
          "vwo",
          "vmbo",
          "hbo-wo",
          "vwo",
          "hbo-wo",
          "havo",
          "vwo",
          "havo",
          "hbo-wo",
          "vwo",
          "vmbo",
          "hbo-wo",
          "havo",
          "havo",
          "hbo-wo",
          "havo",
          "havo",
          null,
          "havo",
          "vmbo",
          "vmbo",
          "hbo-wo",
          "hbo-wo",
          "hbo-wo",
          "vwo",
          "vmbo",
          "vmbo",
          "hbo-wo",
          "vwo",
          "vwo",
          "vmbo",
          "hbo-wo",
          "hbo-wo",
          "vwo",
          "havo",
          "vmbo",
          "havo",
          "vmbo",
          "hbo-wo",
          "vwo",
          "havo",
          "vmbo",
          "hbo-wo",
          "hbo-wo",
          "vwo",
          "havo",
          "vwo",
          "vmbo",
          "vwo",
          "hbo-wo",
          "havo",
          "hbo-wo",
          "vmbo",
          "vwo",
          "hbo-wo",
          "havo",
          "vwo",
          null,
          "vmbo",
          "vwo",
          "havo",
          "havo",
          "vwo",
          null,
          null,
          "vmbo",
          "hbo-wo",
          null,
          "havo",
          "vmbo",
          null,
          "havo",
          "hbo-wo",
          "vmbo",
          null,
          "vmbo",
          "vmbo",
          "vwo",
          "hbo-wo",
          "hbo-wo",
          "havo",
          "vwo",
          "havo",
          "vmbo",
          null,
          "vmbo",
          null,
          "hbo-wo",
          "vmbo",
          "hbo-wo",
          "havo",
          "vwo",
          "havo",
          "vwo",
          "vmbo",
          "vwo",
          "vwo",
          "havo",
          "vmbo",
          "havo",
          "havo",
          "hbo-wo",
          "vwo",
          "vmbo",
          "havo",
          "vmbo",
          "hbo-wo",
          "vwo",
          null,
          null,
          "havo",
          "vmbo",
          "vwo",
          "vwo",
          "havo",
          "vwo",
          "hbo-wo",
          "vmbo",
          "vwo",
          "hbo-wo",
          "vwo",
          null,
          "vmbo",
          "hbo-wo",
          "vwo",
          "vmbo",
          "vwo",
          "havo",
          "vwo",
          "hbo-wo",
          "havo",
          "havo",
          null,
          "vwo",
          "havo",
          null,
          "vwo",
          "havo",
          "vmbo",
          "vwo",
          "vwo",
          "hbo-wo",
          null,
          "vwo",
          "havo",
          "havo",
          "vmbo",
          "hbo-wo",
          "vwo",
          "hbo-wo",
          "hbo-wo",
          "vmbo",
          "hbo-wo",
          "vwo",
          null,
          "vwo",
          "vwo",
          "havo",
          "hbo-wo",
          "vmbo",
          "hbo-wo",
          "vwo",
          "havo",
          "vwo",
          "vwo",
          "vmbo",
          "havo",
          "vmbo",
          "vwo",
          "hbo-wo",
          "havo",
          "vmbo",
          "hbo-wo",
          "havo",
          "vwo",
          "vmbo",
          "havo",
          "vwo",
          null,
          "hbo-wo",
          "hbo-wo",
          "vwo",
          "vwo",
          "vwo",
          "vwo",
          "hbo-wo",
          "vwo",
          "vwo",
          "havo",
          "havo",
          "vwo",
          "havo",
          "vmbo",
          "hbo-wo",
          "vmbo",
          "havo",
          "vwo",
          "hbo-wo",
          "vwo",
          "havo",
          "vwo",
          "vwo",
          "hbo-wo",
          "vmbo",
          "vwo",
          "havo",
          "vmbo",
          "vwo",
          "vmbo",
          "havo",
          "hbo-wo",
          "vwo",
          "hbo-wo",
          "vwo",
          "vwo",
          "hbo-wo",
          "havo",
          "vwo",
          "hbo-wo",
          "hbo-wo",
          "havo",
          "vwo",
          "hbo-wo",
          "vmbo",
          "havo",
          "vmbo",
          "havo",
          "vwo",
          null,
          "hbo-wo",
          "vmbo",
          "vwo",
          "vmbo",
          "havo",
          "vmbo",
          "vwo",
          "vwo",
          "vmbo",
          "vwo",
          "hbo-wo",
          "havo",
          "hbo-wo",
          "vwo",
          "vwo",
          "vmbo",
          "vwo",
          "vmbo",
          "vmbo",
          "havo",
          "havo",
          "vwo",
          "hbo-wo",
          "havo",
          "hbo-wo",
          "vwo",
          "vwo",
          "vmbo",
          "havo",
          "vmbo",
          "vmbo",
          "hbo-wo",
          "vmbo",
          "vmbo",
          "hbo-wo",
          "vmbo",
          "hbo-wo",
          "havo",
          "vmbo",
          "vmbo",
          "hbo-wo",
          "havo",
          "hbo-wo",
          "vmbo",
          "havo",
          "hbo-wo",
          null,
          "vwo",
          "hbo-wo",
          "hbo-wo",
          null,
          "vwo",
          "hbo-wo",
          "vwo",
          "vwo",
          "vmbo",
          "vwo",
          "vwo",
          "havo",
          null,
          "hbo-wo",
          "havo",
          "havo",
          "vmbo",
          "hbo-wo",
          "hbo-wo",
          "hbo-wo",
          "hbo-wo",
          "hbo-wo",
          null,
          "havo",
          "vwo",
          "vwo",
          "havo",
          "vwo",
          "havo",
          "vwo",
          "vmbo",
          null,
          "vwo",
          "vwo",
          null,
          "vmbo",
          "havo",
          null,
          "vmbo",
          "vmbo",
          "vwo",
          "hbo-wo",
          "vmbo",
          "havo",
          null,
          "hbo-wo",
          "hbo-wo",
          "vmbo",
          "vmbo",
          "hbo-wo",
          "vwo",
          "vwo",
          "vmbo",
          "vwo",
          "vwo",
          "vmbo",
          "hbo-wo",
          "vwo",
          "hbo-wo",
          "hbo-wo",
          "vwo",
          "vmbo",
          "havo",
          "havo",
          null,
          null,
          "vwo",
          "vwo",
          "havo",
          "vmbo",
          "vmbo",
          "hbo-wo",
          "vwo",
          "havo",
          "vwo",
          "hbo-wo",
          "vmbo",
          "vmbo",
          "havo",
          "vwo",
          "vwo",
          "vwo",
          "havo",
          null,
          "hbo-wo",
          "hbo-wo",
          "havo",
          "havo",
          "havo",
          "vwo",
          "hbo-wo",
          "hbo-wo",
          "vmbo",
          "havo",
          "hbo-wo",
          "havo",
          "vwo",
          "vmbo",
          "hbo-wo",
          "vwo",
          "hbo-wo",
          "vwo",
          "vmbo",
          "hbo-wo",
          "havo",
          null,
          "vwo",
          "vwo",
          "hbo-wo",
          "havo",
          "vmbo",
          "vwo",
          null,
          "hbo-wo",
          null,
          "havo",
          "vmbo",
          "hbo-wo",
          "vmbo",
          "vwo",
          "vmbo",
          "vwo",
          "havo",
          "vmbo",
          "vmbo",
          "hbo-wo",
          "hbo-wo",
          "vmbo",
          "havo",
          "vmbo",
          null,
          "hbo-wo",
          "vwo",
          "vwo",
          null,
          "havo",
          "havo",
          "hbo-wo",
          "vwo",
          "vwo",
          "hbo-wo",
          null,
          "vwo",
          "hbo-wo",
          "hbo-wo",
          "vmbo",
          "vmbo",
          "havo",
          "havo",
          "hbo-wo",
          "vwo",
          "vwo",
          "hbo-wo",
          "vwo",
          "vmbo",
          "havo",
          "vmbo",
          "vwo",
          "vmbo",
          "havo",
          "vmbo",
          "hbo-wo",
          "hbo-wo",
          null,
          "hbo-wo",
          "vmbo",
          "vwo",
          "havo",
          null,
          null,
          "hbo-wo",
          "vwo",
          "vwo",
          "vwo",
          "hbo-wo",
          "hbo-wo",
          "vwo",
          "vwo",
          null,
          "vmbo",
          "vwo",
          null,
          "vmbo",
          "vmbo",
          "vmbo",
          null,
          "havo",
          "hbo-wo",
          "vwo",
          "vwo",
          "vwo",
          "vwo",
          "vmbo",
          "vwo",
          "vmbo",
          "hbo-wo",
          "vwo",
          "vwo",
          null,
          "hbo-wo",
          "havo",
          "havo",
          null,
          "vmbo",
          "vwo",
          "vmbo",
          "hbo-wo",
          "vwo",
          "vwo",
          "vmbo",
          "vmbo",
          "havo",
          "hbo-wo",
          "vwo",
          "havo",
          "havo",
          "vmbo",
          "hbo-wo",
          "vwo",
          "hbo-wo",
          null,
          "havo",
          null,
          "vmbo",
          null,
          "hbo-wo",
          "havo",
          "vmbo",
          "vwo",
          "havo",
          "havo",
          "vmbo",
          "vmbo",
          "havo",
          null,
          null,
          "hbo-wo",
          "havo",
          "vmbo",
          "vmbo",
          "havo",
          "havo",
          "havo",
          null,
          "hbo-wo",
          "vwo",
          "havo",
          "vmbo",
          "vmbo",
          "havo",
          "vwo",
          "vmbo",
          "vmbo",
          null,
          "havo",
          null,
          "havo",
          "vwo",
          "vwo",
          "vmbo",
          null,
          "vwo",
          "havo",
          null,
          "vwo",
          "vmbo",
          "hbo-wo",
          "vmbo",
          "hbo-wo",
          "vwo",
          "vmbo",
          "hbo-wo",
          "hbo-wo",
          "hbo-wo",
          "havo",
          "havo",
          null,
          "vmbo",
          "vmbo",
          "vmbo",
          "vwo",
          "vwo",
          "hbo-wo",
          "hbo-wo",
          "vwo",
          "vwo",
          "havo",
          "havo",
          "hbo-wo",
          "hbo-wo",
          "vmbo",
          "vmbo",
          "vmbo",
          "vmbo",
          "havo",
          "havo",
          "hbo-wo",
          null,
          "vmbo",
          "vwo",
          "hbo-wo",
          "vmbo",
          "havo",
          "vmbo",
          "vmbo",
          null,
          "vwo",
          "havo",
          "vmbo",
          "havo",
          "havo",
          "vmbo",
          "vmbo",
          "vwo",
          "vwo",
          "vmbo",
          "vmbo",
          "vwo",
          "havo",
          "havo",
          "vwo",
          "hbo-wo",
          "vmbo",
          "vmbo",
          "vmbo",
          null,
          "vwo",
          "hbo-wo",
          "havo",
          "vmbo",
          "hbo-wo",
          "vmbo",
          "vwo",
          "vwo",
          "hbo-wo",
          null,
          "vmbo",
          "hbo-wo",
          "havo",
          "hbo-wo",
          "havo",
          "vmbo",
          "havo",
          "vmbo",
          "hbo-wo",
          "havo",
          "hbo-wo",
          "hbo-wo",
          "vmbo",
          "vmbo",
          "hbo-wo",
          "havo",
          "havo",
          "vmbo",
          "havo",
          null,
          "vwo",
          "vmbo",
          null,
          "vwo",
          "hbo-wo",
          "vmbo",
          null,
          "vmbo",
          "vwo",
          "vwo",
          "vwo",
          "vmbo",
          "vwo",
          null,
          "vmbo",
          "vmbo",
          "havo",
          "vwo",
          "hbo-wo",
          "hbo-wo",
          "havo",
          "hbo-wo",
          "havo",
          null,
          "vwo",
          "hbo-wo",
          "havo",
          null,
          "vmbo",
          "vwo",
          null,
          "hbo-wo",
          "hbo-wo",
          "havo",
          "vmbo",
          "vwo",
          "vmbo",
          "vwo",
          "hbo-wo",
          "havo",
          null,
          "hbo-wo",
          "hbo-wo",
          "vmbo",
          "havo",
          "vmbo",
          "vwo",
          "hbo-wo",
          "vmbo",
          "vmbo",
          "vwo",
          "vwo",
          "vwo",
          "vwo",
          "vmbo",
          "vmbo",
          "havo",
          "hbo-wo",
          "havo",
          "vwo",
          "hbo-wo",
          "havo",
          "vwo",
          "vwo",
          "hbo-wo",
          "hbo-wo",
          "vmbo",
          null,
          null,
          "vmbo",
          "havo",
          "vwo",
          "vmbo",
          null,
          "hbo-wo",
          "vmbo",
          "havo",
          null,
          null,
          "vwo",
          null,
          "vmbo",
          "hbo-wo",
          "hbo-wo",
          "vmbo",
          "havo",
          "vmbo",
          "havo",
          "hbo-wo",
          "vmbo",
          "vwo",
          "hbo-wo",
          "havo",
          "hbo-wo",
          "hbo-wo",
          null,
          "vwo",
          "havo",
          "vwo",
          null,
          "vmbo",
          null,
          "vmbo",
          "vmbo",
          "vwo",
          "hbo-wo",
          "havo",
          "hbo-wo",
          "hbo-wo",
          "vwo",
          "vmbo",
          "vwo",
          null,
          "havo",
          "vmbo",
          "vmbo",
          "havo",
          "havo",
          "hbo-wo",
          "havo",
          "hbo-wo",
          "vwo",
          "havo",
          "vwo",
          null,
          "hbo-wo",
          "vmbo",
          "vmbo",
          "havo",
          null,
          "havo",
          "hbo-wo",
          "vmbo",
          "vwo",
          "havo",
          "hbo-wo",
          "havo",
          "havo",
          "vwo",
          "vwo",
          "vwo",
          "havo",
          "hbo-wo",
          "vmbo",
          "vwo",
          "havo",
          "hbo-wo",
          "havo",
          "hbo-wo",
          "hbo-wo",
          "hbo-wo",
          "vmbo",
          "vmbo",
          "vmbo",
          "vwo",
          null,
          "vwo",
          "hbo-wo",
          "vmbo",
          "havo",
          "vwo",
          "havo",
          "vmbo",
          "hbo-wo",
          "vwo",
          "hbo-wo",
          "hbo-wo",
          "hbo-wo",
          "hbo-wo",
          "hbo-wo",
          "vmbo",
          "havo",
          "hbo-wo",
          null,
          "hbo-wo",
          "vmbo",
          "vmbo",
          "havo",
          "vmbo",
          "vmbo",
          null,
          null,
          "vmbo",
          null,
          "hbo-wo",
          "vwo",
          "vwo",
          "vwo",
          "vwo",
          "vmbo",
          "hbo-wo",
          "vwo",
          "vmbo",
          "hbo-wo",
          "havo",
          "vmbo",
          "hbo-wo",
          "vwo",
          "havo",
          "hbo-wo",
          "vwo",
          "hbo-wo",
          "vwo",
          "vwo",
          null,
          null,
          "havo",
          null,
          "vmbo",
          "hbo-wo",
          "hbo-wo",
          "hbo-wo",
          "havo",
          "vmbo",
          "vwo",
          "vwo",
          "havo",
          "vwo",
          null,
          "havo",
          null,
          "vwo",
          "hbo-wo",
          "vwo",
          "vmbo",
          "vmbo",
          "havo",
          "hbo-wo",
          "hbo-wo",
          "vmbo",
          "vwo",
          "hbo-wo",
          "vwo",
          "hbo-wo",
          null,
          "havo",
          "hbo-wo",
          "hbo-wo",
          "hbo-wo",
          null,
          "hbo-wo",
          null,
          "vmbo",
          "havo",
          "hbo-wo",
          "vwo"
         ],
         "xaxis": "x",
         "yaxis": "y"
        }
       ],
       "layout": {
        "bargap": 0.2,
        "barmode": "relative",
        "legend": {
         "tracegroupgap": 0
        },
        "template": {
         "data": {
          "bar": [
           {
            "error_x": {
             "color": "#2a3f5f"
            },
            "error_y": {
             "color": "#2a3f5f"
            },
            "marker": {
             "line": {
              "color": "#E5ECF6",
              "width": 0.5
             },
             "pattern": {
              "fillmode": "overlay",
              "size": 10,
              "solidity": 0.2
             }
            },
            "type": "bar"
           }
          ],
          "barpolar": [
           {
            "marker": {
             "line": {
              "color": "#E5ECF6",
              "width": 0.5
             },
             "pattern": {
              "fillmode": "overlay",
              "size": 10,
              "solidity": 0.2
             }
            },
            "type": "barpolar"
           }
          ],
          "carpet": [
           {
            "aaxis": {
             "endlinecolor": "#2a3f5f",
             "gridcolor": "white",
             "linecolor": "white",
             "minorgridcolor": "white",
             "startlinecolor": "#2a3f5f"
            },
            "baxis": {
             "endlinecolor": "#2a3f5f",
             "gridcolor": "white",
             "linecolor": "white",
             "minorgridcolor": "white",
             "startlinecolor": "#2a3f5f"
            },
            "type": "carpet"
           }
          ],
          "choropleth": [
           {
            "colorbar": {
             "outlinewidth": 0,
             "ticks": ""
            },
            "type": "choropleth"
           }
          ],
          "contour": [
           {
            "colorbar": {
             "outlinewidth": 0,
             "ticks": ""
            },
            "colorscale": [
             [
              0,
              "#0d0887"
             ],
             [
              0.1111111111111111,
              "#46039f"
             ],
             [
              0.2222222222222222,
              "#7201a8"
             ],
             [
              0.3333333333333333,
              "#9c179e"
             ],
             [
              0.4444444444444444,
              "#bd3786"
             ],
             [
              0.5555555555555556,
              "#d8576b"
             ],
             [
              0.6666666666666666,
              "#ed7953"
             ],
             [
              0.7777777777777778,
              "#fb9f3a"
             ],
             [
              0.8888888888888888,
              "#fdca26"
             ],
             [
              1,
              "#f0f921"
             ]
            ],
            "type": "contour"
           }
          ],
          "contourcarpet": [
           {
            "colorbar": {
             "outlinewidth": 0,
             "ticks": ""
            },
            "type": "contourcarpet"
           }
          ],
          "heatmap": [
           {
            "colorbar": {
             "outlinewidth": 0,
             "ticks": ""
            },
            "colorscale": [
             [
              0,
              "#0d0887"
             ],
             [
              0.1111111111111111,
              "#46039f"
             ],
             [
              0.2222222222222222,
              "#7201a8"
             ],
             [
              0.3333333333333333,
              "#9c179e"
             ],
             [
              0.4444444444444444,
              "#bd3786"
             ],
             [
              0.5555555555555556,
              "#d8576b"
             ],
             [
              0.6666666666666666,
              "#ed7953"
             ],
             [
              0.7777777777777778,
              "#fb9f3a"
             ],
             [
              0.8888888888888888,
              "#fdca26"
             ],
             [
              1,
              "#f0f921"
             ]
            ],
            "type": "heatmap"
           }
          ],
          "heatmapgl": [
           {
            "colorbar": {
             "outlinewidth": 0,
             "ticks": ""
            },
            "colorscale": [
             [
              0,
              "#0d0887"
             ],
             [
              0.1111111111111111,
              "#46039f"
             ],
             [
              0.2222222222222222,
              "#7201a8"
             ],
             [
              0.3333333333333333,
              "#9c179e"
             ],
             [
              0.4444444444444444,
              "#bd3786"
             ],
             [
              0.5555555555555556,
              "#d8576b"
             ],
             [
              0.6666666666666666,
              "#ed7953"
             ],
             [
              0.7777777777777778,
              "#fb9f3a"
             ],
             [
              0.8888888888888888,
              "#fdca26"
             ],
             [
              1,
              "#f0f921"
             ]
            ],
            "type": "heatmapgl"
           }
          ],
          "histogram": [
           {
            "marker": {
             "pattern": {
              "fillmode": "overlay",
              "size": 10,
              "solidity": 0.2
             }
            },
            "type": "histogram"
           }
          ],
          "histogram2d": [
           {
            "colorbar": {
             "outlinewidth": 0,
             "ticks": ""
            },
            "colorscale": [
             [
              0,
              "#0d0887"
             ],
             [
              0.1111111111111111,
              "#46039f"
             ],
             [
              0.2222222222222222,
              "#7201a8"
             ],
             [
              0.3333333333333333,
              "#9c179e"
             ],
             [
              0.4444444444444444,
              "#bd3786"
             ],
             [
              0.5555555555555556,
              "#d8576b"
             ],
             [
              0.6666666666666666,
              "#ed7953"
             ],
             [
              0.7777777777777778,
              "#fb9f3a"
             ],
             [
              0.8888888888888888,
              "#fdca26"
             ],
             [
              1,
              "#f0f921"
             ]
            ],
            "type": "histogram2d"
           }
          ],
          "histogram2dcontour": [
           {
            "colorbar": {
             "outlinewidth": 0,
             "ticks": ""
            },
            "colorscale": [
             [
              0,
              "#0d0887"
             ],
             [
              0.1111111111111111,
              "#46039f"
             ],
             [
              0.2222222222222222,
              "#7201a8"
             ],
             [
              0.3333333333333333,
              "#9c179e"
             ],
             [
              0.4444444444444444,
              "#bd3786"
             ],
             [
              0.5555555555555556,
              "#d8576b"
             ],
             [
              0.6666666666666666,
              "#ed7953"
             ],
             [
              0.7777777777777778,
              "#fb9f3a"
             ],
             [
              0.8888888888888888,
              "#fdca26"
             ],
             [
              1,
              "#f0f921"
             ]
            ],
            "type": "histogram2dcontour"
           }
          ],
          "mesh3d": [
           {
            "colorbar": {
             "outlinewidth": 0,
             "ticks": ""
            },
            "type": "mesh3d"
           }
          ],
          "parcoords": [
           {
            "line": {
             "colorbar": {
              "outlinewidth": 0,
              "ticks": ""
             }
            },
            "type": "parcoords"
           }
          ],
          "pie": [
           {
            "automargin": true,
            "type": "pie"
           }
          ],
          "scatter": [
           {
            "fillpattern": {
             "fillmode": "overlay",
             "size": 10,
             "solidity": 0.2
            },
            "type": "scatter"
           }
          ],
          "scatter3d": [
           {
            "line": {
             "colorbar": {
              "outlinewidth": 0,
              "ticks": ""
             }
            },
            "marker": {
             "colorbar": {
              "outlinewidth": 0,
              "ticks": ""
             }
            },
            "type": "scatter3d"
           }
          ],
          "scattercarpet": [
           {
            "marker": {
             "colorbar": {
              "outlinewidth": 0,
              "ticks": ""
             }
            },
            "type": "scattercarpet"
           }
          ],
          "scattergeo": [
           {
            "marker": {
             "colorbar": {
              "outlinewidth": 0,
              "ticks": ""
             }
            },
            "type": "scattergeo"
           }
          ],
          "scattergl": [
           {
            "marker": {
             "colorbar": {
              "outlinewidth": 0,
              "ticks": ""
             }
            },
            "type": "scattergl"
           }
          ],
          "scattermapbox": [
           {
            "marker": {
             "colorbar": {
              "outlinewidth": 0,
              "ticks": ""
             }
            },
            "type": "scattermapbox"
           }
          ],
          "scatterpolar": [
           {
            "marker": {
             "colorbar": {
              "outlinewidth": 0,
              "ticks": ""
             }
            },
            "type": "scatterpolar"
           }
          ],
          "scatterpolargl": [
           {
            "marker": {
             "colorbar": {
              "outlinewidth": 0,
              "ticks": ""
             }
            },
            "type": "scatterpolargl"
           }
          ],
          "scatterternary": [
           {
            "marker": {
             "colorbar": {
              "outlinewidth": 0,
              "ticks": ""
             }
            },
            "type": "scatterternary"
           }
          ],
          "surface": [
           {
            "colorbar": {
             "outlinewidth": 0,
             "ticks": ""
            },
            "colorscale": [
             [
              0,
              "#0d0887"
             ],
             [
              0.1111111111111111,
              "#46039f"
             ],
             [
              0.2222222222222222,
              "#7201a8"
             ],
             [
              0.3333333333333333,
              "#9c179e"
             ],
             [
              0.4444444444444444,
              "#bd3786"
             ],
             [
              0.5555555555555556,
              "#d8576b"
             ],
             [
              0.6666666666666666,
              "#ed7953"
             ],
             [
              0.7777777777777778,
              "#fb9f3a"
             ],
             [
              0.8888888888888888,
              "#fdca26"
             ],
             [
              1,
              "#f0f921"
             ]
            ],
            "type": "surface"
           }
          ],
          "table": [
           {
            "cells": {
             "fill": {
              "color": "#EBF0F8"
             },
             "line": {
              "color": "white"
             }
            },
            "header": {
             "fill": {
              "color": "#C8D4E3"
             },
             "line": {
              "color": "white"
             }
            },
            "type": "table"
           }
          ]
         },
         "layout": {
          "annotationdefaults": {
           "arrowcolor": "#2a3f5f",
           "arrowhead": 0,
           "arrowwidth": 1
          },
          "autotypenumbers": "strict",
          "coloraxis": {
           "colorbar": {
            "outlinewidth": 0,
            "ticks": ""
           }
          },
          "colorscale": {
           "diverging": [
            [
             0,
             "#8e0152"
            ],
            [
             0.1,
             "#c51b7d"
            ],
            [
             0.2,
             "#de77ae"
            ],
            [
             0.3,
             "#f1b6da"
            ],
            [
             0.4,
             "#fde0ef"
            ],
            [
             0.5,
             "#f7f7f7"
            ],
            [
             0.6,
             "#e6f5d0"
            ],
            [
             0.7,
             "#b8e186"
            ],
            [
             0.8,
             "#7fbc41"
            ],
            [
             0.9,
             "#4d9221"
            ],
            [
             1,
             "#276419"
            ]
           ],
           "sequential": [
            [
             0,
             "#0d0887"
            ],
            [
             0.1111111111111111,
             "#46039f"
            ],
            [
             0.2222222222222222,
             "#7201a8"
            ],
            [
             0.3333333333333333,
             "#9c179e"
            ],
            [
             0.4444444444444444,
             "#bd3786"
            ],
            [
             0.5555555555555556,
             "#d8576b"
            ],
            [
             0.6666666666666666,
             "#ed7953"
            ],
            [
             0.7777777777777778,
             "#fb9f3a"
            ],
            [
             0.8888888888888888,
             "#fdca26"
            ],
            [
             1,
             "#f0f921"
            ]
           ],
           "sequentialminus": [
            [
             0,
             "#0d0887"
            ],
            [
             0.1111111111111111,
             "#46039f"
            ],
            [
             0.2222222222222222,
             "#7201a8"
            ],
            [
             0.3333333333333333,
             "#9c179e"
            ],
            [
             0.4444444444444444,
             "#bd3786"
            ],
            [
             0.5555555555555556,
             "#d8576b"
            ],
            [
             0.6666666666666666,
             "#ed7953"
            ],
            [
             0.7777777777777778,
             "#fb9f3a"
            ],
            [
             0.8888888888888888,
             "#fdca26"
            ],
            [
             1,
             "#f0f921"
            ]
           ]
          },
          "colorway": [
           "#636efa",
           "#EF553B",
           "#00cc96",
           "#ab63fa",
           "#FFA15A",
           "#19d3f3",
           "#FF6692",
           "#B6E880",
           "#FF97FF",
           "#FECB52"
          ],
          "font": {
           "color": "#2a3f5f"
          },
          "geo": {
           "bgcolor": "white",
           "lakecolor": "white",
           "landcolor": "#E5ECF6",
           "showlakes": true,
           "showland": true,
           "subunitcolor": "white"
          },
          "hoverlabel": {
           "align": "left"
          },
          "hovermode": "closest",
          "mapbox": {
           "style": "light"
          },
          "paper_bgcolor": "white",
          "plot_bgcolor": "#E5ECF6",
          "polar": {
           "angularaxis": {
            "gridcolor": "white",
            "linecolor": "white",
            "ticks": ""
           },
           "bgcolor": "#E5ECF6",
           "radialaxis": {
            "gridcolor": "white",
            "linecolor": "white",
            "ticks": ""
           }
          },
          "scene": {
           "xaxis": {
            "backgroundcolor": "#E5ECF6",
            "gridcolor": "white",
            "gridwidth": 2,
            "linecolor": "white",
            "showbackground": true,
            "ticks": "",
            "zerolinecolor": "white"
           },
           "yaxis": {
            "backgroundcolor": "#E5ECF6",
            "gridcolor": "white",
            "gridwidth": 2,
            "linecolor": "white",
            "showbackground": true,
            "ticks": "",
            "zerolinecolor": "white"
           },
           "zaxis": {
            "backgroundcolor": "#E5ECF6",
            "gridcolor": "white",
            "gridwidth": 2,
            "linecolor": "white",
            "showbackground": true,
            "ticks": "",
            "zerolinecolor": "white"
           }
          },
          "shapedefaults": {
           "line": {
            "color": "#2a3f5f"
           }
          },
          "ternary": {
           "aaxis": {
            "gridcolor": "white",
            "linecolor": "white",
            "ticks": ""
           },
           "baxis": {
            "gridcolor": "white",
            "linecolor": "white",
            "ticks": ""
           },
           "bgcolor": "#E5ECF6",
           "caxis": {
            "gridcolor": "white",
            "linecolor": "white",
            "ticks": ""
           }
          },
          "title": {
           "x": 0.05
          },
          "xaxis": {
           "automargin": true,
           "gridcolor": "white",
           "linecolor": "white",
           "ticks": "",
           "title": {
            "standoff": 15
           },
           "zerolinecolor": "white",
           "zerolinewidth": 2
          },
          "yaxis": {
           "automargin": true,
           "gridcolor": "white",
           "linecolor": "white",
           "ticks": "",
           "title": {
            "standoff": 15
           },
           "zerolinecolor": "white",
           "zerolinewidth": 2
          }
         }
        },
        "title": {
         "text": "Verdeling van onderwijsniveau"
        },
        "xaxis": {
         "anchor": "y",
         "domain": [
          0,
          1
         ],
         "title": {
          "text": "onderwijsniveau"
         }
        },
        "yaxis": {
         "anchor": "x",
         "domain": [
          0,
          1
         ],
         "title": {
          "text": "Frequentie"
         }
        }
       }
      }
     },
     "metadata": {},
     "output_type": "display_data"
    },
    {
     "data": {
      "application/vnd.plotly.v1+json": {
       "config": {
        "plotlyServerURL": "https://plot.ly"
       },
       "data": [
        {
         "alignmentgroup": "True",
         "bingroup": "x",
         "hovertemplate": "burgerlijke_staat=%{x}<br>count=%{y}<extra></extra>",
         "legendgroup": "",
         "marker": {
          "color": "#636efa",
          "pattern": {
           "shape": ""
          }
         },
         "name": "",
         "offsetgroup": "",
         "orientation": "v",
         "showlegend": false,
         "type": "histogram",
         "x": [
          "samenwonend",
          "single",
          "single",
          "single",
          "single",
          "samenwonend",
          "single",
          "single",
          "single",
          "samenwonend",
          "single",
          "single",
          "single",
          "samenwonend",
          "single",
          "single",
          "samenwonend",
          "samenwonend",
          "single",
          null,
          "samenwonend",
          "single",
          "samenwonend",
          "single",
          "samenwonend",
          "single",
          "single",
          "single",
          null,
          "samenwonend",
          null,
          "single",
          "samenwonend",
          null,
          "samenwonend",
          "samenwonend",
          "single",
          "single",
          "samenwonend",
          "single",
          "samenwonend",
          "samenwonend",
          "single",
          "single",
          "samenwonend",
          "single",
          "single",
          "single",
          "samenwonend",
          null,
          "single",
          "single",
          "single",
          "single",
          "samenwonend",
          "single",
          "single",
          "single",
          "single",
          "samenwonend",
          "single",
          "single",
          null,
          "samenwonend",
          null,
          "single",
          "single",
          "samenwonend",
          "samenwonend",
          "samenwonend",
          "single",
          "samenwonend",
          "samenwonend",
          null,
          "single",
          "single",
          "single",
          "samenwonend",
          "single",
          "samenwonend",
          "single",
          "single",
          "single",
          "single",
          "single",
          "single",
          "samenwonend",
          "samenwonend",
          "single",
          "samenwonend",
          "samenwonend",
          "single",
          null,
          "samenwonend",
          "single",
          "samenwonend",
          "samenwonend",
          "samenwonend",
          "samenwonend",
          "single",
          "single",
          "samenwonend",
          "samenwonend",
          "single",
          "single",
          "single",
          "single",
          "single",
          "samenwonend",
          "single",
          "single",
          "samenwonend",
          "single",
          "samenwonend",
          "samenwonend",
          "samenwonend",
          "single",
          "samenwonend",
          "single",
          "samenwonend",
          "single",
          "single",
          "samenwonend",
          "single",
          "samenwonend",
          "single",
          "single",
          "samenwonend",
          null,
          "single",
          "single",
          "single",
          "samenwonend",
          "single",
          "single",
          "samenwonend",
          "samenwonend",
          "samenwonend",
          null,
          null,
          "samenwonend",
          "single",
          null,
          "samenwonend",
          "samenwonend",
          "single",
          "samenwonend",
          "samenwonend",
          "single",
          null,
          "single",
          null,
          "single",
          "samenwonend",
          "samenwonend",
          "single",
          "samenwonend",
          null,
          "single",
          "samenwonend",
          "single",
          "single",
          "samenwonend",
          "single",
          "samenwonend",
          "single",
          "samenwonend",
          "samenwonend",
          "samenwonend",
          "samenwonend",
          "samenwonend",
          "single",
          "samenwonend",
          "single",
          "single",
          "samenwonend",
          "single",
          "single",
          "samenwonend",
          "single",
          "single",
          "single",
          "single",
          "single",
          "single",
          "single",
          "samenwonend",
          "single",
          "single",
          "single",
          null,
          "single",
          "single",
          "samenwonend",
          "samenwonend",
          "samenwonend",
          "samenwonend",
          "single",
          "samenwonend",
          null,
          "samenwonend",
          null,
          "samenwonend",
          "single",
          "single",
          "samenwonend",
          "samenwonend",
          "samenwonend",
          "single",
          "single",
          "samenwonend",
          "single",
          null,
          null,
          "single",
          "single",
          "single",
          "samenwonend",
          "single",
          "samenwonend",
          "single",
          "single",
          "samenwonend",
          "single",
          "single",
          "samenwonend",
          "samenwonend",
          "single",
          null,
          "single",
          "single",
          "single",
          "single",
          null,
          "samenwonend",
          "samenwonend",
          "single",
          "single",
          "single",
          "samenwonend",
          "single",
          "single",
          "single",
          "single",
          "samenwonend",
          "single",
          null,
          "single",
          "single",
          "single",
          "samenwonend",
          "samenwonend",
          "single",
          "samenwonend",
          "samenwonend",
          "single",
          "samenwonend",
          "samenwonend",
          "samenwonend",
          "samenwonend",
          null,
          "samenwonend",
          "single",
          "samenwonend",
          "samenwonend",
          "samenwonend",
          "single",
          "single",
          "samenwonend",
          "samenwonend",
          "samenwonend",
          "samenwonend",
          "single",
          null,
          null,
          "samenwonend",
          "samenwonend",
          "single",
          null,
          "samenwonend",
          "samenwonend",
          "single",
          "single",
          "single",
          "single",
          "single",
          "single",
          "samenwonend",
          "single",
          null,
          "samenwonend",
          null,
          null,
          "samenwonend",
          "samenwonend",
          "single",
          null,
          "single",
          "samenwonend",
          null,
          "samenwonend",
          "samenwonend",
          "single",
          "samenwonend",
          "single",
          "samenwonend",
          "single",
          "single",
          "samenwonend",
          "samenwonend",
          "single",
          "single",
          "samenwonend",
          "samenwonend",
          "single",
          "single",
          null,
          null,
          null,
          "samenwonend",
          "samenwonend",
          "single",
          "samenwonend",
          "single",
          "single",
          "samenwonend",
          null,
          "samenwonend",
          null,
          "single",
          "single",
          "single",
          "samenwonend",
          "single",
          "single",
          "samenwonend",
          "single",
          "samenwonend",
          "single",
          null,
          "samenwonend",
          "single",
          "single",
          "samenwonend",
          "samenwonend",
          "samenwonend",
          "single",
          "single",
          "single",
          "samenwonend",
          "samenwonend",
          null,
          "single",
          "single",
          "single",
          "single",
          "single",
          "single",
          "single",
          "samenwonend",
          "single",
          "single",
          "samenwonend",
          "samenwonend",
          "single",
          "samenwonend",
          "single",
          "single",
          "single",
          "single",
          "samenwonend",
          "samenwonend",
          null,
          "single",
          "single",
          "samenwonend",
          "samenwonend",
          null,
          "single",
          "single",
          "single",
          "single",
          "single",
          "single",
          "samenwonend",
          "single",
          "samenwonend",
          "single",
          "samenwonend",
          "single",
          "single",
          "samenwonend",
          null,
          "samenwonend",
          "single",
          "single",
          null,
          "single",
          "single",
          "single",
          "samenwonend",
          "samenwonend",
          "single",
          "single",
          "single",
          "samenwonend",
          "samenwonend",
          null,
          "samenwonend",
          "single",
          "samenwonend",
          "samenwonend",
          "single",
          "single",
          "single",
          "samenwonend",
          "samenwonend",
          null,
          "samenwonend",
          null,
          "samenwonend",
          "single",
          null,
          "single",
          "single",
          "samenwonend",
          "single",
          null,
          "single",
          "single",
          "samenwonend",
          "samenwonend",
          "samenwonend",
          "single",
          "single",
          "single",
          "samenwonend",
          "single",
          "single",
          "single",
          "single",
          "single",
          "samenwonend",
          "single",
          "single",
          "samenwonend",
          null,
          "samenwonend",
          "single",
          "single",
          "single",
          "samenwonend",
          "single",
          "samenwonend",
          null,
          "single",
          null,
          "samenwonend",
          "samenwonend",
          "samenwonend",
          "single",
          "single",
          "samenwonend",
          "samenwonend",
          "samenwonend",
          "single",
          "samenwonend",
          "samenwonend",
          "single",
          "single",
          "samenwonend",
          "single",
          "single",
          "samenwonend",
          "samenwonend",
          "single",
          "single",
          "samenwonend",
          "samenwonend",
          "single",
          "samenwonend",
          "single",
          "samenwonend",
          "single",
          "samenwonend",
          "samenwonend",
          "single",
          null,
          "samenwonend",
          "samenwonend",
          null,
          "samenwonend",
          "samenwonend",
          "single",
          null,
          null,
          "samenwonend",
          "samenwonend",
          "single",
          "samenwonend",
          "single",
          "single",
          "single",
          "single",
          "single",
          "samenwonend",
          "samenwonend",
          "samenwonend",
          "samenwonend",
          "single",
          "samenwonend",
          null,
          "samenwonend",
          "single",
          "samenwonend",
          "single",
          "samenwonend",
          "single",
          "samenwonend",
          "single",
          "single",
          "single",
          "single",
          "single",
          "single",
          "samenwonend",
          "samenwonend",
          "samenwonend",
          "samenwonend",
          "samenwonend",
          "samenwonend",
          "samenwonend",
          "samenwonend",
          "single",
          "samenwonend",
          null,
          "samenwonend",
          "samenwonend",
          "samenwonend",
          null,
          "samenwonend",
          "single",
          "single",
          "samenwonend",
          "single",
          "samenwonend",
          "single",
          "samenwonend",
          "single",
          "single",
          "single",
          "samenwonend",
          "single",
          "samenwonend",
          "single",
          "samenwonend",
          "single",
          "single",
          "single",
          "samenwonend",
          "single",
          "samenwonend",
          "single",
          "samenwonend",
          "single",
          "samenwonend",
          "samenwonend",
          "single",
          "single",
          "samenwonend",
          "single",
          "samenwonend",
          "single",
          "samenwonend",
          "samenwonend",
          "samenwonend",
          "samenwonend",
          "samenwonend",
          "single",
          "samenwonend",
          "samenwonend",
          "samenwonend",
          null,
          "samenwonend",
          null,
          "single",
          "samenwonend",
          "samenwonend",
          "samenwonend",
          "single",
          "samenwonend",
          null,
          "samenwonend",
          "single",
          "samenwonend",
          "single",
          "single",
          "single",
          "samenwonend",
          null,
          "single",
          "single",
          "single",
          "samenwonend",
          "single",
          "samenwonend",
          "single",
          "samenwonend",
          "single",
          "samenwonend",
          "single",
          "samenwonend",
          "samenwonend",
          "samenwonend",
          "samenwonend",
          "samenwonend",
          "single",
          null,
          "single",
          null,
          "samenwonend",
          "single",
          "single",
          "single",
          "samenwonend",
          "samenwonend",
          "samenwonend",
          "samenwonend",
          "samenwonend",
          "samenwonend",
          "samenwonend",
          "samenwonend",
          "samenwonend",
          "samenwonend",
          "samenwonend",
          "single",
          "single",
          "samenwonend",
          "samenwonend",
          "samenwonend",
          "samenwonend",
          "single",
          "samenwonend",
          "single",
          "single",
          "samenwonend",
          "single",
          "samenwonend",
          null,
          null,
          "samenwonend",
          "samenwonend",
          "single",
          "samenwonend",
          "single",
          null,
          "samenwonend",
          "single",
          "single",
          "samenwonend",
          "single",
          "single",
          null,
          "samenwonend",
          "single",
          "samenwonend",
          "samenwonend",
          "single",
          "single",
          "single",
          "single",
          "samenwonend",
          "samenwonend",
          "samenwonend",
          "samenwonend",
          "single",
          "samenwonend",
          "single",
          null,
          "samenwonend",
          "single",
          "samenwonend",
          "single",
          "single",
          "single",
          "single",
          null,
          null,
          "samenwonend",
          "single",
          "samenwonend",
          "single",
          "samenwonend",
          "single",
          "samenwonend",
          "single",
          "samenwonend",
          "single",
          "samenwonend",
          "samenwonend",
          null,
          "single",
          "samenwonend",
          null,
          "samenwonend",
          "single",
          "single",
          "single",
          "samenwonend",
          "single",
          "single",
          "samenwonend",
          "samenwonend",
          "samenwonend",
          "samenwonend",
          "samenwonend",
          "samenwonend",
          "single",
          "single",
          "samenwonend",
          "samenwonend",
          "single",
          "single",
          "samenwonend",
          "single",
          "samenwonend",
          "samenwonend",
          "samenwonend",
          "single",
          "single",
          "samenwonend",
          null,
          "single",
          "samenwonend",
          "single",
          "samenwonend",
          "single",
          "single",
          "samenwonend",
          "single",
          "samenwonend",
          "samenwonend",
          "single",
          "single",
          "single",
          "single",
          "samenwonend",
          "samenwonend",
          null,
          "single",
          "single",
          "single",
          "single",
          "samenwonend",
          "single",
          "samenwonend",
          "single",
          "single",
          "samenwonend",
          null,
          "samenwonend",
          "single",
          "single",
          "single",
          "single",
          "single",
          "samenwonend",
          null,
          "samenwonend",
          "single",
          "single",
          "single",
          "samenwonend",
          "samenwonend",
          "samenwonend",
          "samenwonend",
          "samenwonend",
          "samenwonend",
          "single",
          "samenwonend",
          "single",
          "samenwonend",
          "single",
          "single",
          "single",
          "samenwonend",
          "single",
          "samenwonend",
          "single",
          "single",
          "samenwonend",
          null,
          "samenwonend",
          "single",
          "samenwonend",
          null,
          "samenwonend",
          null,
          "samenwonend",
          "samenwonend",
          "samenwonend",
          "samenwonend",
          null,
          "samenwonend",
          "samenwonend",
          "single",
          "single",
          "single",
          "samenwonend",
          "single",
          "single",
          "samenwonend",
          "samenwonend",
          "single",
          "samenwonend",
          "single",
          "single",
          "samenwonend",
          "samenwonend",
          "samenwonend",
          "samenwonend",
          "single",
          null,
          "single",
          "single",
          "single",
          "single",
          "samenwonend",
          "single",
          "samenwonend",
          "samenwonend",
          "single",
          "single",
          "samenwonend",
          "single",
          "samenwonend",
          "single",
          null,
          "single",
          null,
          "samenwonend",
          "single",
          "single",
          "samenwonend",
          "samenwonend",
          "single",
          "single",
          "single",
          "samenwonend",
          "single",
          "single",
          "samenwonend",
          "samenwonend",
          "samenwonend",
          "single",
          "samenwonend",
          "samenwonend",
          null,
          "samenwonend",
          "samenwonend",
          "single",
          "single",
          "single",
          "samenwonend",
          "samenwonend",
          "samenwonend",
          "single",
          "single",
          "single",
          "single",
          "single",
          "single",
          "single",
          "samenwonend",
          "single",
          "single",
          null,
          "single",
          "samenwonend",
          "single",
          "single",
          "single",
          "single",
          null,
          "single",
          "single",
          "samenwonend",
          "single",
          null,
          "single",
          "single",
          null,
          "single",
          "single",
          "samenwonend",
          "single",
          "samenwonend",
          "samenwonend",
          "single",
          "samenwonend",
          "single",
          "samenwonend",
          "samenwonend",
          "samenwonend",
          "single",
          "single",
          null,
          "samenwonend",
          "samenwonend",
          "samenwonend",
          "single",
          "single",
          "single",
          "single",
          "samenwonend",
          "single",
          "samenwonend",
          "samenwonend",
          "single",
          "samenwonend",
          "samenwonend",
          "samenwonend",
          "samenwonend",
          "samenwonend",
          "samenwonend",
          "samenwonend",
          "samenwonend",
          "single",
          "samenwonend",
          "samenwonend",
          "samenwonend",
          "single",
          "single",
          "samenwonend",
          "single",
          "single",
          "single",
          "single",
          "samenwonend",
          "single",
          null,
          "single",
          "single",
          "samenwonend",
          "samenwonend",
          "single",
          "single",
          "samenwonend",
          "single",
          "single",
          "samenwonend",
          "samenwonend",
          null,
          null,
          "single",
          "samenwonend",
          "samenwonend",
          "single",
          "samenwonend",
          "single",
          "samenwonend",
          "single",
          null,
          "single",
          "single",
          null,
          "single",
          "samenwonend",
          "single",
          "single",
          null,
          "single",
          "samenwonend",
          "single",
          null,
          null,
          "samenwonend",
          "samenwonend",
          "single",
          "single",
          "samenwonend",
          "single",
          "samenwonend",
          "single",
          "single",
          "single",
          "samenwonend",
          "samenwonend",
          "samenwonend",
          "samenwonend",
          "single",
          "single",
          null,
          "single",
          "samenwonend",
          "samenwonend",
          "single",
          "single",
          "single",
          "samenwonend"
         ],
         "xaxis": "x",
         "yaxis": "y"
        }
       ],
       "layout": {
        "bargap": 0.2,
        "barmode": "relative",
        "legend": {
         "tracegroupgap": 0
        },
        "template": {
         "data": {
          "bar": [
           {
            "error_x": {
             "color": "#2a3f5f"
            },
            "error_y": {
             "color": "#2a3f5f"
            },
            "marker": {
             "line": {
              "color": "#E5ECF6",
              "width": 0.5
             },
             "pattern": {
              "fillmode": "overlay",
              "size": 10,
              "solidity": 0.2
             }
            },
            "type": "bar"
           }
          ],
          "barpolar": [
           {
            "marker": {
             "line": {
              "color": "#E5ECF6",
              "width": 0.5
             },
             "pattern": {
              "fillmode": "overlay",
              "size": 10,
              "solidity": 0.2
             }
            },
            "type": "barpolar"
           }
          ],
          "carpet": [
           {
            "aaxis": {
             "endlinecolor": "#2a3f5f",
             "gridcolor": "white",
             "linecolor": "white",
             "minorgridcolor": "white",
             "startlinecolor": "#2a3f5f"
            },
            "baxis": {
             "endlinecolor": "#2a3f5f",
             "gridcolor": "white",
             "linecolor": "white",
             "minorgridcolor": "white",
             "startlinecolor": "#2a3f5f"
            },
            "type": "carpet"
           }
          ],
          "choropleth": [
           {
            "colorbar": {
             "outlinewidth": 0,
             "ticks": ""
            },
            "type": "choropleth"
           }
          ],
          "contour": [
           {
            "colorbar": {
             "outlinewidth": 0,
             "ticks": ""
            },
            "colorscale": [
             [
              0,
              "#0d0887"
             ],
             [
              0.1111111111111111,
              "#46039f"
             ],
             [
              0.2222222222222222,
              "#7201a8"
             ],
             [
              0.3333333333333333,
              "#9c179e"
             ],
             [
              0.4444444444444444,
              "#bd3786"
             ],
             [
              0.5555555555555556,
              "#d8576b"
             ],
             [
              0.6666666666666666,
              "#ed7953"
             ],
             [
              0.7777777777777778,
              "#fb9f3a"
             ],
             [
              0.8888888888888888,
              "#fdca26"
             ],
             [
              1,
              "#f0f921"
             ]
            ],
            "type": "contour"
           }
          ],
          "contourcarpet": [
           {
            "colorbar": {
             "outlinewidth": 0,
             "ticks": ""
            },
            "type": "contourcarpet"
           }
          ],
          "heatmap": [
           {
            "colorbar": {
             "outlinewidth": 0,
             "ticks": ""
            },
            "colorscale": [
             [
              0,
              "#0d0887"
             ],
             [
              0.1111111111111111,
              "#46039f"
             ],
             [
              0.2222222222222222,
              "#7201a8"
             ],
             [
              0.3333333333333333,
              "#9c179e"
             ],
             [
              0.4444444444444444,
              "#bd3786"
             ],
             [
              0.5555555555555556,
              "#d8576b"
             ],
             [
              0.6666666666666666,
              "#ed7953"
             ],
             [
              0.7777777777777778,
              "#fb9f3a"
             ],
             [
              0.8888888888888888,
              "#fdca26"
             ],
             [
              1,
              "#f0f921"
             ]
            ],
            "type": "heatmap"
           }
          ],
          "heatmapgl": [
           {
            "colorbar": {
             "outlinewidth": 0,
             "ticks": ""
            },
            "colorscale": [
             [
              0,
              "#0d0887"
             ],
             [
              0.1111111111111111,
              "#46039f"
             ],
             [
              0.2222222222222222,
              "#7201a8"
             ],
             [
              0.3333333333333333,
              "#9c179e"
             ],
             [
              0.4444444444444444,
              "#bd3786"
             ],
             [
              0.5555555555555556,
              "#d8576b"
             ],
             [
              0.6666666666666666,
              "#ed7953"
             ],
             [
              0.7777777777777778,
              "#fb9f3a"
             ],
             [
              0.8888888888888888,
              "#fdca26"
             ],
             [
              1,
              "#f0f921"
             ]
            ],
            "type": "heatmapgl"
           }
          ],
          "histogram": [
           {
            "marker": {
             "pattern": {
              "fillmode": "overlay",
              "size": 10,
              "solidity": 0.2
             }
            },
            "type": "histogram"
           }
          ],
          "histogram2d": [
           {
            "colorbar": {
             "outlinewidth": 0,
             "ticks": ""
            },
            "colorscale": [
             [
              0,
              "#0d0887"
             ],
             [
              0.1111111111111111,
              "#46039f"
             ],
             [
              0.2222222222222222,
              "#7201a8"
             ],
             [
              0.3333333333333333,
              "#9c179e"
             ],
             [
              0.4444444444444444,
              "#bd3786"
             ],
             [
              0.5555555555555556,
              "#d8576b"
             ],
             [
              0.6666666666666666,
              "#ed7953"
             ],
             [
              0.7777777777777778,
              "#fb9f3a"
             ],
             [
              0.8888888888888888,
              "#fdca26"
             ],
             [
              1,
              "#f0f921"
             ]
            ],
            "type": "histogram2d"
           }
          ],
          "histogram2dcontour": [
           {
            "colorbar": {
             "outlinewidth": 0,
             "ticks": ""
            },
            "colorscale": [
             [
              0,
              "#0d0887"
             ],
             [
              0.1111111111111111,
              "#46039f"
             ],
             [
              0.2222222222222222,
              "#7201a8"
             ],
             [
              0.3333333333333333,
              "#9c179e"
             ],
             [
              0.4444444444444444,
              "#bd3786"
             ],
             [
              0.5555555555555556,
              "#d8576b"
             ],
             [
              0.6666666666666666,
              "#ed7953"
             ],
             [
              0.7777777777777778,
              "#fb9f3a"
             ],
             [
              0.8888888888888888,
              "#fdca26"
             ],
             [
              1,
              "#f0f921"
             ]
            ],
            "type": "histogram2dcontour"
           }
          ],
          "mesh3d": [
           {
            "colorbar": {
             "outlinewidth": 0,
             "ticks": ""
            },
            "type": "mesh3d"
           }
          ],
          "parcoords": [
           {
            "line": {
             "colorbar": {
              "outlinewidth": 0,
              "ticks": ""
             }
            },
            "type": "parcoords"
           }
          ],
          "pie": [
           {
            "automargin": true,
            "type": "pie"
           }
          ],
          "scatter": [
           {
            "fillpattern": {
             "fillmode": "overlay",
             "size": 10,
             "solidity": 0.2
            },
            "type": "scatter"
           }
          ],
          "scatter3d": [
           {
            "line": {
             "colorbar": {
              "outlinewidth": 0,
              "ticks": ""
             }
            },
            "marker": {
             "colorbar": {
              "outlinewidth": 0,
              "ticks": ""
             }
            },
            "type": "scatter3d"
           }
          ],
          "scattercarpet": [
           {
            "marker": {
             "colorbar": {
              "outlinewidth": 0,
              "ticks": ""
             }
            },
            "type": "scattercarpet"
           }
          ],
          "scattergeo": [
           {
            "marker": {
             "colorbar": {
              "outlinewidth": 0,
              "ticks": ""
             }
            },
            "type": "scattergeo"
           }
          ],
          "scattergl": [
           {
            "marker": {
             "colorbar": {
              "outlinewidth": 0,
              "ticks": ""
             }
            },
            "type": "scattergl"
           }
          ],
          "scattermapbox": [
           {
            "marker": {
             "colorbar": {
              "outlinewidth": 0,
              "ticks": ""
             }
            },
            "type": "scattermapbox"
           }
          ],
          "scatterpolar": [
           {
            "marker": {
             "colorbar": {
              "outlinewidth": 0,
              "ticks": ""
             }
            },
            "type": "scatterpolar"
           }
          ],
          "scatterpolargl": [
           {
            "marker": {
             "colorbar": {
              "outlinewidth": 0,
              "ticks": ""
             }
            },
            "type": "scatterpolargl"
           }
          ],
          "scatterternary": [
           {
            "marker": {
             "colorbar": {
              "outlinewidth": 0,
              "ticks": ""
             }
            },
            "type": "scatterternary"
           }
          ],
          "surface": [
           {
            "colorbar": {
             "outlinewidth": 0,
             "ticks": ""
            },
            "colorscale": [
             [
              0,
              "#0d0887"
             ],
             [
              0.1111111111111111,
              "#46039f"
             ],
             [
              0.2222222222222222,
              "#7201a8"
             ],
             [
              0.3333333333333333,
              "#9c179e"
             ],
             [
              0.4444444444444444,
              "#bd3786"
             ],
             [
              0.5555555555555556,
              "#d8576b"
             ],
             [
              0.6666666666666666,
              "#ed7953"
             ],
             [
              0.7777777777777778,
              "#fb9f3a"
             ],
             [
              0.8888888888888888,
              "#fdca26"
             ],
             [
              1,
              "#f0f921"
             ]
            ],
            "type": "surface"
           }
          ],
          "table": [
           {
            "cells": {
             "fill": {
              "color": "#EBF0F8"
             },
             "line": {
              "color": "white"
             }
            },
            "header": {
             "fill": {
              "color": "#C8D4E3"
             },
             "line": {
              "color": "white"
             }
            },
            "type": "table"
           }
          ]
         },
         "layout": {
          "annotationdefaults": {
           "arrowcolor": "#2a3f5f",
           "arrowhead": 0,
           "arrowwidth": 1
          },
          "autotypenumbers": "strict",
          "coloraxis": {
           "colorbar": {
            "outlinewidth": 0,
            "ticks": ""
           }
          },
          "colorscale": {
           "diverging": [
            [
             0,
             "#8e0152"
            ],
            [
             0.1,
             "#c51b7d"
            ],
            [
             0.2,
             "#de77ae"
            ],
            [
             0.3,
             "#f1b6da"
            ],
            [
             0.4,
             "#fde0ef"
            ],
            [
             0.5,
             "#f7f7f7"
            ],
            [
             0.6,
             "#e6f5d0"
            ],
            [
             0.7,
             "#b8e186"
            ],
            [
             0.8,
             "#7fbc41"
            ],
            [
             0.9,
             "#4d9221"
            ],
            [
             1,
             "#276419"
            ]
           ],
           "sequential": [
            [
             0,
             "#0d0887"
            ],
            [
             0.1111111111111111,
             "#46039f"
            ],
            [
             0.2222222222222222,
             "#7201a8"
            ],
            [
             0.3333333333333333,
             "#9c179e"
            ],
            [
             0.4444444444444444,
             "#bd3786"
            ],
            [
             0.5555555555555556,
             "#d8576b"
            ],
            [
             0.6666666666666666,
             "#ed7953"
            ],
            [
             0.7777777777777778,
             "#fb9f3a"
            ],
            [
             0.8888888888888888,
             "#fdca26"
            ],
            [
             1,
             "#f0f921"
            ]
           ],
           "sequentialminus": [
            [
             0,
             "#0d0887"
            ],
            [
             0.1111111111111111,
             "#46039f"
            ],
            [
             0.2222222222222222,
             "#7201a8"
            ],
            [
             0.3333333333333333,
             "#9c179e"
            ],
            [
             0.4444444444444444,
             "#bd3786"
            ],
            [
             0.5555555555555556,
             "#d8576b"
            ],
            [
             0.6666666666666666,
             "#ed7953"
            ],
            [
             0.7777777777777778,
             "#fb9f3a"
            ],
            [
             0.8888888888888888,
             "#fdca26"
            ],
            [
             1,
             "#f0f921"
            ]
           ]
          },
          "colorway": [
           "#636efa",
           "#EF553B",
           "#00cc96",
           "#ab63fa",
           "#FFA15A",
           "#19d3f3",
           "#FF6692",
           "#B6E880",
           "#FF97FF",
           "#FECB52"
          ],
          "font": {
           "color": "#2a3f5f"
          },
          "geo": {
           "bgcolor": "white",
           "lakecolor": "white",
           "landcolor": "#E5ECF6",
           "showlakes": true,
           "showland": true,
           "subunitcolor": "white"
          },
          "hoverlabel": {
           "align": "left"
          },
          "hovermode": "closest",
          "mapbox": {
           "style": "light"
          },
          "paper_bgcolor": "white",
          "plot_bgcolor": "#E5ECF6",
          "polar": {
           "angularaxis": {
            "gridcolor": "white",
            "linecolor": "white",
            "ticks": ""
           },
           "bgcolor": "#E5ECF6",
           "radialaxis": {
            "gridcolor": "white",
            "linecolor": "white",
            "ticks": ""
           }
          },
          "scene": {
           "xaxis": {
            "backgroundcolor": "#E5ECF6",
            "gridcolor": "white",
            "gridwidth": 2,
            "linecolor": "white",
            "showbackground": true,
            "ticks": "",
            "zerolinecolor": "white"
           },
           "yaxis": {
            "backgroundcolor": "#E5ECF6",
            "gridcolor": "white",
            "gridwidth": 2,
            "linecolor": "white",
            "showbackground": true,
            "ticks": "",
            "zerolinecolor": "white"
           },
           "zaxis": {
            "backgroundcolor": "#E5ECF6",
            "gridcolor": "white",
            "gridwidth": 2,
            "linecolor": "white",
            "showbackground": true,
            "ticks": "",
            "zerolinecolor": "white"
           }
          },
          "shapedefaults": {
           "line": {
            "color": "#2a3f5f"
           }
          },
          "ternary": {
           "aaxis": {
            "gridcolor": "white",
            "linecolor": "white",
            "ticks": ""
           },
           "baxis": {
            "gridcolor": "white",
            "linecolor": "white",
            "ticks": ""
           },
           "bgcolor": "#E5ECF6",
           "caxis": {
            "gridcolor": "white",
            "linecolor": "white",
            "ticks": ""
           }
          },
          "title": {
           "x": 0.05
          },
          "xaxis": {
           "automargin": true,
           "gridcolor": "white",
           "linecolor": "white",
           "ticks": "",
           "title": {
            "standoff": 15
           },
           "zerolinecolor": "white",
           "zerolinewidth": 2
          },
          "yaxis": {
           "automargin": true,
           "gridcolor": "white",
           "linecolor": "white",
           "ticks": "",
           "title": {
            "standoff": 15
           },
           "zerolinecolor": "white",
           "zerolinewidth": 2
          }
         }
        },
        "title": {
         "text": "Verdeling van burgerlijke_staat"
        },
        "xaxis": {
         "anchor": "y",
         "domain": [
          0,
          1
         ],
         "title": {
          "text": "burgerlijke_staat"
         }
        },
        "yaxis": {
         "anchor": "x",
         "domain": [
          0,
          1
         ],
         "title": {
          "text": "Frequentie"
         }
        }
       }
      }
     },
     "metadata": {},
     "output_type": "display_data"
    }
   ],
   "source": [
    "categorical_columns = df_cardio.select_dtypes(include=['object', 'category']).columns\n",
    "\n",
    "# Plot bar charts voor elke categorieke kolom\n",
    "for column in categorical_columns:\n",
    "    fig = px.histogram(df_cardio, x=column, title=f'Verdeling van {column}')\n",
    "    fig.update_layout(xaxis_title=column, yaxis_title='Frequentie', bargap=0.2)\n",
    "    fig.show()"
   ]
  },
  {
   "cell_type": "markdown",
   "metadata": {},
   "source": [
    "De verdeling van product_code toont dat er drie verschillende producten (TM798, TM498, TM195) zijn, waarbij TM798 het populairste product is, gevolgd door TM498 en TM195.\n",
    "\n",
    "De verdeling van gender laat zien dat er een bijna gelijke verdeling is tussen mannen en vrouwen. \n",
    "\n",
    "De grafiek van onderwijsniveau toont vier categorieën (havo, vmbo, vwo, hbo-wo), waarbij vmbo en vwo iets meer vertegenwoordigd zijn dan havo en hbo-wo.\n",
    "\n",
    "De verdeling van burgerlijke_staat laat een bijna gelijke verdeling zien tussen 'samenwonend' en 'single'."
   ]
  },
  {
   "cell_type": "markdown",
   "metadata": {},
   "source": [
    "Mooi! Nu maak je een scatterplot om de relatie tussen twee numerieke variabelen aan te tonen.\n"
   ]
  },
  {
   "cell_type": "markdown",
   "metadata": {},
   "source": [
    "Scatterplot tussen \"leeftijd\" en \"Inkomen\""
   ]
  },
  {
   "cell_type": "code",
   "execution_count": 30,
   "metadata": {},
   "outputs": [
    {
     "data": {
      "application/vnd.plotly.v1+json": {
       "config": {
        "plotlyServerURL": "https://plot.ly"
       },
       "data": [
        {
         "hovertemplate": "leeftijd=%{x}<br>Inkomen=%{y}<extra></extra>",
         "legendgroup": "",
         "marker": {
          "color": "#636efa",
          "symbol": "circle"
         },
         "mode": "markers",
         "name": "",
         "orientation": "v",
         "showlegend": false,
         "type": "scatter",
         "x": [
          59,
          39,
          46,
          63,
          61,
          23,
          52,
          28,
          21,
          57,
          59,
          32,
          null,
          34,
          63,
          29,
          39,
          42,
          58,
          54,
          51,
          31,
          34,
          25,
          55,
          25,
          42,
          23,
          null,
          54,
          32,
          24,
          57,
          58,
          24,
          51,
          37,
          40,
          null,
          56,
          58,
          28,
          62,
          27,
          35,
          27,
          52,
          44,
          43,
          null,
          53,
          null,
          54,
          59,
          22,
          28,
          27,
          null,
          42,
          38,
          null,
          null,
          63,
          38,
          21,
          null,
          56,
          null,
          18,
          36,
          38,
          27,
          57,
          32,
          28,
          57,
          49,
          53,
          37,
          28,
          51,
          63,
          32,
          38,
          60,
          30,
          32,
          30,
          36,
          28,
          33,
          30,
          30,
          37,
          27,
          26,
          33,
          27,
          30,
          59,
          43,
          null,
          28,
          28,
          30,
          56,
          66,
          22,
          null,
          22,
          22,
          46,
          27,
          28,
          62,
          null,
          39,
          26,
          22,
          59,
          44,
          39,
          49,
          30,
          48,
          31,
          42,
          58,
          32,
          27,
          null,
          55,
          null,
          53,
          30,
          28,
          null,
          37,
          null,
          35,
          60,
          53,
          37,
          40,
          29,
          27,
          22,
          38,
          36,
          29,
          null,
          21,
          24,
          52,
          25,
          43,
          40,
          63,
          37,
          61,
          32,
          39,
          52,
          null,
          54,
          38,
          38,
          32,
          null,
          34,
          37,
          52,
          54,
          58,
          33,
          58,
          42,
          55,
          26,
          null,
          42,
          61,
          57,
          26,
          22,
          30,
          59,
          27,
          27,
          55,
          30,
          57,
          29,
          36,
          35,
          54,
          28,
          53,
          41,
          null,
          38,
          null,
          38,
          41,
          58,
          null,
          33,
          33,
          37,
          null,
          41,
          27,
          55,
          31,
          53,
          58,
          40,
          54,
          61,
          35,
          57,
          35,
          null,
          55,
          40,
          57,
          54,
          40,
          46,
          28,
          34,
          59,
          30,
          28,
          28,
          35,
          39,
          57,
          58,
          35,
          52,
          33,
          41,
          45,
          48,
          36,
          59,
          21,
          33,
          null,
          58,
          41,
          null,
          34,
          null,
          34,
          40,
          null,
          32,
          36,
          58,
          53,
          70,
          23,
          23,
          36,
          null,
          46,
          58,
          32,
          32,
          57,
          36,
          38,
          37,
          30,
          41,
          57,
          38,
          42,
          36,
          27,
          37,
          57,
          null,
          33,
          61,
          59,
          44,
          38,
          55,
          36,
          null,
          55,
          32,
          25,
          65,
          27,
          44,
          39,
          null,
          53,
          null,
          31,
          43,
          39,
          44,
          null,
          33,
          54,
          32,
          60,
          58,
          34,
          25,
          41,
          59,
          41,
          27,
          25,
          39,
          35,
          38,
          38,
          53,
          29,
          55,
          30,
          50,
          44,
          42,
          null,
          38,
          43,
          57,
          30,
          28,
          60,
          24,
          29,
          27,
          61,
          null,
          null,
          25,
          null,
          61,
          43,
          31,
          36,
          54,
          26,
          48,
          41,
          32,
          61,
          null,
          26,
          29,
          28,
          41,
          28,
          25,
          38,
          35,
          52,
          25,
          null,
          43,
          55,
          37,
          52,
          36,
          38,
          24,
          41,
          null,
          32,
          47,
          26,
          27,
          40,
          37,
          32,
          36,
          39,
          35,
          null,
          60,
          56,
          null,
          37,
          null,
          null,
          61,
          41,
          41,
          50,
          26,
          27,
          58,
          26,
          60,
          28,
          55,
          34,
          61,
          59,
          54,
          32,
          34,
          null,
          33,
          53,
          27,
          31,
          41,
          36,
          56,
          58,
          30,
          44,
          24,
          60,
          42,
          56,
          34,
          39,
          25,
          29,
          null,
          28,
          31,
          26,
          59,
          44,
          62,
          null,
          39,
          55,
          41,
          38,
          35,
          51,
          28,
          34,
          41,
          57,
          42,
          null,
          null,
          23,
          59,
          31,
          25,
          29,
          26,
          28,
          37,
          42,
          52,
          24,
          54,
          54,
          36,
          34,
          34,
          25,
          26,
          55,
          29,
          43,
          52,
          43,
          null,
          null,
          null,
          53,
          50,
          56,
          30,
          59,
          66,
          25,
          35,
          31,
          35,
          56,
          51,
          38,
          null,
          27,
          59,
          null,
          null,
          40,
          56,
          25,
          56,
          null,
          22,
          55,
          26,
          33,
          42,
          47,
          54,
          35,
          56,
          40,
          32,
          31,
          33,
          37,
          44,
          39,
          null,
          30,
          55,
          39,
          35,
          36,
          48,
          58,
          39,
          26,
          61,
          57,
          26,
          36,
          27,
          40,
          null,
          36,
          44,
          24,
          30,
          36,
          26,
          62,
          37,
          42,
          24,
          30,
          59,
          56,
          43,
          24,
          29,
          null,
          22,
          37,
          51,
          25,
          44,
          22,
          29,
          55,
          null,
          29,
          52,
          48,
          31,
          38,
          66,
          38,
          42,
          25,
          27,
          41,
          45,
          29,
          58,
          31,
          53,
          29,
          43,
          20,
          60,
          null,
          52,
          32,
          38,
          null,
          37,
          null,
          33,
          29,
          43,
          57,
          57,
          null,
          58,
          57,
          26,
          50,
          59,
          54,
          null,
          56,
          37,
          60,
          39,
          56,
          39,
          38,
          55,
          54,
          27,
          56,
          61,
          25,
          null,
          58,
          34,
          40,
          27,
          62,
          44,
          61,
          38,
          null,
          35,
          31,
          30,
          28,
          59,
          20,
          35,
          42,
          43,
          38,
          54,
          31,
          56,
          46,
          40,
          41,
          26,
          32,
          27,
          54,
          34,
          33,
          60,
          26,
          35,
          25,
          57,
          32,
          56,
          36,
          40,
          34,
          31,
          38,
          29,
          null,
          59,
          23,
          55,
          34,
          57,
          29,
          28,
          43,
          38,
          40,
          45,
          29,
          42,
          38,
          58,
          29,
          37,
          null,
          31,
          31,
          29,
          24,
          26,
          39,
          40,
          37,
          30,
          42,
          35,
          35,
          46,
          60,
          55,
          54,
          36,
          41,
          58,
          57,
          62,
          27,
          30,
          27,
          55,
          42,
          26,
          25,
          57,
          23,
          24,
          25,
          59,
          38,
          43,
          34,
          40,
          38,
          64,
          25,
          47,
          35,
          29,
          43,
          37,
          40,
          47,
          38,
          61,
          37,
          55,
          54,
          40,
          59,
          52,
          37,
          40,
          32,
          31,
          26,
          29,
          41,
          null,
          31,
          null,
          55,
          40,
          62,
          31,
          38,
          34,
          null,
          57,
          29,
          44,
          38,
          67,
          56,
          59,
          61,
          52,
          54,
          47,
          38,
          58,
          59,
          null,
          44,
          50,
          41,
          42,
          36,
          31,
          58,
          57,
          64,
          28,
          29,
          30,
          30,
          63,
          22,
          26,
          23,
          65,
          null,
          52,
          50,
          55,
          40,
          29,
          42,
          61,
          null,
          40,
          null,
          30,
          30,
          30,
          27,
          58,
          32,
          36,
          41,
          25,
          60,
          32,
          27,
          61,
          60,
          null,
          33,
          56,
          52,
          53,
          37,
          24,
          24,
          58,
          49,
          54,
          23,
          29,
          59,
          42,
          33,
          54,
          31,
          33,
          43,
          29,
          30,
          56,
          null,
          54,
          60,
          35,
          null,
          55,
          53,
          64,
          52,
          null,
          51,
          58,
          null,
          29,
          33,
          38,
          null,
          54,
          34,
          52,
          35,
          52,
          18,
          58,
          39,
          null,
          60,
          39,
          32,
          39,
          30,
          null,
          null,
          40,
          null,
          58,
          24,
          31,
          60,
          36,
          32,
          32,
          54,
          52,
          53,
          61,
          59,
          55,
          null,
          58,
          34,
          57,
          40,
          39,
          null,
          40,
          65,
          29,
          41,
          42,
          31,
          35,
          51,
          44,
          58,
          null,
          26,
          37,
          36,
          null,
          29,
          58,
          37,
          61,
          31,
          38,
          38,
          null,
          61,
          55,
          39,
          62,
          58,
          38,
          50,
          37,
          39,
          28,
          39,
          37,
          43,
          43,
          56,
          29,
          47,
          28,
          null,
          null,
          53,
          27,
          null,
          64,
          33,
          56,
          43,
          43,
          30,
          50,
          37,
          27,
          56,
          60,
          43,
          39,
          34,
          38,
          null,
          57,
          35,
          27,
          60,
          26,
          44,
          39,
          29,
          36,
          26,
          30,
          30,
          57,
          37,
          57,
          25,
          34,
          32,
          56,
          31,
          33,
          60,
          31,
          44,
          54,
          30,
          62,
          39,
          38,
          33,
          50,
          39,
          39,
          25,
          60,
          34,
          57,
          44,
          65,
          59,
          49,
          38,
          35,
          41,
          null,
          39,
          39,
          56,
          42,
          null,
          44,
          54,
          57,
          52
         ],
         "xaxis": "x",
         "y": [
          25611.33,
          33380.74,
          20357.81,
          58821.77,
          54148.57,
          21343.69,
          61104.9,
          34298.93,
          27366.57,
          39701.78,
          45527.18,
          64549.84,
          69122.75,
          47907.24,
          38206.63,
          43772.52,
          33014.62,
          49241.09,
          22745.43,
          45512.25,
          56980.7,
          40496.32,
          66163.47,
          43665.65,
          29478.1,
          25944.01,
          45428.88,
          null,
          64184.06,
          47175.64,
          32287.88,
          61067.14,
          67974.1,
          43055.07,
          46652.49,
          null,
          59809.64,
          43655.19,
          49856.88,
          53194.67,
          41476.03,
          null,
          54479.2,
          67733.28,
          30957.91,
          30935.35,
          49629.6,
          39087.03,
          31086.24,
          25161.89,
          null,
          62665.12,
          57988.55,
          31241.85,
          41257.19,
          25147.72,
          55868.98,
          47319.94,
          null,
          41319.69,
          62324.84,
          null,
          41605.37,
          60230.92,
          54039.98,
          68791.39,
          63102.9,
          45893.02,
          63058.69,
          36379.43,
          61327.61,
          62273.73,
          21228.77,
          43909.11,
          49751.38,
          48364.28,
          60646.56,
          64196.49,
          24332.93,
          66524.65,
          61392.35,
          49494.29,
          null,
          68888.41,
          57269.53,
          30727.01,
          41409.21,
          21289.45,
          68907.53,
          67258.98,
          50861.02,
          64209.08,
          43861.11,
          67408.21,
          null,
          52091.87,
          44307.8,
          37106.03,
          65145.19,
          null,
          46977.32,
          null,
          32840.44,
          59543.21,
          61109.68,
          36435.35,
          30707.33,
          53306.27,
          35990.37,
          56635.03,
          58726.07,
          23998.4,
          64100.6,
          47378.24,
          58150.07,
          59542.28,
          22845.04,
          null,
          55237.52,
          41260.29,
          48495.16,
          47852.65,
          52590.73,
          53910.96,
          40588.35,
          57378.83,
          28500.41,
          29096.5,
          33915.45,
          61776.58,
          23709.5,
          25275.08,
          62527.4,
          41516.17,
          30224.43,
          50492.82,
          40778.76,
          50231.21,
          26313.38,
          36600.99,
          48245.74,
          21305.89,
          68867.38,
          53303.85,
          43557.69,
          64298.7,
          45595.25,
          46676.69,
          34780.31,
          41489.87,
          null,
          60488.08,
          23093.31,
          64433.9,
          25535.16,
          22176.24,
          48564.45,
          29980.86,
          29072.56,
          null,
          57234.89,
          54168.56,
          68559.91,
          50165.76,
          49362.44,
          40431.27,
          33256.75,
          null,
          39440.88,
          null,
          23398.35,
          45100.85,
          36683.93,
          55218.08,
          31685.23,
          30517.17,
          21036.4,
          26816.5,
          54413.11,
          33159.05,
          33749,
          42981.86,
          null,
          44479.63,
          49694.88,
          27882.64,
          40837.33,
          24971.93,
          null,
          36252.56,
          20302.4,
          42154.36,
          24620.03,
          65528.39,
          60824.13,
          56335.08,
          66086.18,
          51546.4,
          25741.54,
          28531.66,
          38837.17,
          40180,
          68598.53,
          38386.2,
          59068.4,
          65261.6,
          54510.09,
          null,
          23982.2,
          47622.72,
          38181.77,
          37513.55,
          65357.91,
          53747.98,
          46118.37,
          41550.62,
          56414.51,
          22364.89,
          null,
          null,
          55373.47,
          36880.83,
          38273.38,
          38335.35,
          36891.91,
          29581.71,
          58208.41,
          null,
          27042.62,
          35229.8,
          51785,
          46942.65,
          28678.82,
          null,
          57820.22,
          63912.9,
          33132.27,
          69770.33,
          26014.2,
          54001.11,
          null,
          61929.12,
          66136.14,
          49963.87,
          49434.16,
          35290.96,
          44421.92,
          62384.96,
          54117.08,
          48804.19,
          61957.35,
          54203.33,
          50597.56,
          20301.09,
          30093.09,
          44816.39,
          67466.04,
          45925.76,
          38835.76,
          41570.09,
          28409.57,
          64996.92,
          53172.2,
          67757.18,
          69484.14,
          54106.69,
          69314.06,
          37286.98,
          20288.18,
          69659.14,
          24681.95,
          31289.61,
          57101.11,
          null,
          47192.63,
          39053.87,
          null,
          43518.24,
          60798.98,
          53200.45,
          49422.96,
          20015.81,
          20210.79,
          34139.02,
          23873.07,
          60127.54,
          46368.64,
          30753.73,
          63827.14,
          54298.89,
          46509.67,
          57063.15,
          64406.18,
          48237.71,
          59470.77,
          30001.45,
          54005.75,
          64256.86,
          25983.28,
          25195.54,
          42685.03,
          null,
          63826.34,
          26592.9,
          29956.41,
          52774.4,
          48260.66,
          30096.97,
          52997.89,
          35818.69,
          24448.08,
          null,
          56905.49,
          45206.07,
          52704.78,
          54989.79,
          64106.63,
          45071.92,
          52434.26,
          64911.62,
          21365.73,
          54581.33,
          61028.57,
          67681.9,
          51213.86,
          35445.11,
          46578.07,
          30457.35,
          62251.49,
          64760.93,
          36668.56,
          42585.76,
          40169.97,
          57530.05,
          36887.88,
          40628.06,
          null,
          52746.38,
          52324.29,
          32646.5,
          null,
          null,
          33801.29,
          40630.63,
          60717.71,
          59097.22,
          44165.61,
          37246.25,
          20833.15,
          null,
          50899.49,
          64323.38,
          48917.99,
          39016.95,
          null,
          null,
          59703.21,
          20165.45,
          23025.07,
          32528.88,
          32482.5,
          null,
          null,
          31853.27,
          49430.97,
          40419.75,
          62015.39,
          27714.77,
          65815.96,
          47760.42,
          63552.5,
          53044.33,
          null,
          50790.16,
          null,
          26489.56,
          30361.35,
          36970.67,
          null,
          20958.48,
          null,
          40823.86,
          21166.52,
          39540.38,
          64057.83,
          64953.86,
          69824.69,
          23188.49,
          20456.86,
          68754.87,
          33162.31,
          68882.11,
          27892.48,
          39858.77,
          28989.06,
          53257.98,
          58659.63,
          32820.91,
          41759.15,
          30302.71,
          null,
          60108.15,
          31319.39,
          34147.83,
          40571.96,
          50600.22,
          21147.94,
          26262.98,
          20532.8,
          48227.22,
          44361.97,
          67132.93,
          28024.74,
          null,
          20097.87,
          65016.65,
          null,
          36144.63,
          67616.41,
          67569.89,
          37871.18,
          66346.82,
          49262.76,
          69130.2,
          57284.69,
          35952.15,
          53786.66,
          48118.63,
          54860.51,
          64448.25,
          47801.64,
          39939.21,
          64233.68,
          59788.19,
          39120.67,
          43981.93,
          68293.36,
          25659.73,
          36751.34,
          null,
          54108.04,
          53707.11,
          null,
          69532.7,
          20472.08,
          null,
          30432.1,
          38811.38,
          30100.84,
          45577.05,
          24884.17,
          26575.56,
          31606.98,
          null,
          57452.34,
          59310.08,
          null,
          35812.44,
          69695.07,
          null,
          28302.64,
          36513.61,
          49972.11,
          39455.47,
          53838.91,
          34329.79,
          35108.53,
          62874.98,
          null,
          41310.85,
          24448.69,
          69846.43,
          63362.89,
          28492.87,
          49509.85,
          52276.5,
          null,
          41477.84,
          66838.62,
          57214.19,
          64328.26,
          29214.98,
          23920.06,
          55498.5,
          30689.01,
          26466.7,
          35505.76,
          44934.32,
          68890.78,
          54370.31,
          31672.48,
          44958.92,
          null,
          53908.68,
          67156.8,
          null,
          36631.69,
          37809.35,
          33085.8,
          65348.35,
          56908.31,
          26458.38,
          59798.44,
          66470.09,
          31108.6,
          57127.98,
          45568.31,
          56454.39,
          68701.87,
          20148.17,
          28251.13,
          20351.33,
          null,
          46524.63,
          55934.06,
          null,
          52884.73,
          66136.09,
          37335,
          null,
          64374.27,
          47640.59,
          42378.05,
          51484.45,
          48154.18,
          47416.6,
          61937.27,
          46626.21,
          null,
          36597.61,
          23974.26,
          37757.6,
          55478.3,
          59443.51,
          49387.21,
          42253.76,
          67345.43,
          60517.9,
          21992.37,
          56786.71,
          63170.82,
          26564.8,
          68484.04,
          59090.9,
          25126.02,
          61243.78,
          37727.64,
          56767.27,
          41463.28,
          41110.24,
          55672.45,
          null,
          64903.04,
          20634.47,
          44218.91,
          64959.97,
          37477.68,
          54054.76,
          50690.52,
          60626.42,
          63568.64,
          41942.85,
          26824.19,
          69308.55,
          43500.53,
          69213.69,
          42289.86,
          22436.12,
          42252.41,
          42988.9,
          38742.11,
          63188.82,
          36588.4,
          42016.5,
          63930.9,
          62265.7,
          57284.22,
          21537.1,
          22850.41,
          68810.94,
          30353.61,
          66903.94,
          50739.8,
          20083.89,
          46384.21,
          31579.27,
          62041.93,
          23929.28,
          40487.84,
          20582.87,
          21514.55,
          25186.68,
          null,
          33151.44,
          null,
          64161.92,
          44909.47,
          35949.19,
          32721.38,
          61962.56,
          null,
          29680.33,
          63965.99,
          62381.83,
          null,
          63705.78,
          55916.67,
          50325.75,
          31352,
          64843.22,
          26072.9,
          47513.21,
          39704.51,
          24484.57,
          null,
          49497.16,
          38179.03,
          40996.59,
          58879.29,
          58409.4,
          30631.47,
          41616.42,
          51954.61,
          47756.37,
          44184.15,
          null,
          59029.54,
          38836.49,
          32750.04,
          null,
          62998.36,
          26083.99,
          24502.17,
          68992.12,
          22316.89,
          61193.88,
          48860.71,
          34319.5,
          21772.46,
          34424.57,
          null,
          61684.1,
          53086.69,
          65992.68,
          26879.55,
          32591.17,
          31696,
          56414.86,
          50698.21,
          null,
          33171.43,
          63827.78,
          49736.2,
          null,
          29365.06,
          37257.95,
          37308.73,
          44647.43,
          58310.25,
          54358.38,
          49738.35,
          68145.07,
          null,
          34340.37,
          39249.05,
          24535.28,
          null,
          null,
          27119.15,
          61435.34,
          49336.41,
          30171.08,
          57488,
          54659.64,
          48088.06,
          34562.23,
          null,
          27056.31,
          29346.56,
          68747.56,
          66556.14,
          42219.09,
          42441.47,
          62132.47,
          67555.5,
          null,
          43460.78,
          62566.61,
          null,
          null,
          20534.3,
          34267.54,
          60804.53,
          47338.09,
          41470.25,
          66357.36,
          25184.65,
          41845.72,
          null,
          51489.38,
          20780.91,
          54682.4,
          67478.52,
          46982.06,
          null,
          42064.68,
          23913.14,
          30552.53,
          53854.82,
          30286.38,
          66429.85,
          67563.93,
          50979.06,
          50113.86,
          null,
          21164.37,
          50330.22,
          42809.89,
          null,
          69866.84,
          null,
          54629.02,
          38491.87,
          29056.9,
          69838.01,
          52289.41,
          40160.11,
          24565.44,
          41318.43,
          59403.6,
          49880.2,
          42524.22,
          50277.02,
          69355.8,
          24508.91,
          39211.41,
          67070.51,
          22824,
          69921.75,
          39601.09,
          54611.41,
          null,
          26549.09,
          47309.96,
          26497.59,
          53298.82,
          43019.58,
          54961.79,
          28492.45,
          21373.65,
          63526.06,
          59077.91,
          31981.67,
          45582.33,
          48232.08,
          58307.95,
          54273.35,
          55483.04,
          29907.39,
          30251.8,
          26426.18,
          null,
          32163.89,
          45229.66,
          35702.07,
          null,
          69572.38,
          69159.6,
          68077.5,
          51146.57,
          61500.68,
          62697.77,
          56040.51,
          36454.11,
          40746.12,
          25700.11,
          40282.06,
          24548.22,
          null,
          57608.97,
          50857.58,
          68921.5,
          27365.09,
          54420.29,
          36813.6,
          41337.17,
          31928.95,
          50150.72,
          66876.7,
          69962.44,
          null,
          null,
          null,
          35217.66,
          41431.38,
          49776.92,
          32578.61,
          35116.88,
          22999.39,
          40650.44,
          54649.47,
          26060.65,
          23037.37,
          32887.38,
          34737.73,
          69473.47,
          51689.65,
          59327.73,
          null,
          50588.12,
          33927.36,
          50670.28,
          53912.23,
          23619.45,
          21325.16,
          65585.7,
          27474.03,
          53094.09,
          60153.07,
          69984.83,
          35370.91,
          68107.01,
          67518.18,
          59858.54,
          47787.45,
          null,
          41539.77,
          52396.85,
          69112.14,
          44305.06,
          69572.7,
          45571.63,
          34705.16,
          20445.82,
          63321.28,
          60383.81,
          56659.24,
          22483.45,
          46073.04,
          44194.78,
          64888.97,
          61385.59,
          36215.4,
          31548.72,
          33987.7,
          23123.62,
          20592.2,
          45176.79,
          45904.85,
          62951.76,
          51874.3,
          23586.29,
          52914.51,
          60650.25,
          69831.93,
          68685.74,
          33323.31,
          50773.53,
          44019.84,
          38714.82,
          null,
          46655.25,
          43376.83,
          36940.26,
          44526.47,
          46503.72,
          56272.73,
          48605.3,
          24724.14,
          48575.04,
          31951.13,
          59965.43,
          64204.55,
          25159.69,
          56065.72,
          68731.55,
          60049.72,
          27998.13,
          67532.76,
          null,
          25086.18,
          57740.54,
          50647.64,
          49073.64,
          61672.22,
          41438.02,
          65249.86,
          22411.25,
          57811.85,
          68712.69,
          49557.82,
          56327.38,
          49648.05,
          61187.21,
          57137.65,
          33238.05,
          43501.23,
          28136.45,
          63602.23,
          56619.67,
          55924.72,
          66511.85,
          41726.63,
          45855.23,
          29177.72,
          44796.25,
          60299.98,
          43777.25,
          66871.19,
          58727.3,
          29453.6,
          64686.47,
          42665.79,
          62862.35,
          58688.59,
          47039.91,
          57975.93,
          31777.75,
          23470.9,
          25597.65,
          null,
          null,
          66740.89,
          68507.38,
          61320.3,
          28621.34,
          50224.51,
          null,
          32755.99,
          61057.52,
          27499.77,
          42433.6,
          65316.78,
          35229.69,
          40791.78,
          46260.99,
          66870.61,
          25078.39,
          40882.91,
          47910.79,
          66031.4,
          21557.21,
          40217.14,
          31306.08,
          25892.16,
          30957.93,
          null,
          null,
          null,
          43262.53,
          34386.52,
          37267.35,
          26024.43,
          31169.16,
          54391.61,
          60085.3,
          53368.15,
          42764.33,
          60030.41,
          43121.99,
          21568.87,
          42082.28,
          23102,
          39873.08,
          41706.24,
          63798.85,
          30035.24,
          34634.75,
          27981.39,
          null,
          43373.99,
          51072.8,
          25879.09,
          61056.4,
          null,
          34959.13,
          65642.08,
          52411.66,
          39449.44,
          30240.12,
          69983.7,
          46109.71,
          54773.27,
          28532.11,
          22114,
          68136.1,
          40646.59,
          55578.64,
          41806.91,
          32072.56,
          36620.85,
          null,
          25423.9,
          null,
          39186.57,
          40012.43,
          55259.62,
          44088.79,
          45189.95,
          38205.87
         ],
         "yaxis": "y"
        }
       ],
       "layout": {
        "legend": {
         "tracegroupgap": 0
        },
        "template": {
         "data": {
          "bar": [
           {
            "error_x": {
             "color": "#2a3f5f"
            },
            "error_y": {
             "color": "#2a3f5f"
            },
            "marker": {
             "line": {
              "color": "#E5ECF6",
              "width": 0.5
             },
             "pattern": {
              "fillmode": "overlay",
              "size": 10,
              "solidity": 0.2
             }
            },
            "type": "bar"
           }
          ],
          "barpolar": [
           {
            "marker": {
             "line": {
              "color": "#E5ECF6",
              "width": 0.5
             },
             "pattern": {
              "fillmode": "overlay",
              "size": 10,
              "solidity": 0.2
             }
            },
            "type": "barpolar"
           }
          ],
          "carpet": [
           {
            "aaxis": {
             "endlinecolor": "#2a3f5f",
             "gridcolor": "white",
             "linecolor": "white",
             "minorgridcolor": "white",
             "startlinecolor": "#2a3f5f"
            },
            "baxis": {
             "endlinecolor": "#2a3f5f",
             "gridcolor": "white",
             "linecolor": "white",
             "minorgridcolor": "white",
             "startlinecolor": "#2a3f5f"
            },
            "type": "carpet"
           }
          ],
          "choropleth": [
           {
            "colorbar": {
             "outlinewidth": 0,
             "ticks": ""
            },
            "type": "choropleth"
           }
          ],
          "contour": [
           {
            "colorbar": {
             "outlinewidth": 0,
             "ticks": ""
            },
            "colorscale": [
             [
              0,
              "#0d0887"
             ],
             [
              0.1111111111111111,
              "#46039f"
             ],
             [
              0.2222222222222222,
              "#7201a8"
             ],
             [
              0.3333333333333333,
              "#9c179e"
             ],
             [
              0.4444444444444444,
              "#bd3786"
             ],
             [
              0.5555555555555556,
              "#d8576b"
             ],
             [
              0.6666666666666666,
              "#ed7953"
             ],
             [
              0.7777777777777778,
              "#fb9f3a"
             ],
             [
              0.8888888888888888,
              "#fdca26"
             ],
             [
              1,
              "#f0f921"
             ]
            ],
            "type": "contour"
           }
          ],
          "contourcarpet": [
           {
            "colorbar": {
             "outlinewidth": 0,
             "ticks": ""
            },
            "type": "contourcarpet"
           }
          ],
          "heatmap": [
           {
            "colorbar": {
             "outlinewidth": 0,
             "ticks": ""
            },
            "colorscale": [
             [
              0,
              "#0d0887"
             ],
             [
              0.1111111111111111,
              "#46039f"
             ],
             [
              0.2222222222222222,
              "#7201a8"
             ],
             [
              0.3333333333333333,
              "#9c179e"
             ],
             [
              0.4444444444444444,
              "#bd3786"
             ],
             [
              0.5555555555555556,
              "#d8576b"
             ],
             [
              0.6666666666666666,
              "#ed7953"
             ],
             [
              0.7777777777777778,
              "#fb9f3a"
             ],
             [
              0.8888888888888888,
              "#fdca26"
             ],
             [
              1,
              "#f0f921"
             ]
            ],
            "type": "heatmap"
           }
          ],
          "heatmapgl": [
           {
            "colorbar": {
             "outlinewidth": 0,
             "ticks": ""
            },
            "colorscale": [
             [
              0,
              "#0d0887"
             ],
             [
              0.1111111111111111,
              "#46039f"
             ],
             [
              0.2222222222222222,
              "#7201a8"
             ],
             [
              0.3333333333333333,
              "#9c179e"
             ],
             [
              0.4444444444444444,
              "#bd3786"
             ],
             [
              0.5555555555555556,
              "#d8576b"
             ],
             [
              0.6666666666666666,
              "#ed7953"
             ],
             [
              0.7777777777777778,
              "#fb9f3a"
             ],
             [
              0.8888888888888888,
              "#fdca26"
             ],
             [
              1,
              "#f0f921"
             ]
            ],
            "type": "heatmapgl"
           }
          ],
          "histogram": [
           {
            "marker": {
             "pattern": {
              "fillmode": "overlay",
              "size": 10,
              "solidity": 0.2
             }
            },
            "type": "histogram"
           }
          ],
          "histogram2d": [
           {
            "colorbar": {
             "outlinewidth": 0,
             "ticks": ""
            },
            "colorscale": [
             [
              0,
              "#0d0887"
             ],
             [
              0.1111111111111111,
              "#46039f"
             ],
             [
              0.2222222222222222,
              "#7201a8"
             ],
             [
              0.3333333333333333,
              "#9c179e"
             ],
             [
              0.4444444444444444,
              "#bd3786"
             ],
             [
              0.5555555555555556,
              "#d8576b"
             ],
             [
              0.6666666666666666,
              "#ed7953"
             ],
             [
              0.7777777777777778,
              "#fb9f3a"
             ],
             [
              0.8888888888888888,
              "#fdca26"
             ],
             [
              1,
              "#f0f921"
             ]
            ],
            "type": "histogram2d"
           }
          ],
          "histogram2dcontour": [
           {
            "colorbar": {
             "outlinewidth": 0,
             "ticks": ""
            },
            "colorscale": [
             [
              0,
              "#0d0887"
             ],
             [
              0.1111111111111111,
              "#46039f"
             ],
             [
              0.2222222222222222,
              "#7201a8"
             ],
             [
              0.3333333333333333,
              "#9c179e"
             ],
             [
              0.4444444444444444,
              "#bd3786"
             ],
             [
              0.5555555555555556,
              "#d8576b"
             ],
             [
              0.6666666666666666,
              "#ed7953"
             ],
             [
              0.7777777777777778,
              "#fb9f3a"
             ],
             [
              0.8888888888888888,
              "#fdca26"
             ],
             [
              1,
              "#f0f921"
             ]
            ],
            "type": "histogram2dcontour"
           }
          ],
          "mesh3d": [
           {
            "colorbar": {
             "outlinewidth": 0,
             "ticks": ""
            },
            "type": "mesh3d"
           }
          ],
          "parcoords": [
           {
            "line": {
             "colorbar": {
              "outlinewidth": 0,
              "ticks": ""
             }
            },
            "type": "parcoords"
           }
          ],
          "pie": [
           {
            "automargin": true,
            "type": "pie"
           }
          ],
          "scatter": [
           {
            "fillpattern": {
             "fillmode": "overlay",
             "size": 10,
             "solidity": 0.2
            },
            "type": "scatter"
           }
          ],
          "scatter3d": [
           {
            "line": {
             "colorbar": {
              "outlinewidth": 0,
              "ticks": ""
             }
            },
            "marker": {
             "colorbar": {
              "outlinewidth": 0,
              "ticks": ""
             }
            },
            "type": "scatter3d"
           }
          ],
          "scattercarpet": [
           {
            "marker": {
             "colorbar": {
              "outlinewidth": 0,
              "ticks": ""
             }
            },
            "type": "scattercarpet"
           }
          ],
          "scattergeo": [
           {
            "marker": {
             "colorbar": {
              "outlinewidth": 0,
              "ticks": ""
             }
            },
            "type": "scattergeo"
           }
          ],
          "scattergl": [
           {
            "marker": {
             "colorbar": {
              "outlinewidth": 0,
              "ticks": ""
             }
            },
            "type": "scattergl"
           }
          ],
          "scattermapbox": [
           {
            "marker": {
             "colorbar": {
              "outlinewidth": 0,
              "ticks": ""
             }
            },
            "type": "scattermapbox"
           }
          ],
          "scatterpolar": [
           {
            "marker": {
             "colorbar": {
              "outlinewidth": 0,
              "ticks": ""
             }
            },
            "type": "scatterpolar"
           }
          ],
          "scatterpolargl": [
           {
            "marker": {
             "colorbar": {
              "outlinewidth": 0,
              "ticks": ""
             }
            },
            "type": "scatterpolargl"
           }
          ],
          "scatterternary": [
           {
            "marker": {
             "colorbar": {
              "outlinewidth": 0,
              "ticks": ""
             }
            },
            "type": "scatterternary"
           }
          ],
          "surface": [
           {
            "colorbar": {
             "outlinewidth": 0,
             "ticks": ""
            },
            "colorscale": [
             [
              0,
              "#0d0887"
             ],
             [
              0.1111111111111111,
              "#46039f"
             ],
             [
              0.2222222222222222,
              "#7201a8"
             ],
             [
              0.3333333333333333,
              "#9c179e"
             ],
             [
              0.4444444444444444,
              "#bd3786"
             ],
             [
              0.5555555555555556,
              "#d8576b"
             ],
             [
              0.6666666666666666,
              "#ed7953"
             ],
             [
              0.7777777777777778,
              "#fb9f3a"
             ],
             [
              0.8888888888888888,
              "#fdca26"
             ],
             [
              1,
              "#f0f921"
             ]
            ],
            "type": "surface"
           }
          ],
          "table": [
           {
            "cells": {
             "fill": {
              "color": "#EBF0F8"
             },
             "line": {
              "color": "white"
             }
            },
            "header": {
             "fill": {
              "color": "#C8D4E3"
             },
             "line": {
              "color": "white"
             }
            },
            "type": "table"
           }
          ]
         },
         "layout": {
          "annotationdefaults": {
           "arrowcolor": "#2a3f5f",
           "arrowhead": 0,
           "arrowwidth": 1
          },
          "autotypenumbers": "strict",
          "coloraxis": {
           "colorbar": {
            "outlinewidth": 0,
            "ticks": ""
           }
          },
          "colorscale": {
           "diverging": [
            [
             0,
             "#8e0152"
            ],
            [
             0.1,
             "#c51b7d"
            ],
            [
             0.2,
             "#de77ae"
            ],
            [
             0.3,
             "#f1b6da"
            ],
            [
             0.4,
             "#fde0ef"
            ],
            [
             0.5,
             "#f7f7f7"
            ],
            [
             0.6,
             "#e6f5d0"
            ],
            [
             0.7,
             "#b8e186"
            ],
            [
             0.8,
             "#7fbc41"
            ],
            [
             0.9,
             "#4d9221"
            ],
            [
             1,
             "#276419"
            ]
           ],
           "sequential": [
            [
             0,
             "#0d0887"
            ],
            [
             0.1111111111111111,
             "#46039f"
            ],
            [
             0.2222222222222222,
             "#7201a8"
            ],
            [
             0.3333333333333333,
             "#9c179e"
            ],
            [
             0.4444444444444444,
             "#bd3786"
            ],
            [
             0.5555555555555556,
             "#d8576b"
            ],
            [
             0.6666666666666666,
             "#ed7953"
            ],
            [
             0.7777777777777778,
             "#fb9f3a"
            ],
            [
             0.8888888888888888,
             "#fdca26"
            ],
            [
             1,
             "#f0f921"
            ]
           ],
           "sequentialminus": [
            [
             0,
             "#0d0887"
            ],
            [
             0.1111111111111111,
             "#46039f"
            ],
            [
             0.2222222222222222,
             "#7201a8"
            ],
            [
             0.3333333333333333,
             "#9c179e"
            ],
            [
             0.4444444444444444,
             "#bd3786"
            ],
            [
             0.5555555555555556,
             "#d8576b"
            ],
            [
             0.6666666666666666,
             "#ed7953"
            ],
            [
             0.7777777777777778,
             "#fb9f3a"
            ],
            [
             0.8888888888888888,
             "#fdca26"
            ],
            [
             1,
             "#f0f921"
            ]
           ]
          },
          "colorway": [
           "#636efa",
           "#EF553B",
           "#00cc96",
           "#ab63fa",
           "#FFA15A",
           "#19d3f3",
           "#FF6692",
           "#B6E880",
           "#FF97FF",
           "#FECB52"
          ],
          "font": {
           "color": "#2a3f5f"
          },
          "geo": {
           "bgcolor": "white",
           "lakecolor": "white",
           "landcolor": "#E5ECF6",
           "showlakes": true,
           "showland": true,
           "subunitcolor": "white"
          },
          "hoverlabel": {
           "align": "left"
          },
          "hovermode": "closest",
          "mapbox": {
           "style": "light"
          },
          "paper_bgcolor": "white",
          "plot_bgcolor": "#E5ECF6",
          "polar": {
           "angularaxis": {
            "gridcolor": "white",
            "linecolor": "white",
            "ticks": ""
           },
           "bgcolor": "#E5ECF6",
           "radialaxis": {
            "gridcolor": "white",
            "linecolor": "white",
            "ticks": ""
           }
          },
          "scene": {
           "xaxis": {
            "backgroundcolor": "#E5ECF6",
            "gridcolor": "white",
            "gridwidth": 2,
            "linecolor": "white",
            "showbackground": true,
            "ticks": "",
            "zerolinecolor": "white"
           },
           "yaxis": {
            "backgroundcolor": "#E5ECF6",
            "gridcolor": "white",
            "gridwidth": 2,
            "linecolor": "white",
            "showbackground": true,
            "ticks": "",
            "zerolinecolor": "white"
           },
           "zaxis": {
            "backgroundcolor": "#E5ECF6",
            "gridcolor": "white",
            "gridwidth": 2,
            "linecolor": "white",
            "showbackground": true,
            "ticks": "",
            "zerolinecolor": "white"
           }
          },
          "shapedefaults": {
           "line": {
            "color": "#2a3f5f"
           }
          },
          "ternary": {
           "aaxis": {
            "gridcolor": "white",
            "linecolor": "white",
            "ticks": ""
           },
           "baxis": {
            "gridcolor": "white",
            "linecolor": "white",
            "ticks": ""
           },
           "bgcolor": "#E5ECF6",
           "caxis": {
            "gridcolor": "white",
            "linecolor": "white",
            "ticks": ""
           }
          },
          "title": {
           "x": 0.05
          },
          "xaxis": {
           "automargin": true,
           "gridcolor": "white",
           "linecolor": "white",
           "ticks": "",
           "title": {
            "standoff": 15
           },
           "zerolinecolor": "white",
           "zerolinewidth": 2
          },
          "yaxis": {
           "automargin": true,
           "gridcolor": "white",
           "linecolor": "white",
           "ticks": "",
           "title": {
            "standoff": 15
           },
           "zerolinecolor": "white",
           "zerolinewidth": 2
          }
         }
        },
        "title": {
         "text": "Relatie tussen Leeftijd en Inkomen"
        },
        "xaxis": {
         "anchor": "y",
         "domain": [
          0,
          1
         ],
         "title": {
          "text": "Leeftijd"
         }
        },
        "yaxis": {
         "anchor": "x",
         "domain": [
          0,
          1
         ],
         "title": {
          "text": "Inkomen"
         }
        }
       }
      }
     },
     "metadata": {},
     "output_type": "display_data"
    }
   ],
   "source": [
    "# Scatterplot tussen \"leeftijd\" en \"Inkomen\"\n",
    "fig1 = px.scatter(df_cardio, x='leeftijd', y='Inkomen', title='Relatie tussen Leeftijd en Inkomen')\n",
    "fig1.update_layout(xaxis_title='Leeftijd', yaxis_title='Inkomen')\n",
    "fig1.show()"
   ]
  },
  {
   "cell_type": "markdown",
   "metadata": {},
   "source": [
    "# Scatterplot tussen \"leeftijd\" en \"lengte\""
   ]
  },
  {
   "cell_type": "code",
   "execution_count": 31,
   "metadata": {},
   "outputs": [
    {
     "data": {
      "application/vnd.plotly.v1+json": {
       "config": {
        "plotlyServerURL": "https://plot.ly"
       },
       "data": [
        {
         "hovertemplate": "leeftijd=%{x}<br>lengte=%{y}<extra></extra>",
         "legendgroup": "",
         "marker": {
          "color": "#636efa",
          "symbol": "circle"
         },
         "mode": "markers",
         "name": "",
         "orientation": "v",
         "showlegend": false,
         "type": "scatter",
         "x": [
          59,
          39,
          46,
          63,
          61,
          23,
          52,
          28,
          21,
          57,
          59,
          32,
          null,
          34,
          63,
          29,
          39,
          42,
          58,
          54,
          51,
          31,
          34,
          25,
          55,
          25,
          42,
          23,
          null,
          54,
          32,
          24,
          57,
          58,
          24,
          51,
          37,
          40,
          null,
          56,
          58,
          28,
          62,
          27,
          35,
          27,
          52,
          44,
          43,
          null,
          53,
          null,
          54,
          59,
          22,
          28,
          27,
          null,
          42,
          38,
          null,
          null,
          63,
          38,
          21,
          null,
          56,
          null,
          18,
          36,
          38,
          27,
          57,
          32,
          28,
          57,
          49,
          53,
          37,
          28,
          51,
          63,
          32,
          38,
          60,
          30,
          32,
          30,
          36,
          28,
          33,
          30,
          30,
          37,
          27,
          26,
          33,
          27,
          30,
          59,
          43,
          null,
          28,
          28,
          30,
          56,
          66,
          22,
          null,
          22,
          22,
          46,
          27,
          28,
          62,
          null,
          39,
          26,
          22,
          59,
          44,
          39,
          49,
          30,
          48,
          31,
          42,
          58,
          32,
          27,
          null,
          55,
          null,
          53,
          30,
          28,
          null,
          37,
          null,
          35,
          60,
          53,
          37,
          40,
          29,
          27,
          22,
          38,
          36,
          29,
          null,
          21,
          24,
          52,
          25,
          43,
          40,
          63,
          37,
          61,
          32,
          39,
          52,
          null,
          54,
          38,
          38,
          32,
          null,
          34,
          37,
          52,
          54,
          58,
          33,
          58,
          42,
          55,
          26,
          null,
          42,
          61,
          57,
          26,
          22,
          30,
          59,
          27,
          27,
          55,
          30,
          57,
          29,
          36,
          35,
          54,
          28,
          53,
          41,
          null,
          38,
          null,
          38,
          41,
          58,
          null,
          33,
          33,
          37,
          null,
          41,
          27,
          55,
          31,
          53,
          58,
          40,
          54,
          61,
          35,
          57,
          35,
          null,
          55,
          40,
          57,
          54,
          40,
          46,
          28,
          34,
          59,
          30,
          28,
          28,
          35,
          39,
          57,
          58,
          35,
          52,
          33,
          41,
          45,
          48,
          36,
          59,
          21,
          33,
          null,
          58,
          41,
          null,
          34,
          null,
          34,
          40,
          null,
          32,
          36,
          58,
          53,
          70,
          23,
          23,
          36,
          null,
          46,
          58,
          32,
          32,
          57,
          36,
          38,
          37,
          30,
          41,
          57,
          38,
          42,
          36,
          27,
          37,
          57,
          null,
          33,
          61,
          59,
          44,
          38,
          55,
          36,
          null,
          55,
          32,
          25,
          65,
          27,
          44,
          39,
          null,
          53,
          null,
          31,
          43,
          39,
          44,
          null,
          33,
          54,
          32,
          60,
          58,
          34,
          25,
          41,
          59,
          41,
          27,
          25,
          39,
          35,
          38,
          38,
          53,
          29,
          55,
          30,
          50,
          44,
          42,
          null,
          38,
          43,
          57,
          30,
          28,
          60,
          24,
          29,
          27,
          61,
          null,
          null,
          25,
          null,
          61,
          43,
          31,
          36,
          54,
          26,
          48,
          41,
          32,
          61,
          null,
          26,
          29,
          28,
          41,
          28,
          25,
          38,
          35,
          52,
          25,
          null,
          43,
          55,
          37,
          52,
          36,
          38,
          24,
          41,
          null,
          32,
          47,
          26,
          27,
          40,
          37,
          32,
          36,
          39,
          35,
          null,
          60,
          56,
          null,
          37,
          null,
          null,
          61,
          41,
          41,
          50,
          26,
          27,
          58,
          26,
          60,
          28,
          55,
          34,
          61,
          59,
          54,
          32,
          34,
          null,
          33,
          53,
          27,
          31,
          41,
          36,
          56,
          58,
          30,
          44,
          24,
          60,
          42,
          56,
          34,
          39,
          25,
          29,
          null,
          28,
          31,
          26,
          59,
          44,
          62,
          null,
          39,
          55,
          41,
          38,
          35,
          51,
          28,
          34,
          41,
          57,
          42,
          null,
          null,
          23,
          59,
          31,
          25,
          29,
          26,
          28,
          37,
          42,
          52,
          24,
          54,
          54,
          36,
          34,
          34,
          25,
          26,
          55,
          29,
          43,
          52,
          43,
          null,
          null,
          null,
          53,
          50,
          56,
          30,
          59,
          66,
          25,
          35,
          31,
          35,
          56,
          51,
          38,
          null,
          27,
          59,
          null,
          null,
          40,
          56,
          25,
          56,
          null,
          22,
          55,
          26,
          33,
          42,
          47,
          54,
          35,
          56,
          40,
          32,
          31,
          33,
          37,
          44,
          39,
          null,
          30,
          55,
          39,
          35,
          36,
          48,
          58,
          39,
          26,
          61,
          57,
          26,
          36,
          27,
          40,
          null,
          36,
          44,
          24,
          30,
          36,
          26,
          62,
          37,
          42,
          24,
          30,
          59,
          56,
          43,
          24,
          29,
          null,
          22,
          37,
          51,
          25,
          44,
          22,
          29,
          55,
          null,
          29,
          52,
          48,
          31,
          38,
          66,
          38,
          42,
          25,
          27,
          41,
          45,
          29,
          58,
          31,
          53,
          29,
          43,
          20,
          60,
          null,
          52,
          32,
          38,
          null,
          37,
          null,
          33,
          29,
          43,
          57,
          57,
          null,
          58,
          57,
          26,
          50,
          59,
          54,
          null,
          56,
          37,
          60,
          39,
          56,
          39,
          38,
          55,
          54,
          27,
          56,
          61,
          25,
          null,
          58,
          34,
          40,
          27,
          62,
          44,
          61,
          38,
          null,
          35,
          31,
          30,
          28,
          59,
          20,
          35,
          42,
          43,
          38,
          54,
          31,
          56,
          46,
          40,
          41,
          26,
          32,
          27,
          54,
          34,
          33,
          60,
          26,
          35,
          25,
          57,
          32,
          56,
          36,
          40,
          34,
          31,
          38,
          29,
          null,
          59,
          23,
          55,
          34,
          57,
          29,
          28,
          43,
          38,
          40,
          45,
          29,
          42,
          38,
          58,
          29,
          37,
          null,
          31,
          31,
          29,
          24,
          26,
          39,
          40,
          37,
          30,
          42,
          35,
          35,
          46,
          60,
          55,
          54,
          36,
          41,
          58,
          57,
          62,
          27,
          30,
          27,
          55,
          42,
          26,
          25,
          57,
          23,
          24,
          25,
          59,
          38,
          43,
          34,
          40,
          38,
          64,
          25,
          47,
          35,
          29,
          43,
          37,
          40,
          47,
          38,
          61,
          37,
          55,
          54,
          40,
          59,
          52,
          37,
          40,
          32,
          31,
          26,
          29,
          41,
          null,
          31,
          null,
          55,
          40,
          62,
          31,
          38,
          34,
          null,
          57,
          29,
          44,
          38,
          67,
          56,
          59,
          61,
          52,
          54,
          47,
          38,
          58,
          59,
          null,
          44,
          50,
          41,
          42,
          36,
          31,
          58,
          57,
          64,
          28,
          29,
          30,
          30,
          63,
          22,
          26,
          23,
          65,
          null,
          52,
          50,
          55,
          40,
          29,
          42,
          61,
          null,
          40,
          null,
          30,
          30,
          30,
          27,
          58,
          32,
          36,
          41,
          25,
          60,
          32,
          27,
          61,
          60,
          null,
          33,
          56,
          52,
          53,
          37,
          24,
          24,
          58,
          49,
          54,
          23,
          29,
          59,
          42,
          33,
          54,
          31,
          33,
          43,
          29,
          30,
          56,
          null,
          54,
          60,
          35,
          null,
          55,
          53,
          64,
          52,
          null,
          51,
          58,
          null,
          29,
          33,
          38,
          null,
          54,
          34,
          52,
          35,
          52,
          18,
          58,
          39,
          null,
          60,
          39,
          32,
          39,
          30,
          null,
          null,
          40,
          null,
          58,
          24,
          31,
          60,
          36,
          32,
          32,
          54,
          52,
          53,
          61,
          59,
          55,
          null,
          58,
          34,
          57,
          40,
          39,
          null,
          40,
          65,
          29,
          41,
          42,
          31,
          35,
          51,
          44,
          58,
          null,
          26,
          37,
          36,
          null,
          29,
          58,
          37,
          61,
          31,
          38,
          38,
          null,
          61,
          55,
          39,
          62,
          58,
          38,
          50,
          37,
          39,
          28,
          39,
          37,
          43,
          43,
          56,
          29,
          47,
          28,
          null,
          null,
          53,
          27,
          null,
          64,
          33,
          56,
          43,
          43,
          30,
          50,
          37,
          27,
          56,
          60,
          43,
          39,
          34,
          38,
          null,
          57,
          35,
          27,
          60,
          26,
          44,
          39,
          29,
          36,
          26,
          30,
          30,
          57,
          37,
          57,
          25,
          34,
          32,
          56,
          31,
          33,
          60,
          31,
          44,
          54,
          30,
          62,
          39,
          38,
          33,
          50,
          39,
          39,
          25,
          60,
          34,
          57,
          44,
          65,
          59,
          49,
          38,
          35,
          41,
          null,
          39,
          39,
          56,
          42,
          null,
          44,
          54,
          57,
          52
         ],
         "xaxis": "x",
         "y": [
          null,
          164,
          191,
          185,
          152,
          164,
          172,
          null,
          160,
          null,
          152,
          152,
          163,
          193,
          193,
          193,
          166,
          192,
          178,
          157,
          176,
          169,
          null,
          null,
          199,
          160,
          159,
          175,
          null,
          197,
          171,
          152,
          null,
          193,
          173,
          167,
          188,
          195,
          198,
          194,
          176,
          162,
          173,
          161,
          160,
          174,
          182,
          188,
          187,
          197,
          186,
          192,
          189,
          187,
          158,
          155,
          191,
          199,
          188,
          null,
          195,
          170,
          156,
          162,
          166,
          179,
          null,
          184,
          180,
          166,
          188,
          null,
          null,
          153,
          155,
          199,
          187,
          152,
          164,
          159,
          186,
          179,
          null,
          188,
          null,
          185,
          191,
          151,
          158,
          165,
          160,
          178,
          151,
          173,
          182,
          192,
          167,
          156,
          178,
          175,
          188,
          197,
          185,
          154,
          196,
          188,
          199,
          195,
          183,
          156,
          180,
          188,
          194,
          null,
          174,
          189,
          174,
          197,
          153,
          159,
          162,
          168,
          180,
          184,
          182,
          166,
          191,
          193,
          188,
          198,
          null,
          178,
          156,
          null,
          172,
          188,
          163,
          180,
          184,
          181,
          155,
          null,
          176,
          159,
          170,
          162,
          150,
          158,
          166,
          181,
          153,
          166,
          197,
          167,
          null,
          162,
          156,
          null,
          187,
          153,
          175,
          200,
          157,
          183,
          198,
          186,
          164,
          155,
          190,
          154,
          185,
          192,
          193,
          154,
          150,
          186,
          162,
          157,
          null,
          196,
          193,
          173,
          183,
          174,
          178,
          196,
          183,
          186,
          195,
          null,
          null,
          197,
          196,
          165,
          190,
          null,
          184,
          151,
          150,
          186,
          188,
          160,
          175,
          155,
          185,
          175,
          161,
          187,
          155,
          197,
          175,
          195,
          177,
          181,
          186,
          null,
          null,
          null,
          173,
          173,
          182,
          186,
          null,
          186,
          167,
          153,
          169,
          151,
          168,
          169,
          null,
          156,
          159,
          192,
          171,
          164,
          179,
          170,
          162,
          159,
          173,
          189,
          158,
          193,
          174,
          182,
          165,
          154,
          null,
          167,
          186,
          153,
          180,
          157,
          171,
          null,
          192,
          190,
          174,
          190,
          null,
          192,
          173,
          176,
          null,
          162,
          168,
          155,
          157,
          198,
          199,
          159,
          188,
          154,
          183,
          null,
          185,
          179,
          190,
          169,
          197,
          160,
          173,
          176,
          null,
          null,
          152,
          null,
          158,
          155,
          180,
          167,
          153,
          192,
          164,
          159,
          181,
          194,
          152,
          187,
          197,
          163,
          164,
          175,
          198,
          183,
          181,
          150,
          172,
          199,
          153,
          192,
          200,
          191,
          185,
          159,
          194,
          null,
          176,
          163,
          183,
          174,
          198,
          165,
          194,
          196,
          182,
          163,
          184,
          165,
          157,
          159,
          189,
          157,
          187,
          161,
          198,
          192,
          190,
          187,
          162,
          167,
          198,
          null,
          191,
          151,
          182,
          153,
          189,
          null,
          189,
          180,
          157,
          178,
          167,
          189,
          157,
          160,
          158,
          165,
          189,
          null,
          164,
          184,
          180,
          193,
          192,
          183,
          197,
          166,
          169,
          170,
          null,
          169,
          184,
          198,
          157,
          177,
          181,
          156,
          161,
          176,
          200,
          181,
          null,
          179,
          191,
          153,
          155,
          182,
          191,
          165,
          null,
          197,
          null,
          170,
          184,
          170,
          165,
          198,
          167,
          161,
          162,
          196,
          184,
          199,
          164,
          158,
          197,
          197,
          196,
          190,
          187,
          null,
          158,
          170,
          166,
          162,
          162,
          160,
          null,
          155,
          171,
          153,
          197,
          175,
          null,
          184,
          191,
          168,
          184,
          169,
          159,
          150,
          156,
          187,
          157,
          null,
          162,
          null,
          181,
          193,
          180,
          185,
          181,
          154,
          null,
          null,
          191,
          190,
          190,
          172,
          161,
          154,
          166,
          164,
          196,
          null,
          180,
          181,
          168,
          null,
          159,
          151,
          179,
          194,
          194,
          173,
          200,
          163,
          156,
          null,
          196,
          194,
          163,
          172,
          151,
          191,
          194,
          163,
          164,
          176,
          null,
          197,
          200,
          180,
          155,
          171,
          161,
          191,
          174,
          189,
          191,
          180,
          null,
          154,
          195,
          164,
          null,
          172,
          163,
          163,
          153,
          150,
          184,
          165,
          198,
          162,
          176,
          179,
          185,
          161,
          179,
          166,
          152,
          199,
          186,
          190,
          177,
          165,
          159,
          190,
          161,
          151,
          193,
          190,
          190,
          153,
          178,
          197,
          170,
          199,
          183,
          177,
          196,
          193,
          167,
          191,
          170,
          173,
          178,
          183,
          177,
          195,
          159,
          null,
          173,
          200,
          170,
          181,
          186,
          170,
          175,
          182,
          173,
          154,
          151,
          174,
          189,
          198,
          197,
          174,
          167,
          183,
          null,
          null,
          193,
          190,
          198,
          190,
          171,
          null,
          173,
          197,
          null,
          169,
          156,
          164,
          165,
          197,
          157,
          null,
          null,
          189,
          177,
          163,
          null,
          166,
          170,
          181,
          182,
          170,
          160,
          196,
          185,
          188,
          187,
          175,
          192,
          199,
          151,
          160,
          164,
          164,
          156,
          197,
          175,
          182,
          186,
          197,
          180,
          167,
          167,
          191,
          195,
          null,
          null,
          172,
          191,
          166,
          151,
          163,
          195,
          155,
          172,
          179,
          183,
          157,
          176,
          190,
          180,
          171,
          156,
          189,
          183,
          154,
          153,
          194,
          200,
          180,
          193,
          166,
          170,
          198,
          176,
          168,
          191,
          193,
          199,
          155,
          155,
          155,
          200,
          159,
          174,
          171,
          195,
          152,
          null,
          180,
          152,
          150,
          163,
          169,
          null,
          192,
          163,
          156,
          null,
          162,
          154,
          170,
          192,
          151,
          185,
          161,
          164,
          165,
          200,
          192,
          null,
          161,
          196,
          198,
          null,
          168,
          172,
          161,
          170,
          164,
          185,
          151,
          187,
          162,
          null,
          170,
          158,
          172,
          152,
          165,
          195,
          null,
          183,
          158,
          185,
          null,
          198,
          196,
          197,
          null,
          null,
          null,
          186,
          157,
          152,
          169,
          169,
          167,
          177,
          155,
          156,
          176,
          150,
          189,
          151,
          null,
          194,
          158,
          155,
          181,
          195,
          null,
          180,
          170,
          194,
          183,
          188,
          null,
          157,
          170,
          154,
          195,
          200,
          168,
          157,
          167,
          155,
          188,
          173,
          157,
          169,
          176,
          164,
          182,
          180,
          165,
          154,
          176,
          193,
          152,
          182,
          160,
          null,
          162,
          176,
          183,
          157,
          185,
          169,
          151,
          163,
          152,
          194,
          196,
          159,
          174,
          180,
          193,
          153,
          null,
          189,
          170,
          160,
          165,
          182,
          172,
          180,
          151,
          172,
          197,
          null,
          176,
          152,
          154,
          198,
          168,
          155,
          164,
          195,
          194,
          171,
          168,
          175,
          194,
          null,
          165,
          169,
          164,
          183,
          179,
          null,
          165,
          185,
          162,
          192,
          169,
          171,
          170,
          166,
          null,
          194,
          186,
          153,
          158,
          189,
          186,
          164,
          172,
          188,
          177,
          null,
          165,
          170,
          192,
          159,
          195,
          170,
          183,
          159,
          198,
          169,
          183,
          190,
          186,
          166,
          159,
          null,
          168,
          null,
          155,
          186,
          166,
          185,
          null,
          192,
          159,
          183,
          156,
          173,
          191,
          166,
          151,
          175,
          200,
          192,
          185,
          188,
          155,
          166,
          163,
          null,
          190,
          174,
          172,
          154,
          198,
          157,
          188,
          null,
          182,
          196,
          180,
          167,
          174,
          null,
          194,
          194,
          185,
          182,
          170,
          169,
          151,
          179,
          155,
          158,
          155,
          185,
          156,
          198,
          169,
          188,
          200,
          160,
          190,
          170,
          null,
          171,
          162,
          177,
          172,
          189,
          null,
          185,
          188,
          null,
          156,
          184,
          181,
          199,
          190,
          171,
          171,
          192,
          175,
          196,
          175,
          169,
          168,
          187,
          190,
          194,
          null,
          156,
          164,
          161,
          163,
          154,
          162,
          198,
          187,
          181,
          195,
          151,
          176,
          198,
          161,
          164,
          157,
          178,
          168,
          178,
          197,
          193,
          169,
          194,
          158,
          null,
          178,
          169,
          193,
          180,
          188,
          192,
          173,
          167,
          null,
          157,
          190,
          155,
          152,
          183,
          161,
          193,
          158,
          166,
          193,
          162,
          185,
          199,
          158,
          159,
          154,
          174,
          159,
          164,
          178,
          151,
          152,
          171,
          163,
          185,
          168,
          163,
          152,
          168,
          178,
          185,
          162,
          157,
          193
         ],
         "yaxis": "y"
        }
       ],
       "layout": {
        "legend": {
         "tracegroupgap": 0
        },
        "template": {
         "data": {
          "bar": [
           {
            "error_x": {
             "color": "#2a3f5f"
            },
            "error_y": {
             "color": "#2a3f5f"
            },
            "marker": {
             "line": {
              "color": "#E5ECF6",
              "width": 0.5
             },
             "pattern": {
              "fillmode": "overlay",
              "size": 10,
              "solidity": 0.2
             }
            },
            "type": "bar"
           }
          ],
          "barpolar": [
           {
            "marker": {
             "line": {
              "color": "#E5ECF6",
              "width": 0.5
             },
             "pattern": {
              "fillmode": "overlay",
              "size": 10,
              "solidity": 0.2
             }
            },
            "type": "barpolar"
           }
          ],
          "carpet": [
           {
            "aaxis": {
             "endlinecolor": "#2a3f5f",
             "gridcolor": "white",
             "linecolor": "white",
             "minorgridcolor": "white",
             "startlinecolor": "#2a3f5f"
            },
            "baxis": {
             "endlinecolor": "#2a3f5f",
             "gridcolor": "white",
             "linecolor": "white",
             "minorgridcolor": "white",
             "startlinecolor": "#2a3f5f"
            },
            "type": "carpet"
           }
          ],
          "choropleth": [
           {
            "colorbar": {
             "outlinewidth": 0,
             "ticks": ""
            },
            "type": "choropleth"
           }
          ],
          "contour": [
           {
            "colorbar": {
             "outlinewidth": 0,
             "ticks": ""
            },
            "colorscale": [
             [
              0,
              "#0d0887"
             ],
             [
              0.1111111111111111,
              "#46039f"
             ],
             [
              0.2222222222222222,
              "#7201a8"
             ],
             [
              0.3333333333333333,
              "#9c179e"
             ],
             [
              0.4444444444444444,
              "#bd3786"
             ],
             [
              0.5555555555555556,
              "#d8576b"
             ],
             [
              0.6666666666666666,
              "#ed7953"
             ],
             [
              0.7777777777777778,
              "#fb9f3a"
             ],
             [
              0.8888888888888888,
              "#fdca26"
             ],
             [
              1,
              "#f0f921"
             ]
            ],
            "type": "contour"
           }
          ],
          "contourcarpet": [
           {
            "colorbar": {
             "outlinewidth": 0,
             "ticks": ""
            },
            "type": "contourcarpet"
           }
          ],
          "heatmap": [
           {
            "colorbar": {
             "outlinewidth": 0,
             "ticks": ""
            },
            "colorscale": [
             [
              0,
              "#0d0887"
             ],
             [
              0.1111111111111111,
              "#46039f"
             ],
             [
              0.2222222222222222,
              "#7201a8"
             ],
             [
              0.3333333333333333,
              "#9c179e"
             ],
             [
              0.4444444444444444,
              "#bd3786"
             ],
             [
              0.5555555555555556,
              "#d8576b"
             ],
             [
              0.6666666666666666,
              "#ed7953"
             ],
             [
              0.7777777777777778,
              "#fb9f3a"
             ],
             [
              0.8888888888888888,
              "#fdca26"
             ],
             [
              1,
              "#f0f921"
             ]
            ],
            "type": "heatmap"
           }
          ],
          "heatmapgl": [
           {
            "colorbar": {
             "outlinewidth": 0,
             "ticks": ""
            },
            "colorscale": [
             [
              0,
              "#0d0887"
             ],
             [
              0.1111111111111111,
              "#46039f"
             ],
             [
              0.2222222222222222,
              "#7201a8"
             ],
             [
              0.3333333333333333,
              "#9c179e"
             ],
             [
              0.4444444444444444,
              "#bd3786"
             ],
             [
              0.5555555555555556,
              "#d8576b"
             ],
             [
              0.6666666666666666,
              "#ed7953"
             ],
             [
              0.7777777777777778,
              "#fb9f3a"
             ],
             [
              0.8888888888888888,
              "#fdca26"
             ],
             [
              1,
              "#f0f921"
             ]
            ],
            "type": "heatmapgl"
           }
          ],
          "histogram": [
           {
            "marker": {
             "pattern": {
              "fillmode": "overlay",
              "size": 10,
              "solidity": 0.2
             }
            },
            "type": "histogram"
           }
          ],
          "histogram2d": [
           {
            "colorbar": {
             "outlinewidth": 0,
             "ticks": ""
            },
            "colorscale": [
             [
              0,
              "#0d0887"
             ],
             [
              0.1111111111111111,
              "#46039f"
             ],
             [
              0.2222222222222222,
              "#7201a8"
             ],
             [
              0.3333333333333333,
              "#9c179e"
             ],
             [
              0.4444444444444444,
              "#bd3786"
             ],
             [
              0.5555555555555556,
              "#d8576b"
             ],
             [
              0.6666666666666666,
              "#ed7953"
             ],
             [
              0.7777777777777778,
              "#fb9f3a"
             ],
             [
              0.8888888888888888,
              "#fdca26"
             ],
             [
              1,
              "#f0f921"
             ]
            ],
            "type": "histogram2d"
           }
          ],
          "histogram2dcontour": [
           {
            "colorbar": {
             "outlinewidth": 0,
             "ticks": ""
            },
            "colorscale": [
             [
              0,
              "#0d0887"
             ],
             [
              0.1111111111111111,
              "#46039f"
             ],
             [
              0.2222222222222222,
              "#7201a8"
             ],
             [
              0.3333333333333333,
              "#9c179e"
             ],
             [
              0.4444444444444444,
              "#bd3786"
             ],
             [
              0.5555555555555556,
              "#d8576b"
             ],
             [
              0.6666666666666666,
              "#ed7953"
             ],
             [
              0.7777777777777778,
              "#fb9f3a"
             ],
             [
              0.8888888888888888,
              "#fdca26"
             ],
             [
              1,
              "#f0f921"
             ]
            ],
            "type": "histogram2dcontour"
           }
          ],
          "mesh3d": [
           {
            "colorbar": {
             "outlinewidth": 0,
             "ticks": ""
            },
            "type": "mesh3d"
           }
          ],
          "parcoords": [
           {
            "line": {
             "colorbar": {
              "outlinewidth": 0,
              "ticks": ""
             }
            },
            "type": "parcoords"
           }
          ],
          "pie": [
           {
            "automargin": true,
            "type": "pie"
           }
          ],
          "scatter": [
           {
            "fillpattern": {
             "fillmode": "overlay",
             "size": 10,
             "solidity": 0.2
            },
            "type": "scatter"
           }
          ],
          "scatter3d": [
           {
            "line": {
             "colorbar": {
              "outlinewidth": 0,
              "ticks": ""
             }
            },
            "marker": {
             "colorbar": {
              "outlinewidth": 0,
              "ticks": ""
             }
            },
            "type": "scatter3d"
           }
          ],
          "scattercarpet": [
           {
            "marker": {
             "colorbar": {
              "outlinewidth": 0,
              "ticks": ""
             }
            },
            "type": "scattercarpet"
           }
          ],
          "scattergeo": [
           {
            "marker": {
             "colorbar": {
              "outlinewidth": 0,
              "ticks": ""
             }
            },
            "type": "scattergeo"
           }
          ],
          "scattergl": [
           {
            "marker": {
             "colorbar": {
              "outlinewidth": 0,
              "ticks": ""
             }
            },
            "type": "scattergl"
           }
          ],
          "scattermapbox": [
           {
            "marker": {
             "colorbar": {
              "outlinewidth": 0,
              "ticks": ""
             }
            },
            "type": "scattermapbox"
           }
          ],
          "scatterpolar": [
           {
            "marker": {
             "colorbar": {
              "outlinewidth": 0,
              "ticks": ""
             }
            },
            "type": "scatterpolar"
           }
          ],
          "scatterpolargl": [
           {
            "marker": {
             "colorbar": {
              "outlinewidth": 0,
              "ticks": ""
             }
            },
            "type": "scatterpolargl"
           }
          ],
          "scatterternary": [
           {
            "marker": {
             "colorbar": {
              "outlinewidth": 0,
              "ticks": ""
             }
            },
            "type": "scatterternary"
           }
          ],
          "surface": [
           {
            "colorbar": {
             "outlinewidth": 0,
             "ticks": ""
            },
            "colorscale": [
             [
              0,
              "#0d0887"
             ],
             [
              0.1111111111111111,
              "#46039f"
             ],
             [
              0.2222222222222222,
              "#7201a8"
             ],
             [
              0.3333333333333333,
              "#9c179e"
             ],
             [
              0.4444444444444444,
              "#bd3786"
             ],
             [
              0.5555555555555556,
              "#d8576b"
             ],
             [
              0.6666666666666666,
              "#ed7953"
             ],
             [
              0.7777777777777778,
              "#fb9f3a"
             ],
             [
              0.8888888888888888,
              "#fdca26"
             ],
             [
              1,
              "#f0f921"
             ]
            ],
            "type": "surface"
           }
          ],
          "table": [
           {
            "cells": {
             "fill": {
              "color": "#EBF0F8"
             },
             "line": {
              "color": "white"
             }
            },
            "header": {
             "fill": {
              "color": "#C8D4E3"
             },
             "line": {
              "color": "white"
             }
            },
            "type": "table"
           }
          ]
         },
         "layout": {
          "annotationdefaults": {
           "arrowcolor": "#2a3f5f",
           "arrowhead": 0,
           "arrowwidth": 1
          },
          "autotypenumbers": "strict",
          "coloraxis": {
           "colorbar": {
            "outlinewidth": 0,
            "ticks": ""
           }
          },
          "colorscale": {
           "diverging": [
            [
             0,
             "#8e0152"
            ],
            [
             0.1,
             "#c51b7d"
            ],
            [
             0.2,
             "#de77ae"
            ],
            [
             0.3,
             "#f1b6da"
            ],
            [
             0.4,
             "#fde0ef"
            ],
            [
             0.5,
             "#f7f7f7"
            ],
            [
             0.6,
             "#e6f5d0"
            ],
            [
             0.7,
             "#b8e186"
            ],
            [
             0.8,
             "#7fbc41"
            ],
            [
             0.9,
             "#4d9221"
            ],
            [
             1,
             "#276419"
            ]
           ],
           "sequential": [
            [
             0,
             "#0d0887"
            ],
            [
             0.1111111111111111,
             "#46039f"
            ],
            [
             0.2222222222222222,
             "#7201a8"
            ],
            [
             0.3333333333333333,
             "#9c179e"
            ],
            [
             0.4444444444444444,
             "#bd3786"
            ],
            [
             0.5555555555555556,
             "#d8576b"
            ],
            [
             0.6666666666666666,
             "#ed7953"
            ],
            [
             0.7777777777777778,
             "#fb9f3a"
            ],
            [
             0.8888888888888888,
             "#fdca26"
            ],
            [
             1,
             "#f0f921"
            ]
           ],
           "sequentialminus": [
            [
             0,
             "#0d0887"
            ],
            [
             0.1111111111111111,
             "#46039f"
            ],
            [
             0.2222222222222222,
             "#7201a8"
            ],
            [
             0.3333333333333333,
             "#9c179e"
            ],
            [
             0.4444444444444444,
             "#bd3786"
            ],
            [
             0.5555555555555556,
             "#d8576b"
            ],
            [
             0.6666666666666666,
             "#ed7953"
            ],
            [
             0.7777777777777778,
             "#fb9f3a"
            ],
            [
             0.8888888888888888,
             "#fdca26"
            ],
            [
             1,
             "#f0f921"
            ]
           ]
          },
          "colorway": [
           "#636efa",
           "#EF553B",
           "#00cc96",
           "#ab63fa",
           "#FFA15A",
           "#19d3f3",
           "#FF6692",
           "#B6E880",
           "#FF97FF",
           "#FECB52"
          ],
          "font": {
           "color": "#2a3f5f"
          },
          "geo": {
           "bgcolor": "white",
           "lakecolor": "white",
           "landcolor": "#E5ECF6",
           "showlakes": true,
           "showland": true,
           "subunitcolor": "white"
          },
          "hoverlabel": {
           "align": "left"
          },
          "hovermode": "closest",
          "mapbox": {
           "style": "light"
          },
          "paper_bgcolor": "white",
          "plot_bgcolor": "#E5ECF6",
          "polar": {
           "angularaxis": {
            "gridcolor": "white",
            "linecolor": "white",
            "ticks": ""
           },
           "bgcolor": "#E5ECF6",
           "radialaxis": {
            "gridcolor": "white",
            "linecolor": "white",
            "ticks": ""
           }
          },
          "scene": {
           "xaxis": {
            "backgroundcolor": "#E5ECF6",
            "gridcolor": "white",
            "gridwidth": 2,
            "linecolor": "white",
            "showbackground": true,
            "ticks": "",
            "zerolinecolor": "white"
           },
           "yaxis": {
            "backgroundcolor": "#E5ECF6",
            "gridcolor": "white",
            "gridwidth": 2,
            "linecolor": "white",
            "showbackground": true,
            "ticks": "",
            "zerolinecolor": "white"
           },
           "zaxis": {
            "backgroundcolor": "#E5ECF6",
            "gridcolor": "white",
            "gridwidth": 2,
            "linecolor": "white",
            "showbackground": true,
            "ticks": "",
            "zerolinecolor": "white"
           }
          },
          "shapedefaults": {
           "line": {
            "color": "#2a3f5f"
           }
          },
          "ternary": {
           "aaxis": {
            "gridcolor": "white",
            "linecolor": "white",
            "ticks": ""
           },
           "baxis": {
            "gridcolor": "white",
            "linecolor": "white",
            "ticks": ""
           },
           "bgcolor": "#E5ECF6",
           "caxis": {
            "gridcolor": "white",
            "linecolor": "white",
            "ticks": ""
           }
          },
          "title": {
           "x": 0.05
          },
          "xaxis": {
           "automargin": true,
           "gridcolor": "white",
           "linecolor": "white",
           "ticks": "",
           "title": {
            "standoff": 15
           },
           "zerolinecolor": "white",
           "zerolinewidth": 2
          },
          "yaxis": {
           "automargin": true,
           "gridcolor": "white",
           "linecolor": "white",
           "ticks": "",
           "title": {
            "standoff": 15
           },
           "zerolinecolor": "white",
           "zerolinewidth": 2
          }
         }
        },
        "title": {
         "text": "Relatie tussen Leeftijd en Lengte"
        },
        "xaxis": {
         "anchor": "y",
         "domain": [
          0,
          1
         ],
         "title": {
          "text": "Leeftijd"
         }
        },
        "yaxis": {
         "anchor": "x",
         "domain": [
          0,
          1
         ],
         "title": {
          "text": "Lengte"
         }
        }
       }
      }
     },
     "metadata": {},
     "output_type": "display_data"
    }
   ],
   "source": [
    "fig2 = px.scatter(df_cardio, x='leeftijd', y='lengte', title='Relatie tussen Leeftijd en Lengte')\n",
    "fig2.update_layout(xaxis_title='Leeftijd', yaxis_title='Lengte')\n",
    "fig2.show()"
   ]
  },
  {
   "cell_type": "markdown",
   "metadata": {},
   "source": [
    "Scatterplot tussen \"leeftijd\" en \"gewicht\""
   ]
  },
  {
   "cell_type": "code",
   "execution_count": 32,
   "metadata": {},
   "outputs": [
    {
     "data": {
      "application/vnd.plotly.v1+json": {
       "config": {
        "plotlyServerURL": "https://plot.ly"
       },
       "data": [
        {
         "hovertemplate": "leeftijd=%{x}<br>gewicht=%{y}<extra></extra>",
         "legendgroup": "",
         "marker": {
          "color": "#636efa",
          "symbol": "circle"
         },
         "mode": "markers",
         "name": "",
         "orientation": "v",
         "showlegend": false,
         "type": "scatter",
         "x": [
          59,
          39,
          46,
          63,
          61,
          23,
          52,
          28,
          21,
          57,
          59,
          32,
          null,
          34,
          63,
          29,
          39,
          42,
          58,
          54,
          51,
          31,
          34,
          25,
          55,
          25,
          42,
          23,
          null,
          54,
          32,
          24,
          57,
          58,
          24,
          51,
          37,
          40,
          null,
          56,
          58,
          28,
          62,
          27,
          35,
          27,
          52,
          44,
          43,
          null,
          53,
          null,
          54,
          59,
          22,
          28,
          27,
          null,
          42,
          38,
          null,
          null,
          63,
          38,
          21,
          null,
          56,
          null,
          18,
          36,
          38,
          27,
          57,
          32,
          28,
          57,
          49,
          53,
          37,
          28,
          51,
          63,
          32,
          38,
          60,
          30,
          32,
          30,
          36,
          28,
          33,
          30,
          30,
          37,
          27,
          26,
          33,
          27,
          30,
          59,
          43,
          null,
          28,
          28,
          30,
          56,
          66,
          22,
          null,
          22,
          22,
          46,
          27,
          28,
          62,
          null,
          39,
          26,
          22,
          59,
          44,
          39,
          49,
          30,
          48,
          31,
          42,
          58,
          32,
          27,
          null,
          55,
          null,
          53,
          30,
          28,
          null,
          37,
          null,
          35,
          60,
          53,
          37,
          40,
          29,
          27,
          22,
          38,
          36,
          29,
          null,
          21,
          24,
          52,
          25,
          43,
          40,
          63,
          37,
          61,
          32,
          39,
          52,
          null,
          54,
          38,
          38,
          32,
          null,
          34,
          37,
          52,
          54,
          58,
          33,
          58,
          42,
          55,
          26,
          null,
          42,
          61,
          57,
          26,
          22,
          30,
          59,
          27,
          27,
          55,
          30,
          57,
          29,
          36,
          35,
          54,
          28,
          53,
          41,
          null,
          38,
          null,
          38,
          41,
          58,
          null,
          33,
          33,
          37,
          null,
          41,
          27,
          55,
          31,
          53,
          58,
          40,
          54,
          61,
          35,
          57,
          35,
          null,
          55,
          40,
          57,
          54,
          40,
          46,
          28,
          34,
          59,
          30,
          28,
          28,
          35,
          39,
          57,
          58,
          35,
          52,
          33,
          41,
          45,
          48,
          36,
          59,
          21,
          33,
          null,
          58,
          41,
          null,
          34,
          null,
          34,
          40,
          null,
          32,
          36,
          58,
          53,
          70,
          23,
          23,
          36,
          null,
          46,
          58,
          32,
          32,
          57,
          36,
          38,
          37,
          30,
          41,
          57,
          38,
          42,
          36,
          27,
          37,
          57,
          null,
          33,
          61,
          59,
          44,
          38,
          55,
          36,
          null,
          55,
          32,
          25,
          65,
          27,
          44,
          39,
          null,
          53,
          null,
          31,
          43,
          39,
          44,
          null,
          33,
          54,
          32,
          60,
          58,
          34,
          25,
          41,
          59,
          41,
          27,
          25,
          39,
          35,
          38,
          38,
          53,
          29,
          55,
          30,
          50,
          44,
          42,
          null,
          38,
          43,
          57,
          30,
          28,
          60,
          24,
          29,
          27,
          61,
          null,
          null,
          25,
          null,
          61,
          43,
          31,
          36,
          54,
          26,
          48,
          41,
          32,
          61,
          null,
          26,
          29,
          28,
          41,
          28,
          25,
          38,
          35,
          52,
          25,
          null,
          43,
          55,
          37,
          52,
          36,
          38,
          24,
          41,
          null,
          32,
          47,
          26,
          27,
          40,
          37,
          32,
          36,
          39,
          35,
          null,
          60,
          56,
          null,
          37,
          null,
          null,
          61,
          41,
          41,
          50,
          26,
          27,
          58,
          26,
          60,
          28,
          55,
          34,
          61,
          59,
          54,
          32,
          34,
          null,
          33,
          53,
          27,
          31,
          41,
          36,
          56,
          58,
          30,
          44,
          24,
          60,
          42,
          56,
          34,
          39,
          25,
          29,
          null,
          28,
          31,
          26,
          59,
          44,
          62,
          null,
          39,
          55,
          41,
          38,
          35,
          51,
          28,
          34,
          41,
          57,
          42,
          null,
          null,
          23,
          59,
          31,
          25,
          29,
          26,
          28,
          37,
          42,
          52,
          24,
          54,
          54,
          36,
          34,
          34,
          25,
          26,
          55,
          29,
          43,
          52,
          43,
          null,
          null,
          null,
          53,
          50,
          56,
          30,
          59,
          66,
          25,
          35,
          31,
          35,
          56,
          51,
          38,
          null,
          27,
          59,
          null,
          null,
          40,
          56,
          25,
          56,
          null,
          22,
          55,
          26,
          33,
          42,
          47,
          54,
          35,
          56,
          40,
          32,
          31,
          33,
          37,
          44,
          39,
          null,
          30,
          55,
          39,
          35,
          36,
          48,
          58,
          39,
          26,
          61,
          57,
          26,
          36,
          27,
          40,
          null,
          36,
          44,
          24,
          30,
          36,
          26,
          62,
          37,
          42,
          24,
          30,
          59,
          56,
          43,
          24,
          29,
          null,
          22,
          37,
          51,
          25,
          44,
          22,
          29,
          55,
          null,
          29,
          52,
          48,
          31,
          38,
          66,
          38,
          42,
          25,
          27,
          41,
          45,
          29,
          58,
          31,
          53,
          29,
          43,
          20,
          60,
          null,
          52,
          32,
          38,
          null,
          37,
          null,
          33,
          29,
          43,
          57,
          57,
          null,
          58,
          57,
          26,
          50,
          59,
          54,
          null,
          56,
          37,
          60,
          39,
          56,
          39,
          38,
          55,
          54,
          27,
          56,
          61,
          25,
          null,
          58,
          34,
          40,
          27,
          62,
          44,
          61,
          38,
          null,
          35,
          31,
          30,
          28,
          59,
          20,
          35,
          42,
          43,
          38,
          54,
          31,
          56,
          46,
          40,
          41,
          26,
          32,
          27,
          54,
          34,
          33,
          60,
          26,
          35,
          25,
          57,
          32,
          56,
          36,
          40,
          34,
          31,
          38,
          29,
          null,
          59,
          23,
          55,
          34,
          57,
          29,
          28,
          43,
          38,
          40,
          45,
          29,
          42,
          38,
          58,
          29,
          37,
          null,
          31,
          31,
          29,
          24,
          26,
          39,
          40,
          37,
          30,
          42,
          35,
          35,
          46,
          60,
          55,
          54,
          36,
          41,
          58,
          57,
          62,
          27,
          30,
          27,
          55,
          42,
          26,
          25,
          57,
          23,
          24,
          25,
          59,
          38,
          43,
          34,
          40,
          38,
          64,
          25,
          47,
          35,
          29,
          43,
          37,
          40,
          47,
          38,
          61,
          37,
          55,
          54,
          40,
          59,
          52,
          37,
          40,
          32,
          31,
          26,
          29,
          41,
          null,
          31,
          null,
          55,
          40,
          62,
          31,
          38,
          34,
          null,
          57,
          29,
          44,
          38,
          67,
          56,
          59,
          61,
          52,
          54,
          47,
          38,
          58,
          59,
          null,
          44,
          50,
          41,
          42,
          36,
          31,
          58,
          57,
          64,
          28,
          29,
          30,
          30,
          63,
          22,
          26,
          23,
          65,
          null,
          52,
          50,
          55,
          40,
          29,
          42,
          61,
          null,
          40,
          null,
          30,
          30,
          30,
          27,
          58,
          32,
          36,
          41,
          25,
          60,
          32,
          27,
          61,
          60,
          null,
          33,
          56,
          52,
          53,
          37,
          24,
          24,
          58,
          49,
          54,
          23,
          29,
          59,
          42,
          33,
          54,
          31,
          33,
          43,
          29,
          30,
          56,
          null,
          54,
          60,
          35,
          null,
          55,
          53,
          64,
          52,
          null,
          51,
          58,
          null,
          29,
          33,
          38,
          null,
          54,
          34,
          52,
          35,
          52,
          18,
          58,
          39,
          null,
          60,
          39,
          32,
          39,
          30,
          null,
          null,
          40,
          null,
          58,
          24,
          31,
          60,
          36,
          32,
          32,
          54,
          52,
          53,
          61,
          59,
          55,
          null,
          58,
          34,
          57,
          40,
          39,
          null,
          40,
          65,
          29,
          41,
          42,
          31,
          35,
          51,
          44,
          58,
          null,
          26,
          37,
          36,
          null,
          29,
          58,
          37,
          61,
          31,
          38,
          38,
          null,
          61,
          55,
          39,
          62,
          58,
          38,
          50,
          37,
          39,
          28,
          39,
          37,
          43,
          43,
          56,
          29,
          47,
          28,
          null,
          null,
          53,
          27,
          null,
          64,
          33,
          56,
          43,
          43,
          30,
          50,
          37,
          27,
          56,
          60,
          43,
          39,
          34,
          38,
          null,
          57,
          35,
          27,
          60,
          26,
          44,
          39,
          29,
          36,
          26,
          30,
          30,
          57,
          37,
          57,
          25,
          34,
          32,
          56,
          31,
          33,
          60,
          31,
          44,
          54,
          30,
          62,
          39,
          38,
          33,
          50,
          39,
          39,
          25,
          60,
          34,
          57,
          44,
          65,
          59,
          49,
          38,
          35,
          41,
          null,
          39,
          39,
          56,
          42,
          null,
          44,
          54,
          57,
          52
         ],
         "xaxis": "x",
         "y": [
          59,
          103,
          74,
          null,
          114,
          80,
          83,
          114,
          77,
          92,
          91,
          116,
          102,
          80,
          92,
          108,
          94,
          72,
          99,
          75,
          89,
          null,
          82,
          108,
          59,
          65,
          59,
          80,
          77,
          63,
          117,
          null,
          62,
          51,
          99,
          96,
          95,
          52,
          115,
          null,
          67,
          72,
          80,
          54,
          104,
          52,
          88,
          58,
          null,
          103,
          null,
          81,
          101,
          82,
          109,
          96,
          67,
          62,
          78,
          117,
          112,
          72,
          95,
          null,
          100,
          55,
          104,
          65,
          61,
          89,
          null,
          59,
          106,
          null,
          58,
          107,
          null,
          null,
          116,
          71,
          69,
          63,
          59,
          106,
          69,
          93,
          71,
          103,
          89,
          54,
          114,
          111,
          52,
          94,
          59,
          60,
          null,
          100,
          90,
          null,
          79,
          null,
          105,
          93,
          110,
          74,
          101,
          55,
          65,
          null,
          66,
          78,
          84,
          52,
          116,
          95,
          87,
          109,
          null,
          55,
          67,
          103,
          93,
          109,
          89,
          115,
          62,
          84,
          null,
          61,
          52,
          null,
          52,
          79,
          107,
          68,
          55,
          96,
          null,
          66,
          72,
          55,
          102,
          82,
          null,
          null,
          107,
          65,
          106,
          82,
          90,
          93,
          87,
          111,
          107,
          58,
          112,
          50,
          null,
          83,
          null,
          null,
          74,
          103,
          91,
          57,
          84,
          null,
          73,
          98,
          73,
          95,
          86,
          null,
          57,
          84,
          72,
          115,
          59,
          112,
          67,
          83,
          93,
          92,
          104,
          83,
          53,
          78,
          81,
          95,
          null,
          79,
          null,
          70,
          108,
          75,
          57,
          117,
          65,
          73,
          97,
          63,
          101,
          null,
          112,
          92,
          107,
          110,
          112,
          52,
          52,
          73,
          105,
          117,
          86,
          74,
          79,
          96,
          67,
          69,
          null,
          75,
          59,
          109,
          67,
          52,
          null,
          102,
          105,
          107,
          84,
          94,
          63,
          72,
          null,
          91,
          100,
          67,
          55,
          52,
          106,
          101,
          110,
          55,
          72,
          76,
          98,
          112,
          79,
          85,
          99,
          84,
          102,
          56,
          78,
          97,
          78,
          111,
          64,
          90,
          114,
          50,
          94,
          81,
          64,
          75,
          106,
          63,
          63,
          67,
          85,
          101,
          89,
          92,
          119,
          118,
          94,
          74,
          105,
          97,
          65,
          51,
          72,
          78,
          112,
          106,
          76,
          98,
          107,
          80,
          76,
          50,
          74,
          88,
          52,
          118,
          105,
          null,
          96,
          53,
          92,
          56,
          97,
          91,
          66,
          103,
          null,
          114,
          70,
          118,
          103,
          115,
          113,
          61,
          55,
          113,
          50,
          null,
          100,
          103,
          62,
          50,
          110,
          105,
          99,
          61,
          105,
          75,
          102,
          null,
          null,
          107,
          98,
          116,
          89,
          90,
          76,
          62,
          null,
          95,
          98,
          89,
          71,
          110,
          59,
          51,
          64,
          61,
          86,
          103,
          56,
          80,
          112,
          71,
          100,
          114,
          75,
          116,
          64,
          73,
          76,
          119,
          84,
          80,
          93,
          60,
          86,
          102,
          87,
          63,
          63,
          90,
          100,
          109,
          55,
          null,
          59,
          79,
          96,
          69,
          104,
          74,
          96,
          114,
          120,
          76,
          82,
          64,
          77,
          77,
          120,
          74,
          94,
          64,
          105,
          77,
          86,
          55,
          90,
          85,
          69,
          94,
          79,
          115,
          63,
          79,
          null,
          116,
          53,
          65,
          108,
          104,
          120,
          73,
          94,
          111,
          107,
          93,
          119,
          60,
          81,
          95,
          118,
          54,
          118,
          66,
          95,
          101,
          97,
          54,
          90,
          76,
          90,
          101,
          51,
          88,
          81,
          64,
          82,
          80,
          50,
          98,
          52,
          56,
          53,
          51,
          101,
          52,
          70,
          57,
          91,
          115,
          92,
          91,
          119,
          75,
          94,
          117,
          84,
          73,
          64,
          102,
          102,
          null,
          65,
          109,
          77,
          91,
          63,
          null,
          77,
          null,
          null,
          null,
          99,
          81,
          83,
          83,
          108,
          62,
          68,
          119,
          63,
          77,
          109,
          81,
          57,
          94,
          75,
          50,
          93,
          null,
          65,
          116,
          115,
          99,
          62,
          79,
          119,
          80,
          115,
          78,
          null,
          113,
          78,
          null,
          106,
          79,
          62,
          72,
          53,
          95,
          115,
          117,
          60,
          54,
          null,
          71,
          107,
          50,
          78,
          68,
          77,
          110,
          64,
          53,
          75,
          79,
          null,
          119,
          null,
          110,
          112,
          91,
          116,
          116,
          null,
          55,
          82,
          null,
          113,
          56,
          97,
          null,
          87,
          79,
          58,
          83,
          101,
          55,
          69,
          89,
          67,
          80,
          96,
          102,
          74,
          83,
          91,
          82,
          null,
          61,
          79,
          67,
          95,
          105,
          null,
          88,
          76,
          120,
          114,
          72,
          84,
          97,
          117,
          60,
          60,
          106,
          113,
          77,
          74,
          null,
          94,
          106,
          82,
          null,
          78,
          91,
          51,
          73,
          88,
          93,
          77,
          52,
          110,
          80,
          71,
          109,
          67,
          75,
          55,
          120,
          107,
          53,
          74,
          106,
          85,
          86,
          108,
          null,
          66,
          92,
          95,
          103,
          53,
          112,
          108,
          89,
          79,
          84,
          62,
          79,
          null,
          76,
          61,
          65,
          89,
          96,
          109,
          98,
          null,
          115,
          93,
          119,
          119,
          54,
          null,
          null,
          106,
          null,
          73,
          91,
          63,
          110,
          106,
          77,
          80,
          null,
          68,
          101,
          89,
          96,
          107,
          75,
          86,
          null,
          101,
          100,
          90,
          114,
          52,
          109,
          59,
          96,
          75,
          113,
          69,
          85,
          51,
          108,
          95,
          61,
          109,
          68,
          106,
          104,
          104,
          76,
          113,
          null,
          75,
          null,
          55,
          76,
          89,
          60,
          98,
          109,
          103,
          93,
          null,
          103,
          107,
          81,
          100,
          79,
          51,
          68,
          114,
          65,
          116,
          59,
          76,
          110,
          65,
          110,
          103,
          114,
          78,
          73,
          81,
          null,
          86,
          64,
          null,
          80,
          71,
          120,
          54,
          73,
          70,
          100,
          null,
          117,
          67,
          63,
          100,
          102,
          113,
          119,
          52,
          null,
          null,
          120,
          66,
          53,
          112,
          null,
          75,
          58,
          56,
          null,
          86,
          66,
          91,
          105,
          84,
          55,
          80,
          105,
          113,
          52,
          69,
          67,
          69,
          97,
          59,
          null,
          null,
          56,
          66,
          55,
          58,
          101,
          113,
          115,
          104,
          120,
          111,
          null,
          101,
          87,
          71,
          57,
          85,
          99,
          61,
          97,
          68,
          90,
          50,
          91,
          77,
          null,
          64,
          91,
          61,
          81,
          104,
          71,
          91,
          96,
          81,
          109,
          111,
          116,
          88,
          71,
          90,
          78,
          114,
          119,
          87,
          69,
          72,
          53,
          81,
          103,
          92,
          95,
          70,
          91,
          null,
          70,
          null,
          null,
          null,
          62,
          117,
          null,
          59,
          76,
          62,
          75,
          103,
          108,
          null,
          56,
          82,
          100,
          106,
          68,
          61,
          91,
          119,
          114,
          97,
          65,
          117,
          99,
          83,
          65,
          114,
          108,
          91,
          108,
          63,
          77,
          63,
          60,
          56,
          100,
          75,
          83,
          59,
          89,
          56,
          null,
          80,
          61,
          64,
          105,
          111,
          83,
          null,
          64,
          78,
          null,
          115,
          null,
          97,
          56,
          64,
          119,
          62,
          89,
          109,
          80,
          88,
          106,
          79,
          54,
          109,
          100,
          null,
          68,
          52,
          69,
          86,
          71,
          103,
          72,
          72,
          57,
          95,
          89,
          69,
          51,
          55,
          74,
          88,
          71,
          57,
          90,
          88,
          75,
          53,
          51,
          91,
          68,
          68,
          117,
          64,
          96,
          64,
          69,
          null,
          104,
          99,
          64,
          56,
          113,
          107,
          116,
          65,
          81,
          66,
          58,
          55,
          102,
          104,
          70,
          113,
          100,
          74,
          59,
          92,
          95,
          108,
          109,
          null,
          101,
          null,
          null,
          59,
          null,
          110,
          74,
          107,
          59,
          66,
          102,
          52,
          89,
          null,
          106,
          80,
          76,
          89,
          85,
          null,
          56,
          91,
          62,
          67,
          69,
          117,
          85,
          51,
          52,
          70,
          119,
          105,
          81,
          101,
          105,
          95,
          104,
          109,
          73,
          90,
          82,
          93,
          null,
          null,
          71,
          73,
          97,
          66,
          88,
          100,
          50,
          98,
          64,
          84,
          55,
          83,
          54,
          87,
          92
         ],
         "yaxis": "y"
        }
       ],
       "layout": {
        "legend": {
         "tracegroupgap": 0
        },
        "template": {
         "data": {
          "bar": [
           {
            "error_x": {
             "color": "#2a3f5f"
            },
            "error_y": {
             "color": "#2a3f5f"
            },
            "marker": {
             "line": {
              "color": "#E5ECF6",
              "width": 0.5
             },
             "pattern": {
              "fillmode": "overlay",
              "size": 10,
              "solidity": 0.2
             }
            },
            "type": "bar"
           }
          ],
          "barpolar": [
           {
            "marker": {
             "line": {
              "color": "#E5ECF6",
              "width": 0.5
             },
             "pattern": {
              "fillmode": "overlay",
              "size": 10,
              "solidity": 0.2
             }
            },
            "type": "barpolar"
           }
          ],
          "carpet": [
           {
            "aaxis": {
             "endlinecolor": "#2a3f5f",
             "gridcolor": "white",
             "linecolor": "white",
             "minorgridcolor": "white",
             "startlinecolor": "#2a3f5f"
            },
            "baxis": {
             "endlinecolor": "#2a3f5f",
             "gridcolor": "white",
             "linecolor": "white",
             "minorgridcolor": "white",
             "startlinecolor": "#2a3f5f"
            },
            "type": "carpet"
           }
          ],
          "choropleth": [
           {
            "colorbar": {
             "outlinewidth": 0,
             "ticks": ""
            },
            "type": "choropleth"
           }
          ],
          "contour": [
           {
            "colorbar": {
             "outlinewidth": 0,
             "ticks": ""
            },
            "colorscale": [
             [
              0,
              "#0d0887"
             ],
             [
              0.1111111111111111,
              "#46039f"
             ],
             [
              0.2222222222222222,
              "#7201a8"
             ],
             [
              0.3333333333333333,
              "#9c179e"
             ],
             [
              0.4444444444444444,
              "#bd3786"
             ],
             [
              0.5555555555555556,
              "#d8576b"
             ],
             [
              0.6666666666666666,
              "#ed7953"
             ],
             [
              0.7777777777777778,
              "#fb9f3a"
             ],
             [
              0.8888888888888888,
              "#fdca26"
             ],
             [
              1,
              "#f0f921"
             ]
            ],
            "type": "contour"
           }
          ],
          "contourcarpet": [
           {
            "colorbar": {
             "outlinewidth": 0,
             "ticks": ""
            },
            "type": "contourcarpet"
           }
          ],
          "heatmap": [
           {
            "colorbar": {
             "outlinewidth": 0,
             "ticks": ""
            },
            "colorscale": [
             [
              0,
              "#0d0887"
             ],
             [
              0.1111111111111111,
              "#46039f"
             ],
             [
              0.2222222222222222,
              "#7201a8"
             ],
             [
              0.3333333333333333,
              "#9c179e"
             ],
             [
              0.4444444444444444,
              "#bd3786"
             ],
             [
              0.5555555555555556,
              "#d8576b"
             ],
             [
              0.6666666666666666,
              "#ed7953"
             ],
             [
              0.7777777777777778,
              "#fb9f3a"
             ],
             [
              0.8888888888888888,
              "#fdca26"
             ],
             [
              1,
              "#f0f921"
             ]
            ],
            "type": "heatmap"
           }
          ],
          "heatmapgl": [
           {
            "colorbar": {
             "outlinewidth": 0,
             "ticks": ""
            },
            "colorscale": [
             [
              0,
              "#0d0887"
             ],
             [
              0.1111111111111111,
              "#46039f"
             ],
             [
              0.2222222222222222,
              "#7201a8"
             ],
             [
              0.3333333333333333,
              "#9c179e"
             ],
             [
              0.4444444444444444,
              "#bd3786"
             ],
             [
              0.5555555555555556,
              "#d8576b"
             ],
             [
              0.6666666666666666,
              "#ed7953"
             ],
             [
              0.7777777777777778,
              "#fb9f3a"
             ],
             [
              0.8888888888888888,
              "#fdca26"
             ],
             [
              1,
              "#f0f921"
             ]
            ],
            "type": "heatmapgl"
           }
          ],
          "histogram": [
           {
            "marker": {
             "pattern": {
              "fillmode": "overlay",
              "size": 10,
              "solidity": 0.2
             }
            },
            "type": "histogram"
           }
          ],
          "histogram2d": [
           {
            "colorbar": {
             "outlinewidth": 0,
             "ticks": ""
            },
            "colorscale": [
             [
              0,
              "#0d0887"
             ],
             [
              0.1111111111111111,
              "#46039f"
             ],
             [
              0.2222222222222222,
              "#7201a8"
             ],
             [
              0.3333333333333333,
              "#9c179e"
             ],
             [
              0.4444444444444444,
              "#bd3786"
             ],
             [
              0.5555555555555556,
              "#d8576b"
             ],
             [
              0.6666666666666666,
              "#ed7953"
             ],
             [
              0.7777777777777778,
              "#fb9f3a"
             ],
             [
              0.8888888888888888,
              "#fdca26"
             ],
             [
              1,
              "#f0f921"
             ]
            ],
            "type": "histogram2d"
           }
          ],
          "histogram2dcontour": [
           {
            "colorbar": {
             "outlinewidth": 0,
             "ticks": ""
            },
            "colorscale": [
             [
              0,
              "#0d0887"
             ],
             [
              0.1111111111111111,
              "#46039f"
             ],
             [
              0.2222222222222222,
              "#7201a8"
             ],
             [
              0.3333333333333333,
              "#9c179e"
             ],
             [
              0.4444444444444444,
              "#bd3786"
             ],
             [
              0.5555555555555556,
              "#d8576b"
             ],
             [
              0.6666666666666666,
              "#ed7953"
             ],
             [
              0.7777777777777778,
              "#fb9f3a"
             ],
             [
              0.8888888888888888,
              "#fdca26"
             ],
             [
              1,
              "#f0f921"
             ]
            ],
            "type": "histogram2dcontour"
           }
          ],
          "mesh3d": [
           {
            "colorbar": {
             "outlinewidth": 0,
             "ticks": ""
            },
            "type": "mesh3d"
           }
          ],
          "parcoords": [
           {
            "line": {
             "colorbar": {
              "outlinewidth": 0,
              "ticks": ""
             }
            },
            "type": "parcoords"
           }
          ],
          "pie": [
           {
            "automargin": true,
            "type": "pie"
           }
          ],
          "scatter": [
           {
            "fillpattern": {
             "fillmode": "overlay",
             "size": 10,
             "solidity": 0.2
            },
            "type": "scatter"
           }
          ],
          "scatter3d": [
           {
            "line": {
             "colorbar": {
              "outlinewidth": 0,
              "ticks": ""
             }
            },
            "marker": {
             "colorbar": {
              "outlinewidth": 0,
              "ticks": ""
             }
            },
            "type": "scatter3d"
           }
          ],
          "scattercarpet": [
           {
            "marker": {
             "colorbar": {
              "outlinewidth": 0,
              "ticks": ""
             }
            },
            "type": "scattercarpet"
           }
          ],
          "scattergeo": [
           {
            "marker": {
             "colorbar": {
              "outlinewidth": 0,
              "ticks": ""
             }
            },
            "type": "scattergeo"
           }
          ],
          "scattergl": [
           {
            "marker": {
             "colorbar": {
              "outlinewidth": 0,
              "ticks": ""
             }
            },
            "type": "scattergl"
           }
          ],
          "scattermapbox": [
           {
            "marker": {
             "colorbar": {
              "outlinewidth": 0,
              "ticks": ""
             }
            },
            "type": "scattermapbox"
           }
          ],
          "scatterpolar": [
           {
            "marker": {
             "colorbar": {
              "outlinewidth": 0,
              "ticks": ""
             }
            },
            "type": "scatterpolar"
           }
          ],
          "scatterpolargl": [
           {
            "marker": {
             "colorbar": {
              "outlinewidth": 0,
              "ticks": ""
             }
            },
            "type": "scatterpolargl"
           }
          ],
          "scatterternary": [
           {
            "marker": {
             "colorbar": {
              "outlinewidth": 0,
              "ticks": ""
             }
            },
            "type": "scatterternary"
           }
          ],
          "surface": [
           {
            "colorbar": {
             "outlinewidth": 0,
             "ticks": ""
            },
            "colorscale": [
             [
              0,
              "#0d0887"
             ],
             [
              0.1111111111111111,
              "#46039f"
             ],
             [
              0.2222222222222222,
              "#7201a8"
             ],
             [
              0.3333333333333333,
              "#9c179e"
             ],
             [
              0.4444444444444444,
              "#bd3786"
             ],
             [
              0.5555555555555556,
              "#d8576b"
             ],
             [
              0.6666666666666666,
              "#ed7953"
             ],
             [
              0.7777777777777778,
              "#fb9f3a"
             ],
             [
              0.8888888888888888,
              "#fdca26"
             ],
             [
              1,
              "#f0f921"
             ]
            ],
            "type": "surface"
           }
          ],
          "table": [
           {
            "cells": {
             "fill": {
              "color": "#EBF0F8"
             },
             "line": {
              "color": "white"
             }
            },
            "header": {
             "fill": {
              "color": "#C8D4E3"
             },
             "line": {
              "color": "white"
             }
            },
            "type": "table"
           }
          ]
         },
         "layout": {
          "annotationdefaults": {
           "arrowcolor": "#2a3f5f",
           "arrowhead": 0,
           "arrowwidth": 1
          },
          "autotypenumbers": "strict",
          "coloraxis": {
           "colorbar": {
            "outlinewidth": 0,
            "ticks": ""
           }
          },
          "colorscale": {
           "diverging": [
            [
             0,
             "#8e0152"
            ],
            [
             0.1,
             "#c51b7d"
            ],
            [
             0.2,
             "#de77ae"
            ],
            [
             0.3,
             "#f1b6da"
            ],
            [
             0.4,
             "#fde0ef"
            ],
            [
             0.5,
             "#f7f7f7"
            ],
            [
             0.6,
             "#e6f5d0"
            ],
            [
             0.7,
             "#b8e186"
            ],
            [
             0.8,
             "#7fbc41"
            ],
            [
             0.9,
             "#4d9221"
            ],
            [
             1,
             "#276419"
            ]
           ],
           "sequential": [
            [
             0,
             "#0d0887"
            ],
            [
             0.1111111111111111,
             "#46039f"
            ],
            [
             0.2222222222222222,
             "#7201a8"
            ],
            [
             0.3333333333333333,
             "#9c179e"
            ],
            [
             0.4444444444444444,
             "#bd3786"
            ],
            [
             0.5555555555555556,
             "#d8576b"
            ],
            [
             0.6666666666666666,
             "#ed7953"
            ],
            [
             0.7777777777777778,
             "#fb9f3a"
            ],
            [
             0.8888888888888888,
             "#fdca26"
            ],
            [
             1,
             "#f0f921"
            ]
           ],
           "sequentialminus": [
            [
             0,
             "#0d0887"
            ],
            [
             0.1111111111111111,
             "#46039f"
            ],
            [
             0.2222222222222222,
             "#7201a8"
            ],
            [
             0.3333333333333333,
             "#9c179e"
            ],
            [
             0.4444444444444444,
             "#bd3786"
            ],
            [
             0.5555555555555556,
             "#d8576b"
            ],
            [
             0.6666666666666666,
             "#ed7953"
            ],
            [
             0.7777777777777778,
             "#fb9f3a"
            ],
            [
             0.8888888888888888,
             "#fdca26"
            ],
            [
             1,
             "#f0f921"
            ]
           ]
          },
          "colorway": [
           "#636efa",
           "#EF553B",
           "#00cc96",
           "#ab63fa",
           "#FFA15A",
           "#19d3f3",
           "#FF6692",
           "#B6E880",
           "#FF97FF",
           "#FECB52"
          ],
          "font": {
           "color": "#2a3f5f"
          },
          "geo": {
           "bgcolor": "white",
           "lakecolor": "white",
           "landcolor": "#E5ECF6",
           "showlakes": true,
           "showland": true,
           "subunitcolor": "white"
          },
          "hoverlabel": {
           "align": "left"
          },
          "hovermode": "closest",
          "mapbox": {
           "style": "light"
          },
          "paper_bgcolor": "white",
          "plot_bgcolor": "#E5ECF6",
          "polar": {
           "angularaxis": {
            "gridcolor": "white",
            "linecolor": "white",
            "ticks": ""
           },
           "bgcolor": "#E5ECF6",
           "radialaxis": {
            "gridcolor": "white",
            "linecolor": "white",
            "ticks": ""
           }
          },
          "scene": {
           "xaxis": {
            "backgroundcolor": "#E5ECF6",
            "gridcolor": "white",
            "gridwidth": 2,
            "linecolor": "white",
            "showbackground": true,
            "ticks": "",
            "zerolinecolor": "white"
           },
           "yaxis": {
            "backgroundcolor": "#E5ECF6",
            "gridcolor": "white",
            "gridwidth": 2,
            "linecolor": "white",
            "showbackground": true,
            "ticks": "",
            "zerolinecolor": "white"
           },
           "zaxis": {
            "backgroundcolor": "#E5ECF6",
            "gridcolor": "white",
            "gridwidth": 2,
            "linecolor": "white",
            "showbackground": true,
            "ticks": "",
            "zerolinecolor": "white"
           }
          },
          "shapedefaults": {
           "line": {
            "color": "#2a3f5f"
           }
          },
          "ternary": {
           "aaxis": {
            "gridcolor": "white",
            "linecolor": "white",
            "ticks": ""
           },
           "baxis": {
            "gridcolor": "white",
            "linecolor": "white",
            "ticks": ""
           },
           "bgcolor": "#E5ECF6",
           "caxis": {
            "gridcolor": "white",
            "linecolor": "white",
            "ticks": ""
           }
          },
          "title": {
           "x": 0.05
          },
          "xaxis": {
           "automargin": true,
           "gridcolor": "white",
           "linecolor": "white",
           "ticks": "",
           "title": {
            "standoff": 15
           },
           "zerolinecolor": "white",
           "zerolinewidth": 2
          },
          "yaxis": {
           "automargin": true,
           "gridcolor": "white",
           "linecolor": "white",
           "ticks": "",
           "title": {
            "standoff": 15
           },
           "zerolinecolor": "white",
           "zerolinewidth": 2
          }
         }
        },
        "title": {
         "text": "Relatie tussen Leeftijd en Gewicht"
        },
        "xaxis": {
         "anchor": "y",
         "domain": [
          0,
          1
         ],
         "title": {
          "text": "Leeftijd"
         }
        },
        "yaxis": {
         "anchor": "x",
         "domain": [
          0,
          1
         ],
         "title": {
          "text": "Gewicht"
         }
        }
       }
      }
     },
     "metadata": {},
     "output_type": "display_data"
    }
   ],
   "source": [
    "fig3 = px.scatter(df_cardio, x='leeftijd', y='gewicht', title='Relatie tussen Leeftijd en Gewicht')\n",
    "fig3.update_layout(xaxis_title='Leeftijd', yaxis_title='Gewicht')\n",
    "fig3.show()"
   ]
  },
  {
   "cell_type": "markdown",
   "metadata": {},
   "source": [
    "\n",
    "Scatterplot tussen \"Inkomen\" en \"lengte\""
   ]
  },
  {
   "cell_type": "code",
   "execution_count": 33,
   "metadata": {},
   "outputs": [
    {
     "data": {
      "application/vnd.plotly.v1+json": {
       "config": {
        "plotlyServerURL": "https://plot.ly"
       },
       "data": [
        {
         "hovertemplate": "Inkomen=%{x}<br>lengte=%{y}<extra></extra>",
         "legendgroup": "",
         "marker": {
          "color": "#636efa",
          "symbol": "circle"
         },
         "mode": "markers",
         "name": "",
         "orientation": "v",
         "showlegend": false,
         "type": "scatter",
         "x": [
          25611.33,
          33380.74,
          20357.81,
          58821.77,
          54148.57,
          21343.69,
          61104.9,
          34298.93,
          27366.57,
          39701.78,
          45527.18,
          64549.84,
          69122.75,
          47907.24,
          38206.63,
          43772.52,
          33014.62,
          49241.09,
          22745.43,
          45512.25,
          56980.7,
          40496.32,
          66163.47,
          43665.65,
          29478.1,
          25944.01,
          45428.88,
          null,
          64184.06,
          47175.64,
          32287.88,
          61067.14,
          67974.1,
          43055.07,
          46652.49,
          null,
          59809.64,
          43655.19,
          49856.88,
          53194.67,
          41476.03,
          null,
          54479.2,
          67733.28,
          30957.91,
          30935.35,
          49629.6,
          39087.03,
          31086.24,
          25161.89,
          null,
          62665.12,
          57988.55,
          31241.85,
          41257.19,
          25147.72,
          55868.98,
          47319.94,
          null,
          41319.69,
          62324.84,
          null,
          41605.37,
          60230.92,
          54039.98,
          68791.39,
          63102.9,
          45893.02,
          63058.69,
          36379.43,
          61327.61,
          62273.73,
          21228.77,
          43909.11,
          49751.38,
          48364.28,
          60646.56,
          64196.49,
          24332.93,
          66524.65,
          61392.35,
          49494.29,
          null,
          68888.41,
          57269.53,
          30727.01,
          41409.21,
          21289.45,
          68907.53,
          67258.98,
          50861.02,
          64209.08,
          43861.11,
          67408.21,
          null,
          52091.87,
          44307.8,
          37106.03,
          65145.19,
          null,
          46977.32,
          null,
          32840.44,
          59543.21,
          61109.68,
          36435.35,
          30707.33,
          53306.27,
          35990.37,
          56635.03,
          58726.07,
          23998.4,
          64100.6,
          47378.24,
          58150.07,
          59542.28,
          22845.04,
          null,
          55237.52,
          41260.29,
          48495.16,
          47852.65,
          52590.73,
          53910.96,
          40588.35,
          57378.83,
          28500.41,
          29096.5,
          33915.45,
          61776.58,
          23709.5,
          25275.08,
          62527.4,
          41516.17,
          30224.43,
          50492.82,
          40778.76,
          50231.21,
          26313.38,
          36600.99,
          48245.74,
          21305.89,
          68867.38,
          53303.85,
          43557.69,
          64298.7,
          45595.25,
          46676.69,
          34780.31,
          41489.87,
          null,
          60488.08,
          23093.31,
          64433.9,
          25535.16,
          22176.24,
          48564.45,
          29980.86,
          29072.56,
          null,
          57234.89,
          54168.56,
          68559.91,
          50165.76,
          49362.44,
          40431.27,
          33256.75,
          null,
          39440.88,
          null,
          23398.35,
          45100.85,
          36683.93,
          55218.08,
          31685.23,
          30517.17,
          21036.4,
          26816.5,
          54413.11,
          33159.05,
          33749,
          42981.86,
          null,
          44479.63,
          49694.88,
          27882.64,
          40837.33,
          24971.93,
          null,
          36252.56,
          20302.4,
          42154.36,
          24620.03,
          65528.39,
          60824.13,
          56335.08,
          66086.18,
          51546.4,
          25741.54,
          28531.66,
          38837.17,
          40180,
          68598.53,
          38386.2,
          59068.4,
          65261.6,
          54510.09,
          null,
          23982.2,
          47622.72,
          38181.77,
          37513.55,
          65357.91,
          53747.98,
          46118.37,
          41550.62,
          56414.51,
          22364.89,
          null,
          null,
          55373.47,
          36880.83,
          38273.38,
          38335.35,
          36891.91,
          29581.71,
          58208.41,
          null,
          27042.62,
          35229.8,
          51785,
          46942.65,
          28678.82,
          null,
          57820.22,
          63912.9,
          33132.27,
          69770.33,
          26014.2,
          54001.11,
          null,
          61929.12,
          66136.14,
          49963.87,
          49434.16,
          35290.96,
          44421.92,
          62384.96,
          54117.08,
          48804.19,
          61957.35,
          54203.33,
          50597.56,
          20301.09,
          30093.09,
          44816.39,
          67466.04,
          45925.76,
          38835.76,
          41570.09,
          28409.57,
          64996.92,
          53172.2,
          67757.18,
          69484.14,
          54106.69,
          69314.06,
          37286.98,
          20288.18,
          69659.14,
          24681.95,
          31289.61,
          57101.11,
          null,
          47192.63,
          39053.87,
          null,
          43518.24,
          60798.98,
          53200.45,
          49422.96,
          20015.81,
          20210.79,
          34139.02,
          23873.07,
          60127.54,
          46368.64,
          30753.73,
          63827.14,
          54298.89,
          46509.67,
          57063.15,
          64406.18,
          48237.71,
          59470.77,
          30001.45,
          54005.75,
          64256.86,
          25983.28,
          25195.54,
          42685.03,
          null,
          63826.34,
          26592.9,
          29956.41,
          52774.4,
          48260.66,
          30096.97,
          52997.89,
          35818.69,
          24448.08,
          null,
          56905.49,
          45206.07,
          52704.78,
          54989.79,
          64106.63,
          45071.92,
          52434.26,
          64911.62,
          21365.73,
          54581.33,
          61028.57,
          67681.9,
          51213.86,
          35445.11,
          46578.07,
          30457.35,
          62251.49,
          64760.93,
          36668.56,
          42585.76,
          40169.97,
          57530.05,
          36887.88,
          40628.06,
          null,
          52746.38,
          52324.29,
          32646.5,
          null,
          null,
          33801.29,
          40630.63,
          60717.71,
          59097.22,
          44165.61,
          37246.25,
          20833.15,
          null,
          50899.49,
          64323.38,
          48917.99,
          39016.95,
          null,
          null,
          59703.21,
          20165.45,
          23025.07,
          32528.88,
          32482.5,
          null,
          null,
          31853.27,
          49430.97,
          40419.75,
          62015.39,
          27714.77,
          65815.96,
          47760.42,
          63552.5,
          53044.33,
          null,
          50790.16,
          null,
          26489.56,
          30361.35,
          36970.67,
          null,
          20958.48,
          null,
          40823.86,
          21166.52,
          39540.38,
          64057.83,
          64953.86,
          69824.69,
          23188.49,
          20456.86,
          68754.87,
          33162.31,
          68882.11,
          27892.48,
          39858.77,
          28989.06,
          53257.98,
          58659.63,
          32820.91,
          41759.15,
          30302.71,
          null,
          60108.15,
          31319.39,
          34147.83,
          40571.96,
          50600.22,
          21147.94,
          26262.98,
          20532.8,
          48227.22,
          44361.97,
          67132.93,
          28024.74,
          null,
          20097.87,
          65016.65,
          null,
          36144.63,
          67616.41,
          67569.89,
          37871.18,
          66346.82,
          49262.76,
          69130.2,
          57284.69,
          35952.15,
          53786.66,
          48118.63,
          54860.51,
          64448.25,
          47801.64,
          39939.21,
          64233.68,
          59788.19,
          39120.67,
          43981.93,
          68293.36,
          25659.73,
          36751.34,
          null,
          54108.04,
          53707.11,
          null,
          69532.7,
          20472.08,
          null,
          30432.1,
          38811.38,
          30100.84,
          45577.05,
          24884.17,
          26575.56,
          31606.98,
          null,
          57452.34,
          59310.08,
          null,
          35812.44,
          69695.07,
          null,
          28302.64,
          36513.61,
          49972.11,
          39455.47,
          53838.91,
          34329.79,
          35108.53,
          62874.98,
          null,
          41310.85,
          24448.69,
          69846.43,
          63362.89,
          28492.87,
          49509.85,
          52276.5,
          null,
          41477.84,
          66838.62,
          57214.19,
          64328.26,
          29214.98,
          23920.06,
          55498.5,
          30689.01,
          26466.7,
          35505.76,
          44934.32,
          68890.78,
          54370.31,
          31672.48,
          44958.92,
          null,
          53908.68,
          67156.8,
          null,
          36631.69,
          37809.35,
          33085.8,
          65348.35,
          56908.31,
          26458.38,
          59798.44,
          66470.09,
          31108.6,
          57127.98,
          45568.31,
          56454.39,
          68701.87,
          20148.17,
          28251.13,
          20351.33,
          null,
          46524.63,
          55934.06,
          null,
          52884.73,
          66136.09,
          37335,
          null,
          64374.27,
          47640.59,
          42378.05,
          51484.45,
          48154.18,
          47416.6,
          61937.27,
          46626.21,
          null,
          36597.61,
          23974.26,
          37757.6,
          55478.3,
          59443.51,
          49387.21,
          42253.76,
          67345.43,
          60517.9,
          21992.37,
          56786.71,
          63170.82,
          26564.8,
          68484.04,
          59090.9,
          25126.02,
          61243.78,
          37727.64,
          56767.27,
          41463.28,
          41110.24,
          55672.45,
          null,
          64903.04,
          20634.47,
          44218.91,
          64959.97,
          37477.68,
          54054.76,
          50690.52,
          60626.42,
          63568.64,
          41942.85,
          26824.19,
          69308.55,
          43500.53,
          69213.69,
          42289.86,
          22436.12,
          42252.41,
          42988.9,
          38742.11,
          63188.82,
          36588.4,
          42016.5,
          63930.9,
          62265.7,
          57284.22,
          21537.1,
          22850.41,
          68810.94,
          30353.61,
          66903.94,
          50739.8,
          20083.89,
          46384.21,
          31579.27,
          62041.93,
          23929.28,
          40487.84,
          20582.87,
          21514.55,
          25186.68,
          null,
          33151.44,
          null,
          64161.92,
          44909.47,
          35949.19,
          32721.38,
          61962.56,
          null,
          29680.33,
          63965.99,
          62381.83,
          null,
          63705.78,
          55916.67,
          50325.75,
          31352,
          64843.22,
          26072.9,
          47513.21,
          39704.51,
          24484.57,
          null,
          49497.16,
          38179.03,
          40996.59,
          58879.29,
          58409.4,
          30631.47,
          41616.42,
          51954.61,
          47756.37,
          44184.15,
          null,
          59029.54,
          38836.49,
          32750.04,
          null,
          62998.36,
          26083.99,
          24502.17,
          68992.12,
          22316.89,
          61193.88,
          48860.71,
          34319.5,
          21772.46,
          34424.57,
          null,
          61684.1,
          53086.69,
          65992.68,
          26879.55,
          32591.17,
          31696,
          56414.86,
          50698.21,
          null,
          33171.43,
          63827.78,
          49736.2,
          null,
          29365.06,
          37257.95,
          37308.73,
          44647.43,
          58310.25,
          54358.38,
          49738.35,
          68145.07,
          null,
          34340.37,
          39249.05,
          24535.28,
          null,
          null,
          27119.15,
          61435.34,
          49336.41,
          30171.08,
          57488,
          54659.64,
          48088.06,
          34562.23,
          null,
          27056.31,
          29346.56,
          68747.56,
          66556.14,
          42219.09,
          42441.47,
          62132.47,
          67555.5,
          null,
          43460.78,
          62566.61,
          null,
          null,
          20534.3,
          34267.54,
          60804.53,
          47338.09,
          41470.25,
          66357.36,
          25184.65,
          41845.72,
          null,
          51489.38,
          20780.91,
          54682.4,
          67478.52,
          46982.06,
          null,
          42064.68,
          23913.14,
          30552.53,
          53854.82,
          30286.38,
          66429.85,
          67563.93,
          50979.06,
          50113.86,
          null,
          21164.37,
          50330.22,
          42809.89,
          null,
          69866.84,
          null,
          54629.02,
          38491.87,
          29056.9,
          69838.01,
          52289.41,
          40160.11,
          24565.44,
          41318.43,
          59403.6,
          49880.2,
          42524.22,
          50277.02,
          69355.8,
          24508.91,
          39211.41,
          67070.51,
          22824,
          69921.75,
          39601.09,
          54611.41,
          null,
          26549.09,
          47309.96,
          26497.59,
          53298.82,
          43019.58,
          54961.79,
          28492.45,
          21373.65,
          63526.06,
          59077.91,
          31981.67,
          45582.33,
          48232.08,
          58307.95,
          54273.35,
          55483.04,
          29907.39,
          30251.8,
          26426.18,
          null,
          32163.89,
          45229.66,
          35702.07,
          null,
          69572.38,
          69159.6,
          68077.5,
          51146.57,
          61500.68,
          62697.77,
          56040.51,
          36454.11,
          40746.12,
          25700.11,
          40282.06,
          24548.22,
          null,
          57608.97,
          50857.58,
          68921.5,
          27365.09,
          54420.29,
          36813.6,
          41337.17,
          31928.95,
          50150.72,
          66876.7,
          69962.44,
          null,
          null,
          null,
          35217.66,
          41431.38,
          49776.92,
          32578.61,
          35116.88,
          22999.39,
          40650.44,
          54649.47,
          26060.65,
          23037.37,
          32887.38,
          34737.73,
          69473.47,
          51689.65,
          59327.73,
          null,
          50588.12,
          33927.36,
          50670.28,
          53912.23,
          23619.45,
          21325.16,
          65585.7,
          27474.03,
          53094.09,
          60153.07,
          69984.83,
          35370.91,
          68107.01,
          67518.18,
          59858.54,
          47787.45,
          null,
          41539.77,
          52396.85,
          69112.14,
          44305.06,
          69572.7,
          45571.63,
          34705.16,
          20445.82,
          63321.28,
          60383.81,
          56659.24,
          22483.45,
          46073.04,
          44194.78,
          64888.97,
          61385.59,
          36215.4,
          31548.72,
          33987.7,
          23123.62,
          20592.2,
          45176.79,
          45904.85,
          62951.76,
          51874.3,
          23586.29,
          52914.51,
          60650.25,
          69831.93,
          68685.74,
          33323.31,
          50773.53,
          44019.84,
          38714.82,
          null,
          46655.25,
          43376.83,
          36940.26,
          44526.47,
          46503.72,
          56272.73,
          48605.3,
          24724.14,
          48575.04,
          31951.13,
          59965.43,
          64204.55,
          25159.69,
          56065.72,
          68731.55,
          60049.72,
          27998.13,
          67532.76,
          null,
          25086.18,
          57740.54,
          50647.64,
          49073.64,
          61672.22,
          41438.02,
          65249.86,
          22411.25,
          57811.85,
          68712.69,
          49557.82,
          56327.38,
          49648.05,
          61187.21,
          57137.65,
          33238.05,
          43501.23,
          28136.45,
          63602.23,
          56619.67,
          55924.72,
          66511.85,
          41726.63,
          45855.23,
          29177.72,
          44796.25,
          60299.98,
          43777.25,
          66871.19,
          58727.3,
          29453.6,
          64686.47,
          42665.79,
          62862.35,
          58688.59,
          47039.91,
          57975.93,
          31777.75,
          23470.9,
          25597.65,
          null,
          null,
          66740.89,
          68507.38,
          61320.3,
          28621.34,
          50224.51,
          null,
          32755.99,
          61057.52,
          27499.77,
          42433.6,
          65316.78,
          35229.69,
          40791.78,
          46260.99,
          66870.61,
          25078.39,
          40882.91,
          47910.79,
          66031.4,
          21557.21,
          40217.14,
          31306.08,
          25892.16,
          30957.93,
          null,
          null,
          null,
          43262.53,
          34386.52,
          37267.35,
          26024.43,
          31169.16,
          54391.61,
          60085.3,
          53368.15,
          42764.33,
          60030.41,
          43121.99,
          21568.87,
          42082.28,
          23102,
          39873.08,
          41706.24,
          63798.85,
          30035.24,
          34634.75,
          27981.39,
          null,
          43373.99,
          51072.8,
          25879.09,
          61056.4,
          null,
          34959.13,
          65642.08,
          52411.66,
          39449.44,
          30240.12,
          69983.7,
          46109.71,
          54773.27,
          28532.11,
          22114,
          68136.1,
          40646.59,
          55578.64,
          41806.91,
          32072.56,
          36620.85,
          null,
          25423.9,
          null,
          39186.57,
          40012.43,
          55259.62,
          44088.79,
          45189.95,
          38205.87
         ],
         "xaxis": "x",
         "y": [
          null,
          164,
          191,
          185,
          152,
          164,
          172,
          null,
          160,
          null,
          152,
          152,
          163,
          193,
          193,
          193,
          166,
          192,
          178,
          157,
          176,
          169,
          null,
          null,
          199,
          160,
          159,
          175,
          null,
          197,
          171,
          152,
          null,
          193,
          173,
          167,
          188,
          195,
          198,
          194,
          176,
          162,
          173,
          161,
          160,
          174,
          182,
          188,
          187,
          197,
          186,
          192,
          189,
          187,
          158,
          155,
          191,
          199,
          188,
          null,
          195,
          170,
          156,
          162,
          166,
          179,
          null,
          184,
          180,
          166,
          188,
          null,
          null,
          153,
          155,
          199,
          187,
          152,
          164,
          159,
          186,
          179,
          null,
          188,
          null,
          185,
          191,
          151,
          158,
          165,
          160,
          178,
          151,
          173,
          182,
          192,
          167,
          156,
          178,
          175,
          188,
          197,
          185,
          154,
          196,
          188,
          199,
          195,
          183,
          156,
          180,
          188,
          194,
          null,
          174,
          189,
          174,
          197,
          153,
          159,
          162,
          168,
          180,
          184,
          182,
          166,
          191,
          193,
          188,
          198,
          null,
          178,
          156,
          null,
          172,
          188,
          163,
          180,
          184,
          181,
          155,
          null,
          176,
          159,
          170,
          162,
          150,
          158,
          166,
          181,
          153,
          166,
          197,
          167,
          null,
          162,
          156,
          null,
          187,
          153,
          175,
          200,
          157,
          183,
          198,
          186,
          164,
          155,
          190,
          154,
          185,
          192,
          193,
          154,
          150,
          186,
          162,
          157,
          null,
          196,
          193,
          173,
          183,
          174,
          178,
          196,
          183,
          186,
          195,
          null,
          null,
          197,
          196,
          165,
          190,
          null,
          184,
          151,
          150,
          186,
          188,
          160,
          175,
          155,
          185,
          175,
          161,
          187,
          155,
          197,
          175,
          195,
          177,
          181,
          186,
          null,
          null,
          null,
          173,
          173,
          182,
          186,
          null,
          186,
          167,
          153,
          169,
          151,
          168,
          169,
          null,
          156,
          159,
          192,
          171,
          164,
          179,
          170,
          162,
          159,
          173,
          189,
          158,
          193,
          174,
          182,
          165,
          154,
          null,
          167,
          186,
          153,
          180,
          157,
          171,
          null,
          192,
          190,
          174,
          190,
          null,
          192,
          173,
          176,
          null,
          162,
          168,
          155,
          157,
          198,
          199,
          159,
          188,
          154,
          183,
          null,
          185,
          179,
          190,
          169,
          197,
          160,
          173,
          176,
          null,
          null,
          152,
          null,
          158,
          155,
          180,
          167,
          153,
          192,
          164,
          159,
          181,
          194,
          152,
          187,
          197,
          163,
          164,
          175,
          198,
          183,
          181,
          150,
          172,
          199,
          153,
          192,
          200,
          191,
          185,
          159,
          194,
          null,
          176,
          163,
          183,
          174,
          198,
          165,
          194,
          196,
          182,
          163,
          184,
          165,
          157,
          159,
          189,
          157,
          187,
          161,
          198,
          192,
          190,
          187,
          162,
          167,
          198,
          null,
          191,
          151,
          182,
          153,
          189,
          null,
          189,
          180,
          157,
          178,
          167,
          189,
          157,
          160,
          158,
          165,
          189,
          null,
          164,
          184,
          180,
          193,
          192,
          183,
          197,
          166,
          169,
          170,
          null,
          169,
          184,
          198,
          157,
          177,
          181,
          156,
          161,
          176,
          200,
          181,
          null,
          179,
          191,
          153,
          155,
          182,
          191,
          165,
          null,
          197,
          null,
          170,
          184,
          170,
          165,
          198,
          167,
          161,
          162,
          196,
          184,
          199,
          164,
          158,
          197,
          197,
          196,
          190,
          187,
          null,
          158,
          170,
          166,
          162,
          162,
          160,
          null,
          155,
          171,
          153,
          197,
          175,
          null,
          184,
          191,
          168,
          184,
          169,
          159,
          150,
          156,
          187,
          157,
          null,
          162,
          null,
          181,
          193,
          180,
          185,
          181,
          154,
          null,
          null,
          191,
          190,
          190,
          172,
          161,
          154,
          166,
          164,
          196,
          null,
          180,
          181,
          168,
          null,
          159,
          151,
          179,
          194,
          194,
          173,
          200,
          163,
          156,
          null,
          196,
          194,
          163,
          172,
          151,
          191,
          194,
          163,
          164,
          176,
          null,
          197,
          200,
          180,
          155,
          171,
          161,
          191,
          174,
          189,
          191,
          180,
          null,
          154,
          195,
          164,
          null,
          172,
          163,
          163,
          153,
          150,
          184,
          165,
          198,
          162,
          176,
          179,
          185,
          161,
          179,
          166,
          152,
          199,
          186,
          190,
          177,
          165,
          159,
          190,
          161,
          151,
          193,
          190,
          190,
          153,
          178,
          197,
          170,
          199,
          183,
          177,
          196,
          193,
          167,
          191,
          170,
          173,
          178,
          183,
          177,
          195,
          159,
          null,
          173,
          200,
          170,
          181,
          186,
          170,
          175,
          182,
          173,
          154,
          151,
          174,
          189,
          198,
          197,
          174,
          167,
          183,
          null,
          null,
          193,
          190,
          198,
          190,
          171,
          null,
          173,
          197,
          null,
          169,
          156,
          164,
          165,
          197,
          157,
          null,
          null,
          189,
          177,
          163,
          null,
          166,
          170,
          181,
          182,
          170,
          160,
          196,
          185,
          188,
          187,
          175,
          192,
          199,
          151,
          160,
          164,
          164,
          156,
          197,
          175,
          182,
          186,
          197,
          180,
          167,
          167,
          191,
          195,
          null,
          null,
          172,
          191,
          166,
          151,
          163,
          195,
          155,
          172,
          179,
          183,
          157,
          176,
          190,
          180,
          171,
          156,
          189,
          183,
          154,
          153,
          194,
          200,
          180,
          193,
          166,
          170,
          198,
          176,
          168,
          191,
          193,
          199,
          155,
          155,
          155,
          200,
          159,
          174,
          171,
          195,
          152,
          null,
          180,
          152,
          150,
          163,
          169,
          null,
          192,
          163,
          156,
          null,
          162,
          154,
          170,
          192,
          151,
          185,
          161,
          164,
          165,
          200,
          192,
          null,
          161,
          196,
          198,
          null,
          168,
          172,
          161,
          170,
          164,
          185,
          151,
          187,
          162,
          null,
          170,
          158,
          172,
          152,
          165,
          195,
          null,
          183,
          158,
          185,
          null,
          198,
          196,
          197,
          null,
          null,
          null,
          186,
          157,
          152,
          169,
          169,
          167,
          177,
          155,
          156,
          176,
          150,
          189,
          151,
          null,
          194,
          158,
          155,
          181,
          195,
          null,
          180,
          170,
          194,
          183,
          188,
          null,
          157,
          170,
          154,
          195,
          200,
          168,
          157,
          167,
          155,
          188,
          173,
          157,
          169,
          176,
          164,
          182,
          180,
          165,
          154,
          176,
          193,
          152,
          182,
          160,
          null,
          162,
          176,
          183,
          157,
          185,
          169,
          151,
          163,
          152,
          194,
          196,
          159,
          174,
          180,
          193,
          153,
          null,
          189,
          170,
          160,
          165,
          182,
          172,
          180,
          151,
          172,
          197,
          null,
          176,
          152,
          154,
          198,
          168,
          155,
          164,
          195,
          194,
          171,
          168,
          175,
          194,
          null,
          165,
          169,
          164,
          183,
          179,
          null,
          165,
          185,
          162,
          192,
          169,
          171,
          170,
          166,
          null,
          194,
          186,
          153,
          158,
          189,
          186,
          164,
          172,
          188,
          177,
          null,
          165,
          170,
          192,
          159,
          195,
          170,
          183,
          159,
          198,
          169,
          183,
          190,
          186,
          166,
          159,
          null,
          168,
          null,
          155,
          186,
          166,
          185,
          null,
          192,
          159,
          183,
          156,
          173,
          191,
          166,
          151,
          175,
          200,
          192,
          185,
          188,
          155,
          166,
          163,
          null,
          190,
          174,
          172,
          154,
          198,
          157,
          188,
          null,
          182,
          196,
          180,
          167,
          174,
          null,
          194,
          194,
          185,
          182,
          170,
          169,
          151,
          179,
          155,
          158,
          155,
          185,
          156,
          198,
          169,
          188,
          200,
          160,
          190,
          170,
          null,
          171,
          162,
          177,
          172,
          189,
          null,
          185,
          188,
          null,
          156,
          184,
          181,
          199,
          190,
          171,
          171,
          192,
          175,
          196,
          175,
          169,
          168,
          187,
          190,
          194,
          null,
          156,
          164,
          161,
          163,
          154,
          162,
          198,
          187,
          181,
          195,
          151,
          176,
          198,
          161,
          164,
          157,
          178,
          168,
          178,
          197,
          193,
          169,
          194,
          158,
          null,
          178,
          169,
          193,
          180,
          188,
          192,
          173,
          167,
          null,
          157,
          190,
          155,
          152,
          183,
          161,
          193,
          158,
          166,
          193,
          162,
          185,
          199,
          158,
          159,
          154,
          174,
          159,
          164,
          178,
          151,
          152,
          171,
          163,
          185,
          168,
          163,
          152,
          168,
          178,
          185,
          162,
          157,
          193
         ],
         "yaxis": "y"
        }
       ],
       "layout": {
        "legend": {
         "tracegroupgap": 0
        },
        "template": {
         "data": {
          "bar": [
           {
            "error_x": {
             "color": "#2a3f5f"
            },
            "error_y": {
             "color": "#2a3f5f"
            },
            "marker": {
             "line": {
              "color": "#E5ECF6",
              "width": 0.5
             },
             "pattern": {
              "fillmode": "overlay",
              "size": 10,
              "solidity": 0.2
             }
            },
            "type": "bar"
           }
          ],
          "barpolar": [
           {
            "marker": {
             "line": {
              "color": "#E5ECF6",
              "width": 0.5
             },
             "pattern": {
              "fillmode": "overlay",
              "size": 10,
              "solidity": 0.2
             }
            },
            "type": "barpolar"
           }
          ],
          "carpet": [
           {
            "aaxis": {
             "endlinecolor": "#2a3f5f",
             "gridcolor": "white",
             "linecolor": "white",
             "minorgridcolor": "white",
             "startlinecolor": "#2a3f5f"
            },
            "baxis": {
             "endlinecolor": "#2a3f5f",
             "gridcolor": "white",
             "linecolor": "white",
             "minorgridcolor": "white",
             "startlinecolor": "#2a3f5f"
            },
            "type": "carpet"
           }
          ],
          "choropleth": [
           {
            "colorbar": {
             "outlinewidth": 0,
             "ticks": ""
            },
            "type": "choropleth"
           }
          ],
          "contour": [
           {
            "colorbar": {
             "outlinewidth": 0,
             "ticks": ""
            },
            "colorscale": [
             [
              0,
              "#0d0887"
             ],
             [
              0.1111111111111111,
              "#46039f"
             ],
             [
              0.2222222222222222,
              "#7201a8"
             ],
             [
              0.3333333333333333,
              "#9c179e"
             ],
             [
              0.4444444444444444,
              "#bd3786"
             ],
             [
              0.5555555555555556,
              "#d8576b"
             ],
             [
              0.6666666666666666,
              "#ed7953"
             ],
             [
              0.7777777777777778,
              "#fb9f3a"
             ],
             [
              0.8888888888888888,
              "#fdca26"
             ],
             [
              1,
              "#f0f921"
             ]
            ],
            "type": "contour"
           }
          ],
          "contourcarpet": [
           {
            "colorbar": {
             "outlinewidth": 0,
             "ticks": ""
            },
            "type": "contourcarpet"
           }
          ],
          "heatmap": [
           {
            "colorbar": {
             "outlinewidth": 0,
             "ticks": ""
            },
            "colorscale": [
             [
              0,
              "#0d0887"
             ],
             [
              0.1111111111111111,
              "#46039f"
             ],
             [
              0.2222222222222222,
              "#7201a8"
             ],
             [
              0.3333333333333333,
              "#9c179e"
             ],
             [
              0.4444444444444444,
              "#bd3786"
             ],
             [
              0.5555555555555556,
              "#d8576b"
             ],
             [
              0.6666666666666666,
              "#ed7953"
             ],
             [
              0.7777777777777778,
              "#fb9f3a"
             ],
             [
              0.8888888888888888,
              "#fdca26"
             ],
             [
              1,
              "#f0f921"
             ]
            ],
            "type": "heatmap"
           }
          ],
          "heatmapgl": [
           {
            "colorbar": {
             "outlinewidth": 0,
             "ticks": ""
            },
            "colorscale": [
             [
              0,
              "#0d0887"
             ],
             [
              0.1111111111111111,
              "#46039f"
             ],
             [
              0.2222222222222222,
              "#7201a8"
             ],
             [
              0.3333333333333333,
              "#9c179e"
             ],
             [
              0.4444444444444444,
              "#bd3786"
             ],
             [
              0.5555555555555556,
              "#d8576b"
             ],
             [
              0.6666666666666666,
              "#ed7953"
             ],
             [
              0.7777777777777778,
              "#fb9f3a"
             ],
             [
              0.8888888888888888,
              "#fdca26"
             ],
             [
              1,
              "#f0f921"
             ]
            ],
            "type": "heatmapgl"
           }
          ],
          "histogram": [
           {
            "marker": {
             "pattern": {
              "fillmode": "overlay",
              "size": 10,
              "solidity": 0.2
             }
            },
            "type": "histogram"
           }
          ],
          "histogram2d": [
           {
            "colorbar": {
             "outlinewidth": 0,
             "ticks": ""
            },
            "colorscale": [
             [
              0,
              "#0d0887"
             ],
             [
              0.1111111111111111,
              "#46039f"
             ],
             [
              0.2222222222222222,
              "#7201a8"
             ],
             [
              0.3333333333333333,
              "#9c179e"
             ],
             [
              0.4444444444444444,
              "#bd3786"
             ],
             [
              0.5555555555555556,
              "#d8576b"
             ],
             [
              0.6666666666666666,
              "#ed7953"
             ],
             [
              0.7777777777777778,
              "#fb9f3a"
             ],
             [
              0.8888888888888888,
              "#fdca26"
             ],
             [
              1,
              "#f0f921"
             ]
            ],
            "type": "histogram2d"
           }
          ],
          "histogram2dcontour": [
           {
            "colorbar": {
             "outlinewidth": 0,
             "ticks": ""
            },
            "colorscale": [
             [
              0,
              "#0d0887"
             ],
             [
              0.1111111111111111,
              "#46039f"
             ],
             [
              0.2222222222222222,
              "#7201a8"
             ],
             [
              0.3333333333333333,
              "#9c179e"
             ],
             [
              0.4444444444444444,
              "#bd3786"
             ],
             [
              0.5555555555555556,
              "#d8576b"
             ],
             [
              0.6666666666666666,
              "#ed7953"
             ],
             [
              0.7777777777777778,
              "#fb9f3a"
             ],
             [
              0.8888888888888888,
              "#fdca26"
             ],
             [
              1,
              "#f0f921"
             ]
            ],
            "type": "histogram2dcontour"
           }
          ],
          "mesh3d": [
           {
            "colorbar": {
             "outlinewidth": 0,
             "ticks": ""
            },
            "type": "mesh3d"
           }
          ],
          "parcoords": [
           {
            "line": {
             "colorbar": {
              "outlinewidth": 0,
              "ticks": ""
             }
            },
            "type": "parcoords"
           }
          ],
          "pie": [
           {
            "automargin": true,
            "type": "pie"
           }
          ],
          "scatter": [
           {
            "fillpattern": {
             "fillmode": "overlay",
             "size": 10,
             "solidity": 0.2
            },
            "type": "scatter"
           }
          ],
          "scatter3d": [
           {
            "line": {
             "colorbar": {
              "outlinewidth": 0,
              "ticks": ""
             }
            },
            "marker": {
             "colorbar": {
              "outlinewidth": 0,
              "ticks": ""
             }
            },
            "type": "scatter3d"
           }
          ],
          "scattercarpet": [
           {
            "marker": {
             "colorbar": {
              "outlinewidth": 0,
              "ticks": ""
             }
            },
            "type": "scattercarpet"
           }
          ],
          "scattergeo": [
           {
            "marker": {
             "colorbar": {
              "outlinewidth": 0,
              "ticks": ""
             }
            },
            "type": "scattergeo"
           }
          ],
          "scattergl": [
           {
            "marker": {
             "colorbar": {
              "outlinewidth": 0,
              "ticks": ""
             }
            },
            "type": "scattergl"
           }
          ],
          "scattermapbox": [
           {
            "marker": {
             "colorbar": {
              "outlinewidth": 0,
              "ticks": ""
             }
            },
            "type": "scattermapbox"
           }
          ],
          "scatterpolar": [
           {
            "marker": {
             "colorbar": {
              "outlinewidth": 0,
              "ticks": ""
             }
            },
            "type": "scatterpolar"
           }
          ],
          "scatterpolargl": [
           {
            "marker": {
             "colorbar": {
              "outlinewidth": 0,
              "ticks": ""
             }
            },
            "type": "scatterpolargl"
           }
          ],
          "scatterternary": [
           {
            "marker": {
             "colorbar": {
              "outlinewidth": 0,
              "ticks": ""
             }
            },
            "type": "scatterternary"
           }
          ],
          "surface": [
           {
            "colorbar": {
             "outlinewidth": 0,
             "ticks": ""
            },
            "colorscale": [
             [
              0,
              "#0d0887"
             ],
             [
              0.1111111111111111,
              "#46039f"
             ],
             [
              0.2222222222222222,
              "#7201a8"
             ],
             [
              0.3333333333333333,
              "#9c179e"
             ],
             [
              0.4444444444444444,
              "#bd3786"
             ],
             [
              0.5555555555555556,
              "#d8576b"
             ],
             [
              0.6666666666666666,
              "#ed7953"
             ],
             [
              0.7777777777777778,
              "#fb9f3a"
             ],
             [
              0.8888888888888888,
              "#fdca26"
             ],
             [
              1,
              "#f0f921"
             ]
            ],
            "type": "surface"
           }
          ],
          "table": [
           {
            "cells": {
             "fill": {
              "color": "#EBF0F8"
             },
             "line": {
              "color": "white"
             }
            },
            "header": {
             "fill": {
              "color": "#C8D4E3"
             },
             "line": {
              "color": "white"
             }
            },
            "type": "table"
           }
          ]
         },
         "layout": {
          "annotationdefaults": {
           "arrowcolor": "#2a3f5f",
           "arrowhead": 0,
           "arrowwidth": 1
          },
          "autotypenumbers": "strict",
          "coloraxis": {
           "colorbar": {
            "outlinewidth": 0,
            "ticks": ""
           }
          },
          "colorscale": {
           "diverging": [
            [
             0,
             "#8e0152"
            ],
            [
             0.1,
             "#c51b7d"
            ],
            [
             0.2,
             "#de77ae"
            ],
            [
             0.3,
             "#f1b6da"
            ],
            [
             0.4,
             "#fde0ef"
            ],
            [
             0.5,
             "#f7f7f7"
            ],
            [
             0.6,
             "#e6f5d0"
            ],
            [
             0.7,
             "#b8e186"
            ],
            [
             0.8,
             "#7fbc41"
            ],
            [
             0.9,
             "#4d9221"
            ],
            [
             1,
             "#276419"
            ]
           ],
           "sequential": [
            [
             0,
             "#0d0887"
            ],
            [
             0.1111111111111111,
             "#46039f"
            ],
            [
             0.2222222222222222,
             "#7201a8"
            ],
            [
             0.3333333333333333,
             "#9c179e"
            ],
            [
             0.4444444444444444,
             "#bd3786"
            ],
            [
             0.5555555555555556,
             "#d8576b"
            ],
            [
             0.6666666666666666,
             "#ed7953"
            ],
            [
             0.7777777777777778,
             "#fb9f3a"
            ],
            [
             0.8888888888888888,
             "#fdca26"
            ],
            [
             1,
             "#f0f921"
            ]
           ],
           "sequentialminus": [
            [
             0,
             "#0d0887"
            ],
            [
             0.1111111111111111,
             "#46039f"
            ],
            [
             0.2222222222222222,
             "#7201a8"
            ],
            [
             0.3333333333333333,
             "#9c179e"
            ],
            [
             0.4444444444444444,
             "#bd3786"
            ],
            [
             0.5555555555555556,
             "#d8576b"
            ],
            [
             0.6666666666666666,
             "#ed7953"
            ],
            [
             0.7777777777777778,
             "#fb9f3a"
            ],
            [
             0.8888888888888888,
             "#fdca26"
            ],
            [
             1,
             "#f0f921"
            ]
           ]
          },
          "colorway": [
           "#636efa",
           "#EF553B",
           "#00cc96",
           "#ab63fa",
           "#FFA15A",
           "#19d3f3",
           "#FF6692",
           "#B6E880",
           "#FF97FF",
           "#FECB52"
          ],
          "font": {
           "color": "#2a3f5f"
          },
          "geo": {
           "bgcolor": "white",
           "lakecolor": "white",
           "landcolor": "#E5ECF6",
           "showlakes": true,
           "showland": true,
           "subunitcolor": "white"
          },
          "hoverlabel": {
           "align": "left"
          },
          "hovermode": "closest",
          "mapbox": {
           "style": "light"
          },
          "paper_bgcolor": "white",
          "plot_bgcolor": "#E5ECF6",
          "polar": {
           "angularaxis": {
            "gridcolor": "white",
            "linecolor": "white",
            "ticks": ""
           },
           "bgcolor": "#E5ECF6",
           "radialaxis": {
            "gridcolor": "white",
            "linecolor": "white",
            "ticks": ""
           }
          },
          "scene": {
           "xaxis": {
            "backgroundcolor": "#E5ECF6",
            "gridcolor": "white",
            "gridwidth": 2,
            "linecolor": "white",
            "showbackground": true,
            "ticks": "",
            "zerolinecolor": "white"
           },
           "yaxis": {
            "backgroundcolor": "#E5ECF6",
            "gridcolor": "white",
            "gridwidth": 2,
            "linecolor": "white",
            "showbackground": true,
            "ticks": "",
            "zerolinecolor": "white"
           },
           "zaxis": {
            "backgroundcolor": "#E5ECF6",
            "gridcolor": "white",
            "gridwidth": 2,
            "linecolor": "white",
            "showbackground": true,
            "ticks": "",
            "zerolinecolor": "white"
           }
          },
          "shapedefaults": {
           "line": {
            "color": "#2a3f5f"
           }
          },
          "ternary": {
           "aaxis": {
            "gridcolor": "white",
            "linecolor": "white",
            "ticks": ""
           },
           "baxis": {
            "gridcolor": "white",
            "linecolor": "white",
            "ticks": ""
           },
           "bgcolor": "#E5ECF6",
           "caxis": {
            "gridcolor": "white",
            "linecolor": "white",
            "ticks": ""
           }
          },
          "title": {
           "x": 0.05
          },
          "xaxis": {
           "automargin": true,
           "gridcolor": "white",
           "linecolor": "white",
           "ticks": "",
           "title": {
            "standoff": 15
           },
           "zerolinecolor": "white",
           "zerolinewidth": 2
          },
          "yaxis": {
           "automargin": true,
           "gridcolor": "white",
           "linecolor": "white",
           "ticks": "",
           "title": {
            "standoff": 15
           },
           "zerolinecolor": "white",
           "zerolinewidth": 2
          }
         }
        },
        "title": {
         "text": "Relatie tussen Inkomen en Lengte"
        },
        "xaxis": {
         "anchor": "y",
         "domain": [
          0,
          1
         ],
         "title": {
          "text": "Inkomen"
         }
        },
        "yaxis": {
         "anchor": "x",
         "domain": [
          0,
          1
         ],
         "title": {
          "text": "Lengte"
         }
        }
       }
      }
     },
     "metadata": {},
     "output_type": "display_data"
    }
   ],
   "source": [
    "fig4 = px.scatter(df_cardio, x='Inkomen', y='lengte', title='Relatie tussen Inkomen en Lengte')\n",
    "fig4.update_layout(xaxis_title='Inkomen', yaxis_title='Lengte')\n",
    "fig4.show()"
   ]
  },
  {
   "cell_type": "markdown",
   "metadata": {},
   "source": [
    "Scatterplot tussen \"Inkomen\" en \"gewicht\""
   ]
  },
  {
   "cell_type": "code",
   "execution_count": 34,
   "metadata": {},
   "outputs": [
    {
     "data": {
      "application/vnd.plotly.v1+json": {
       "config": {
        "plotlyServerURL": "https://plot.ly"
       },
       "data": [
        {
         "hovertemplate": "Inkomen=%{x}<br>gewicht=%{y}<extra></extra>",
         "legendgroup": "",
         "marker": {
          "color": "#636efa",
          "symbol": "circle"
         },
         "mode": "markers",
         "name": "",
         "orientation": "v",
         "showlegend": false,
         "type": "scatter",
         "x": [
          25611.33,
          33380.74,
          20357.81,
          58821.77,
          54148.57,
          21343.69,
          61104.9,
          34298.93,
          27366.57,
          39701.78,
          45527.18,
          64549.84,
          69122.75,
          47907.24,
          38206.63,
          43772.52,
          33014.62,
          49241.09,
          22745.43,
          45512.25,
          56980.7,
          40496.32,
          66163.47,
          43665.65,
          29478.1,
          25944.01,
          45428.88,
          null,
          64184.06,
          47175.64,
          32287.88,
          61067.14,
          67974.1,
          43055.07,
          46652.49,
          null,
          59809.64,
          43655.19,
          49856.88,
          53194.67,
          41476.03,
          null,
          54479.2,
          67733.28,
          30957.91,
          30935.35,
          49629.6,
          39087.03,
          31086.24,
          25161.89,
          null,
          62665.12,
          57988.55,
          31241.85,
          41257.19,
          25147.72,
          55868.98,
          47319.94,
          null,
          41319.69,
          62324.84,
          null,
          41605.37,
          60230.92,
          54039.98,
          68791.39,
          63102.9,
          45893.02,
          63058.69,
          36379.43,
          61327.61,
          62273.73,
          21228.77,
          43909.11,
          49751.38,
          48364.28,
          60646.56,
          64196.49,
          24332.93,
          66524.65,
          61392.35,
          49494.29,
          null,
          68888.41,
          57269.53,
          30727.01,
          41409.21,
          21289.45,
          68907.53,
          67258.98,
          50861.02,
          64209.08,
          43861.11,
          67408.21,
          null,
          52091.87,
          44307.8,
          37106.03,
          65145.19,
          null,
          46977.32,
          null,
          32840.44,
          59543.21,
          61109.68,
          36435.35,
          30707.33,
          53306.27,
          35990.37,
          56635.03,
          58726.07,
          23998.4,
          64100.6,
          47378.24,
          58150.07,
          59542.28,
          22845.04,
          null,
          55237.52,
          41260.29,
          48495.16,
          47852.65,
          52590.73,
          53910.96,
          40588.35,
          57378.83,
          28500.41,
          29096.5,
          33915.45,
          61776.58,
          23709.5,
          25275.08,
          62527.4,
          41516.17,
          30224.43,
          50492.82,
          40778.76,
          50231.21,
          26313.38,
          36600.99,
          48245.74,
          21305.89,
          68867.38,
          53303.85,
          43557.69,
          64298.7,
          45595.25,
          46676.69,
          34780.31,
          41489.87,
          null,
          60488.08,
          23093.31,
          64433.9,
          25535.16,
          22176.24,
          48564.45,
          29980.86,
          29072.56,
          null,
          57234.89,
          54168.56,
          68559.91,
          50165.76,
          49362.44,
          40431.27,
          33256.75,
          null,
          39440.88,
          null,
          23398.35,
          45100.85,
          36683.93,
          55218.08,
          31685.23,
          30517.17,
          21036.4,
          26816.5,
          54413.11,
          33159.05,
          33749,
          42981.86,
          null,
          44479.63,
          49694.88,
          27882.64,
          40837.33,
          24971.93,
          null,
          36252.56,
          20302.4,
          42154.36,
          24620.03,
          65528.39,
          60824.13,
          56335.08,
          66086.18,
          51546.4,
          25741.54,
          28531.66,
          38837.17,
          40180,
          68598.53,
          38386.2,
          59068.4,
          65261.6,
          54510.09,
          null,
          23982.2,
          47622.72,
          38181.77,
          37513.55,
          65357.91,
          53747.98,
          46118.37,
          41550.62,
          56414.51,
          22364.89,
          null,
          null,
          55373.47,
          36880.83,
          38273.38,
          38335.35,
          36891.91,
          29581.71,
          58208.41,
          null,
          27042.62,
          35229.8,
          51785,
          46942.65,
          28678.82,
          null,
          57820.22,
          63912.9,
          33132.27,
          69770.33,
          26014.2,
          54001.11,
          null,
          61929.12,
          66136.14,
          49963.87,
          49434.16,
          35290.96,
          44421.92,
          62384.96,
          54117.08,
          48804.19,
          61957.35,
          54203.33,
          50597.56,
          20301.09,
          30093.09,
          44816.39,
          67466.04,
          45925.76,
          38835.76,
          41570.09,
          28409.57,
          64996.92,
          53172.2,
          67757.18,
          69484.14,
          54106.69,
          69314.06,
          37286.98,
          20288.18,
          69659.14,
          24681.95,
          31289.61,
          57101.11,
          null,
          47192.63,
          39053.87,
          null,
          43518.24,
          60798.98,
          53200.45,
          49422.96,
          20015.81,
          20210.79,
          34139.02,
          23873.07,
          60127.54,
          46368.64,
          30753.73,
          63827.14,
          54298.89,
          46509.67,
          57063.15,
          64406.18,
          48237.71,
          59470.77,
          30001.45,
          54005.75,
          64256.86,
          25983.28,
          25195.54,
          42685.03,
          null,
          63826.34,
          26592.9,
          29956.41,
          52774.4,
          48260.66,
          30096.97,
          52997.89,
          35818.69,
          24448.08,
          null,
          56905.49,
          45206.07,
          52704.78,
          54989.79,
          64106.63,
          45071.92,
          52434.26,
          64911.62,
          21365.73,
          54581.33,
          61028.57,
          67681.9,
          51213.86,
          35445.11,
          46578.07,
          30457.35,
          62251.49,
          64760.93,
          36668.56,
          42585.76,
          40169.97,
          57530.05,
          36887.88,
          40628.06,
          null,
          52746.38,
          52324.29,
          32646.5,
          null,
          null,
          33801.29,
          40630.63,
          60717.71,
          59097.22,
          44165.61,
          37246.25,
          20833.15,
          null,
          50899.49,
          64323.38,
          48917.99,
          39016.95,
          null,
          null,
          59703.21,
          20165.45,
          23025.07,
          32528.88,
          32482.5,
          null,
          null,
          31853.27,
          49430.97,
          40419.75,
          62015.39,
          27714.77,
          65815.96,
          47760.42,
          63552.5,
          53044.33,
          null,
          50790.16,
          null,
          26489.56,
          30361.35,
          36970.67,
          null,
          20958.48,
          null,
          40823.86,
          21166.52,
          39540.38,
          64057.83,
          64953.86,
          69824.69,
          23188.49,
          20456.86,
          68754.87,
          33162.31,
          68882.11,
          27892.48,
          39858.77,
          28989.06,
          53257.98,
          58659.63,
          32820.91,
          41759.15,
          30302.71,
          null,
          60108.15,
          31319.39,
          34147.83,
          40571.96,
          50600.22,
          21147.94,
          26262.98,
          20532.8,
          48227.22,
          44361.97,
          67132.93,
          28024.74,
          null,
          20097.87,
          65016.65,
          null,
          36144.63,
          67616.41,
          67569.89,
          37871.18,
          66346.82,
          49262.76,
          69130.2,
          57284.69,
          35952.15,
          53786.66,
          48118.63,
          54860.51,
          64448.25,
          47801.64,
          39939.21,
          64233.68,
          59788.19,
          39120.67,
          43981.93,
          68293.36,
          25659.73,
          36751.34,
          null,
          54108.04,
          53707.11,
          null,
          69532.7,
          20472.08,
          null,
          30432.1,
          38811.38,
          30100.84,
          45577.05,
          24884.17,
          26575.56,
          31606.98,
          null,
          57452.34,
          59310.08,
          null,
          35812.44,
          69695.07,
          null,
          28302.64,
          36513.61,
          49972.11,
          39455.47,
          53838.91,
          34329.79,
          35108.53,
          62874.98,
          null,
          41310.85,
          24448.69,
          69846.43,
          63362.89,
          28492.87,
          49509.85,
          52276.5,
          null,
          41477.84,
          66838.62,
          57214.19,
          64328.26,
          29214.98,
          23920.06,
          55498.5,
          30689.01,
          26466.7,
          35505.76,
          44934.32,
          68890.78,
          54370.31,
          31672.48,
          44958.92,
          null,
          53908.68,
          67156.8,
          null,
          36631.69,
          37809.35,
          33085.8,
          65348.35,
          56908.31,
          26458.38,
          59798.44,
          66470.09,
          31108.6,
          57127.98,
          45568.31,
          56454.39,
          68701.87,
          20148.17,
          28251.13,
          20351.33,
          null,
          46524.63,
          55934.06,
          null,
          52884.73,
          66136.09,
          37335,
          null,
          64374.27,
          47640.59,
          42378.05,
          51484.45,
          48154.18,
          47416.6,
          61937.27,
          46626.21,
          null,
          36597.61,
          23974.26,
          37757.6,
          55478.3,
          59443.51,
          49387.21,
          42253.76,
          67345.43,
          60517.9,
          21992.37,
          56786.71,
          63170.82,
          26564.8,
          68484.04,
          59090.9,
          25126.02,
          61243.78,
          37727.64,
          56767.27,
          41463.28,
          41110.24,
          55672.45,
          null,
          64903.04,
          20634.47,
          44218.91,
          64959.97,
          37477.68,
          54054.76,
          50690.52,
          60626.42,
          63568.64,
          41942.85,
          26824.19,
          69308.55,
          43500.53,
          69213.69,
          42289.86,
          22436.12,
          42252.41,
          42988.9,
          38742.11,
          63188.82,
          36588.4,
          42016.5,
          63930.9,
          62265.7,
          57284.22,
          21537.1,
          22850.41,
          68810.94,
          30353.61,
          66903.94,
          50739.8,
          20083.89,
          46384.21,
          31579.27,
          62041.93,
          23929.28,
          40487.84,
          20582.87,
          21514.55,
          25186.68,
          null,
          33151.44,
          null,
          64161.92,
          44909.47,
          35949.19,
          32721.38,
          61962.56,
          null,
          29680.33,
          63965.99,
          62381.83,
          null,
          63705.78,
          55916.67,
          50325.75,
          31352,
          64843.22,
          26072.9,
          47513.21,
          39704.51,
          24484.57,
          null,
          49497.16,
          38179.03,
          40996.59,
          58879.29,
          58409.4,
          30631.47,
          41616.42,
          51954.61,
          47756.37,
          44184.15,
          null,
          59029.54,
          38836.49,
          32750.04,
          null,
          62998.36,
          26083.99,
          24502.17,
          68992.12,
          22316.89,
          61193.88,
          48860.71,
          34319.5,
          21772.46,
          34424.57,
          null,
          61684.1,
          53086.69,
          65992.68,
          26879.55,
          32591.17,
          31696,
          56414.86,
          50698.21,
          null,
          33171.43,
          63827.78,
          49736.2,
          null,
          29365.06,
          37257.95,
          37308.73,
          44647.43,
          58310.25,
          54358.38,
          49738.35,
          68145.07,
          null,
          34340.37,
          39249.05,
          24535.28,
          null,
          null,
          27119.15,
          61435.34,
          49336.41,
          30171.08,
          57488,
          54659.64,
          48088.06,
          34562.23,
          null,
          27056.31,
          29346.56,
          68747.56,
          66556.14,
          42219.09,
          42441.47,
          62132.47,
          67555.5,
          null,
          43460.78,
          62566.61,
          null,
          null,
          20534.3,
          34267.54,
          60804.53,
          47338.09,
          41470.25,
          66357.36,
          25184.65,
          41845.72,
          null,
          51489.38,
          20780.91,
          54682.4,
          67478.52,
          46982.06,
          null,
          42064.68,
          23913.14,
          30552.53,
          53854.82,
          30286.38,
          66429.85,
          67563.93,
          50979.06,
          50113.86,
          null,
          21164.37,
          50330.22,
          42809.89,
          null,
          69866.84,
          null,
          54629.02,
          38491.87,
          29056.9,
          69838.01,
          52289.41,
          40160.11,
          24565.44,
          41318.43,
          59403.6,
          49880.2,
          42524.22,
          50277.02,
          69355.8,
          24508.91,
          39211.41,
          67070.51,
          22824,
          69921.75,
          39601.09,
          54611.41,
          null,
          26549.09,
          47309.96,
          26497.59,
          53298.82,
          43019.58,
          54961.79,
          28492.45,
          21373.65,
          63526.06,
          59077.91,
          31981.67,
          45582.33,
          48232.08,
          58307.95,
          54273.35,
          55483.04,
          29907.39,
          30251.8,
          26426.18,
          null,
          32163.89,
          45229.66,
          35702.07,
          null,
          69572.38,
          69159.6,
          68077.5,
          51146.57,
          61500.68,
          62697.77,
          56040.51,
          36454.11,
          40746.12,
          25700.11,
          40282.06,
          24548.22,
          null,
          57608.97,
          50857.58,
          68921.5,
          27365.09,
          54420.29,
          36813.6,
          41337.17,
          31928.95,
          50150.72,
          66876.7,
          69962.44,
          null,
          null,
          null,
          35217.66,
          41431.38,
          49776.92,
          32578.61,
          35116.88,
          22999.39,
          40650.44,
          54649.47,
          26060.65,
          23037.37,
          32887.38,
          34737.73,
          69473.47,
          51689.65,
          59327.73,
          null,
          50588.12,
          33927.36,
          50670.28,
          53912.23,
          23619.45,
          21325.16,
          65585.7,
          27474.03,
          53094.09,
          60153.07,
          69984.83,
          35370.91,
          68107.01,
          67518.18,
          59858.54,
          47787.45,
          null,
          41539.77,
          52396.85,
          69112.14,
          44305.06,
          69572.7,
          45571.63,
          34705.16,
          20445.82,
          63321.28,
          60383.81,
          56659.24,
          22483.45,
          46073.04,
          44194.78,
          64888.97,
          61385.59,
          36215.4,
          31548.72,
          33987.7,
          23123.62,
          20592.2,
          45176.79,
          45904.85,
          62951.76,
          51874.3,
          23586.29,
          52914.51,
          60650.25,
          69831.93,
          68685.74,
          33323.31,
          50773.53,
          44019.84,
          38714.82,
          null,
          46655.25,
          43376.83,
          36940.26,
          44526.47,
          46503.72,
          56272.73,
          48605.3,
          24724.14,
          48575.04,
          31951.13,
          59965.43,
          64204.55,
          25159.69,
          56065.72,
          68731.55,
          60049.72,
          27998.13,
          67532.76,
          null,
          25086.18,
          57740.54,
          50647.64,
          49073.64,
          61672.22,
          41438.02,
          65249.86,
          22411.25,
          57811.85,
          68712.69,
          49557.82,
          56327.38,
          49648.05,
          61187.21,
          57137.65,
          33238.05,
          43501.23,
          28136.45,
          63602.23,
          56619.67,
          55924.72,
          66511.85,
          41726.63,
          45855.23,
          29177.72,
          44796.25,
          60299.98,
          43777.25,
          66871.19,
          58727.3,
          29453.6,
          64686.47,
          42665.79,
          62862.35,
          58688.59,
          47039.91,
          57975.93,
          31777.75,
          23470.9,
          25597.65,
          null,
          null,
          66740.89,
          68507.38,
          61320.3,
          28621.34,
          50224.51,
          null,
          32755.99,
          61057.52,
          27499.77,
          42433.6,
          65316.78,
          35229.69,
          40791.78,
          46260.99,
          66870.61,
          25078.39,
          40882.91,
          47910.79,
          66031.4,
          21557.21,
          40217.14,
          31306.08,
          25892.16,
          30957.93,
          null,
          null,
          null,
          43262.53,
          34386.52,
          37267.35,
          26024.43,
          31169.16,
          54391.61,
          60085.3,
          53368.15,
          42764.33,
          60030.41,
          43121.99,
          21568.87,
          42082.28,
          23102,
          39873.08,
          41706.24,
          63798.85,
          30035.24,
          34634.75,
          27981.39,
          null,
          43373.99,
          51072.8,
          25879.09,
          61056.4,
          null,
          34959.13,
          65642.08,
          52411.66,
          39449.44,
          30240.12,
          69983.7,
          46109.71,
          54773.27,
          28532.11,
          22114,
          68136.1,
          40646.59,
          55578.64,
          41806.91,
          32072.56,
          36620.85,
          null,
          25423.9,
          null,
          39186.57,
          40012.43,
          55259.62,
          44088.79,
          45189.95,
          38205.87
         ],
         "xaxis": "x",
         "y": [
          59,
          103,
          74,
          null,
          114,
          80,
          83,
          114,
          77,
          92,
          91,
          116,
          102,
          80,
          92,
          108,
          94,
          72,
          99,
          75,
          89,
          null,
          82,
          108,
          59,
          65,
          59,
          80,
          77,
          63,
          117,
          null,
          62,
          51,
          99,
          96,
          95,
          52,
          115,
          null,
          67,
          72,
          80,
          54,
          104,
          52,
          88,
          58,
          null,
          103,
          null,
          81,
          101,
          82,
          109,
          96,
          67,
          62,
          78,
          117,
          112,
          72,
          95,
          null,
          100,
          55,
          104,
          65,
          61,
          89,
          null,
          59,
          106,
          null,
          58,
          107,
          null,
          null,
          116,
          71,
          69,
          63,
          59,
          106,
          69,
          93,
          71,
          103,
          89,
          54,
          114,
          111,
          52,
          94,
          59,
          60,
          null,
          100,
          90,
          null,
          79,
          null,
          105,
          93,
          110,
          74,
          101,
          55,
          65,
          null,
          66,
          78,
          84,
          52,
          116,
          95,
          87,
          109,
          null,
          55,
          67,
          103,
          93,
          109,
          89,
          115,
          62,
          84,
          null,
          61,
          52,
          null,
          52,
          79,
          107,
          68,
          55,
          96,
          null,
          66,
          72,
          55,
          102,
          82,
          null,
          null,
          107,
          65,
          106,
          82,
          90,
          93,
          87,
          111,
          107,
          58,
          112,
          50,
          null,
          83,
          null,
          null,
          74,
          103,
          91,
          57,
          84,
          null,
          73,
          98,
          73,
          95,
          86,
          null,
          57,
          84,
          72,
          115,
          59,
          112,
          67,
          83,
          93,
          92,
          104,
          83,
          53,
          78,
          81,
          95,
          null,
          79,
          null,
          70,
          108,
          75,
          57,
          117,
          65,
          73,
          97,
          63,
          101,
          null,
          112,
          92,
          107,
          110,
          112,
          52,
          52,
          73,
          105,
          117,
          86,
          74,
          79,
          96,
          67,
          69,
          null,
          75,
          59,
          109,
          67,
          52,
          null,
          102,
          105,
          107,
          84,
          94,
          63,
          72,
          null,
          91,
          100,
          67,
          55,
          52,
          106,
          101,
          110,
          55,
          72,
          76,
          98,
          112,
          79,
          85,
          99,
          84,
          102,
          56,
          78,
          97,
          78,
          111,
          64,
          90,
          114,
          50,
          94,
          81,
          64,
          75,
          106,
          63,
          63,
          67,
          85,
          101,
          89,
          92,
          119,
          118,
          94,
          74,
          105,
          97,
          65,
          51,
          72,
          78,
          112,
          106,
          76,
          98,
          107,
          80,
          76,
          50,
          74,
          88,
          52,
          118,
          105,
          null,
          96,
          53,
          92,
          56,
          97,
          91,
          66,
          103,
          null,
          114,
          70,
          118,
          103,
          115,
          113,
          61,
          55,
          113,
          50,
          null,
          100,
          103,
          62,
          50,
          110,
          105,
          99,
          61,
          105,
          75,
          102,
          null,
          null,
          107,
          98,
          116,
          89,
          90,
          76,
          62,
          null,
          95,
          98,
          89,
          71,
          110,
          59,
          51,
          64,
          61,
          86,
          103,
          56,
          80,
          112,
          71,
          100,
          114,
          75,
          116,
          64,
          73,
          76,
          119,
          84,
          80,
          93,
          60,
          86,
          102,
          87,
          63,
          63,
          90,
          100,
          109,
          55,
          null,
          59,
          79,
          96,
          69,
          104,
          74,
          96,
          114,
          120,
          76,
          82,
          64,
          77,
          77,
          120,
          74,
          94,
          64,
          105,
          77,
          86,
          55,
          90,
          85,
          69,
          94,
          79,
          115,
          63,
          79,
          null,
          116,
          53,
          65,
          108,
          104,
          120,
          73,
          94,
          111,
          107,
          93,
          119,
          60,
          81,
          95,
          118,
          54,
          118,
          66,
          95,
          101,
          97,
          54,
          90,
          76,
          90,
          101,
          51,
          88,
          81,
          64,
          82,
          80,
          50,
          98,
          52,
          56,
          53,
          51,
          101,
          52,
          70,
          57,
          91,
          115,
          92,
          91,
          119,
          75,
          94,
          117,
          84,
          73,
          64,
          102,
          102,
          null,
          65,
          109,
          77,
          91,
          63,
          null,
          77,
          null,
          null,
          null,
          99,
          81,
          83,
          83,
          108,
          62,
          68,
          119,
          63,
          77,
          109,
          81,
          57,
          94,
          75,
          50,
          93,
          null,
          65,
          116,
          115,
          99,
          62,
          79,
          119,
          80,
          115,
          78,
          null,
          113,
          78,
          null,
          106,
          79,
          62,
          72,
          53,
          95,
          115,
          117,
          60,
          54,
          null,
          71,
          107,
          50,
          78,
          68,
          77,
          110,
          64,
          53,
          75,
          79,
          null,
          119,
          null,
          110,
          112,
          91,
          116,
          116,
          null,
          55,
          82,
          null,
          113,
          56,
          97,
          null,
          87,
          79,
          58,
          83,
          101,
          55,
          69,
          89,
          67,
          80,
          96,
          102,
          74,
          83,
          91,
          82,
          null,
          61,
          79,
          67,
          95,
          105,
          null,
          88,
          76,
          120,
          114,
          72,
          84,
          97,
          117,
          60,
          60,
          106,
          113,
          77,
          74,
          null,
          94,
          106,
          82,
          null,
          78,
          91,
          51,
          73,
          88,
          93,
          77,
          52,
          110,
          80,
          71,
          109,
          67,
          75,
          55,
          120,
          107,
          53,
          74,
          106,
          85,
          86,
          108,
          null,
          66,
          92,
          95,
          103,
          53,
          112,
          108,
          89,
          79,
          84,
          62,
          79,
          null,
          76,
          61,
          65,
          89,
          96,
          109,
          98,
          null,
          115,
          93,
          119,
          119,
          54,
          null,
          null,
          106,
          null,
          73,
          91,
          63,
          110,
          106,
          77,
          80,
          null,
          68,
          101,
          89,
          96,
          107,
          75,
          86,
          null,
          101,
          100,
          90,
          114,
          52,
          109,
          59,
          96,
          75,
          113,
          69,
          85,
          51,
          108,
          95,
          61,
          109,
          68,
          106,
          104,
          104,
          76,
          113,
          null,
          75,
          null,
          55,
          76,
          89,
          60,
          98,
          109,
          103,
          93,
          null,
          103,
          107,
          81,
          100,
          79,
          51,
          68,
          114,
          65,
          116,
          59,
          76,
          110,
          65,
          110,
          103,
          114,
          78,
          73,
          81,
          null,
          86,
          64,
          null,
          80,
          71,
          120,
          54,
          73,
          70,
          100,
          null,
          117,
          67,
          63,
          100,
          102,
          113,
          119,
          52,
          null,
          null,
          120,
          66,
          53,
          112,
          null,
          75,
          58,
          56,
          null,
          86,
          66,
          91,
          105,
          84,
          55,
          80,
          105,
          113,
          52,
          69,
          67,
          69,
          97,
          59,
          null,
          null,
          56,
          66,
          55,
          58,
          101,
          113,
          115,
          104,
          120,
          111,
          null,
          101,
          87,
          71,
          57,
          85,
          99,
          61,
          97,
          68,
          90,
          50,
          91,
          77,
          null,
          64,
          91,
          61,
          81,
          104,
          71,
          91,
          96,
          81,
          109,
          111,
          116,
          88,
          71,
          90,
          78,
          114,
          119,
          87,
          69,
          72,
          53,
          81,
          103,
          92,
          95,
          70,
          91,
          null,
          70,
          null,
          null,
          null,
          62,
          117,
          null,
          59,
          76,
          62,
          75,
          103,
          108,
          null,
          56,
          82,
          100,
          106,
          68,
          61,
          91,
          119,
          114,
          97,
          65,
          117,
          99,
          83,
          65,
          114,
          108,
          91,
          108,
          63,
          77,
          63,
          60,
          56,
          100,
          75,
          83,
          59,
          89,
          56,
          null,
          80,
          61,
          64,
          105,
          111,
          83,
          null,
          64,
          78,
          null,
          115,
          null,
          97,
          56,
          64,
          119,
          62,
          89,
          109,
          80,
          88,
          106,
          79,
          54,
          109,
          100,
          null,
          68,
          52,
          69,
          86,
          71,
          103,
          72,
          72,
          57,
          95,
          89,
          69,
          51,
          55,
          74,
          88,
          71,
          57,
          90,
          88,
          75,
          53,
          51,
          91,
          68,
          68,
          117,
          64,
          96,
          64,
          69,
          null,
          104,
          99,
          64,
          56,
          113,
          107,
          116,
          65,
          81,
          66,
          58,
          55,
          102,
          104,
          70,
          113,
          100,
          74,
          59,
          92,
          95,
          108,
          109,
          null,
          101,
          null,
          null,
          59,
          null,
          110,
          74,
          107,
          59,
          66,
          102,
          52,
          89,
          null,
          106,
          80,
          76,
          89,
          85,
          null,
          56,
          91,
          62,
          67,
          69,
          117,
          85,
          51,
          52,
          70,
          119,
          105,
          81,
          101,
          105,
          95,
          104,
          109,
          73,
          90,
          82,
          93,
          null,
          null,
          71,
          73,
          97,
          66,
          88,
          100,
          50,
          98,
          64,
          84,
          55,
          83,
          54,
          87,
          92
         ],
         "yaxis": "y"
        }
       ],
       "layout": {
        "legend": {
         "tracegroupgap": 0
        },
        "template": {
         "data": {
          "bar": [
           {
            "error_x": {
             "color": "#2a3f5f"
            },
            "error_y": {
             "color": "#2a3f5f"
            },
            "marker": {
             "line": {
              "color": "#E5ECF6",
              "width": 0.5
             },
             "pattern": {
              "fillmode": "overlay",
              "size": 10,
              "solidity": 0.2
             }
            },
            "type": "bar"
           }
          ],
          "barpolar": [
           {
            "marker": {
             "line": {
              "color": "#E5ECF6",
              "width": 0.5
             },
             "pattern": {
              "fillmode": "overlay",
              "size": 10,
              "solidity": 0.2
             }
            },
            "type": "barpolar"
           }
          ],
          "carpet": [
           {
            "aaxis": {
             "endlinecolor": "#2a3f5f",
             "gridcolor": "white",
             "linecolor": "white",
             "minorgridcolor": "white",
             "startlinecolor": "#2a3f5f"
            },
            "baxis": {
             "endlinecolor": "#2a3f5f",
             "gridcolor": "white",
             "linecolor": "white",
             "minorgridcolor": "white",
             "startlinecolor": "#2a3f5f"
            },
            "type": "carpet"
           }
          ],
          "choropleth": [
           {
            "colorbar": {
             "outlinewidth": 0,
             "ticks": ""
            },
            "type": "choropleth"
           }
          ],
          "contour": [
           {
            "colorbar": {
             "outlinewidth": 0,
             "ticks": ""
            },
            "colorscale": [
             [
              0,
              "#0d0887"
             ],
             [
              0.1111111111111111,
              "#46039f"
             ],
             [
              0.2222222222222222,
              "#7201a8"
             ],
             [
              0.3333333333333333,
              "#9c179e"
             ],
             [
              0.4444444444444444,
              "#bd3786"
             ],
             [
              0.5555555555555556,
              "#d8576b"
             ],
             [
              0.6666666666666666,
              "#ed7953"
             ],
             [
              0.7777777777777778,
              "#fb9f3a"
             ],
             [
              0.8888888888888888,
              "#fdca26"
             ],
             [
              1,
              "#f0f921"
             ]
            ],
            "type": "contour"
           }
          ],
          "contourcarpet": [
           {
            "colorbar": {
             "outlinewidth": 0,
             "ticks": ""
            },
            "type": "contourcarpet"
           }
          ],
          "heatmap": [
           {
            "colorbar": {
             "outlinewidth": 0,
             "ticks": ""
            },
            "colorscale": [
             [
              0,
              "#0d0887"
             ],
             [
              0.1111111111111111,
              "#46039f"
             ],
             [
              0.2222222222222222,
              "#7201a8"
             ],
             [
              0.3333333333333333,
              "#9c179e"
             ],
             [
              0.4444444444444444,
              "#bd3786"
             ],
             [
              0.5555555555555556,
              "#d8576b"
             ],
             [
              0.6666666666666666,
              "#ed7953"
             ],
             [
              0.7777777777777778,
              "#fb9f3a"
             ],
             [
              0.8888888888888888,
              "#fdca26"
             ],
             [
              1,
              "#f0f921"
             ]
            ],
            "type": "heatmap"
           }
          ],
          "heatmapgl": [
           {
            "colorbar": {
             "outlinewidth": 0,
             "ticks": ""
            },
            "colorscale": [
             [
              0,
              "#0d0887"
             ],
             [
              0.1111111111111111,
              "#46039f"
             ],
             [
              0.2222222222222222,
              "#7201a8"
             ],
             [
              0.3333333333333333,
              "#9c179e"
             ],
             [
              0.4444444444444444,
              "#bd3786"
             ],
             [
              0.5555555555555556,
              "#d8576b"
             ],
             [
              0.6666666666666666,
              "#ed7953"
             ],
             [
              0.7777777777777778,
              "#fb9f3a"
             ],
             [
              0.8888888888888888,
              "#fdca26"
             ],
             [
              1,
              "#f0f921"
             ]
            ],
            "type": "heatmapgl"
           }
          ],
          "histogram": [
           {
            "marker": {
             "pattern": {
              "fillmode": "overlay",
              "size": 10,
              "solidity": 0.2
             }
            },
            "type": "histogram"
           }
          ],
          "histogram2d": [
           {
            "colorbar": {
             "outlinewidth": 0,
             "ticks": ""
            },
            "colorscale": [
             [
              0,
              "#0d0887"
             ],
             [
              0.1111111111111111,
              "#46039f"
             ],
             [
              0.2222222222222222,
              "#7201a8"
             ],
             [
              0.3333333333333333,
              "#9c179e"
             ],
             [
              0.4444444444444444,
              "#bd3786"
             ],
             [
              0.5555555555555556,
              "#d8576b"
             ],
             [
              0.6666666666666666,
              "#ed7953"
             ],
             [
              0.7777777777777778,
              "#fb9f3a"
             ],
             [
              0.8888888888888888,
              "#fdca26"
             ],
             [
              1,
              "#f0f921"
             ]
            ],
            "type": "histogram2d"
           }
          ],
          "histogram2dcontour": [
           {
            "colorbar": {
             "outlinewidth": 0,
             "ticks": ""
            },
            "colorscale": [
             [
              0,
              "#0d0887"
             ],
             [
              0.1111111111111111,
              "#46039f"
             ],
             [
              0.2222222222222222,
              "#7201a8"
             ],
             [
              0.3333333333333333,
              "#9c179e"
             ],
             [
              0.4444444444444444,
              "#bd3786"
             ],
             [
              0.5555555555555556,
              "#d8576b"
             ],
             [
              0.6666666666666666,
              "#ed7953"
             ],
             [
              0.7777777777777778,
              "#fb9f3a"
             ],
             [
              0.8888888888888888,
              "#fdca26"
             ],
             [
              1,
              "#f0f921"
             ]
            ],
            "type": "histogram2dcontour"
           }
          ],
          "mesh3d": [
           {
            "colorbar": {
             "outlinewidth": 0,
             "ticks": ""
            },
            "type": "mesh3d"
           }
          ],
          "parcoords": [
           {
            "line": {
             "colorbar": {
              "outlinewidth": 0,
              "ticks": ""
             }
            },
            "type": "parcoords"
           }
          ],
          "pie": [
           {
            "automargin": true,
            "type": "pie"
           }
          ],
          "scatter": [
           {
            "fillpattern": {
             "fillmode": "overlay",
             "size": 10,
             "solidity": 0.2
            },
            "type": "scatter"
           }
          ],
          "scatter3d": [
           {
            "line": {
             "colorbar": {
              "outlinewidth": 0,
              "ticks": ""
             }
            },
            "marker": {
             "colorbar": {
              "outlinewidth": 0,
              "ticks": ""
             }
            },
            "type": "scatter3d"
           }
          ],
          "scattercarpet": [
           {
            "marker": {
             "colorbar": {
              "outlinewidth": 0,
              "ticks": ""
             }
            },
            "type": "scattercarpet"
           }
          ],
          "scattergeo": [
           {
            "marker": {
             "colorbar": {
              "outlinewidth": 0,
              "ticks": ""
             }
            },
            "type": "scattergeo"
           }
          ],
          "scattergl": [
           {
            "marker": {
             "colorbar": {
              "outlinewidth": 0,
              "ticks": ""
             }
            },
            "type": "scattergl"
           }
          ],
          "scattermapbox": [
           {
            "marker": {
             "colorbar": {
              "outlinewidth": 0,
              "ticks": ""
             }
            },
            "type": "scattermapbox"
           }
          ],
          "scatterpolar": [
           {
            "marker": {
             "colorbar": {
              "outlinewidth": 0,
              "ticks": ""
             }
            },
            "type": "scatterpolar"
           }
          ],
          "scatterpolargl": [
           {
            "marker": {
             "colorbar": {
              "outlinewidth": 0,
              "ticks": ""
             }
            },
            "type": "scatterpolargl"
           }
          ],
          "scatterternary": [
           {
            "marker": {
             "colorbar": {
              "outlinewidth": 0,
              "ticks": ""
             }
            },
            "type": "scatterternary"
           }
          ],
          "surface": [
           {
            "colorbar": {
             "outlinewidth": 0,
             "ticks": ""
            },
            "colorscale": [
             [
              0,
              "#0d0887"
             ],
             [
              0.1111111111111111,
              "#46039f"
             ],
             [
              0.2222222222222222,
              "#7201a8"
             ],
             [
              0.3333333333333333,
              "#9c179e"
             ],
             [
              0.4444444444444444,
              "#bd3786"
             ],
             [
              0.5555555555555556,
              "#d8576b"
             ],
             [
              0.6666666666666666,
              "#ed7953"
             ],
             [
              0.7777777777777778,
              "#fb9f3a"
             ],
             [
              0.8888888888888888,
              "#fdca26"
             ],
             [
              1,
              "#f0f921"
             ]
            ],
            "type": "surface"
           }
          ],
          "table": [
           {
            "cells": {
             "fill": {
              "color": "#EBF0F8"
             },
             "line": {
              "color": "white"
             }
            },
            "header": {
             "fill": {
              "color": "#C8D4E3"
             },
             "line": {
              "color": "white"
             }
            },
            "type": "table"
           }
          ]
         },
         "layout": {
          "annotationdefaults": {
           "arrowcolor": "#2a3f5f",
           "arrowhead": 0,
           "arrowwidth": 1
          },
          "autotypenumbers": "strict",
          "coloraxis": {
           "colorbar": {
            "outlinewidth": 0,
            "ticks": ""
           }
          },
          "colorscale": {
           "diverging": [
            [
             0,
             "#8e0152"
            ],
            [
             0.1,
             "#c51b7d"
            ],
            [
             0.2,
             "#de77ae"
            ],
            [
             0.3,
             "#f1b6da"
            ],
            [
             0.4,
             "#fde0ef"
            ],
            [
             0.5,
             "#f7f7f7"
            ],
            [
             0.6,
             "#e6f5d0"
            ],
            [
             0.7,
             "#b8e186"
            ],
            [
             0.8,
             "#7fbc41"
            ],
            [
             0.9,
             "#4d9221"
            ],
            [
             1,
             "#276419"
            ]
           ],
           "sequential": [
            [
             0,
             "#0d0887"
            ],
            [
             0.1111111111111111,
             "#46039f"
            ],
            [
             0.2222222222222222,
             "#7201a8"
            ],
            [
             0.3333333333333333,
             "#9c179e"
            ],
            [
             0.4444444444444444,
             "#bd3786"
            ],
            [
             0.5555555555555556,
             "#d8576b"
            ],
            [
             0.6666666666666666,
             "#ed7953"
            ],
            [
             0.7777777777777778,
             "#fb9f3a"
            ],
            [
             0.8888888888888888,
             "#fdca26"
            ],
            [
             1,
             "#f0f921"
            ]
           ],
           "sequentialminus": [
            [
             0,
             "#0d0887"
            ],
            [
             0.1111111111111111,
             "#46039f"
            ],
            [
             0.2222222222222222,
             "#7201a8"
            ],
            [
             0.3333333333333333,
             "#9c179e"
            ],
            [
             0.4444444444444444,
             "#bd3786"
            ],
            [
             0.5555555555555556,
             "#d8576b"
            ],
            [
             0.6666666666666666,
             "#ed7953"
            ],
            [
             0.7777777777777778,
             "#fb9f3a"
            ],
            [
             0.8888888888888888,
             "#fdca26"
            ],
            [
             1,
             "#f0f921"
            ]
           ]
          },
          "colorway": [
           "#636efa",
           "#EF553B",
           "#00cc96",
           "#ab63fa",
           "#FFA15A",
           "#19d3f3",
           "#FF6692",
           "#B6E880",
           "#FF97FF",
           "#FECB52"
          ],
          "font": {
           "color": "#2a3f5f"
          },
          "geo": {
           "bgcolor": "white",
           "lakecolor": "white",
           "landcolor": "#E5ECF6",
           "showlakes": true,
           "showland": true,
           "subunitcolor": "white"
          },
          "hoverlabel": {
           "align": "left"
          },
          "hovermode": "closest",
          "mapbox": {
           "style": "light"
          },
          "paper_bgcolor": "white",
          "plot_bgcolor": "#E5ECF6",
          "polar": {
           "angularaxis": {
            "gridcolor": "white",
            "linecolor": "white",
            "ticks": ""
           },
           "bgcolor": "#E5ECF6",
           "radialaxis": {
            "gridcolor": "white",
            "linecolor": "white",
            "ticks": ""
           }
          },
          "scene": {
           "xaxis": {
            "backgroundcolor": "#E5ECF6",
            "gridcolor": "white",
            "gridwidth": 2,
            "linecolor": "white",
            "showbackground": true,
            "ticks": "",
            "zerolinecolor": "white"
           },
           "yaxis": {
            "backgroundcolor": "#E5ECF6",
            "gridcolor": "white",
            "gridwidth": 2,
            "linecolor": "white",
            "showbackground": true,
            "ticks": "",
            "zerolinecolor": "white"
           },
           "zaxis": {
            "backgroundcolor": "#E5ECF6",
            "gridcolor": "white",
            "gridwidth": 2,
            "linecolor": "white",
            "showbackground": true,
            "ticks": "",
            "zerolinecolor": "white"
           }
          },
          "shapedefaults": {
           "line": {
            "color": "#2a3f5f"
           }
          },
          "ternary": {
           "aaxis": {
            "gridcolor": "white",
            "linecolor": "white",
            "ticks": ""
           },
           "baxis": {
            "gridcolor": "white",
            "linecolor": "white",
            "ticks": ""
           },
           "bgcolor": "#E5ECF6",
           "caxis": {
            "gridcolor": "white",
            "linecolor": "white",
            "ticks": ""
           }
          },
          "title": {
           "x": 0.05
          },
          "xaxis": {
           "automargin": true,
           "gridcolor": "white",
           "linecolor": "white",
           "ticks": "",
           "title": {
            "standoff": 15
           },
           "zerolinecolor": "white",
           "zerolinewidth": 2
          },
          "yaxis": {
           "automargin": true,
           "gridcolor": "white",
           "linecolor": "white",
           "ticks": "",
           "title": {
            "standoff": 15
           },
           "zerolinecolor": "white",
           "zerolinewidth": 2
          }
         }
        },
        "title": {
         "text": "Relatie tussen Inkomen en Gewicht"
        },
        "xaxis": {
         "anchor": "y",
         "domain": [
          0,
          1
         ],
         "title": {
          "text": "Inkomen"
         }
        },
        "yaxis": {
         "anchor": "x",
         "domain": [
          0,
          1
         ],
         "title": {
          "text": "Gewicht"
         }
        }
       }
      }
     },
     "metadata": {},
     "output_type": "display_data"
    }
   ],
   "source": [
    "fig5 = px.scatter(df_cardio, x='Inkomen', y='gewicht', title='Relatie tussen Inkomen en Gewicht')\n",
    "fig5.update_layout(xaxis_title='Inkomen', yaxis_title='Gewicht')\n",
    "fig5.show()"
   ]
  },
  {
   "cell_type": "markdown",
   "metadata": {},
   "source": [
    "Scatterplot tussen \"lengte\" en \"gewicht\""
   ]
  },
  {
   "cell_type": "code",
   "execution_count": 35,
   "metadata": {},
   "outputs": [
    {
     "data": {
      "application/vnd.plotly.v1+json": {
       "config": {
        "plotlyServerURL": "https://plot.ly"
       },
       "data": [
        {
         "hovertemplate": "lengte=%{x}<br>gewicht=%{y}<extra></extra>",
         "legendgroup": "",
         "marker": {
          "color": "#636efa",
          "symbol": "circle"
         },
         "mode": "markers",
         "name": "",
         "orientation": "v",
         "showlegend": false,
         "type": "scatter",
         "x": [
          null,
          164,
          191,
          185,
          152,
          164,
          172,
          null,
          160,
          null,
          152,
          152,
          163,
          193,
          193,
          193,
          166,
          192,
          178,
          157,
          176,
          169,
          null,
          null,
          199,
          160,
          159,
          175,
          null,
          197,
          171,
          152,
          null,
          193,
          173,
          167,
          188,
          195,
          198,
          194,
          176,
          162,
          173,
          161,
          160,
          174,
          182,
          188,
          187,
          197,
          186,
          192,
          189,
          187,
          158,
          155,
          191,
          199,
          188,
          null,
          195,
          170,
          156,
          162,
          166,
          179,
          null,
          184,
          180,
          166,
          188,
          null,
          null,
          153,
          155,
          199,
          187,
          152,
          164,
          159,
          186,
          179,
          null,
          188,
          null,
          185,
          191,
          151,
          158,
          165,
          160,
          178,
          151,
          173,
          182,
          192,
          167,
          156,
          178,
          175,
          188,
          197,
          185,
          154,
          196,
          188,
          199,
          195,
          183,
          156,
          180,
          188,
          194,
          null,
          174,
          189,
          174,
          197,
          153,
          159,
          162,
          168,
          180,
          184,
          182,
          166,
          191,
          193,
          188,
          198,
          null,
          178,
          156,
          null,
          172,
          188,
          163,
          180,
          184,
          181,
          155,
          null,
          176,
          159,
          170,
          162,
          150,
          158,
          166,
          181,
          153,
          166,
          197,
          167,
          null,
          162,
          156,
          null,
          187,
          153,
          175,
          200,
          157,
          183,
          198,
          186,
          164,
          155,
          190,
          154,
          185,
          192,
          193,
          154,
          150,
          186,
          162,
          157,
          null,
          196,
          193,
          173,
          183,
          174,
          178,
          196,
          183,
          186,
          195,
          null,
          null,
          197,
          196,
          165,
          190,
          null,
          184,
          151,
          150,
          186,
          188,
          160,
          175,
          155,
          185,
          175,
          161,
          187,
          155,
          197,
          175,
          195,
          177,
          181,
          186,
          null,
          null,
          null,
          173,
          173,
          182,
          186,
          null,
          186,
          167,
          153,
          169,
          151,
          168,
          169,
          null,
          156,
          159,
          192,
          171,
          164,
          179,
          170,
          162,
          159,
          173,
          189,
          158,
          193,
          174,
          182,
          165,
          154,
          null,
          167,
          186,
          153,
          180,
          157,
          171,
          null,
          192,
          190,
          174,
          190,
          null,
          192,
          173,
          176,
          null,
          162,
          168,
          155,
          157,
          198,
          199,
          159,
          188,
          154,
          183,
          null,
          185,
          179,
          190,
          169,
          197,
          160,
          173,
          176,
          null,
          null,
          152,
          null,
          158,
          155,
          180,
          167,
          153,
          192,
          164,
          159,
          181,
          194,
          152,
          187,
          197,
          163,
          164,
          175,
          198,
          183,
          181,
          150,
          172,
          199,
          153,
          192,
          200,
          191,
          185,
          159,
          194,
          null,
          176,
          163,
          183,
          174,
          198,
          165,
          194,
          196,
          182,
          163,
          184,
          165,
          157,
          159,
          189,
          157,
          187,
          161,
          198,
          192,
          190,
          187,
          162,
          167,
          198,
          null,
          191,
          151,
          182,
          153,
          189,
          null,
          189,
          180,
          157,
          178,
          167,
          189,
          157,
          160,
          158,
          165,
          189,
          null,
          164,
          184,
          180,
          193,
          192,
          183,
          197,
          166,
          169,
          170,
          null,
          169,
          184,
          198,
          157,
          177,
          181,
          156,
          161,
          176,
          200,
          181,
          null,
          179,
          191,
          153,
          155,
          182,
          191,
          165,
          null,
          197,
          null,
          170,
          184,
          170,
          165,
          198,
          167,
          161,
          162,
          196,
          184,
          199,
          164,
          158,
          197,
          197,
          196,
          190,
          187,
          null,
          158,
          170,
          166,
          162,
          162,
          160,
          null,
          155,
          171,
          153,
          197,
          175,
          null,
          184,
          191,
          168,
          184,
          169,
          159,
          150,
          156,
          187,
          157,
          null,
          162,
          null,
          181,
          193,
          180,
          185,
          181,
          154,
          null,
          null,
          191,
          190,
          190,
          172,
          161,
          154,
          166,
          164,
          196,
          null,
          180,
          181,
          168,
          null,
          159,
          151,
          179,
          194,
          194,
          173,
          200,
          163,
          156,
          null,
          196,
          194,
          163,
          172,
          151,
          191,
          194,
          163,
          164,
          176,
          null,
          197,
          200,
          180,
          155,
          171,
          161,
          191,
          174,
          189,
          191,
          180,
          null,
          154,
          195,
          164,
          null,
          172,
          163,
          163,
          153,
          150,
          184,
          165,
          198,
          162,
          176,
          179,
          185,
          161,
          179,
          166,
          152,
          199,
          186,
          190,
          177,
          165,
          159,
          190,
          161,
          151,
          193,
          190,
          190,
          153,
          178,
          197,
          170,
          199,
          183,
          177,
          196,
          193,
          167,
          191,
          170,
          173,
          178,
          183,
          177,
          195,
          159,
          null,
          173,
          200,
          170,
          181,
          186,
          170,
          175,
          182,
          173,
          154,
          151,
          174,
          189,
          198,
          197,
          174,
          167,
          183,
          null,
          null,
          193,
          190,
          198,
          190,
          171,
          null,
          173,
          197,
          null,
          169,
          156,
          164,
          165,
          197,
          157,
          null,
          null,
          189,
          177,
          163,
          null,
          166,
          170,
          181,
          182,
          170,
          160,
          196,
          185,
          188,
          187,
          175,
          192,
          199,
          151,
          160,
          164,
          164,
          156,
          197,
          175,
          182,
          186,
          197,
          180,
          167,
          167,
          191,
          195,
          null,
          null,
          172,
          191,
          166,
          151,
          163,
          195,
          155,
          172,
          179,
          183,
          157,
          176,
          190,
          180,
          171,
          156,
          189,
          183,
          154,
          153,
          194,
          200,
          180,
          193,
          166,
          170,
          198,
          176,
          168,
          191,
          193,
          199,
          155,
          155,
          155,
          200,
          159,
          174,
          171,
          195,
          152,
          null,
          180,
          152,
          150,
          163,
          169,
          null,
          192,
          163,
          156,
          null,
          162,
          154,
          170,
          192,
          151,
          185,
          161,
          164,
          165,
          200,
          192,
          null,
          161,
          196,
          198,
          null,
          168,
          172,
          161,
          170,
          164,
          185,
          151,
          187,
          162,
          null,
          170,
          158,
          172,
          152,
          165,
          195,
          null,
          183,
          158,
          185,
          null,
          198,
          196,
          197,
          null,
          null,
          null,
          186,
          157,
          152,
          169,
          169,
          167,
          177,
          155,
          156,
          176,
          150,
          189,
          151,
          null,
          194,
          158,
          155,
          181,
          195,
          null,
          180,
          170,
          194,
          183,
          188,
          null,
          157,
          170,
          154,
          195,
          200,
          168,
          157,
          167,
          155,
          188,
          173,
          157,
          169,
          176,
          164,
          182,
          180,
          165,
          154,
          176,
          193,
          152,
          182,
          160,
          null,
          162,
          176,
          183,
          157,
          185,
          169,
          151,
          163,
          152,
          194,
          196,
          159,
          174,
          180,
          193,
          153,
          null,
          189,
          170,
          160,
          165,
          182,
          172,
          180,
          151,
          172,
          197,
          null,
          176,
          152,
          154,
          198,
          168,
          155,
          164,
          195,
          194,
          171,
          168,
          175,
          194,
          null,
          165,
          169,
          164,
          183,
          179,
          null,
          165,
          185,
          162,
          192,
          169,
          171,
          170,
          166,
          null,
          194,
          186,
          153,
          158,
          189,
          186,
          164,
          172,
          188,
          177,
          null,
          165,
          170,
          192,
          159,
          195,
          170,
          183,
          159,
          198,
          169,
          183,
          190,
          186,
          166,
          159,
          null,
          168,
          null,
          155,
          186,
          166,
          185,
          null,
          192,
          159,
          183,
          156,
          173,
          191,
          166,
          151,
          175,
          200,
          192,
          185,
          188,
          155,
          166,
          163,
          null,
          190,
          174,
          172,
          154,
          198,
          157,
          188,
          null,
          182,
          196,
          180,
          167,
          174,
          null,
          194,
          194,
          185,
          182,
          170,
          169,
          151,
          179,
          155,
          158,
          155,
          185,
          156,
          198,
          169,
          188,
          200,
          160,
          190,
          170,
          null,
          171,
          162,
          177,
          172,
          189,
          null,
          185,
          188,
          null,
          156,
          184,
          181,
          199,
          190,
          171,
          171,
          192,
          175,
          196,
          175,
          169,
          168,
          187,
          190,
          194,
          null,
          156,
          164,
          161,
          163,
          154,
          162,
          198,
          187,
          181,
          195,
          151,
          176,
          198,
          161,
          164,
          157,
          178,
          168,
          178,
          197,
          193,
          169,
          194,
          158,
          null,
          178,
          169,
          193,
          180,
          188,
          192,
          173,
          167,
          null,
          157,
          190,
          155,
          152,
          183,
          161,
          193,
          158,
          166,
          193,
          162,
          185,
          199,
          158,
          159,
          154,
          174,
          159,
          164,
          178,
          151,
          152,
          171,
          163,
          185,
          168,
          163,
          152,
          168,
          178,
          185,
          162,
          157,
          193
         ],
         "xaxis": "x",
         "y": [
          59,
          103,
          74,
          null,
          114,
          80,
          83,
          114,
          77,
          92,
          91,
          116,
          102,
          80,
          92,
          108,
          94,
          72,
          99,
          75,
          89,
          null,
          82,
          108,
          59,
          65,
          59,
          80,
          77,
          63,
          117,
          null,
          62,
          51,
          99,
          96,
          95,
          52,
          115,
          null,
          67,
          72,
          80,
          54,
          104,
          52,
          88,
          58,
          null,
          103,
          null,
          81,
          101,
          82,
          109,
          96,
          67,
          62,
          78,
          117,
          112,
          72,
          95,
          null,
          100,
          55,
          104,
          65,
          61,
          89,
          null,
          59,
          106,
          null,
          58,
          107,
          null,
          null,
          116,
          71,
          69,
          63,
          59,
          106,
          69,
          93,
          71,
          103,
          89,
          54,
          114,
          111,
          52,
          94,
          59,
          60,
          null,
          100,
          90,
          null,
          79,
          null,
          105,
          93,
          110,
          74,
          101,
          55,
          65,
          null,
          66,
          78,
          84,
          52,
          116,
          95,
          87,
          109,
          null,
          55,
          67,
          103,
          93,
          109,
          89,
          115,
          62,
          84,
          null,
          61,
          52,
          null,
          52,
          79,
          107,
          68,
          55,
          96,
          null,
          66,
          72,
          55,
          102,
          82,
          null,
          null,
          107,
          65,
          106,
          82,
          90,
          93,
          87,
          111,
          107,
          58,
          112,
          50,
          null,
          83,
          null,
          null,
          74,
          103,
          91,
          57,
          84,
          null,
          73,
          98,
          73,
          95,
          86,
          null,
          57,
          84,
          72,
          115,
          59,
          112,
          67,
          83,
          93,
          92,
          104,
          83,
          53,
          78,
          81,
          95,
          null,
          79,
          null,
          70,
          108,
          75,
          57,
          117,
          65,
          73,
          97,
          63,
          101,
          null,
          112,
          92,
          107,
          110,
          112,
          52,
          52,
          73,
          105,
          117,
          86,
          74,
          79,
          96,
          67,
          69,
          null,
          75,
          59,
          109,
          67,
          52,
          null,
          102,
          105,
          107,
          84,
          94,
          63,
          72,
          null,
          91,
          100,
          67,
          55,
          52,
          106,
          101,
          110,
          55,
          72,
          76,
          98,
          112,
          79,
          85,
          99,
          84,
          102,
          56,
          78,
          97,
          78,
          111,
          64,
          90,
          114,
          50,
          94,
          81,
          64,
          75,
          106,
          63,
          63,
          67,
          85,
          101,
          89,
          92,
          119,
          118,
          94,
          74,
          105,
          97,
          65,
          51,
          72,
          78,
          112,
          106,
          76,
          98,
          107,
          80,
          76,
          50,
          74,
          88,
          52,
          118,
          105,
          null,
          96,
          53,
          92,
          56,
          97,
          91,
          66,
          103,
          null,
          114,
          70,
          118,
          103,
          115,
          113,
          61,
          55,
          113,
          50,
          null,
          100,
          103,
          62,
          50,
          110,
          105,
          99,
          61,
          105,
          75,
          102,
          null,
          null,
          107,
          98,
          116,
          89,
          90,
          76,
          62,
          null,
          95,
          98,
          89,
          71,
          110,
          59,
          51,
          64,
          61,
          86,
          103,
          56,
          80,
          112,
          71,
          100,
          114,
          75,
          116,
          64,
          73,
          76,
          119,
          84,
          80,
          93,
          60,
          86,
          102,
          87,
          63,
          63,
          90,
          100,
          109,
          55,
          null,
          59,
          79,
          96,
          69,
          104,
          74,
          96,
          114,
          120,
          76,
          82,
          64,
          77,
          77,
          120,
          74,
          94,
          64,
          105,
          77,
          86,
          55,
          90,
          85,
          69,
          94,
          79,
          115,
          63,
          79,
          null,
          116,
          53,
          65,
          108,
          104,
          120,
          73,
          94,
          111,
          107,
          93,
          119,
          60,
          81,
          95,
          118,
          54,
          118,
          66,
          95,
          101,
          97,
          54,
          90,
          76,
          90,
          101,
          51,
          88,
          81,
          64,
          82,
          80,
          50,
          98,
          52,
          56,
          53,
          51,
          101,
          52,
          70,
          57,
          91,
          115,
          92,
          91,
          119,
          75,
          94,
          117,
          84,
          73,
          64,
          102,
          102,
          null,
          65,
          109,
          77,
          91,
          63,
          null,
          77,
          null,
          null,
          null,
          99,
          81,
          83,
          83,
          108,
          62,
          68,
          119,
          63,
          77,
          109,
          81,
          57,
          94,
          75,
          50,
          93,
          null,
          65,
          116,
          115,
          99,
          62,
          79,
          119,
          80,
          115,
          78,
          null,
          113,
          78,
          null,
          106,
          79,
          62,
          72,
          53,
          95,
          115,
          117,
          60,
          54,
          null,
          71,
          107,
          50,
          78,
          68,
          77,
          110,
          64,
          53,
          75,
          79,
          null,
          119,
          null,
          110,
          112,
          91,
          116,
          116,
          null,
          55,
          82,
          null,
          113,
          56,
          97,
          null,
          87,
          79,
          58,
          83,
          101,
          55,
          69,
          89,
          67,
          80,
          96,
          102,
          74,
          83,
          91,
          82,
          null,
          61,
          79,
          67,
          95,
          105,
          null,
          88,
          76,
          120,
          114,
          72,
          84,
          97,
          117,
          60,
          60,
          106,
          113,
          77,
          74,
          null,
          94,
          106,
          82,
          null,
          78,
          91,
          51,
          73,
          88,
          93,
          77,
          52,
          110,
          80,
          71,
          109,
          67,
          75,
          55,
          120,
          107,
          53,
          74,
          106,
          85,
          86,
          108,
          null,
          66,
          92,
          95,
          103,
          53,
          112,
          108,
          89,
          79,
          84,
          62,
          79,
          null,
          76,
          61,
          65,
          89,
          96,
          109,
          98,
          null,
          115,
          93,
          119,
          119,
          54,
          null,
          null,
          106,
          null,
          73,
          91,
          63,
          110,
          106,
          77,
          80,
          null,
          68,
          101,
          89,
          96,
          107,
          75,
          86,
          null,
          101,
          100,
          90,
          114,
          52,
          109,
          59,
          96,
          75,
          113,
          69,
          85,
          51,
          108,
          95,
          61,
          109,
          68,
          106,
          104,
          104,
          76,
          113,
          null,
          75,
          null,
          55,
          76,
          89,
          60,
          98,
          109,
          103,
          93,
          null,
          103,
          107,
          81,
          100,
          79,
          51,
          68,
          114,
          65,
          116,
          59,
          76,
          110,
          65,
          110,
          103,
          114,
          78,
          73,
          81,
          null,
          86,
          64,
          null,
          80,
          71,
          120,
          54,
          73,
          70,
          100,
          null,
          117,
          67,
          63,
          100,
          102,
          113,
          119,
          52,
          null,
          null,
          120,
          66,
          53,
          112,
          null,
          75,
          58,
          56,
          null,
          86,
          66,
          91,
          105,
          84,
          55,
          80,
          105,
          113,
          52,
          69,
          67,
          69,
          97,
          59,
          null,
          null,
          56,
          66,
          55,
          58,
          101,
          113,
          115,
          104,
          120,
          111,
          null,
          101,
          87,
          71,
          57,
          85,
          99,
          61,
          97,
          68,
          90,
          50,
          91,
          77,
          null,
          64,
          91,
          61,
          81,
          104,
          71,
          91,
          96,
          81,
          109,
          111,
          116,
          88,
          71,
          90,
          78,
          114,
          119,
          87,
          69,
          72,
          53,
          81,
          103,
          92,
          95,
          70,
          91,
          null,
          70,
          null,
          null,
          null,
          62,
          117,
          null,
          59,
          76,
          62,
          75,
          103,
          108,
          null,
          56,
          82,
          100,
          106,
          68,
          61,
          91,
          119,
          114,
          97,
          65,
          117,
          99,
          83,
          65,
          114,
          108,
          91,
          108,
          63,
          77,
          63,
          60,
          56,
          100,
          75,
          83,
          59,
          89,
          56,
          null,
          80,
          61,
          64,
          105,
          111,
          83,
          null,
          64,
          78,
          null,
          115,
          null,
          97,
          56,
          64,
          119,
          62,
          89,
          109,
          80,
          88,
          106,
          79,
          54,
          109,
          100,
          null,
          68,
          52,
          69,
          86,
          71,
          103,
          72,
          72,
          57,
          95,
          89,
          69,
          51,
          55,
          74,
          88,
          71,
          57,
          90,
          88,
          75,
          53,
          51,
          91,
          68,
          68,
          117,
          64,
          96,
          64,
          69,
          null,
          104,
          99,
          64,
          56,
          113,
          107,
          116,
          65,
          81,
          66,
          58,
          55,
          102,
          104,
          70,
          113,
          100,
          74,
          59,
          92,
          95,
          108,
          109,
          null,
          101,
          null,
          null,
          59,
          null,
          110,
          74,
          107,
          59,
          66,
          102,
          52,
          89,
          null,
          106,
          80,
          76,
          89,
          85,
          null,
          56,
          91,
          62,
          67,
          69,
          117,
          85,
          51,
          52,
          70,
          119,
          105,
          81,
          101,
          105,
          95,
          104,
          109,
          73,
          90,
          82,
          93,
          null,
          null,
          71,
          73,
          97,
          66,
          88,
          100,
          50,
          98,
          64,
          84,
          55,
          83,
          54,
          87,
          92
         ],
         "yaxis": "y"
        }
       ],
       "layout": {
        "legend": {
         "tracegroupgap": 0
        },
        "template": {
         "data": {
          "bar": [
           {
            "error_x": {
             "color": "#2a3f5f"
            },
            "error_y": {
             "color": "#2a3f5f"
            },
            "marker": {
             "line": {
              "color": "#E5ECF6",
              "width": 0.5
             },
             "pattern": {
              "fillmode": "overlay",
              "size": 10,
              "solidity": 0.2
             }
            },
            "type": "bar"
           }
          ],
          "barpolar": [
           {
            "marker": {
             "line": {
              "color": "#E5ECF6",
              "width": 0.5
             },
             "pattern": {
              "fillmode": "overlay",
              "size": 10,
              "solidity": 0.2
             }
            },
            "type": "barpolar"
           }
          ],
          "carpet": [
           {
            "aaxis": {
             "endlinecolor": "#2a3f5f",
             "gridcolor": "white",
             "linecolor": "white",
             "minorgridcolor": "white",
             "startlinecolor": "#2a3f5f"
            },
            "baxis": {
             "endlinecolor": "#2a3f5f",
             "gridcolor": "white",
             "linecolor": "white",
             "minorgridcolor": "white",
             "startlinecolor": "#2a3f5f"
            },
            "type": "carpet"
           }
          ],
          "choropleth": [
           {
            "colorbar": {
             "outlinewidth": 0,
             "ticks": ""
            },
            "type": "choropleth"
           }
          ],
          "contour": [
           {
            "colorbar": {
             "outlinewidth": 0,
             "ticks": ""
            },
            "colorscale": [
             [
              0,
              "#0d0887"
             ],
             [
              0.1111111111111111,
              "#46039f"
             ],
             [
              0.2222222222222222,
              "#7201a8"
             ],
             [
              0.3333333333333333,
              "#9c179e"
             ],
             [
              0.4444444444444444,
              "#bd3786"
             ],
             [
              0.5555555555555556,
              "#d8576b"
             ],
             [
              0.6666666666666666,
              "#ed7953"
             ],
             [
              0.7777777777777778,
              "#fb9f3a"
             ],
             [
              0.8888888888888888,
              "#fdca26"
             ],
             [
              1,
              "#f0f921"
             ]
            ],
            "type": "contour"
           }
          ],
          "contourcarpet": [
           {
            "colorbar": {
             "outlinewidth": 0,
             "ticks": ""
            },
            "type": "contourcarpet"
           }
          ],
          "heatmap": [
           {
            "colorbar": {
             "outlinewidth": 0,
             "ticks": ""
            },
            "colorscale": [
             [
              0,
              "#0d0887"
             ],
             [
              0.1111111111111111,
              "#46039f"
             ],
             [
              0.2222222222222222,
              "#7201a8"
             ],
             [
              0.3333333333333333,
              "#9c179e"
             ],
             [
              0.4444444444444444,
              "#bd3786"
             ],
             [
              0.5555555555555556,
              "#d8576b"
             ],
             [
              0.6666666666666666,
              "#ed7953"
             ],
             [
              0.7777777777777778,
              "#fb9f3a"
             ],
             [
              0.8888888888888888,
              "#fdca26"
             ],
             [
              1,
              "#f0f921"
             ]
            ],
            "type": "heatmap"
           }
          ],
          "heatmapgl": [
           {
            "colorbar": {
             "outlinewidth": 0,
             "ticks": ""
            },
            "colorscale": [
             [
              0,
              "#0d0887"
             ],
             [
              0.1111111111111111,
              "#46039f"
             ],
             [
              0.2222222222222222,
              "#7201a8"
             ],
             [
              0.3333333333333333,
              "#9c179e"
             ],
             [
              0.4444444444444444,
              "#bd3786"
             ],
             [
              0.5555555555555556,
              "#d8576b"
             ],
             [
              0.6666666666666666,
              "#ed7953"
             ],
             [
              0.7777777777777778,
              "#fb9f3a"
             ],
             [
              0.8888888888888888,
              "#fdca26"
             ],
             [
              1,
              "#f0f921"
             ]
            ],
            "type": "heatmapgl"
           }
          ],
          "histogram": [
           {
            "marker": {
             "pattern": {
              "fillmode": "overlay",
              "size": 10,
              "solidity": 0.2
             }
            },
            "type": "histogram"
           }
          ],
          "histogram2d": [
           {
            "colorbar": {
             "outlinewidth": 0,
             "ticks": ""
            },
            "colorscale": [
             [
              0,
              "#0d0887"
             ],
             [
              0.1111111111111111,
              "#46039f"
             ],
             [
              0.2222222222222222,
              "#7201a8"
             ],
             [
              0.3333333333333333,
              "#9c179e"
             ],
             [
              0.4444444444444444,
              "#bd3786"
             ],
             [
              0.5555555555555556,
              "#d8576b"
             ],
             [
              0.6666666666666666,
              "#ed7953"
             ],
             [
              0.7777777777777778,
              "#fb9f3a"
             ],
             [
              0.8888888888888888,
              "#fdca26"
             ],
             [
              1,
              "#f0f921"
             ]
            ],
            "type": "histogram2d"
           }
          ],
          "histogram2dcontour": [
           {
            "colorbar": {
             "outlinewidth": 0,
             "ticks": ""
            },
            "colorscale": [
             [
              0,
              "#0d0887"
             ],
             [
              0.1111111111111111,
              "#46039f"
             ],
             [
              0.2222222222222222,
              "#7201a8"
             ],
             [
              0.3333333333333333,
              "#9c179e"
             ],
             [
              0.4444444444444444,
              "#bd3786"
             ],
             [
              0.5555555555555556,
              "#d8576b"
             ],
             [
              0.6666666666666666,
              "#ed7953"
             ],
             [
              0.7777777777777778,
              "#fb9f3a"
             ],
             [
              0.8888888888888888,
              "#fdca26"
             ],
             [
              1,
              "#f0f921"
             ]
            ],
            "type": "histogram2dcontour"
           }
          ],
          "mesh3d": [
           {
            "colorbar": {
             "outlinewidth": 0,
             "ticks": ""
            },
            "type": "mesh3d"
           }
          ],
          "parcoords": [
           {
            "line": {
             "colorbar": {
              "outlinewidth": 0,
              "ticks": ""
             }
            },
            "type": "parcoords"
           }
          ],
          "pie": [
           {
            "automargin": true,
            "type": "pie"
           }
          ],
          "scatter": [
           {
            "fillpattern": {
             "fillmode": "overlay",
             "size": 10,
             "solidity": 0.2
            },
            "type": "scatter"
           }
          ],
          "scatter3d": [
           {
            "line": {
             "colorbar": {
              "outlinewidth": 0,
              "ticks": ""
             }
            },
            "marker": {
             "colorbar": {
              "outlinewidth": 0,
              "ticks": ""
             }
            },
            "type": "scatter3d"
           }
          ],
          "scattercarpet": [
           {
            "marker": {
             "colorbar": {
              "outlinewidth": 0,
              "ticks": ""
             }
            },
            "type": "scattercarpet"
           }
          ],
          "scattergeo": [
           {
            "marker": {
             "colorbar": {
              "outlinewidth": 0,
              "ticks": ""
             }
            },
            "type": "scattergeo"
           }
          ],
          "scattergl": [
           {
            "marker": {
             "colorbar": {
              "outlinewidth": 0,
              "ticks": ""
             }
            },
            "type": "scattergl"
           }
          ],
          "scattermapbox": [
           {
            "marker": {
             "colorbar": {
              "outlinewidth": 0,
              "ticks": ""
             }
            },
            "type": "scattermapbox"
           }
          ],
          "scatterpolar": [
           {
            "marker": {
             "colorbar": {
              "outlinewidth": 0,
              "ticks": ""
             }
            },
            "type": "scatterpolar"
           }
          ],
          "scatterpolargl": [
           {
            "marker": {
             "colorbar": {
              "outlinewidth": 0,
              "ticks": ""
             }
            },
            "type": "scatterpolargl"
           }
          ],
          "scatterternary": [
           {
            "marker": {
             "colorbar": {
              "outlinewidth": 0,
              "ticks": ""
             }
            },
            "type": "scatterternary"
           }
          ],
          "surface": [
           {
            "colorbar": {
             "outlinewidth": 0,
             "ticks": ""
            },
            "colorscale": [
             [
              0,
              "#0d0887"
             ],
             [
              0.1111111111111111,
              "#46039f"
             ],
             [
              0.2222222222222222,
              "#7201a8"
             ],
             [
              0.3333333333333333,
              "#9c179e"
             ],
             [
              0.4444444444444444,
              "#bd3786"
             ],
             [
              0.5555555555555556,
              "#d8576b"
             ],
             [
              0.6666666666666666,
              "#ed7953"
             ],
             [
              0.7777777777777778,
              "#fb9f3a"
             ],
             [
              0.8888888888888888,
              "#fdca26"
             ],
             [
              1,
              "#f0f921"
             ]
            ],
            "type": "surface"
           }
          ],
          "table": [
           {
            "cells": {
             "fill": {
              "color": "#EBF0F8"
             },
             "line": {
              "color": "white"
             }
            },
            "header": {
             "fill": {
              "color": "#C8D4E3"
             },
             "line": {
              "color": "white"
             }
            },
            "type": "table"
           }
          ]
         },
         "layout": {
          "annotationdefaults": {
           "arrowcolor": "#2a3f5f",
           "arrowhead": 0,
           "arrowwidth": 1
          },
          "autotypenumbers": "strict",
          "coloraxis": {
           "colorbar": {
            "outlinewidth": 0,
            "ticks": ""
           }
          },
          "colorscale": {
           "diverging": [
            [
             0,
             "#8e0152"
            ],
            [
             0.1,
             "#c51b7d"
            ],
            [
             0.2,
             "#de77ae"
            ],
            [
             0.3,
             "#f1b6da"
            ],
            [
             0.4,
             "#fde0ef"
            ],
            [
             0.5,
             "#f7f7f7"
            ],
            [
             0.6,
             "#e6f5d0"
            ],
            [
             0.7,
             "#b8e186"
            ],
            [
             0.8,
             "#7fbc41"
            ],
            [
             0.9,
             "#4d9221"
            ],
            [
             1,
             "#276419"
            ]
           ],
           "sequential": [
            [
             0,
             "#0d0887"
            ],
            [
             0.1111111111111111,
             "#46039f"
            ],
            [
             0.2222222222222222,
             "#7201a8"
            ],
            [
             0.3333333333333333,
             "#9c179e"
            ],
            [
             0.4444444444444444,
             "#bd3786"
            ],
            [
             0.5555555555555556,
             "#d8576b"
            ],
            [
             0.6666666666666666,
             "#ed7953"
            ],
            [
             0.7777777777777778,
             "#fb9f3a"
            ],
            [
             0.8888888888888888,
             "#fdca26"
            ],
            [
             1,
             "#f0f921"
            ]
           ],
           "sequentialminus": [
            [
             0,
             "#0d0887"
            ],
            [
             0.1111111111111111,
             "#46039f"
            ],
            [
             0.2222222222222222,
             "#7201a8"
            ],
            [
             0.3333333333333333,
             "#9c179e"
            ],
            [
             0.4444444444444444,
             "#bd3786"
            ],
            [
             0.5555555555555556,
             "#d8576b"
            ],
            [
             0.6666666666666666,
             "#ed7953"
            ],
            [
             0.7777777777777778,
             "#fb9f3a"
            ],
            [
             0.8888888888888888,
             "#fdca26"
            ],
            [
             1,
             "#f0f921"
            ]
           ]
          },
          "colorway": [
           "#636efa",
           "#EF553B",
           "#00cc96",
           "#ab63fa",
           "#FFA15A",
           "#19d3f3",
           "#FF6692",
           "#B6E880",
           "#FF97FF",
           "#FECB52"
          ],
          "font": {
           "color": "#2a3f5f"
          },
          "geo": {
           "bgcolor": "white",
           "lakecolor": "white",
           "landcolor": "#E5ECF6",
           "showlakes": true,
           "showland": true,
           "subunitcolor": "white"
          },
          "hoverlabel": {
           "align": "left"
          },
          "hovermode": "closest",
          "mapbox": {
           "style": "light"
          },
          "paper_bgcolor": "white",
          "plot_bgcolor": "#E5ECF6",
          "polar": {
           "angularaxis": {
            "gridcolor": "white",
            "linecolor": "white",
            "ticks": ""
           },
           "bgcolor": "#E5ECF6",
           "radialaxis": {
            "gridcolor": "white",
            "linecolor": "white",
            "ticks": ""
           }
          },
          "scene": {
           "xaxis": {
            "backgroundcolor": "#E5ECF6",
            "gridcolor": "white",
            "gridwidth": 2,
            "linecolor": "white",
            "showbackground": true,
            "ticks": "",
            "zerolinecolor": "white"
           },
           "yaxis": {
            "backgroundcolor": "#E5ECF6",
            "gridcolor": "white",
            "gridwidth": 2,
            "linecolor": "white",
            "showbackground": true,
            "ticks": "",
            "zerolinecolor": "white"
           },
           "zaxis": {
            "backgroundcolor": "#E5ECF6",
            "gridcolor": "white",
            "gridwidth": 2,
            "linecolor": "white",
            "showbackground": true,
            "ticks": "",
            "zerolinecolor": "white"
           }
          },
          "shapedefaults": {
           "line": {
            "color": "#2a3f5f"
           }
          },
          "ternary": {
           "aaxis": {
            "gridcolor": "white",
            "linecolor": "white",
            "ticks": ""
           },
           "baxis": {
            "gridcolor": "white",
            "linecolor": "white",
            "ticks": ""
           },
           "bgcolor": "#E5ECF6",
           "caxis": {
            "gridcolor": "white",
            "linecolor": "white",
            "ticks": ""
           }
          },
          "title": {
           "x": 0.05
          },
          "xaxis": {
           "automargin": true,
           "gridcolor": "white",
           "linecolor": "white",
           "ticks": "",
           "title": {
            "standoff": 15
           },
           "zerolinecolor": "white",
           "zerolinewidth": 2
          },
          "yaxis": {
           "automargin": true,
           "gridcolor": "white",
           "linecolor": "white",
           "ticks": "",
           "title": {
            "standoff": 15
           },
           "zerolinecolor": "white",
           "zerolinewidth": 2
          }
         }
        },
        "title": {
         "text": "Relatie tussen Lengte en Gewicht"
        },
        "xaxis": {
         "anchor": "y",
         "domain": [
          0,
          1
         ],
         "title": {
          "text": "Lengte"
         }
        },
        "yaxis": {
         "anchor": "x",
         "domain": [
          0,
          1
         ],
         "title": {
          "text": "Gewicht"
         }
        }
       }
      }
     },
     "metadata": {},
     "output_type": "display_data"
    }
   ],
   "source": [
    "fig6 = px.scatter(df_cardio, x='lengte', y='gewicht', title='Relatie tussen Lengte en Gewicht')\n",
    "fig6.update_layout(xaxis_title='Lengte', yaxis_title='Gewicht')\n",
    "fig6.show()"
   ]
  },
  {
   "cell_type": "markdown",
   "metadata": {},
   "source": [
    "Er zijn geen duidelijke patronen tussen de variabelen. Dit kan door meerdere factoren zoals inconsistenties in de data, missing values, aanwezigheid uitschieters. "
   ]
  }
 ],
 "metadata": {
  "kernelspec": {
   "display_name": "py_env_3_11",
   "language": "python",
   "name": "python3"
  },
  "language_info": {
   "codemirror_mode": {
    "name": "ipython",
    "version": 3
   },
   "file_extension": ".py",
   "mimetype": "text/x-python",
   "name": "python",
   "nbconvert_exporter": "python",
   "pygments_lexer": "ipython3",
   "version": "3.12.4"
  }
 },
 "nbformat": 4,
 "nbformat_minor": 2
}
